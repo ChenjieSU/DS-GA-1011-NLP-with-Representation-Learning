{
 "cells": [
  {
   "cell_type": "markdown",
   "metadata": {
    "colab_type": "text",
    "id": "Txr08HTBTBcc"
   },
   "source": [
    "# Fall 2020: DS-GA 1011 NLP with Representation Learning\n",
    "## Lab 2: 11-Sep-2020, Friday\n",
    "## Text Pre-processing\n",
    "\n",
    "In this lab, we will cover the steps on how to clean and process text data before it is ready to be fed to nlp models."
   ]
  },
  {
   "cell_type": "markdown",
   "metadata": {
    "colab_type": "text",
    "id": "zyos7BBRWHbm"
   },
   "source": [
    "---\n",
    "### Data\n",
    "We are using [movie review data](https://ai.stanford.edu/~amaas/data/sentiment/) from IMDB, which is for *binary sentiment classification*. There are 25,000 reviews for training and 25,000 for testing."
   ]
  },
  {
   "cell_type": "markdown",
   "metadata": {
    "colab_type": "text",
    "id": "SGVKSWChPdxH"
   },
   "source": [
    "### Download and unzip the data\n",
    "The command `wget` helps you download the data from the following url.\n",
    "\n",
    "Install using `brew install wget` if not available."
   ]
  },
  {
   "cell_type": "code",
   "execution_count": 1,
   "metadata": {
    "colab": {
     "base_uri": "https://localhost:8080/",
     "height": 212
    },
    "colab_type": "code",
    "id": "DDjOqYucUun-",
    "outputId": "39febfff-1f69-4d21-8c19-b768211dee06"
   },
   "outputs": [
    {
     "name": "stdout",
     "output_type": "stream",
     "text": [
      "--2020-09-12 14:38:11--  https://ai.stanford.edu/~amaas/data/sentiment/aclImdb_v1.tar.gz\n",
      "Resolving ai.stanford.edu (ai.stanford.edu)... 171.64.68.10\n",
      "Connecting to ai.stanford.edu (ai.stanford.edu)|171.64.68.10|:443... connected.\n",
      "HTTP request sent, awaiting response... 200 OK\n",
      "Length: 84125825 (80M) [application/x-gzip]\n",
      "Saving to: ‘aclImdb_v1.tar.gz.2’\n",
      "\n",
      "aclImdb_v1.tar.gz.2 100%[===================>]  80.23M  8.31MB/s    in 12s     \n",
      "\n",
      "2020-09-12 14:38:24 (6.58 MB/s) - ‘aclImdb_v1.tar.gz.2’ saved [84125825/84125825]\n",
      "\n"
     ]
    }
   ],
   "source": [
    "!wget https://ai.stanford.edu/~amaas/data/sentiment/aclImdb_v1.tar.gz"
   ]
  },
  {
   "cell_type": "markdown",
   "metadata": {
    "colab_type": "text",
    "id": "pTrnDCE0MCcH"
   },
   "source": [
    "The command `tar` is used to compress and extract files to and from an archive."
   ]
  },
  {
   "cell_type": "code",
   "execution_count": 2,
   "metadata": {
    "colab": {},
    "colab_type": "code",
    "id": "ng5JXygMVVJ5"
   },
   "outputs": [],
   "source": [
    "!tar xzf aclImdb_v1.tar.gz"
   ]
  },
  {
   "cell_type": "markdown",
   "metadata": {},
   "source": [
    "Note: Windows users can download the data directly from the website and unzip using utility like 7-Zip"
   ]
  },
  {
   "cell_type": "code",
   "execution_count": 3,
   "metadata": {
    "colab": {},
    "colab_type": "code",
    "id": "-HYrZZkLVgVO"
   },
   "outputs": [],
   "source": [
    "train_path = \"aclImdb/train/\"\n",
    "test_path = \"aclImdb/test/\""
   ]
  },
  {
   "cell_type": "markdown",
   "metadata": {
    "colab_type": "text",
    "id": "_ubcWS2DZV5g"
   },
   "source": [
    "### Read data"
   ]
  },
  {
   "cell_type": "code",
   "execution_count": 4,
   "metadata": {
    "colab": {},
    "colab_type": "code",
    "id": "CONBxGOIV4al"
   },
   "outputs": [],
   "source": [
    "import os\n",
    "from tqdm import tqdm"
   ]
  },
  {
   "cell_type": "markdown",
   "metadata": {
    "colab_type": "text",
    "id": "fasIoYEwMrhi"
   },
   "source": [
    "cf. \n",
    "  \n",
    "> [`tqdm`](https://pypi.org/project/tqdm/) makes your loops show a smart progress meter. Just wrap any iterable with *tqdm(iterable)*, and you're done!\n",
    "\n",
    "> `os.listdir(path)` returns a list containing the names of the entries in the directory given by path."
   ]
  },
  {
   "cell_type": "code",
   "execution_count": 5,
   "metadata": {
    "colab": {
     "base_uri": "https://localhost:8080/",
     "height": 213,
     "referenced_widgets": [
      "0fffbe2dbd8d4b27bacebc73014cad00",
      "7bd720203eee40f6a1f1f5160eb88a92",
      "029f7851706b4116b47ffabb5127adfd",
      "82c64116605a43b1b8d8d975b576e5d1",
      "fd9b655634064f139b396992a0ebe392",
      "af9961b166524d0cb1281063f7b5b7a0",
      "e5e9251b830b4ef6bfb51edae2672a5d",
      "ed292969a4e94a24a7bdcfaba59b6d1f",
      "4fabd4bbe5f0468296768159945387af",
      "a565dddd2d5a4a6ea86ca96c66fb63f6",
      "6e81a97048cf4ecdbdf8ca15a683dd9e",
      "eec80c9117834e3ebc1ac0b3fc98c647",
      "d68a9fe4861643759d7217c749a6389f",
      "92b36e023feb497487aaeffca9c7eaa5",
      "e79bdd7d02e04447a519f6a02627cd7e",
      "bab8ab414a0a448f96d548cd4ded28a9",
      "31516c1c6254411ea147854297928ac4",
      "1f12831ea8fa4142b72d1f8aed218887",
      "55721078ebb04583a8c9c1d56da2040a",
      "f40ffb364ad240a0826f8e3c6f25d2b3",
      "d9e7c0cab3554b92afd527dc8f1f16a6",
      "8e2d98b9d63c4bf9a28d4f889ccc601a",
      "f0edd11c39bb44259a578d0c54f985ea",
      "0bf09ecccd584add8d9af0ce834a1367",
      "b86fdd1a3c2344379ffff893163bc337",
      "aab4cb6450b74d65aa5c79b875a23d54",
      "f8666ab375bf4ca3a36cee6a938de939",
      "ae0c2849596e42a5860bde9427d602e0",
      "573e48604e494f7c8e07ff09e3f2358a",
      "465b78aa035849dc92378429195cbffa",
      "7493ab05358945bc91bdd62e790c9471",
      "366e4ce04b7f4692a36f9be73609a8ae"
     ]
    },
    "colab_type": "code",
    "id": "83QEeSALaeh-",
    "outputId": "cf06fb2f-f5ee-4cc2-9659-6726978693ea"
   },
   "outputs": [
    {
     "name": "stderr",
     "output_type": "stream",
     "text": [
      "100%|██████████| 12500/12500 [00:00<00:00, 19353.64it/s]\n",
      "100%|██████████| 12500/12500 [00:00<00:00, 21871.35it/s]\n",
      "100%|██████████| 12500/12500 [00:00<00:00, 22223.88it/s]\n",
      "100%|██████████| 12500/12500 [00:00<00:00, 22125.39it/s]\n"
     ]
    }
   ],
   "source": [
    "train_corpus = []\n",
    "for filename in tqdm(os.listdir(train_path+\"pos\")):\n",
    "  review = open(train_path+\"pos/\"+filename, 'rt').read()\n",
    "  train_corpus.append(review)\n",
    "\n",
    "for filename in tqdm(os.listdir(train_path+\"neg\")):\n",
    "  review = open(train_path+\"neg/\"+filename, 'rt').read()\n",
    "  train_corpus.append(review)\n",
    "\n",
    "\n",
    "\n",
    "test_corpus = []\n",
    "for filename in tqdm(os.listdir(test_path+\"pos\")):\n",
    "  review = open(test_path+\"pos/\"+filename, 'rt').read()\n",
    "  test_corpus.append(review)\n",
    "\n",
    "for filename in tqdm(os.listdir(test_path+\"neg\")):\n",
    "  review = open(test_path+\"neg/\"+filename, 'rt').read()\n",
    "  test_corpus.append(review)"
   ]
  },
  {
   "cell_type": "code",
   "execution_count": 6,
   "metadata": {},
   "outputs": [
    {
     "name": "stdout",
     "output_type": "stream",
     "text": [
      "25000 25000\n"
     ]
    }
   ],
   "source": [
    "print(len(train_corpus), len(test_corpus))"
   ]
  },
  {
   "cell_type": "code",
   "execution_count": 7,
   "metadata": {
    "colab": {},
    "colab_type": "code",
    "id": "wsoyu-sAhUgR"
   },
   "outputs": [],
   "source": [
    "# Reducing corpus size for faster processing\n",
    "train_corpus = train_corpus[:500]\n",
    "test_corpus = test_corpus[:500]"
   ]
  },
  {
   "cell_type": "code",
   "execution_count": 8,
   "metadata": {},
   "outputs": [
    {
     "data": {
      "text/plain": [
       "'Bizarre horror movie filled with famous faces but stolen by Cristina Raines (later of TV\\'s \"Flamingo Road\") as a pretty but somewhat unstable model with a gummy smile who is slated to pay for her attempted suicides by guarding the Gateway to Hell! The scenes with Raines modeling are very well captured, the mood music is perfect, Deborah Raffin is charming as Cristina\\'s pal, but when Raines moves into a creepy Brooklyn Heights brownstone (inhabited by a blind priest on the top floor), things really start cooking. The neighbors, including a fantastically wicked Burgess Meredith and kinky couple Sylvia Miles & Beverly D\\'Angelo, are a diabolical lot, and Eli Wallach is great fun as a wily police detective. The movie is nearly a cross-pollination of \"Rosemary\\'s Baby\" and \"The Exorcist\"--but what a combination! Based on the best-seller by Jeffrey Konvitz, \"The Sentinel\" is entertainingly spooky, full of shocks brought off well by director Michael Winner, who mounts a thoughtfully downbeat ending with skill. ***1/2 from ****'"
      ]
     },
     "execution_count": 8,
     "metadata": {},
     "output_type": "execute_result"
    }
   ],
   "source": [
    "train_corpus[1]"
   ]
  },
  {
   "cell_type": "code",
   "execution_count": 9,
   "metadata": {},
   "outputs": [
    {
     "data": {
      "text/plain": [
       "'It\\'s a strange feeling to sit alone in a theater occupied by parents and their rollicking kids. I felt like instead of a movie ticket, I should have been given a NAMBLA membership.<br /><br />Based upon Thomas Rockwell\\'s respected Book, How To Eat Fried Worms starts like any children\\'s story: moving to a new town. The new kid, fifth grader Billy Forrester was once popular, but has to start anew. Making friends is never easy, especially when the only prospect is Poindexter Adam. Or Erica, who at 4 1/2 feet, is a giant.<br /><br />Further complicating things is Joe the bully. His freckled face and sleeveless shirts are daunting. He antagonizes kids with the Death Ring: a Crackerjack ring that is rumored to kill you if you\\'re punched with it. But not immediately. No, the death ring unleashes a poison that kills you in the eight grade.<br /><br />Joe and his axis of evil welcome Billy by smuggling a handful of slimy worms into his thermos. Once discovered, Billy plays it cool, swearing that he eats worms all the time. Then he throws them at Joe\\'s face. Ewww! To win them over, Billy reluctantly bets that he can eat 10 worms. Fried, boiled, marinated in hot sauce, squashed and spread on a peanut butter sandwich. Each meal is dubbed an exotic name like the \"Radioactive Slime Delight,\" in which the kids finally live out their dream of microwaving a living organism.<br /><br />If you\\'ve ever met me, you\\'ll know that I have an uncontrollably hearty laugh. I felt like a creep erupting at a toddler whining that his \"dilly dick\" hurts. But Fried Worms is wonderfully disgusting. Like a G-rated Farrelly brothers film, it is both vomitous and delightful.<br /><br />Writer/director Bob Dolman is also a savvy storyteller. To raise the stakes the worms must be consumed by 7 pm. In addition Billy holds a dark secret: he has an ultra-sensitive stomach.<br /><br />Dolman also has a keen sense of perspective. With such accuracy, he draws on children\\'s insecurities and tendency to exaggerate mundane dilemmas.<br /><br />If you were to hyperbolize this movie the way kids do their quandaries, you will see that it is essentially about war. Freedom-fighter and freedom-hater use pubescent boys as pawns in proxy wars, only to learn a valuable lesson in unity. International leaders can learn a thing or two about global peacekeeping from Fried Worms.<br /><br />At the end of the film, I was comforted when two chaperoning mothers behind me, looked at each other with befuddlement and agreed, \"That was a great movie.\" Great, now I won\\'t have to register myself in any lawful databases.'"
      ]
     },
     "execution_count": 9,
     "metadata": {},
     "output_type": "execute_result"
    }
   ],
   "source": [
    "train_corpus[3]"
   ]
  },
  {
   "cell_type": "markdown",
   "metadata": {
    "colab_type": "text",
    "id": "YrEckjTOe_JG"
   },
   "source": [
    "---\n",
    "### Pre-processing\n",
    "#### Remove white space and punctuation"
   ]
  },
  {
   "cell_type": "markdown",
   "metadata": {},
   "source": [
    "cf.\n",
    "> A regular expression is a sequence of characters that forms a search pattern for strings. The functions in [`re`](https://docs.python.org/3/library/re.html) module let you check if a particular string matches a given regular expression (or vice versa)."
   ]
  },
  {
   "cell_type": "code",
   "execution_count": 10,
   "metadata": {
    "colab": {
     "base_uri": "https://localhost:8080/",
     "height": 213,
     "referenced_widgets": [
      "879fd8d12d2c4fa38b92adf583caebbb",
      "182f3f35194142c988669205ae4606df",
      "a3f6628a17d4478d866884534c7394c7",
      "365f5af61c774198832bd041c4518da4",
      "6cf3540625804ef995d654a33fe16803",
      "c7d4c4e276214935aa843e9f3aef814b",
      "2fcaed18ff6a4d4bbaa9a055e62e56e1",
      "2c5abf7df8564507b43872eabaac0175",
      "3b79fed4fea742d79a7cdad62d3360ae",
      "09d00473796e47b4be26b18042f45637",
      "e8bf8a870f3e48e293b80984eb25a3de",
      "47dc44a83b484ca283e044afd9684002",
      "0600c4bb441549d091d59e5ec972fbda",
      "bf8707a4ec9145c3969acc653c534a8f",
      "dffc4356f8e5457b9ba244117abbb22c",
      "1bd64b338cdb4d71b49041bd98860d8c",
      "fcea9a3f7b2f40578964e4121a43c87c",
      "beadc27e3a57498486c52a1e8049af9c",
      "2b89185ce43e4905b85e6685cdbde5f7",
      "58f7f13370ae4f85b012754d8ec1dd78",
      "97ed6e83147f48b783858b0b770e06fb",
      "b3caaed0529e4ed081bd949268ad5885",
      "eaa03699b0fd4a2fbce4b0d3a9be0d59",
      "59f41c6ac9994f97b4cbea431a37a973",
      "47e84c93906a4edfb1768c7fb59ec699",
      "6df5688aa5e646a08c2ce9d24b8e462d",
      "b360a4c51cb34b6e943205f11e1cf066",
      "4b6f5463bfee4981a4cc8f8b38a58f5c",
      "1ca28a4f28ef4ca68bb14ce24840b9de",
      "496ece1712fa4f4388a86ded70be94af",
      "b3b90d455aad487ea3ab44be25ed12bf",
      "3743a27f9764470b8b1ea5bb7e28c31d"
     ]
    },
    "colab_type": "code",
    "id": "eurmPAOmbPGE",
    "outputId": "006462a7-d2b2-4bbf-dad9-761c9b3061df"
   },
   "outputs": [
    {
     "name": "stderr",
     "output_type": "stream",
     "text": [
      "100%|██████████| 500/500 [00:00<00:00, 263560.64it/s]\n",
      "100%|██████████| 500/500 [00:00<00:00, 36179.63it/s]\n",
      "100%|██████████| 500/500 [00:00<00:00, 14298.34it/s]\n",
      "100%|██████████| 500/500 [00:00<00:00, 259741.39it/s]\n",
      "100%|██████████| 500/500 [00:00<00:00, 37594.15it/s]\n",
      "100%|██████████| 500/500 [00:00<00:00, 13171.00it/s]\n"
     ]
    }
   ],
   "source": [
    "import re\n",
    "\n",
    "def remove_space_punctuation(data):\n",
    "  # input: list of raw sentences\n",
    "  # output: list of sentences without punctuation and white space\n",
    "  \n",
    "  result = [re.sub('<.*?>',' ',s) for s in tqdm(data)] # html tags\n",
    "  result = [re.sub(r'[^\\w\\s]',' ',s) for s in tqdm(result)] # punctuation\n",
    "  result = [re.sub(' +',' ',s) for s in tqdm(result)] # white space\n",
    "  return result\n",
    "\n",
    "train = remove_space_punctuation(train_corpus)\n",
    "test = remove_space_punctuation(test_corpus)"
   ]
  },
  {
   "cell_type": "code",
   "execution_count": 11,
   "metadata": {
    "colab": {
     "base_uri": "https://localhost:8080/",
     "height": 103
    },
    "colab_type": "code",
    "id": "osLlEBZNeZfa",
    "outputId": "b68640e9-045f-4494-90a1-7631c95daaf4"
   },
   "outputs": [
    {
     "data": {
      "text/plain": [
       "'Bizarre horror movie filled with famous faces but stolen by Cristina Raines later of TV s Flamingo Road as a pretty but somewhat unstable model with a gummy smile who is slated to pay for her attempted suicides by guarding the Gateway to Hell The scenes with Raines modeling are very well captured the mood music is perfect Deborah Raffin is charming as Cristina s pal but when Raines moves into a creepy Brooklyn Heights brownstone inhabited by a blind priest on the top floor things really start cooking The neighbors including a fantastically wicked Burgess Meredith and kinky couple Sylvia Miles Beverly D Angelo are a diabolical lot and Eli Wallach is great fun as a wily police detective The movie is nearly a cross pollination of Rosemary s Baby and The Exorcist but what a combination Based on the best seller by Jeffrey Konvitz The Sentinel is entertainingly spooky full of shocks brought off well by director Michael Winner who mounts a thoughtfully downbeat ending with skill 1 2 from '"
      ]
     },
     "execution_count": 11,
     "metadata": {},
     "output_type": "execute_result"
    }
   ],
   "source": [
    "train[1]"
   ]
  },
  {
   "cell_type": "code",
   "execution_count": 12,
   "metadata": {},
   "outputs": [
    {
     "data": {
      "text/plain": [
       "'It s a strange feeling to sit alone in a theater occupied by parents and their rollicking kids I felt like instead of a movie ticket I should have been given a NAMBLA membership Based upon Thomas Rockwell s respected Book How To Eat Fried Worms starts like any children s story moving to a new town The new kid fifth grader Billy Forrester was once popular but has to start anew Making friends is never easy especially when the only prospect is Poindexter Adam Or Erica who at 4 1 2 feet is a giant Further complicating things is Joe the bully His freckled face and sleeveless shirts are daunting He antagonizes kids with the Death Ring a Crackerjack ring that is rumored to kill you if you re punched with it But not immediately No the death ring unleashes a poison that kills you in the eight grade Joe and his axis of evil welcome Billy by smuggling a handful of slimy worms into his thermos Once discovered Billy plays it cool swearing that he eats worms all the time Then he throws them at Joe s face Ewww To win them over Billy reluctantly bets that he can eat 10 worms Fried boiled marinated in hot sauce squashed and spread on a peanut butter sandwich Each meal is dubbed an exotic name like the Radioactive Slime Delight in which the kids finally live out their dream of microwaving a living organism If you ve ever met me you ll know that I have an uncontrollably hearty laugh I felt like a creep erupting at a toddler whining that his dilly dick hurts But Fried Worms is wonderfully disgusting Like a G rated Farrelly brothers film it is both vomitous and delightful Writer director Bob Dolman is also a savvy storyteller To raise the stakes the worms must be consumed by 7 pm In addition Billy holds a dark secret he has an ultra sensitive stomach Dolman also has a keen sense of perspective With such accuracy he draws on children s insecurities and tendency to exaggerate mundane dilemmas If you were to hyperbolize this movie the way kids do their quandaries you will see that it is essentially about war Freedom fighter and freedom hater use pubescent boys as pawns in proxy wars only to learn a valuable lesson in unity International leaders can learn a thing or two about global peacekeeping from Fried Worms At the end of the film I was comforted when two chaperoning mothers behind me looked at each other with befuddlement and agreed That was a great movie Great now I won t have to register myself in any lawful databases '"
      ]
     },
     "execution_count": 12,
     "metadata": {},
     "output_type": "execute_result"
    }
   ],
   "source": [
    "train[3]"
   ]
  },
  {
   "cell_type": "markdown",
   "metadata": {
    "colab_type": "text",
    "id": "ecz6-LRYfB6R"
   },
   "source": [
    "#### Lowercasing, tokenization and lemmatization \n",
    "\n",
    "*Tokenization* \n",
    "The task of chopping the input test into pieces, called *tokens*. *Tokens* are the building blocks for nlp, sequence of characters grouped together as basic unit. They can be either words, subwords or just characters.\n",
    "\n",
    "*Stemming*\n",
    "The process of converting any word in the data to its root form. \n",
    "\n",
    "*Lemmatization*\n",
    "Transforms words to the actual root.\n"
   ]
  },
  {
   "cell_type": "markdown",
   "metadata": {
    "colab_type": "text",
    "id": "m1pdfdHVRsYH"
   },
   "source": [
    "cf.\n",
    "\n",
    "> [spaCy](https://spacy.io): for app developers\n",
    "\n",
    "> [NLTK](https://www.nltk.org): for researchers and scholars"
   ]
  },
  {
   "cell_type": "markdown",
   "metadata": {},
   "source": [
    "Install `spacy`"
   ]
  },
  {
   "cell_type": "code",
   "execution_count": 13,
   "metadata": {},
   "outputs": [],
   "source": [
    "# !conda install -c conda-forge spacy\n",
    "# !python -m spacy download en_core_web_sm"
   ]
  },
  {
   "cell_type": "code",
   "execution_count": 14,
   "metadata": {},
   "outputs": [],
   "source": [
    "import en_core_web_sm\n",
    "nlp = en_core_web_sm.load()"
   ]
  },
  {
   "cell_type": "code",
   "execution_count": 15,
   "metadata": {
    "colab": {
     "base_uri": "https://localhost:8080/",
     "height": 115,
     "referenced_widgets": [
      "35cf01b37edd4ce9a0d95700819e54d5",
      "0bcf8d63ae244719a93a9d384b8419bb",
      "34551ffa33fd43bdac4fe37d25957380",
      "cc9b146dc2dc4fc39d068548f5684578",
      "db696eb7bc3545638a1ff143ff896590",
      "f9c18715bfe646fe9eccd7653ce4f11e",
      "a2b6cab304a948398c81206002b4bd4f",
      "07f1144a123b43caa2bf0e796e110e72",
      "302d20a60aef46a281018219baf96ebf",
      "aff7bf54aef746a0aaa3cbd0d3d06ef5",
      "e3271679a54b45aeb52c306a20126090",
      "ad2952fe5ba44b80a0c46bf0381f5ac9",
      "e032fc26e40d4a1392e214ba5c349527",
      "5dd1de551fb5476bbcab8e9072b4d072",
      "ed199bc8c38a491aa898a3bbee64450d",
      "d438c797fe3246c8b664f1857bf43224"
     ]
    },
    "colab_type": "code",
    "id": "oQB6sW6Cea7f",
    "outputId": "010a2e0f-01b7-4c96-bbfb-9287826d8dc3"
   },
   "outputs": [
    {
     "name": "stderr",
     "output_type": "stream",
     "text": [
      "100%|██████████| 500/500 [00:15<00:00, 32.38it/s]\n",
      "100%|██████████| 500/500 [00:17<00:00, 28.77it/s]\n"
     ]
    }
   ],
   "source": [
    "import spacy\n",
    "import string\n",
    "\n",
    "nlp = spacy.load(\"en_core_web_sm\") # load model for en\n",
    "\n",
    "def tokenize(data):\n",
    "  # input: list of sentences without punctuations and white spaces\n",
    "  # output: list of lists of lower-case lemmatized word tokens\n",
    "\n",
    "  tokenized_data = []  \n",
    "  for review in tqdm(data):\n",
    "    result = nlp(review) # tokenized document\n",
    "    tokenized_data.append([token.text.lower() for token in result \\\n",
    "                           if not token.is_stop \\\n",
    "                           and token.text not in string.punctuation]) \n",
    "  return tokenized_data\n",
    "\n",
    "train_tokenized = tokenize(train)\n",
    "test_tokenized = tokenize(test)"
   ]
  },
  {
   "cell_type": "code",
   "execution_count": 16,
   "metadata": {},
   "outputs": [
    {
     "name": "stdout",
     "output_type": "stream",
     "text": [
      "['bizarre', 'horror', 'movie', 'filled', 'famous', 'faces', 'stolen', 'cristina', 'raines', 'later', 'tv', 's', 'flamingo', 'road', 'pretty', 'somewhat', 'unstable', 'model', 'gummy', 'smile', 'slated', 'pay', 'attempted', 'suicides', 'guarding', 'gateway', 'hell', 'scenes', 'raines', 'modeling', 'captured', 'mood', 'music', 'perfect', 'deborah', 'raffin', 'charming', 'cristina', 's', 'pal', 'raines', 'moves', 'creepy', 'brooklyn', 'heights', 'brownstone', 'inhabited', 'blind', 'priest', 'floor', 'things', 'start', 'cooking', 'neighbors', 'including', 'fantastically', 'wicked', 'burgess', 'meredith', 'kinky', 'couple', 'sylvia', 'miles', 'beverly', 'd', 'angelo', 'diabolical', 'lot', 'eli', 'wallach', 'great', 'fun', 'wily', 'police', 'detective', 'movie', 'nearly', 'cross', 'pollination', 'rosemary', 's', 'baby', 'exorcist', 'combination', 'based', 'best', 'seller', 'jeffrey', 'konvitz', 'sentinel', 'entertainingly', 'spooky', 'shocks', 'brought', 'director', 'michael', 'winner', 'mounts', 'thoughtfully', 'downbeat', 'ending', 'skill', '1', '2']\n"
     ]
    }
   ],
   "source": [
    "print(train_tokenized[1])"
   ]
  },
  {
   "cell_type": "code",
   "execution_count": 17,
   "metadata": {},
   "outputs": [
    {
     "name": "stdout",
     "output_type": "stream",
     "text": [
      "['s', 'strange', 'feeling', 'sit', 'theater', 'occupied', 'parents', 'rollicking', 'kids', 'felt', 'like', 'instead', 'movie', 'ticket', 'given', 'nambla', 'membership', 'based', 'thomas', 'rockwell', 's', 'respected', 'book', 'eat', 'fried', 'worms', 'starts', 'like', 'children', 's', 'story', 'moving', 'new', 'town', 'new', 'kid', 'fifth', 'grader', 'billy', 'forrester', 'popular', 'start', 'anew', 'making', 'friends', 'easy', 'especially', 'prospect', 'poindexter', 'adam', 'erica', '4', '1', '2', 'feet', 'giant', 'complicating', 'things', 'joe', 'bully', 'freckled', 'face', 'sleeveless', 'shirts', 'daunting', 'antagonizes', 'kids', 'death', 'ring', 'crackerjack', 'ring', 'rumored', 'kill', 'punched', 'immediately', 'death', 'ring', 'unleashes', 'poison', 'kills', 'grade', 'joe', 'axis', 'evil', 'welcome', 'billy', 'smuggling', 'handful', 'slimy', 'worms', 'thermos', 'discovered', 'billy', 'plays', 'cool', 'swearing', 'eats', 'worms', 'time', 'throws', 'joe', 's', 'face', 'ewww', 'win', 'billy', 'reluctantly', 'bets', 'eat', '10', 'worms', 'fried', 'boiled', 'marinated', 'hot', 'sauce', 'squashed', 'spread', 'peanut', 'butter', 'sandwich', 'meal', 'dubbed', 'exotic', 'like', 'radioactive', 'slime', 'delight', 'kids', 'finally', 'live', 'dream', 'microwaving', 'living', 'organism', 've', 'met', 'll', 'know', 'uncontrollably', 'hearty', 'laugh', 'felt', 'like', 'creep', 'erupting', 'toddler', 'whining', 'dilly', 'dick', 'hurts', 'fried', 'worms', 'wonderfully', 'disgusting', 'like', 'g', 'rated', 'farrelly', 'brothers', 'film', 'vomitous', 'delightful', 'writer', 'director', 'bob', 'dolman', 'savvy', 'storyteller', 'raise', 'stakes', 'worms', 'consumed', '7', 'pm', 'addition', 'billy', 'holds', 'dark', 'secret', 'ultra', 'sensitive', 'stomach', 'dolman', 'keen', 'sense', 'perspective', 'accuracy', 'draws', 'children', 's', 'insecurities', 'tendency', 'exaggerate', 'mundane', 'dilemmas', 'hyperbolize', 'movie', 'way', 'kids', 'quandaries', 'essentially', 'war', 'freedom', 'fighter', 'freedom', 'hater', 'use', 'pubescent', 'boys', 'pawns', 'proxy', 'wars', 'learn', 'valuable', 'lesson', 'unity', 'international', 'leaders', 'learn', 'thing', 'global', 'peacekeeping', 'fried', 'worms', 'end', 'film', 'comforted', 'chaperoning', 'mothers', 'looked', 'befuddlement', 'agreed', 'great', 'movie', 'great', 'won', 't', 'register', 'lawful', 'databases']\n"
     ]
    }
   ],
   "source": [
    "print(train_tokenized[3])"
   ]
  },
  {
   "cell_type": "markdown",
   "metadata": {
    "colab_type": "text",
    "id": "2x7QcJa1iyrA"
   },
   "source": [
    "---\n",
    "### Explore\n",
    "\n",
    "Find most common words and build vocabulary."
   ]
  },
  {
   "cell_type": "markdown",
   "metadata": {},
   "source": [
    "cf.\n",
    "> [`collections`](https://docs.python.org/2/library/collections.html) provides specialized container datatypes like `OrderedDict` & `Counter`\n",
    "\n",
    "> `Counter` is an unordered collection where elements are stored as dictionary keys and their counts are stored as dictionary values"
   ]
  },
  {
   "cell_type": "code",
   "execution_count": 18,
   "metadata": {
    "colab": {},
    "colab_type": "code",
    "id": "sOudM3amh1IG"
   },
   "outputs": [],
   "source": [
    "from collections import Counter\n",
    "\n",
    "def build_vocab(tokenized_data, max_vocab=10000):\n",
    "    # input: list of lists of tokens\n",
    "    # output: token2id: dict, id2token: list\n",
    "\n",
    "    PAD_IDX = 0 #pad token\n",
    "    UNK_IDX = 1 #unkown token\n",
    "    #每个句子的长短都不同，为了确保每个读取的句子长度都相同\n",
    "    #前两个index是0，1 ，所以后面给token的ID从2开始\n",
    "\n",
    "    all_tokens = [token for tokens in tokenized_data for token in tokens]\n",
    "    # unlist all the tokens in the lists of tokens\n",
    "\n",
    "    token_counter = Counter(all_tokens)\n",
    "    vocab, count = zip(*token_counter.most_common(max_vocab)) \n",
    "    #最常见的10000个vocab, vocab-key, count-value\n",
    "    token2id = dict(zip(vocab, range(2, 2 + len(vocab)))) #assign each token an ID\n",
    "    token2id[\"<PAD>\"] = PAD_IDX\n",
    "    token2id[\"<UNK>\"] = UNK_IDX # 2 dummies\n",
    "    id2token = [\"<PAD>\", \"<UNK>\"] + list(vocab)\n",
    "\n",
    "    return token2id, id2token\n",
    "# output: token2id: dict, id2token: list"
   ]
  },
  {
   "cell_type": "code",
   "execution_count": 19,
   "metadata": {
    "colab": {},
    "colab_type": "code",
    "id": "TxegtrwqjJLD"
   },
   "outputs": [],
   "source": [
    "token2id, id2token = build_vocab(train_tokenized)"
   ]
  },
  {
   "cell_type": "code",
   "execution_count": 20,
   "metadata": {
    "colab": {
     "base_uri": "https://localhost:8080/",
     "height": 54
    },
    "colab_type": "code",
    "id": "TV3Vb9yHkI6G",
    "outputId": "b0d53bc3-7ff1-4efe-e591-3cd3594f6cbd"
   },
   "outputs": [
    {
     "name": "stdout",
     "output_type": "stream",
     "text": [
      "{'s': 2, 'film': 3, 'movie': 4, 't': 5, 'like': 6, 'great': 7, 'story': 8, 'good': 9, 'time': 10, 'people': 11, 'life': 12, 'best': 13, 'love': 14, 'way': 15, 'characters': 16, 'films': 17, 'character': 18, 'man': 19, 'movies': 20, 'little': 21, 'seen': 22, 'think': 23, 'don': 24, '10': 25, 'scene': 26, 'years': 27, 'world': 28, 'end': 29, 'watch': 30, 'real': 31, 'know': 32, 'makes': 33, 'cast': 34, 'young': 35, 'old': 36, 'find': 37, 'work': 38, 'watching': 39, 'plot': 40, 'director': 41, 'better': 42, 'scenes': 43, 'music': 44, 'thing': 45, 'new': 46, 've': 47, 'family': 48, 'acting': 49, 'actors': 50, 'action': 51, 'm': 52, 'series': 53, 'comedy': 54, 'lot': 55, 'role': 56, 'bit': 57, 'saw': 58, 'big': 59, 'played': 60, 'look': 61, 'didn': 62, 'come': 63, 'beautiful': 64, 'performance': 65, 'funny': 66, 'things': 67, 'fun': 68, 'day': 69, 'excellent': 70, 'tv': 71, 'wonderful': 72, 'thought': 73, 'comes': 74, 'going': 75, 'want': 76, 'bad': 77, 'actually': 78, 'doesn': 79, 'long': 80, 'got': 81, 'hard': 82, 'right': 83, 'times': 84, 'different': 85, 'father': 86, 'loved': 87, 'probably': 88, 'pretty': 89, 'away': 90, 'kind': 91, 'especially': 92, 'true': 93, 'girl': 94, 'feel': 95, 'definitely': 96, 'making': 97, 'war': 98, 'recommend': 99, 'interesting': 100, 'small': 101, 'shows': 102, 'found': 103, 'perfect': 104, 'fact': 105, 'course': 106, 'dvd': 107, 'point': 108, 'll': 109, 'far': 110, 'amazing': 111, 'goes': 112, 'kids': 113, 'enjoy': 114, 'human': 115, 'guy': 116, 'isn': 117, 'gets': 118, '2': 119, 'woman': 120, 'worth': 121, 'main': 122, 'performances': 123, 'entertaining': 124, 'sure': 125, 'children': 126, 'plays': 127, 'wife': 128, 'night': 129, 'tom': 130, 'audience': 131, 'horror': 132, 'favorite': 133, 'won': 134, 'men': 135, 'high': 136, 'nice': 137, 'later': 138, 'ending': 139, 'believe': 140, 'john': 141, 'highly': 142, 'screen': 143, 'year': 144, 'trying': 145, 'mr': 146, 'takes': 147, 'said': 148, 'd': 149, 'finally': 150, 'job': 151, 'play': 152, 'looking': 153, 'original': 154, 'american': 155, 'works': 156, 'set': 157, 'lost': 158, 'friends': 159, 'script': 160, 'classic': 161, 'shot': 162, 'second': 163, 'truly': 164, 'left': 165, 'place': 166, '1': 167, 'instead': 168, 'episodes': 169, 'watched': 170, 'hope': 171, 'actor': 172, 'sense': 173, 'overall': 174, 'gave': 175, 'mind': 176, 'lives': 177, 'brilliant': 178, 'book': 179, 'face': 180, '5': 181, 'having': 182, 'moments': 183, 'fans': 184, 'enjoyed': 185, 'evil': 186, 'short': 187, 'car': 188, 'boy': 189, 'remember': 190, 'seeing': 191, 'history': 192, 'drama': 193, 'wish': 194, 'dark': 195, 'need': 196, 'camera': 197, 'episode': 198, 'try': 199, 'days': 200, 'fine': 201, 'based': 202, 'death': 203, 'live': 204, 'gives': 205, 'maybe': 206, 'black': 207, 'yes': 208, 'fan': 209, 'minutes': 210, 'star': 211, 'understand': 212, 'home': 213, 'given': 214, 'use': 215, 'liked': 216, 'brother': 217, 'piece': 218, 'early': 219, 'supporting': 220, 'dead': 221, 'art': 222, 'reason': 223, 'michael': 224, 'felt': 225, 'written': 226, 'exactly': 227, 'james': 228, 'tell': 229, 'women': 230, 'reality': 231, '3': 232, 'effects': 233, 'humor': 234, 'actress': 235, 'child': 236, 'picture': 237, 'score': 238, 'stars': 239, 'getting': 240, 'today': 241, 'version': 242, 'police': 243, 'feeling': 244, 'white': 245, 'simply': 246, 'late': 247, 'low': 248, 'cinema': 249, 'head': 250, 'future': 251, 'idea': 252, ' ': 253, 'line': 254, 'half': 255, 'start': 256, '7': 257, 'came': 258, 'modern': 259, 'heart': 260, 'completely': 261, 'city': 262, 'looks': 263, 'fantastic': 264, '8': 265, 'coming': 266, 'despite': 267, 'beast': 268, 'playing': 269, 'strange': 270, 'kid': 271, 'cool': 272, 'mean': 273, 'help': 274, 'happen': 275, 'production': 276, 'read': 277, 'light': 278, 'past': 279, 'video': 280, 'strong': 281, 'writing': 282, 'viewer': 283, 'points': 284, 'wasn': 285, 'house': 286, 'season': 287, 'form': 288, 'famous': 289, 'parents': 290, 'let': 291, 'sound': 292, 'ends': 293, 'stories': 294, 'turn': 295, 'style': 296, 'robert': 297, 'america': 298, 'went': 299, 'paul': 300, 'special': 301, 'king': 302, 'sex': 303, 'able': 304, 'school': 305, 'particularly': 306, 'couple': 307, 'baby': 308, 'easy': 309, 'living': 310, 'television': 311, 'opening': 312, 'cinematography': 313, 'absolutely': 314, 'person': 315, 'shots': 316, 'wants': 317, 'etc': 318, 'simple': 319, 'hollywood': 320, 'fight': 321, 'animation': 322, 'called': 323, 'game': 324, 'dream': 325, 'directed': 326, 'soon': 327, 'direction': 328, 'song': 329, 'parts': 330, 'chance': 331, 'budget': 332, 'son': 333, 'entire': 334, 'french': 335, '4': 336, 'writer': 337, 'money': 338, 'interest': 339, 'means': 340, 'career': 341, 'hit': 342, 'genre': 343, 'wrong': 344, 'ones': 345, 'murder': 346, 'rest': 347, 'mother': 348, 'girls': 349, 'jack': 350, 'town': 351, 'laugh': 352, 'quality': 353, 'tells': 354, 'lady': 355, 'moment': 356, 'beauty': 357, 'expect': 358, 'stuff': 359, 'peter': 360, 'turns': 361, 'hilarious': 362, 'body': 363, 'rock': 364, 'experience': 365, 'viewers': 366, 'relationship': 367, 'case': 368, 'run': 369, 'title': 370, 'change': 371, 'disney': 372, 'friend': 373, 'certain': 374, 'moving': 375, 'kill': 376, 'finds': 377, 'close': 378, 'soundtrack': 379, 'heard': 380, 'power': 381, 'fast': 382, 'age': 383, 'released': 384, 'self': 385, 'dialogue': 386, 'problem': 387, 'jerry': 388, 'musical': 389, 'including': 390, 'nearly': 391, 'type': 392, 'monster': 393, 'release': 394, 'huge': 395, 'sort': 396, 'sets': 397, 'attention': 398, 'unlike': 399, 'killed': 400, 'certainly': 401, 'deal': 402, 'stop': 403, 'dan': 404, 'greatest': 405, 'realistic': 406, 'tries': 407, 'atmosphere': 408, 'air': 409, 'hour': 410, 'lead': 411, 'opinion': 412, 'surprised': 413, 'somewhat': 414, 'solid': 415, 'boys': 416, 'successful': 417, 'powerful': 418, 'comic': 419, 'involved': 420, 'hero': 421, 'viewing': 422, 'violence': 423, 'enjoyable': 424, 'needs': 425, 'space': 426, 'view': 427, 'important': 428, 'took': 429, 'spirit': 430, 'century': 431, 'number': 432, 'emotional': 433, 'david': 434, 'cold': 435, 'killer': 436, 'earth': 437, 'castle': 438, 'casting': 439, 'ago': 440, 'english': 441, 'final': 442, 'de': 443, 'subject': 444, 'sequences': 445, 'unique': 446, 'german': 447, 'starts': 448, 'learn': 449, 'comments': 450, 'lovely': 451, 'genius': 452, 'shown': 453, 'eyes': 454, 'slow': 455, 'ways': 456, 'prison': 457, 'result': 458, 'miss': 459, 'recommended': 460, 'possible': 461, 'page': 462, 'class': 463, 'terrific': 464, 'dialog': 465, 'similar': 466, 'japanese': 467, 'plus': 468, 'beginning': 469, 'daniel': 470, 'hot': 471, 'roles': 472, 'perfectly': 473, 'earlier': 474, 'leave': 475, 'room': 476, 'level': 477, 'extremely': 478, 'ok': 479, 'cartoon': 480, 'knows': 481, 'figure': 482, 'credits': 483, 'events': 484, 'novel': 485, 'richard': 486, 'create': 487, 'rich': 488, 'question': 489, 'talent': 490, 'mark': 491, 'falls': 492, 'elements': 493, 'provides': 494, 'obviously': 495, 'dancing': 496, 'co': 497, 'happened': 498, 'example': 499, 'known': 500, 'husband': 501, 'manner': 502, 'kolchak': 503, 'respect': 504, 'joe': 505, 'alan': 506, 'popular': 507, 'crime': 508, 'sad': 509, 'wonder': 510, 'begins': 511, 'superb': 512, 'dog': 513, 'entertainment': 514, 'follow': 515, 'touching': 516, 'showing': 517, 'told': 518, 'single': 519, 'portrayed': 520, 'talk': 521, 'nature': 522, 'oscar': 523, 'happy': 524, 'matter': 525, 'female': 526, 'adventure': 527, 'taking': 528, 'totally': 529, 'york': 530, 'wild': 531, 'oh': 532, 'blood': 533, 'list': 534, 'revenge': 535, 'note': 536, 'problems': 537, 'jane': 538, 'usually': 539, 'mention': 540, 'mysterious': 541, 'lots': 542, 'red': 543, 'dance': 544, 'buy': 545, 'guys': 546, 'themes': 547, 'master': 548, 'says': 549, 'suspense': 550, 'lewis': 551, 'howard': 552, 'memorable': 553, 'charming': 554, 'theater': 555, 'dick': 556, 'favourite': 557, 'message': 558, 'typical': 559, 'terms': 560, 'bring': 561, 'issues': 562, 'eye': 563, 'meets': 564, 'quiet': 565, 'filmed': 566, 'portrayal': 567, 'local': 568, 'focus': 569, 'believable': 570, 'forget': 571, 'god': 572, 'wouldn': 573, 'pace': 574, 'usual': 575, 'involving': 576, 'stage': 577, 'setting': 578, 'british': 579, 'wanted': 580, 'hotel': 581, 'difficult': 582, '9': 583, 'sister': 584, 'fire': 585, 'storyline': 586, 'ultimately': 587, 'sequence': 588, 'chinese': 589, '20': 590, 'easily': 591, 'running': 592, 'laughs': 593, 'murphy': 594, 'added': 595, 'imagine': 596, 'moves': 597, 'detective': 598, 'brought': 599, 'sit': 600, 'brothers': 601, 'gone': 602, 'clever': 603, 'situation': 604, 'touch': 605, 'word': 606, 'business': 607, 'non': 608, 'tale': 609, 'expected': 610, 'force': 611, 'effective': 612, 'near': 613, 'needed': 614, 'incredibly': 615, 'stupid': 616, 'rare': 617, 'intelligent': 618, 'brosnan': 619, 'leads': 620, 'basically': 621, 'theme': 622, 'leading': 623, 'surprise': 624, 'haunting': 625, 'society': 626, 'decides': 627, 'lose': 628, 'makers': 629, 'foot': 630, 'outside': 631, 'rating': 632, 'predictable': 633, 'studio': 634, 'vehicle': 635, 'forces': 636, 'quickly': 637, 'romantic': 638, 'flick': 639, 'fantasy': 640, 'documentary': 641, 'sexual': 642, 'mathieu': 643, 'students': 644, 'holds': 645, 'thanks': 646, 'break': 647, 'hear': 648, 'middle': 649, 'crew': 650, '70': 651, 'b': 652, 'delivers': 653, 'language': 654, 'group': 655, 'feature': 656, 'cop': 657, 'drive': 658, 'worked': 659, 'stunning': 660, 'talented': 661, 'giving': 662, 'waiting': 663, 'stand': 664, 'nancy': 665, 'songs': 666, 'order': 667, 'romance': 668, 'western': 669, 'compared': 670, 'clearly': 671, 'party': 672, 'started': 673, 'impressive': 674, 'talking': 675, 'ask': 676, 'appreciate': 677, 'country': 678, 'fairly': 679, 'disturbing': 680, 'complete': 681, 'working': 682, 'particular': 683, 'cheesy': 684, 'sexy': 685, '\\x85 ': 686, 'recent': 687, 'henry': 688, 'cut': 689, 'animals': 690, 'likable': 691, 'happens': 692, 'west': 693, 'minute': 694, 'epic': 695, 'care': 696, 'comment': 697, 'major': 698, 'lack': 699, 'system': 700, 'eddie': 701, 'beetle': 702, 'creepy': 703, 'g': 704, 'addition': 705, 'sensitive': 706, 'realize': 707, 'admit': 708, 'information': 709, 'roger': 710, 'pictures': 711, 'crazy': 712, 'cheap': 713, 'deep': 714, 'period': 715, 'era': 716, 'harris': 717, 'caught': 718, 'awesome': 719, 'surprisingly': 720, 'exciting': 721, 'amusing': 722, 'literally': 723, 'material': 724, 'army': 725, 'hours': 726, 'ben': 727, 'street': 728, 'escape': 729, 'bond': 730, 'straight': 731, 'notch': 732, 'pilot': 733, 'daughter': 734, 'considering': 735, 'starting': 736, 'element': 737, 'saying': 738, 'follows': 739, 'battle': 740, 'shocking': 741, 'die': 742, 'clear': 743, 'add': 744, 'gore': 745, 'brings': 746, 'jokes': 747, 'died': 748, 'adds': 749, 'emotions': 750, 'inside': 751, 'dramatic': 752, 'cute': 753, 'lion': 754, 'games': 755, 'footage': 756, 'finding': 757, 'check': 758, 'effort': 759, 'apparently': 760, 'available': 761, 'fall': 762, 'witty': 763, 'older': 764, 'perry': 765, 'voice': 766, 'writers': 767, 'rate': 768, 'public': 769, 'bettie': 770, 'mood': 771, 'looked': 772, 'acted': 773, 'flaws': 774, 'values': 775, 'max': 776, 'personal': 777, 'grace': 778, 'barbara': 779, 'steele': 780, 'offers': 781, 'supernatural': 782, '100': 783, 'recently': 784, 'visual': 785, 'subtle': 786, 'pure': 787, 'images': 788, 'places': 789, 'cars': 790, 'dreams': 791, 'strength': 792, 'manages': 793, 'seriously': 794, 'ages': 795, 'starring': 796, 'appears': 797, 'charm': 798, 'named': 799, 'longer': 800, 'desire': 801, 'couldn': 802, 'mike': 803, 'william': 804, 'meet': 805, 'price': 806, 'sequel': 807, 'act': 808, 'driven': 809, 'fresh': 810, 'water': 811, 'premise': 812, 'adult': 813, 'trouble': 814, 'thriller': 815, 'jackie': 816, 'wait': 817, 'social': 818, 'present': 819, 'thinking': 820, 'search': 821, 'hand': 822, 'meaning': 823, 'nightmare': 824, 'occasionally': 825, 'odd': 826, 'male': 827, 'interested': 828, 'door': 829, 'buck': 830, 'entirely': 831, 'influence': 832, 'workers': 833, 'reminded': 834, 'mary': 835, 'control': 836, 'keeps': 837, 'intense': 838, 'masterpiece': 839, 'george': 840, 'marie': 841, 'eventually': 842, 'adults': 843, 'iturbi': 844, 'emory': 845, 'gem': 846, 'bizarre': 847, 'filled': 848, 'billy': 849, 'perspective': 850, 'possibly': 851, 'showed': 852, 'manager': 853, 'likes': 854, 'remarkable': 855, 'fighting': 856, 'knew': 857, 'depth': 858, 'copy': 859, 'aspect': 860, 'captures': 861, 'magic': 862, 'actual': 863, 'forgotten': 864, 'sent': 865, 'meant': 866, 'mixed': 867, 'singing': 868, 'americans': 869, 'books': 870, 'mystery': 871, 'outstanding': 872, '15': 873, 'superior': 874, 'honest': 875, 'tony': 876, 'villain': 877, 'changes': 878, 'shooting': 879, 'animated': 880, 'telling': 881, 'culture': 882, 'taken': 883, 'begin': 884, 'poor': 885, 'decided': 886, 'fully': 887, 'twist': 888, 'indian': 889, 'proved': 890, 'treat': 891, 'missing': 892, 'andrews': 893, 'beat': 894, 'england': 895, 'twists': 896, 'words': 897, 'scary': 898, 'numbers': 899, 'festival': 900, 'woods': 901, 'impossible': 902, 'chan': 903, 'asked': 904, 'ed': 905, 'ride': 906, 'lovers': 907, 'answers': 908, '80': 909, 'african': 910, 'impressed': 911, 'dad': 912, 'roll': 913, 'fox': 914, 'friendship': 915, 'puts': 916, 'tone': 917, 'efforts': 918, 'smart': 919, 'team': 920, 'feels': 921, 'wind': 922, 'produced': 923, 'date': 924, 'deserves': 925, 'obvious': 926, 'thank': 927, 'noir': 928, 'violent': 929, 'tarzan': 930, 'component': 931, 'road': 932, 'smile': 933, 'hell': 934, 'rated': 935, 'delightful': 936, 'raise': 937, 'secret': 938, 'beautifully': 939, 'incredible': 940, 'natural': 941, 'reasons': 942, 'ms': 943, 'tears': 944, 'bet': 945, 'moved': 946, 'girlfriend': 947, 'winning': 948, 'forward': 949, 'smith': 950, 'rape': 951, 'glad': 952, 'catch': 953, 'ties': 954, 'growing': 955, 'weird': 956, 'reviews': 957, 'ahead': 958, 'laughing': 959, 'silly': 960, 'computer': 961, 'hands': 962, 'italian': 963, 'cause': 964, 'tough': 965, 'return': 966, 'doubt': 967, 'zombie': 968, 'directors': 969, 'sympathetic': 970, 'sullivan': 971, 'l': 972, 'sam': 973, 'compare': 974, 'ideas': 975, 'appearance': 976, 'wrote': 977, 'tragic': 978, 'boring': 979, 'feelings': 980, 'members': 981, 'forever': 982, 'common': 983, 'chase': 984, 'asks': 985, 'journey': 986, 'morgan': 987, 'count': 988, 'following': 989, 'relationships': 990, 'government': 991, '6': 992, 'regular': 993, 'convincing': 994, 'large': 995, 'created': 996, 'missed': 997, 'doctor': 998, 'consider': 999, 'buddy': 1000, 'lacks': 1001, 'expecting': 1002, 'box': 1003, 'leaving': 1004, 'leaves': 1005, 'field': 1006, 'bear': 1007, 'success': 1008, 'gary': 1009, 'alex': 1010, 'agree': 1011, 'aware': 1012, 'attempt': 1013, 'anime': 1014, 'pieces': 1015, 'olivier': 1016, 'nina': 1017, 'joy': 1018, 'college': 1019, 'speed': 1020, 'explain': 1021, 'notice': 1022, 'stick': 1023, 'graphics': 1024, 'audiences': 1025, 'victoria': 1026, 'questions': 1027, 'jake': 1028, 'darius': 1029, 'floor': 1030, 'delight': 1031, 'wonderfully': 1032, 'reading': 1033, 'theatre': 1034, 'apparent': 1035, 'imdb': 1036, 'illness': 1037, 'innocent': 1038, 'details': 1039, 'creature': 1040, 'speaking': 1041, 'breath': 1042, 'sees': 1043, 'cry': 1044, 'driving': 1045, 'haven': 1046, 'hate': 1047, 'super': 1048, 'anybody': 1049, 'humanity': 1050, 'plenty': 1051, 'frank': 1052, 'gun': 1053, 'study': 1054, '30': 1055, 'steve': 1056, 'jump': 1057, 'hearted': 1058, 'stands': 1059, 'youth': 1060, 'drawn': 1061, 'adaptation': 1062, 'creates': 1063, 'competition': 1064, 'total': 1065, 'planet': 1066, 'brutal': 1067, 'hasn': 1068, 'thinks': 1069, 'train': 1070, 'motion': 1071, 'dancer': 1072, 'higher': 1073, 'fiction': 1074, 'turned': 1075, 'unforgettable': 1076, 'accidentally': 1077, 'features': 1078, 'gentle': 1079, 'realism': 1080, 'terror': 1081, 'recorded': 1082, 'traditional': 1083, 'choice': 1084, 'heavy': 1085, 'finale': 1086, 'normal': 1087, 'hardly': 1088, 'dying': 1089, 'weak': 1090, 'teen': 1091, 'cage': 1092, 'lines': 1093, 'dr': 1094, 'department': 1095, 'developed': 1096, 'passion': 1097, 'unfortunately': 1098, 'edge': 1099, 'handsome': 1100, 'o': 1101, 'alien': 1102, 'wide': 1103, 'helped': 1104, 'struggle': 1105, 'seek': 1106, 'cat': 1107, 'artist': 1108, 'everybody': 1109, '000': 1110, 'mitchell': 1111, 'previous': 1112, 'annoying': 1113, 'bunch': 1114, 'club': 1115, 'williams': 1116, 'editing': 1117, 'decent': 1118, 'award': 1119, 'apartment': 1120, 'stay': 1121, 'week': 1122, 'compelling': 1123, 'iconic': 1124, 'martial': 1125, 'arts': 1126, 'sorry': 1127, 'contains': 1128, 'disappointed': 1129, 'supposed': 1130, 'ridiculous': 1131, 'tomatoes': 1132, 'inspired': 1133, 'science': 1134, 'tongue': 1135, 'radio': 1136, 'screenplay': 1137, 'suddenly': 1138, 'conflict': 1139, 'nt': 1140, 'pull': 1141, 'brando': 1142, 'favorites': 1143, 'commentary': 1144, 'general': 1145, 'jimmy': 1146, 'considered': 1147, 'tried': 1148, 'effect': 1149, 'soldiers': 1150, 'mid': 1151, 'fool': 1152, 'hold': 1153, 'plane': 1154, 'brown': 1155, 'hatred': 1156, 'samurai': 1157, 'justice': 1158, 'scared': 1159, 'ice': 1160, 'cédric': 1161, 'puppet': 1162, 'spike': 1163, 'willy': 1164, 'stolen': 1165, 'blind': 1166, 'winner': 1167, 'eat': 1168, 'giant': 1169, 'personally': 1170, 'understanding': 1171, 'shop': 1172, 'store': 1173, 'ex': 1174, 'according': 1175, 'slightly': 1176, 'state': 1177, 'describe': 1178, 'mature': 1179, 'demme': 1180, 'fabulous': 1181, 'dirty': 1182, 'gold': 1183, 'alive': 1184, 'ruby': 1185, 'frightened': 1186, 'blues': 1187, 'carry': 1188, 'raw': 1189, 'allows': 1190, 'reminds': 1191, 'lived': 1192, 'skin': 1193, 'ended': 1194, 'lies': 1195, 'include': 1196, 'office': 1197, 'drew': 1198, 'sounds': 1199, 'gorgeous': 1200, 'jackson': 1201, 'extras': 1202, 'technical': 1203, 'happening': 1204, 'standard': 1205, 'urban': 1206, 'loves': 1207, 'formula': 1208, 'gang': 1209, 'zombies': 1210, 'gratuitous': 1211, 'bar': 1212, 'sudden': 1213, 'drives': 1214, '1930': 1215, 'reveals': 1216, 'brilliantly': 1217, 'shock': 1218, 'credit': 1219, 'marriage': 1220, 'mental': 1221, 'scenery': 1222, 'tierney': 1223, 'lighting': 1224, 'survive': 1225, 'remake': 1226, 'wise': 1227, 'harry': 1228, 'fascinating': 1229, '12': 1230, '60': 1231, 'blown': 1232, 'gay': 1233, 'whilst': 1234, 'visuals': 1235, 'prior': 1236, 'doodlebops': 1237, 'color': 1238, 'independent': 1239, 'spoil': 1240, '50': 1241, 'jobs': 1242, 'kiss': 1243, 'sf': 1244, 'theatrical': 1245, 'celebrity': 1246, 'individual': 1247, 'stays': 1248, 'situations': 1249, 'continue': 1250, 'plan': 1251, 'write': 1252, 'pre': 1253, 'changed': 1254, 'results': 1255, 'uses': 1256, 'condition': 1257, 'thankfully': 1258, 'putting': 1259, 'political': 1260, 'born': 1261, 'summer': 1262, 'bed': 1263, 'impact': 1264, 'comedic': 1265, 'sidney': 1266, 'danny': 1267, 'humorous': 1268, '90': 1269, 'visually': 1270, 'celebrities': 1271, 'bruce': 1272, 'listen': 1273, 'lisa': 1274, 'nominated': 1275, 'development': 1276, 'kept': 1277, 'appear': 1278, 'review': 1279, 'fair': 1280, 'seasons': 1281, 'mill': 1282, 'underrated': 1283, 'carell': 1284, 'andy': 1285, 'key': 1286, 'focused': 1287, 'law': 1288, 'france': 1289, 'cinematic': 1290, 'dated': 1291, 'appreciated': 1292, 'filmmakers': 1293, 'cheek': 1294, 'scott': 1295, 'image': 1296, 'explore': 1297, 'extraordinary': 1298, 'bill': 1299, 'concept': 1300, 'process': 1301, 'support': 1302, 'military': 1303, 'member': 1304, 'sinatra': 1305, '1950s': 1306, 'ghost': 1307, 'leader': 1308, 'drag': 1309, 'manage': 1310, 'identity': 1311, 'fare': 1312, 'germany': 1313, 'india': 1314, 'rent': 1315, 'davis': 1316, 'lee': 1317, 'christmas': 1318, 'fit': 1319, 'presented': 1320, 'slowly': 1321, 'naked': 1322, 'paris': 1323, 'surely': 1324, 'jim': 1325, 'background': 1326, 'guess': 1327, 'uncle': 1328, 'led': 1329, 'costumes': 1330, 'angry': 1331, 'aspects': 1332, 'lucas': 1333, 'truth': 1334, 'nicely': 1335, 'vance': 1336, 'corbett': 1337, 'combination': 1338, 'spooky': 1339, 'conversation': 1340, 'worms': 1341, 'ring': 1342, 'bob': 1343, 'wars': 1344, 'seconds': 1345, 'bank': 1346, 'proper': 1347, 'china': 1348, 'segment': 1349, 'debut': 1350, 'legendary': 1351, 'finest': 1352, 'alice': 1353, 'deliver': 1354, 'nudity': 1355, 'quirky': 1356, 'behavior': 1357, 'suit': 1358, 'stone': 1359, 'opportunity': 1360, 'held': 1361, 'spend': 1362, 'minor': 1363, 'childhood': 1364, 'knowing': 1365, 'grew': 1366, 'glory': 1367, 'tragedy': 1368, 'fellow': 1369, 'drugs': 1370, 'jones': 1371, 'machine': 1372, 'academy': 1373, 'chases': 1374, 'expressions': 1375, 'accent': 1376, 'powers': 1377, 'skills': 1378, 'suppose': 1379, 'cover': 1380, 'canadian': 1381, 'apart': 1382, 'share': 1383, 'committed': 1384, '1972': 1385, 'fashion': 1386, 'dies': 1387, 'luke': 1388, 'vader': 1389, 'twisted': 1390, 'luck': 1391, 'semi': 1392, 'yeah': 1393, 'presents': 1394, 'sadly': 1395, 'dress': 1396, 'rules': 1397, 'pierce': 1398, 'graphic': 1399, 'fate': 1400, 'photography': 1401, 'continues': 1402, 'awards': 1403, 'hits': 1404, 'pity': 1405, 'cowboy': 1406, 'dean': 1407, 'falk': 1408, 'wall': 1409, 'value': 1410, 'italy': 1411, 'physical': 1412, 'choose': 1413, 'circumstances': 1414, 'fell': 1415, 'breathtaking': 1416, 'qualities': 1417, 'desperate': 1418, 'investigation': 1419, 'dixon': 1420, 'reporter': 1421, 'mario': 1422, 'terrible': 1423, 'spent': 1424, 'relate': 1425, 'directing': 1426, 'grand': 1427, 'worse': 1428, 'drug': 1429, 'killing': 1430, 'realized': 1431, 'breaking': 1432, 'decade': 1433, 'deserved': 1434, 'mentioned': 1435, 'detailed': 1436, 'aren': 1437, 'proud': 1438, 'honestly': 1439, 'con': 1440, 'golden': 1441, 'claire': 1442, 'choices': 1443, 'runs': 1444, 'caused': 1445, 'speak': 1446, 'cable': 1447, 'chemistry': 1448, 'cartoons': 1449, 'brian': 1450, 'victor': 1451, 'alienate': 1452, 'kirsten': 1453, 'sharp': 1454, 'shame': 1455, 'biggest': 1456, 'corny': 1457, 'matt': 1458, 'worst': 1459, 'names': 1460, 'basic': 1461, 'free': 1462, 'attempts': 1463, 'stood': 1464, 'witch': 1465, 'portray': 1466, 'open': 1467, 'difference': 1468, 'x': 1469, 'guard': 1470, 'lincoln': 1471, 'ford': 1472, 'land': 1473, 'football': 1474, 'pop': 1475, 'witness': 1476, 'touched': 1477, 'mountain': 1478, 'sky': 1479, 'send': 1480, 'pleasant': 1481, 'combined': 1482, 'vincent': 1483, 'portrays': 1484, 'magical': 1485, 'mad': 1486, 'warner': 1487, 'sing': 1488, 'praise': 1489, 'locations': 1490, 'comforts': 1491, 'dragon': 1492, 'lord': 1493, 'save': 1494, 'plots': 1495, 'japan': 1496, 'spoilers': 1497, 'attractive': 1498, 'stuart': 1499, 'appeal': 1500, 'brooks': 1501, 'jon': 1502, '14': 1503, 'married': 1504, 'voight': 1505, 'asking': 1506, 'florida': 1507, 'post': 1508, 'nausicaa': 1509, 'miyazaki': 1510, 'union': 1511, 'stephen': 1512, 'industry': 1513, 'equally': 1514, 'cult': 1515, 'mum': 1516, 'owner': 1517, 'e': 1518, 'shoot': 1519, 'emotion': 1520, 'subtitles': 1521, 'project': 1522, 'complaints': 1523, 'spoiler': 1524, 'approach': 1525, 'tend': 1526, 'artistic': 1527, 'n': 1528, 'kidman': 1529, 'criminals': 1530, 'virus': 1531, 'picked': 1532, 'r': 1533, 'variety': 1534, 'constant': 1535, 'hospital': 1536, 'smooth': 1537, 'van': 1538, 'race': 1539, 'ustinov': 1540, 'brad': 1541, 'wood': 1542, 'suicide': 1543, 'shahid': 1544, 'frightening': 1545, 'trailer': 1546, 'keaton': 1547, 'notorious': 1548, 'media': 1549, 'plant': 1550, 'listed': 1551, 'scream': 1552, 'jr': 1553, 'model': 1554, 'pay': 1555, 'cross': 1556, 'kills': 1557, 'grade': 1558, 'win': 1559, 'met': 1560, 'valuable': 1561, 'aired': 1562, 'viewed': 1563, 'abc': 1564, 'com': 1565, 'grown': 1566, 'hopefully': 1567, 'disease': 1568, 'cultural': 1569, 'health': 1570, 'author': 1571, 'ironic': 1572, 'friendly': 1573, 'east': 1574, 'trip': 1575, 'dealing': 1576, 'deeply': 1577, 'response': 1578, 'exploitation': 1579, 'eric': 1580, 'erotic': 1581, 'effectively': 1582, 'explores': 1583, 'awful': 1584, 'rented': 1585, 'unlikely': 1586, 'detail': 1587, 'steps': 1588, 'exist': 1589, 'north': 1590, 'plain': 1591, 'ramones': 1592, 'states': 1593, 'attitude': 1594, 'wings': 1595, 'status': 1596, 'rip': 1597, 'sheer': 1598, 'aside': 1599, 'enthusiasm': 1600, 'families': 1601, 'decades': 1602, 'beery': 1603, 'account': 1604, 'bridge': 1605, 'singer': 1606, 'ground': 1607, 'ladies': 1608, 'began': 1609, 'younger': 1610, 'planned': 1611, 'chaos': 1612, 'tired': 1613, 'opens': 1614, 'helps': 1615, 'necessary': 1616, 'united': 1617, 'w': 1618, 'moral': 1619, 'storytelling': 1620, 'boss': 1621, 'unfolds': 1622, 'johnson': 1623, 'window': 1624, 'longs': 1625, 'intelligence': 1626, 'progress': 1627, 'stewart': 1628, 'hunting': 1629, 'path': 1630, 'johnny': 1631, 'range': 1632, 'hk': 1633, 'featuring': 1634, 'imagery': 1635, 'gritty': 1636, 'saturday': 1637, 'edie': 1638, 'nick': 1639, 'luis': 1640, 'dealt': 1641, 'food': 1642, 'beloved': 1643, 'suspect': 1644, 'accused': 1645, 'dubbing': 1646, 'jennifer': 1647, 'extreme': 1648, 'voices': 1649, 'speaks': 1650, 'waves': 1651, 'rule': 1652, 'acts': 1653, 'sick': 1654, 'ill': 1655, 'employed': 1656, 'occurred': 1657, 'provided': 1658, 'build': 1659, 'tension': 1660, 'unexpected': 1661, 'knowledge': 1662, 'target': 1663, 'everyday': 1664, 'surprises': 1665, 'trust': 1666, 'damn': 1667, 'mrs': 1668, 'bringing': 1669, 'louis': 1670, 'evening': 1671, 'daughters': 1672, 'streep': 1673, 'wilson': 1674, 'environment': 1675, 'length': 1676, 'daily': 1677, 'experiences': 1678, 'treatment': 1679, 'advantage': 1680, 'personality': 1681, 'desert': 1682, 'joseph': 1683, 'colorful': 1684, 'bright': 1685, 'walking': 1686, 'prepared': 1687, 'potential': 1688, 'albeit': 1689, 'program': 1690, 'figures': 1691, 'collection': 1692, 'generally': 1693, 'vietnam': 1694, 'dunst': 1695, 'spot': 1696, 'magazine': 1697, 'bridges': 1698, 'event': 1699, 'direct': 1700, 'comedies': 1701, 'hated': 1702, 'baseball': 1703, 'network': 1704, 'la': 1705, 'twice': 1706, 'gambling': 1707, 'blockbuster': 1708, 'j': 1709, 'kevin': 1710, 'substance': 1711, 'musicals': 1712, 'london': 1713, '24': 1714, 'pass': 1715, 'capture': 1716, 'pain': 1717, 'spock': 1718, 'doc': 1719, 'managed': 1720, 'greedy': 1721, 'lonely': 1722, 'finish': 1723, 'daring': 1724, 'brave': 1725, 'horse': 1726, 'sexuality': 1727, 'persona': 1728, 'da': 1729, 'curiosity': 1730, 'private': 1731, 'trash': 1732, 'accident': 1733, 'fonda': 1734, 'ass': 1735, 'talks': 1736, 'sweet': 1737, 'accurate': 1738, 'area': 1739, 'involves': 1740, 'texas': 1741, 'concert': 1742, 'building': 1743, 'choir': 1744, 'helping': 1745, 'pick': 1746, 'swiss': 1747, 'adventures': 1748, 'complain': 1749, 'shouldn': 1750, 'balance': 1751, 'mainly': 1752, 'edward': 1753, 'provide': 1754, 'mom': 1755, 'stanley': 1756, 'carries': 1757, 'fitting': 1758, 'albert': 1759, 'expectation': 1760, 'critical': 1761, 'racial': 1762, 'gripping': 1763, 'kubrick': 1764, 'metal': 1765, 'princess': 1766, 'step': 1767, 'audrey': 1768, 'pleasure': 1769, 'climax': 1770, 'rural': 1771, 'explicit': 1772, 'express': 1773, 'flying': 1774, 'offer': 1775, 'douglas': 1776, 'russell': 1777, 'laughed': 1778, 'curious': 1779, 'prince': 1780, 'branch': 1781, 'joan': 1782, 'honor': 1783, 'mall': 1784, 'depressing': 1785, 'cox': 1786, 'dvds': 1787, 'nicole': 1788, 'russian': 1789, 'shoots': 1790, 'personalities': 1791, 'reviewer': 1792, 'betrayed': 1793, 'ashley': 1794, 'philip': 1795, 'murdered': 1796, 'bowser': 1797, 'levels': 1798, 'wow': 1799, 'subplots': 1800, 'morning': 1801, 'minds': 1802, 'answer': 1803, 'classes': 1804, 'jungle': 1805, 'v': 1806, 'teenage': 1807, 'received': 1808, 'alliance': 1809, 'antwone': 1810, 'pitt': 1811, 'tracks': 1812, 'ned': 1813, 'tremendous': 1814, 'depicted': 1815, 'amrita': 1816, 'custer': 1817, 'politics': 1818, 'ward': 1819, 'animal': 1820, 'welles': 1821, 'orson': 1822, 'modesty': 1823, 'blackadder': 1824, 'della': 1825, 'partner': 1826, 'notices': 1827, 'ralph': 1828, 'coe': 1829, 'riff': 1830, 'oberon': 1831, 'gorilla': 1832, 'broken': 1833, 'freddy': 1834, 'absolute': 1835, 'faces': 1836, 'rockwell': 1837, 'fried': 1838, 'adam': 1839, 'slimy': 1840, 'discovered': 1841, 'throws': 1842, 'draws': 1843, 'essentially': 1844, 'freedom': 1845, 'laura': 1846, 'market': 1847, 'appropriate': 1848, 'record': 1849, 'transformation': 1850, 'horrible': 1851, 'closer': 1852, 'versions': 1853, 'maugham': 1854, 'verger': 1855, 'joke': 1856, 'buying': 1857, 'amazed': 1858, 'patrick': 1859, 'mate': 1860, 'heavily': 1861, 'fake': 1862, 'agent': 1863, 'months': 1864, 'jean': 1865, 'patient': 1866, 'website': 1867, 'corman': 1868, 'warden': 1869, 'k': 1870, 'lively': 1871, 'mindless': 1872, 'glorious': 1873, 'sheriff': 1874, 'station': 1875, 'essential': 1876, 'disbelief': 1877, 'soldier': 1878, 'vhs': 1879, 'christopher': 1880, 'lets': 1881, 'styles': 1882, 'understated': 1883, '1984': 1884, 'tape': 1885, 'trilogy': 1886, 'glimpse': 1887, 'okay': 1888, 'sisters': 1889, 'eva': 1890, 'riveting': 1891, 'includes': 1892, 'current': 1893, 'fashioned': 1894, 'complaining': 1895, 'worthy': 1896, 'bitter': 1897, 'kong': 1898, 'yeti': 1899, 'scientist': 1900, 'saving': 1901, 'ape': 1902, 'size': 1903, 'comparison': 1904, 'spanish': 1905, 'forgot': 1906, 'suits': 1907, 'energetic': 1908, 'pulled': 1909, 'rough': 1910, 'carefully': 1911, 'walsh': 1912, 'affection': 1913, 'energy': 1914, 'jedi': 1915, 'producers': 1916, 'tim': 1917, 'mansion': 1918, 'actresses': 1919, 'dumb': 1920, 'lab': 1921, 'wakes': 1922, 'banned': 1923, 'hanging': 1924, 'explanation': 1925, 'unusually': 1926, 'chosen': 1927, 'unknown': 1928, 'gotten': 1929, 'paid': 1930, 'hall': 1931, 'chicago': 1932, 'expresses': 1933, 'appeared': 1934, 'martin': 1935, 'green': 1936, 'anymore': 1937, 'obsession': 1938, 'owners': 1939, 'tense': 1940, 'throw': 1941, 'practically': 1942, 'hadn': 1943, 'drinking': 1944, 'bone': 1945, 'guts': 1946, 'nemesis': 1947, 'riding': 1948, 'repeatedly': 1949, 'shut': 1950, 'kidnapped': 1951, 'horrifying': 1952, 'essence': 1953, '13': 1954, 'dozen': 1955, 'complicated': 1956, 'technically': 1957, 'aka': 1958, 'crafted': 1959, 'flawless': 1960, 'abrupt': 1961, 'halloween': 1962, 'russo': 1963, 'ron': 1964, 'installment': 1965, '70s': 1966, 'frame': 1967, 'admire': 1968, '18': 1969, 'jeff': 1970, 'clark': 1971, '40': 1972, 'estranged': 1973, 'magnificent': 1974, 'creating': 1975, 'builds': 1976, '0': 1977, 'narrative': 1978, 'engaging': 1979, 'conveys': 1980, 'inability': 1981, 'item': 1982, 'hey': 1983, 'nowadays': 1984, 'redgrave': 1985, 'meaningful': 1986, 'worthwhile': 1987, 'theaters': 1988, 'richardson': 1989, 'ensemble': 1990, 'contemporary': 1991, 'complex': 1992, 'steals': 1993, 'thoughts': 1994, 'díaz': 1995, 'silverstein': 1996, 'assigned': 1997, 'routines': 1998, 'importance': 1999, 'assure': 2000, 'africa': 2001, 'faith': 2002, 'charles': 2003, 'dangerous': 2004, 'sir': 2005, 'c': 2006, 'exception': 2007, 'location': 2008, 'degree': 2009, 'producer': 2010, 'originally': 2011, '19th': 2012, 'research': 2013, 'channel': 2014, 'alike': 2015, 'remains': 2016, 'disc': 2017, 'discovers': 2018, 'hidden': 2019, 'sleep': 2020, '50s': 2021, 'mouse': 2022, 'suffers': 2023, 'murders': 2024, 'dramas': 2025, 'simon': 2026, 'pegg': 2027, 'bumbling': 2028, 'burns': 2029, 'catches': 2030, 'editor': 2031, 'creative': 2032, 'wit': 2033, 'hurt': 2034, 'cynical': 2035, 'allen': 2036, 'racism': 2037, 'lane': 2038, 'washington': 2039, 'chair': 2040, 'largely': 2041, 'justin': 2042, 'obsessed': 2043, 'clichéd': 2044, 'affair': 2045, 'expertly': 2046, 'pair': 2047, 'paced': 2048, 'gigi': 2049, 'sitting': 2050, 'easier': 2051, 'locked': 2052, 'bang': 2053, 'portraying': 2054, 'wholly': 2055, 'conclusion': 2056, 'cameron': 2057, 'challenge': 2058, 'talents': 2059, 'drunk': 2060, 'fortunately': 2061, 'picks': 2062, 'weaker': 2063, '20th': 2064, 'uk': 2065, 'parody': 2066, 'scripts': 2067, 'despair': 2068, 'darker': 2069, 'criticism': 2070, 'satire': 2071, 'montana': 2072, 'humour': 2073, 'dull': 2074, 'ghosts': 2075, 'purpose': 2076, 'featured': 2077, 'lake': 2078, 'unfortunate': 2079, 'turner': 2080, 'cooper': 2081, 'randolph': 2082, 'cole': 2083, 'perform': 2084, 'clichés': 2085, 'gothic': 2086, 'foster': 2087, 'souls': 2088, 'eerie': 2089, 'stunningly': 2090, 'capable': 2091, 'atmospheric': 2092, 'attack': 2093, 'bought': 2094, 'harsh': 2095, 'jet': 2096, 'st': 2097, 'ingredients': 2098, 'lover': 2099, 'soul': 2100, 'patients': 2101, 'previously': 2102, 'abused': 2103, 'marry': 2104, 'veronika': 2105, 'revealed': 2106, 'assume': 2107, 'ardolino': 2108, 'promising': 2109, 'flicks': 2110, 'treats': 2111, 'thousand': 2112, 'keeping': 2113, 'eyed': 2114, 'odds': 2115, 'waters': 2116, 'humble': 2117, 'average': 2118, 'laputa': 2119, 'perfection': 2120, 'leachman': 2121, 'concerned': 2122, 'ran': 2123, 'steel': 2124, 'issue': 2125, 'britain': 2126, 'nazis': 2127, 'accompanied': 2128, 'produce': 2129, 'laurence': 2130, 'commercial': 2131, 'heroine': 2132, 'toni': 2133, 'prove': 2134, 'leslie': 2135, 'struck': 2136, 'forgive': 2137, 'familiar': 2138, 'lombard': 2139, 'broadway': 2140, 'al': 2141, 'jazz': 2142, 'amelie': 2143, 'grow': 2144, 'expectations': 2145, 'talked': 2146, 'somebody': 2147, 'gruesome': 2148, 'thoroughly': 2149, 'policeman': 2150, '25': 2151, 'shy': 2152, 'print': 2153, 'student': 2154, 'polanski': 2155, 'suspenseful': 2156, 'ming': 2157, 'creators': 2158, 'christy': 2159, 'teacher': 2160, 'palance': 2161, 'source': 2162, 'lily': 2163, 'succeeds': 2164, 'deeper': 2165, 'benkei': 2166, 'context': 2167, 'believed': 2168, 'funniest': 2169, '2007': 2170, 'careful': 2171, 'references': 2172, 'suffering': 2173, 'pitch': 2174, 'described': 2175, 'surreal': 2176, 'chris': 2177, 'heck': 2178, 'mildred': 2179, 'match': 2180, 'greek': 2181, 'beings': 2182, 'insane': 2183, 'leo': 2184, 'anti': 2185, 'comedian': 2186, 'effortlessly': 2187, 'jealous': 2188, 'excitement': 2189, 'industrial': 2190, 'serial': 2191, 'learning': 2192, 'thrown': 2193, 'camp': 2194, 'melvyn': 2195, 'closing': 2196, 'ignore': 2197, 'guinness': 2198, 'repetitive': 2199, 'fisher': 2200, 'chick': 2201, 'loads': 2202, 'weren': 2203, 'professional': 2204, 'exposure': 2205, 'circle': 2206, 'roberts': 2207, 'critics': 2208, 'placed': 2209, 'neat': 2210, 'grim': 2211, 'parker': 2212, 'focuses': 2213, 'ignored': 2214, 'timon': 2215, 'secrets': 2216, 'exploring': 2217, 'rarely': 2218, 'intended': 2219, 'paulie': 2220, 'slice': 2221, 'seemingly': 2222, 'clara': 2223, 'prize': 2224, 'design': 2225, 'grant': 2226, 'mess': 2227, 'beads': 2228, 'lifshitz': 2229, 'crash': 2230, 'togar': 2231, 'flynn': 2232, 'vonnegut': 2233, 'cusack': 2234, 'trudy': 2235, 'heaton': 2236, 'caste': 2237, 'succeeded': 2238, 'elm': 2239, 'sunshine': 2240, 'vincenzo': 2241, 'quotes': 2242, 'hale': 2243, 'attempted': 2244, 'captured': 2245, 'heights': 2246, 'fantastically': 2247, 'wicked': 2248, 'shocks': 2249, 'thomas': 2250, 'respected': 2251, 'immediately': 2252, 'welcome': 2253, 'swearing': 2254, 'accuracy': 2255, 'mundane': 2256, 'fighter': 2257, 'lesson': 2258, 'mothers': 2259, 'surrounded': 2260, 'continued': 2261, 'introduces': 2262, 'hayter': 2263, 'saved': 2264, 'news': 2265, 'occasion': 2266, 'fictional': 2267, 'anger': 2268, 'shed': 2269, 'tear': 2270, 'restaurant': 2271, 'outfit': 2272, 'celluloid': 2273, 'starlet': 2274, 'sexually': 2275, 'endearing': 2276, 'typically': 2277, 'strongly': 2278, 'notion': 2279, 'cale': 2280, 'oddball': 2281, 'mack': 2282, 'track': 2283, 'stops': 2284, 'bathroom': 2285, 'beating': 2286, 'kurt': 2287, 'exact': 2288, 'understands': 2289, 'virtually': 2290, 'budgets': 2291, 'loss': 2292, 'outright': 2293, '1970s': 2294, '80s': 2295, '1983': 2296, 'tender': 2297, 'garden': 2298, 'fill': 2299, 'universe': 2300, 'sean': 2301, 'kidding': 2302, 'aliens': 2303, '96': 2304, 'lower': 2305, 'suggest': 2306, 'lennon': 2307, 'sight': 2308, 'fancy': 2309, 'distant': 2310, '2005': 2311, 'goodbye': 2312, 'europe': 2313, 'scale': 2314, 'vs': 2315, 'tame': 2316, 'crowd': 2317, 'dressed': 2318, '1968': 2319, '1970': 2320, 'comfortable': 2321, 'reckless': 2322, 'rank': 2323, 'cares': 2324, 'ball': 2325, 'fear': 2326, 'brodie': 2327, 'chuck': 2328, 'antics': 2329, 'fay': 2330, 'partying': 2331, 'yoda': 2332, 'darth': 2333, 'arms': 2334, 'bus': 2335, 'raised': 2336, 'hugh': 2337, 'constantly': 2338, 'porn': 2339, 'kicks': 2340, 'companion': 2341, 'ha': 2342, 'technique': 2343, 'bsg': 2344, 'experienced': 2345, 'cost': 2346, 'fame': 2347, 'affected': 2348, 'veteran': 2349, 'newman': 2350, 'solely': 2351, 'generous': 2352, 'test': 2353, 'embrace': 2354, 'covered': 2355, 'programme': 2356, 'walk': 2357, 'paradise': 2358, 'brain': 2359, 'politician': 2360, 'rifle': 2361, 'standing': 2362, 'fist': 2363, 'fights': 2364, 'enjoyment': 2365, 'phone': 2366, 'blow': 2367, 'losing': 2368, 'favor': 2369, 'sue': 2370, 'iron': 2371, 'priceless': 2372, 'sci': 2373, 'fi': 2374, '1980': 2375, 'technology': 2376, 'areas': 2377, 'forced': 2378, 'growth': 2379, 'develop': 2380, 'inevitable': 2381, 'doom': 2382, 'host': 2383, 'landscapes': 2384, 'regard': 2385, 'sidewalk': 2386, 'dana': 2387, 'barely': 2388, 'parties': 2389, 'solve': 2390, 'hoods': 2391, 'taylor': 2392, 'admittedly': 2393, 'delicate': 2394, 'anthony': 2395, 'poe': 2396, 'blackwood': 2397, '60s': 2398, 'cuba': 2399, 'revolution': 2400, 'majority': 2401, 'destroy': 2402, 'barbra': 2403, 'devoted': 2404, 'primarily': 2405, 'giants': 2406, 'teens': 2407, 'occasions': 2408, 'awe': 2409, 'mortal': 2410, 'degrees': 2411, 'wave': 2412, 'sydney': 2413, 'enter': 2414, 'warmth': 2415, 'gripe': 2416, 'convince': 2417, 'loneliness': 2418, 'scare': 2419, 'cup': 2420, 'join': 2421, 'messages': 2422, 'expensive': 2423, 'mainstream': 2424, 'bruckheimer': 2425, 'wet': 2426, 'accepts': 2427, 'starred': 2428, 'travels': 2429, 'halfway': 2430, 'simplicity': 2431, 'meryl': 2432, 'danes': 2433, 'multiple': 2434, 'wedding': 2435, 'understandably': 2436, 'tunes': 2437, 'carrying': 2438, 'szifron': 2439, 'achieved': 2440, 'training': 2441, 'thrilling': 2442, 'explained': 2443, 'sand': 2444, 'boyer': 2445, 'letting': 2446, 'guide': 2447, 'recognize': 2448, 'nun': 2449, 'company': 2450, 'burned': 2451, 'extent': 2452, 'novels': 2453, 'guns': 2454, 'bound': 2455, 'timothy': 2456, 'vision': 2457, 'thumbs': 2458, 'kapoor': 2459, 'channels': 2460, 'sought': 2461, 'shootings': 2462, 'bugs': 2463, 'bunny': 2464, '1940': 2465, '40s': 2466, 'flows': 2467, 'till': 2468, 'pearl': 2469, 'kate': 2470, 'aid': 2471, 'conductor': 2472, 'hired': 2473, 'rampant': 2474, 'clayton': 2475, 'succeed': 2476, 'f': 2477, 'fail': 2478, 'folks': 2479, 'position': 2480, 'lighten': 2481, '1930s': 2482, 'signed': 2483, 'sequels': 2484, 'grave': 2485, 'unaware': 2486, 'ray': 2487, 'racist': 2488, 'kinda': 2489, 'strongest': 2490, 'dazzling': 2491, 'masterson': 2492, 'mermaid': 2493, 'psychological': 2494, 'cary': 2495, 'imaginative': 2496, 'cliché': 2497, 'convoluted': 2498, 'forms': 2499, 'charge': 2500, 'choreography': 2501, 'treasure': 2502, 'sadness': 2503, 'neighborhood': 2504, 'settings': 2505, 'initially': 2506, 'taboo': 2507, 'imagination': 2508, 'excuse': 2509, 'contrast': 2510, 'willing': 2511, 'cancelled': 2512, 'passes': 2513, 'national': 2514, 'parade': 2515, 'tea': 2516, 'sports': 2517, 'medical': 2518, 'makeup': 2519, 'ready': 2520, 'kurosawa': 2521, 'recognition': 2522, 'handled': 2523, 'consistent': 2524, 'players': 2525, 'acclaimed': 2526, 'faced': 2527, 'gena': 2528, 'genuinely': 2529, 'spoof': 2530, 'frequent': 2531, 'authentic': 2532, 'double': 2533, 'ii': 2534, 'ruth': 2535, 'antonio': 2536, 'pit': 2537, 'achievement': 2538, 'haunted': 2539, 'enchanting': 2540, 'finished': 2541, 'winter': 2542, 'clash': 2543, 'kay': 2544, 'elaborate': 2545, 'studying': 2546, 'household': 2547, 'carter': 2548, 'li': 2549, 'rapid': 2550, 'masterpieces': 2551, 'showcase': 2552, 'dogs': 2553, 'rewarding': 2554, 'captivating': 2555, 'overly': 2556, 'witnesses': 2557, 'spends': 2558, 'gilberte': 2559, 'boot': 2560, 'relating': 2561, 'françoise': 2562, 'generation': 2563, 'flair': 2564, 'territory': 2565, 'introduced': 2566, 'stock': 2567, '2004': 2568, 'disorder': 2569, 'kennedy': 2570, 'marlon': 2571, 'filmmaker': 2572, 'streets': 2573, 'dances': 2574, 'midnight': 2575, 'vignettes': 2576, 'cuts': 2577, 'failed': 2578, 'abuse': 2579, 'center': 2580, 'comfort': 2581, 'ease': 2582, 'decide': 2583, 'liners': 2584, '1986': 2585, 'vice': 2586, 'satirical': 2587, 'passed': 2588, 'ensues': 2589, 'rob': 2590, 'ability': 2591, 'league': 2592, 'briefly': 2593, 'precious': 2594, 'pushing': 2595, 'remain': 2596, 'seeking': 2597, 'countries': 2598, 'transport': 2599, 'highest': 2600, '45': 2601, 'karl': 2602, 'arthur': 2603, 'presence': 2604, 'captivated': 2605, 'pulling': 2606, 'awareness': 2607, 'marvelous': 2608, 'opposite': 2609, 'victim': 2610, 'disappeared': 2611, 'rental': 2612, 'temporary': 2613, 'lovable': 2614, 'hearts': 2615, 'julian': 2616, 'mistake': 2617, 'unpredictable': 2618, 'latin': 2619, 'comical': 2620, 'multi': 2621, 'du': 2622, 'complained': 2623, 'releases': 2624, 'relief': 2625, 'holes': 2626, 'blake': 2627, 'walks': 2628, 'exaggerated': 2629, 'greater': 2630, 'resort': 2631, 'afflicted': 2632, 'tank': 2633, 'wing': 2634, 'bore': 2635, 'classify': 2636, 'antonioni': 2637, 'restored': 2638, 'standards': 2639, 'uneven': 2640, 'shelley': 2641, 'er': 2642, 'loses': 2643, 'enormous': 2644, 'tricks': 2645, 'south': 2646, 'park': 2647, 'cerebral': 2648, 'gift': 2649, 'q': 2650, 'flat': 2651, 'random': 2652, 'slave': 2653, 'advice': 2654, 'nasty': 2655, 'nuances': 2656, 'fails': 2657, 'turning': 2658, 'hitler': 2659, 'literate': 2660, 'marks': 2661, 'fog': 2662, 'ordinary': 2663, 'island': 2664, 'forest': 2665, 'cell': 2666, 'facts': 2667, 'pleasantly': 2668, 'examples': 2669, 'bourne': 2670, 'julia': 2671, 'fido': 2672, 'navy': 2673, 'reputation': 2674, 'greatness': 2675, 'kick': 2676, 'likewise': 2677, 'frankly': 2678, 'shopping': 2679, 'weapons': 2680, 'expert': 2681, 'allow': 2682, 'kelly': 2683, 'flight': 2684, 'passengers': 2685, 'wes': 2686, 'craven': 2687, 'improvement': 2688, 'waste': 2689, 'geek': 2690, 'classroom': 2691, 'candle': 2692, 'confused': 2693, 'wallace': 2694, 'olive': 2695, 'considerable': 2696, 'chaplin': 2697, 'angles': 2698, 'scoring': 2699, 'jail': 2700, 'countryside': 2701, 'farmer': 2702, 'hunt': 2703, 'danger': 2704, 'poirot': 2705, 'pandora': 2706, 'nbc': 2707, 'u': 2708, 'destroyed': 2709, 'avoid': 2710, 'bondage': 2711, 'newspaper': 2712, 'supposedly': 2713, '1934': 2714, 'vicious': 2715, 'established': 2716, 'positive': 2717, 'sea': 2718, 'memories': 2719, 'erik': 2720, 'reach': 2721, 'teenager': 2722, 'colors': 2723, 'inspiring': 2724, 'devastating': 2725, 'bloody': 2726, 'lame': 2727, 'closure': 2728, 'pulls': 2729, 'sheeta': 2730, 'varied': 2731, '90s': 2732, 'jessica': 2733, 'bow': 2734, 'celebration': 2735, 'slapstick': 2736, 'occasional': 2737, 'sign': 2738, 'repressed': 2739, 'sammo': 2740, 'boasts': 2741, 'menacing': 2742, 'physically': 2743, 'internet': 2744, 'bates': 2745, 'sitcom': 2746, 'gunner': 2747, 'sergeant': 2748, 'donald': 2749, 'providing': 2750, 'boat': 2751, 'surrounding': 2752, 'learns': 2753, 'mostel': 2754, 'fanny': 2755, 'falling': 2756, 'angels': 2757, 'duke': 2758, 'depression': 2759, '2006': 2760, 'march': 2761, 'dudikoff': 2762, 'thugs': 2763, 'wilderness': 2764, 'charlie': 2765, 'sun': 2766, 'larry': 2767, 'topic': 2768, 'baker': 2769, 'stopping': 2770, 'civil': 2771, 'ramala': 2772, 'assassination': 2773, 'encounter': 2774, 'sanitarium': 2775, 'thin': 2776, 'clean': 2777, 'historical': 2778, '18th': 2779, 'sarafina': 2780, 'soweto': 2781, 'stirring': 2782, 'elisha': 2783, 'reiser': 2784, 'caleb': 2785, 'core': 2786, 'expression': 2787, 'cadets': 2788, 'biko': 2789, 'cameraman': 2790, 'enjoying': 2791, 'les': 2792, 'inventive': 2793, 'explored': 2794, 'darlene': 2795, 'survival': 2796, 'deemed': 2797, 'chose': 2798, 'offered': 2799, 'player': 2800, 'rowlands': 2801, 'divorce': 2802, 'dozens': 2803, 'courage': 2804, 'attraction': 2805, 'similarities': 2806, 'edited': 2807, 'chamberlain': 2808, 'lawyer': 2809, 'logan': 2810, 'river': 2811, 'screwball': 2812, 'negative': 2813, 'exploration': 2814, 'holiday': 2815, 'gretchen': 2816, 'holm': 2817, 'samson': 2818, 'ballroom': 2819, 'subjects': 2820, 'madonna': 2821, 'terrified': 2822, 'myrtle': 2823, 'admired': 2824, 'capote': 2825, 'blunt': 2826, 'section': 2827, 'powell': 2828, '21': 2829, 'longing': 2830, 'cinderella': 2831, 'birth': 2832, 'scifi': 2833, 'rooms': 2834, 'tautou': 2835, 'remaking': 2836, 'leg': 2837, 'rippner': 2838, 'renyolds': 2839, 'canoe': 2840, 'colonies': 2841, 'gundam': 2842, 'stiller': 2843, 'raines': 2844, 'brooklyn': 2845, 'cooking': 2846, 'miles': 2847, 'skill': 2848, 'matthau': 2849, 'robbins': 2850, 'ticket': 2851, 'feet': 2852, 'bully': 2853, 'shirts': 2854, 'eats': 2855, 'reluctantly': 2856, 'spread': 2857, 'ultra': 2858, 'keen': 2859, 'tendency': 2860, 'leaders': 2861, 'agreed': 2862, 'mae': 2863, 'damian': 2864, 'shrek': 2865, 'votes': 2866, 'suited': 2867, 'redemption': 2868, 'difficulties': 2869, 'sanitorium': 2870, 'signature': 2871, 'church': 2872, 'hears': 2873, 'cruise': 2874, 'overbearing': 2875, 'jewelry': 2876, 'ship': 2877, 'resembles': 2878, 'seas': 2879, 'rises': 2880, 'spy': 2881, 'hitchcock': 2882, 'simmons': 2883, 'frail': 2884, 'currie': 2885, 'laurie': 2886, 'internal': 2887, 'dandy': 2888, 'secretary': 2889, 'stated': 2890, 'russ': 2891, 'dolls': 2892, 'collins': 2893, 'foul': 2894, 'curtis': 2895, 'overcome': 2896, 'abundance': 2897, 'marvelously': 2898, 'gas': 2899, 'immensely': 2900, 'heat': 2901, 'spite': 2902, 'library': 2903, 'purchased': 2904, 'cinematographer': 2905, 'handedly': 2906, 'cain': 2907, 'displays': 2908, 'glenn': 2909, 'forrest': 2910, 'wolf': 2911, '1987': 2912, 'daisy': 2913, '1989': 2914, '2008': 2915, 'respectively': 2916, 'strangeness': 2917, 'hello': 2918, 'block': 2919, 'questioned': 2920, 'priorities': 2921, 'chong': 2922, 'mexican': 2923, 'noise': 2924, 'watchable': 2925, 'clues': 2926, 'emma': 2927, 'babe': 2928, 'heaven': 2929, 'cafe': 2930, 'performs': 2931, 'pointed': 2932, 'belly': 2933, 'successfully': 2934, 'package': 2935, 'emerges': 2936, 'deaths': 2937, 'godzilla': 2938, 'staged': 2939, 'monkey': 2940, 'kramer': 2941, 'animators': 2942, 'partly': 2943, 'stages': 2944, 'armed': 2945, 'someday': 2946, 'weekend': 2947, 'reviewers': 2948, 'cheese': 2949, 'refuse': 2950, 'connors': 2951, 'strive': 2952, 'recreated': 2953, 'disappear': 2954, 'smiling': 2955, 'outlook': 2956, 'mystical': 2957, 'hood': 2958, 'ricky': 2959, 'scientific': 2960, 'bro': 2961, 'economical': 2962, 'vengeance': 2963, 'judge': 2964, 'complexities': 2965, 'gory': 2966, 'ah': 2967, 'testing': 2968, 'newest': 2969, 'motives': 2970, 'relative': 2971, 'thrilled': 2972, 'sorts': 2973, 'garbage': 2974, 'hanks': 2975, 'allan': 2976, 'loyalty': 2977, 'exterior': 2978, 'settling': 2979, 'entering': 2980, 'mendes': 2981, 'signs': 2982, 'statement': 2983, 'crappy': 2984, 'rotten': 2985, 'monty': 2986, 'adding': 2987, 'laid': 2988, 'finger': 2989, 'showdown': 2990, 'fly': 2991, 'loving': 2992, 'delivering': 2993, 'builder': 2994, 'striking': 2995, 'fever': 2996, 'headed': 2997, 'engage': 2998, 'mechanical': 2999, 'nonetheless': 3000, 'costume': 3001, 'promises': 3002, 'hong': 3003, 'charlotte': 3004, 'vivian': 3005, 'dare': 3006, 'kidnap': 3007, 'unfaithful': 3008, 'exchange': 3009, 'glimpses': 3010, 'greed': 3011, 'cancer': 3012, 'miniseries': 3013, 'interpretation': 3014, 'rochester': 3015, 'otto': 3016, 'preminger': 3017, 'gene': 3018, 'weapon': 3019, 'cops': 3020, 'tully': 3021, 'amazingly': 3022, 'fault': 3023, 'exquisite': 3024, 'elizabeth': 3025, 'rivière': 3026, 'mar': 3027, 'visiting': 3028, 'bava': 3029, 'sunday': 3030, 'surprising': 3031, 'associated': 3032, 'christina': 3033, '1958': 3034, 'property': 3035, 'mistakes': 3036, 'president': 3037, 'structure': 3038, 'precise': 3039, 'entitled': 3040, 'unfold': 3041, 'streisand': 3042, 'satisfied': 3043, 'stayed': 3044, 'grasp': 3045, 'dive': 3046, 'warm': 3047, 'hamilton': 3048, '2002': 3049, 'australia': 3050, 'hoping': 3051, 'gray': 3052, 'helplessness': 3053, 'hopelessness': 3054, 'reminiscent': 3055, 'bits': 3056, 'coffee': 3057, 'hair': 3058, 'bash': 3059, 'built': 3060, 'deserving': 3061, 'refreshing': 3062, 'alternative': 3063, 'phenomenal': 3064, 'delivery': 3065, 'threatened': 3066, 'randall': 3067, 'wondering': 3068, 'jolie': 3069, 'theft': 3070, 'biography': 3071, 'tattoo': 3072, 'connery': 3073, 'croft': 3074, 'forbidden': 3075, 'inhabitants': 3076, 'krell': 3077, 'menace': 3078, 'shocked': 3079, 'koltai': 3080, 'slick': 3081, 'gummer': 3082, 'hungarian': 3083, 'opera': 3084, 'shine': 3085, 'experiencing': 3086, 'popcorn': 3087, 'bigger': 3088, 'witnessed': 3089, 'el': 3090, 'mysteries': 3091, 'psychiatrist': 3092, 'suggests': 3093, 'regards': 3094, 'complexity': 3095, 'reaching': 3096, 'unbelievable': 3097, 'pressure': 3098, 'lights': 3099, 'monk': 3100, 'crisis': 3101, 'happiness': 3102, 'arabic': 3103, 'porter': 3104, 'helen': 3105, 'tomato': 3106, 'eighties': 3107, 'thug': 3108, 'queens': 3109, 'greatly': 3110, 'h': 3111, 'removed': 3112, 'excellence': 3113, 'chapter': 3114, 'intensity': 3115, 'timing': 3116, 'checking': 3117, 'intrigued': 3118, 'summary': 3119, 'distressed': 3120, 'attended': 3121, 'insight': 3122, 'methods': 3123, 'bitterness': 3124, 'occurs': 3125, 'irony': 3126, 'shines': 3127, 'hippy': 3128, 'movement': 3129, 'sarah': 3130, 'san': 3131, 'francisco': 3132, 'sixties': 3133, 'woodstock': 3134, '400': 3135, 'code': 3136, 'journalist': 3137, 'spectacular': 3138, 'enters': 3139, 'tie': 3140, 'dares': 3141, 'anderson': 3142, 'upsets': 3143, 'develops': 3144, 'obnoxious': 3145, 'unlikable': 3146, 'dimensional': 3147, 'exceptional': 3148, 'cousin': 3149, 'bing': 3150, 'remembered': 3151, 'endless': 3152, 'adorable': 3153, 'throwing': 3154, 'remarks': 3155, 'endings': 3156, 'native': 3157, 'studies': 3158, 'finely': 3159, 'nuanced': 3160, 'poignant': 3161, 'bassett': 3162, 'convincingly': 3163, 'composed': 3164, 'denzel': 3165, 'lifetime': 3166, 'jodelle': 3167, 'ferland': 3168, '2001': 3169, 'fascination': 3170, 'balanced': 3171, 'steckert': 3172, 'gradually': 3173, 'lindsay': 3174, 'lieutenant': 3175, 'prisoner': 3176, 'snatched': 3177, 'appropriately': 3178, 'oliver': 3179, 'moody': 3180, 'mildly': 3181, 'cruel': 3182, 'awkward': 3183, 'served': 3184, 'frequently': 3185, 'kirk': 3186, 'frozen': 3187, 'cavegirl': 3188, 'trials': 3189, 'abandoned': 3190, 'threat': 3191, 'punished': 3192, 'surface': 3193, 'heartwarming': 3194, 'virgin': 3195, 'resolve': 3196, 'adulthood': 3197, 'developing': 3198, 'grounds': 3199, 'definite': 3200, 'borowczyk': 3201, 'criticisms': 3202, 'tour': 3203, 'merely': 3204, 'instincts': 3205, 'central': 3206, 'morbid': 3207, 'importantly': 3208, 'stark': 3209, 'chasing': 3210, 'stumbled': 3211, 'bravo': 3212, 'wasted': 3213, 'busfield': 3214, 'entertains': 3215, 'vivid': 3216, 'hardships': 3217, 'laughter': 3218, 'lasted': 3219, 'text': 3220, 'rack': 3221, 'embodies': 3222, 'opened': 3223, 'gangster': 3224, 'guilt': 3225, 'scarface': 3226, 'therapy': 3227, 'habit': 3228, 'pacino': 3229, 'bored': 3230, 'aging': 3231, 'parallel': 3232, 'relations': 3233, 'brink': 3234, 'jason': 3235, 'normally': 3236, 'subtleties': 3237, 'mix': 3238, 'monsters': 3239, 'deniro': 3240, 'murderer': 3241, 'factor': 3242, 'dentist': 3243, 'scheme': 3244, 'roman': 3245, 'stranger': 3246, 'contract': 3247, 'icon': 3248, 'sufficient': 3249, 'plans': 3250, 'stig': 3251, 'calling': 3252, 'lena': 3253, 'involve': 3254, 'accept': 3255, 'invited': 3256, 'pollak': 3257, 'composer': 3258, 'wonders': 3259, 'wealthy': 3260, 'gain': 3261, 'forth': 3262, 'stoic': 3263, 'introduction': 3264, 'mixture': 3265, 'enthusiasts': 3266, 'highlights': 3267, 'teri': 3268, 'hatcher': 3269, 'denis': 3270, 'transplant': 3271, 'interaction': 3272, 'strangely': 3273, 'grady': 3274, 'harp': 3275, 'furious': 3276, 'breakdown': 3277, 'mouth': 3278, 'cutting': 3279, 'explains': 3280, 'site': 3281, 'staying': 3282, 'contain': 3283, 'alexandre': 3284, 'whore': 3285, 'twinkle': 3286, 'tuned': 3287, 'capitalize': 3288, 'pining': 3289, 'peak': 3290, 'sublime': 3291, 'arkin': 3292, 'woody': 3293, 'mel': 3294, 'deals': 3295, 'ancient': 3296, 'prophecy': 3297, 'returns': 3298, 'aforementioned': 3299, 'unemployed': 3300, 'obscurity': 3301, 'forum': 3302, 'jonny': 3303, '36': 3304, 'narrated': 3305, 'wishes': 3306, 'performed': 3307, 'nod': 3308, 'opposed': 3309, 'mission': 3310, 'destined': 3311, 'snippets': 3312, 'annie': 3313, 'masterful': 3314, 'pecker': 3315, 'underground': 3316, 'slight': 3317, 'sold': 3318, 'roy': 3319, 'sub': 3320, 'ronnie': 3321, 'rose': 3322, 'painting': 3323, 'abraham': 3324, 'versa': 3325, 'official': 3326, 'silver': 3327, 'voiced': 3328, 'cloris': 3329, 'scope': 3330, 'relatively': 3331, 'admitted': 3332, 'switzerland': 3333, 'blonde': 3334, 'calls': 3335, 'marries': 3336, 'drunken': 3337, 'mistaken': 3338, 'button': 3339, 'community': 3340, 'pimlico': 3341, 'metschurat': 3342, 'coal': 3343, 'measure': 3344, 'stress': 3345, 'definitive': 3346, 'lasts': 3347, 'atlantic': 3348, 'dedicated': 3349, 'rise': 3350, 'mini': 3351, 'included': 3352, 'isaacs': 3353, '1969': 3354, 'interviewed': 3355, 'accounts': 3356, 'officers': 3357, 'necessarily': 3358, 'witnessing': 3359, 'remind': 3360, 'departure': 3361, 'stereotypes': 3362, 'establish': 3363, 'dehumanising': 3364, 'potentially': 3365, 'treated': 3366, 'trained': 3367, 'fathers': 3368, 'hammer': 3369, 'berlin': 3370, 'sally': 3371, 'dragged': 3372, 'represent': 3373, 'hiding': 3374, 'supermarket': 3375, 'concludes': 3376, 'consequences': 3377, 'possibility': 3378, 'lloyd': 3379, 'rooted': 3380, 'grabs': 3381, 'permanent': 3382, 'superbly': 3383, 'stylish': 3384, 'macmurray': 3385, 'carole': 3386, 'burlesque': 3387, 'stanwyck': 3388, 'swing': 3389, 'anna': 3390, 'butterfly': 3391, 'ness': 3392, 'ethnic': 3393, 'dolly': 3394, 'naive': 3395, 'potato': 3396, 'lists': 3397, 'synopsis': 3398, 'disappoint': 3399, 'troops': 3400, 'cookie': 3401, 'sympathy': 3402, 'practices': 3403, 'noticed': 3404, 'imagined': 3405, 'dig': 3406, 'immature': 3407, 'wisely': 3408, 'belongs': 3409, 'goofs': 3410, 'truck': 3411, '35': 3412, 'shell': 3413, 'extra': 3414, 'jumps': 3415, 'helicopter': 3416, 'crashing': 3417, 'frechette': 3418, 'bother': 3419, 'blue': 3420, 'tenant': 3421, 'winters': 3422, 'traditions': 3423, 'letter': 3424, 'founds': 3425, 'fits': 3426, 'palsy': 3427, 'darkness': 3428, 'collaboration': 3429, 'boxer': 3430, 'unnecessary': 3431, 'margaret': 3432, 'pen': 3433, 'pals': 3434, '1950': 3435, 'gags': 3436, 'robin': 3437, 'rival': 3438, 'fairy': 3439, 'chased': 3440, 'substantial': 3441, 'horses': 3442, 'tight': 3443, 'clothes': 3444, 'chico': 3445, 'exploits': 3446, 'attempting': 3447, 'desires': 3448, 'exists': 3449, 'nietzsche': 3450, 'elderly': 3451, 'drift': 3452, 'eternal': 3453, 'evolve': 3454, 'em': 3455, 'comprehension': 3456, 'specially': 3457, 'adams': 3458, 'suggested': 3459, 'newton': 3460, 'asian': 3461, 'offering': 3462, 'layered': 3463, 'surrounds': 3464, 'demon': 3465, 'shanao': 3466, 'handles': 3467, 'deadly': 3468, 'cgi': 3469, 'kels': 3470, 'shadow': 3471, 'lacking': 3472, 'irrelevant': 3473, 'lucky': 3474, 'hang': 3475, 'protect': 3476, 'merrill': 3477, 'planning': 3478, 'remained': 3479, 'rush': 3480, 'abilities': 3481, 'stunts': 3482, 'novice': 3483, 'hill': 3484, 'serving': 3485, 'fanatic': 3486, 'pretentious': 3487, 'enemy': 3488, 'pianists': 3489, 'wanting': 3490, 'worried': 3491, 'excerpts': 3492, 'computers': 3493, 'rachel': 3494, 'studios': 3495, 'disappointing': 3496, 'techno': 3497, 'web': 3498, 'token': 3499, 'pointing': 3500, 'reunion': 3501, 'mph': 3502, 'religious': 3503, 'immune': 3504, 'neill': 3505, 'satisfying': 3506, 'optimistic': 3507, 'concern': 3508, 'responsible': 3509, 'fortune': 3510, 'actions': 3511, 'parking': 3512, 'tickets': 3513, 'obsessive': 3514, 'facing': 3515, 'dwight': 3516, 'lying': 3517, 'trains': 3518, 'accents': 3519, 'filming': 3520, 'sides': 3521, 'existed': 3522, 'overlook': 3523, 'overdone': 3524, 'impeccable': 3525, 'clock': 3526, 'thrill': 3527, 'wartime': 3528, 'soulful': 3529, 'selfish': 3530, 'heiress': 3531, 'campaign': 3532, 'punch': 3533, 'bell': 3534, 'stadium': 3535, 'techniques': 3536, 'poster': 3537, 'tons': 3538, 'von': 3539, 'understatement': 3540, 'pushed': 3541, 'destruction': 3542, 'screened': 3543, 'trapped': 3544, 'triumph': 3545, 'accomplished': 3546, 'sabriye': 3547, 'confidence': 3548, 'profound': 3549, 'franco': 3550, 'prey': 3551, '007': 3552, 'entertain': 3553, 'criminal': 3554, 'tanks': 3555, 'hundreds': 3556, 'touches': 3557, 'mentality': 3558, 'flashbacks': 3559, 'hitting': 3560, 'cosimo': 3561, 'collinwood': 3562, 'brilliance': 3563, 'thieves': 3564, 'pants': 3565, 'discussion': 3566, 'passionate': 3567, 'instructor': 3568, 'spirited': 3569, 'pazu': 3570, 'floating': 3571, 'translated': 3572, 'legends': 3573, 'classmate': 3574, 'stuck': 3575, 'hide': 3576, 'surgical': 3577, 'operation': 3578, 'richards': 3579, 'inferior': 3580, 'understandable': 3581, 'bites': 3582, 'displayed': 3583, 'fat': 3584, 'subjected': 3585, 'detractors': 3586, 'rangi': 3587, 'noted': 3588, 'misfits': 3589, 'frustration': 3590, 'combat': 3591, 'bullying': 3592, 'obscure': 3593, 'wallah': 3594, 'edition': 3595, 'specifically': 3596, 'alec': 3597, 'belafonte': 3598, 'ross': 3599, 'psycho': 3600, 'shallow': 3601, 'martha': 3602, 'blank': 3603, 'inner': 3604, 'imaginable': 3605, 'rat': 3606, 'brisk': 3607, 'jacqueline': 3608, 'bartel': 3609, 'woronov': 3610, 'raoul': 3611, 'maggie': 3612, 'designs': 3613, 'sleazy': 3614, 'foremost': 3615, 'norman': 3616, 'craig': 3617, 'rebel': 3618, 'ashton': 3619, '1920s': 3620, 'crisp': 3621, 'followers': 3622, 'translation': 3623, 'artistry': 3624, 'currently': 3625, 'limited': 3626, 'diversity': 3627, 'collect': 3628, 'clad': 3629, 'brutality': 3630, 'traces': 3631, 'citizens': 3632, 'tur': 3633, 'francisca': 3634, 'prostitute': 3635, 'thread': 3636, 'devotion': 3637, 'pleasing': 3638, 'houses': 3639, 'flow': 3640, 'straightforward': 3641, 'rely': 3642, 'correct': 3643, 'photos': 3644, 'aggressive': 3645, 'evidence': 3646, 'arrested': 3647, 'laws': 3648, 'humans': 3649, 'realise': 3650, 'affects': 3651, 'morally': 3652, 'rubbish': 3653, 'advanced': 3654, 'ealing': 3655, 'wear': 3656, 'wears': 3657, 'demands': 3658, 'healthy': 3659, 'vivah': 3660, 'sensible': 3661, 'sooraj': 3662, 'barjatya': 3663, 'coolneß': 3664, 'soft': 3665, 'granted': 3666, 'emperor': 3667, 'palpatine': 3668, 'leia': 3669, 'buffs': 3670, 'conventional': 3671, 'madness': 3672, 'suitable': 3673, 'mobile': 3674, 'killers': 3675, 'despicable': 3676, 'grasshopper': 3677, 'couch': 3678, 'broke': 3679, 'mere': 3680, 'email': 3681, 'silent': 3682, 'paine': 3683, 'scalise': 3684, 'blame': 3685, 'dame': 3686, 'brazil': 3687, 'maria': 3688, 'prostitution': 3689, 'hopeless': 3690, 'driver': 3691, 'jeanie': 3692, 'candy': 3693, 'draw': 3694, 'realizes': 3695, 'caine': 3696, 'instant': 3697, 'elvis': 3698, 'burton': 3699, 'principal': 3700, 'infamous': 3701, 'judd': 3702, 'commented': 3703, 'geneva': 3704, 'cahill': 3705, 'struggling': 3706, 'segments': 3707, 'discussing': 3708, 'dialogs': 3709, 'femme': 3710, 'waking': 3711, 'charismatic': 3712, 'ho': 3713, 'leather': 3714, 'cliche': 3715, 'cream': 3716, 'photographed': 3717, 'australian': 3718, 'spirituality': 3719, 'spiritual': 3720, 'sell': 3721, 'delves': 3722, 'numerous': 3723, 'buttgereit': 3724, 'connected': 3725, 'angel': 3726, 'seventies': 3727, 'wo': 3728, 'bye': 3729, 'referred': 3730, 'harmless': 3731, 'content': 3732, 'enthralling': 3733, 'blaise': 3734, 'loy': 3735, 'achieving': 3736, 'servant': 3737, 'boman': 3738, 'irani': 3739, 'witches': 3740, 'radical': 3741, 'mol': 3742, 'icons': 3743, 'pornography': 3744, 'childlike': 3745, 'timeless': 3746, 'presentation': 3747, 'paxton': 3748, 'monkeys': 3749, 'willis': 3750, 'adapted': 3751, 'messed': 3752, 'warren': 3753, 'beatty': 3754, 'competent': 3755, 'niro': 3756, 'twin': 3757, 'jerk': 3758, 'shoes': 3759, 'toys': 3760, 'wrapping': 3761, 'chuckie': 3762, 'redmon': 3763, 'tales': 3764, 'excited': 3765, 'peoples': 3766, 'alongside': 3767, 'hedges': 3768, 'juliette': 3769, 'cleese': 3770, 'julie': 3771, 'carpenter': 3772, 'roller': 3773, 'coaster': 3774, 'anansa': 3775, 'omar': 3776, 'chess': 3777, 'executives': 3778, 'archer': 3779, 'farsi': 3780, 'walls': 3781, 'autobiographical': 3782, 'altman': 3783, 'birds': 3784, 'vibe': 3785, 'rocked': 3786, 'lesser': 3787, 'michel': 3788, 'tracking': 3789, 'amati': 3790, 'belief': 3791, 'suspend': 3792, 'iii': 3793, 'nostalgia': 3794, 'lindy': 3795, 'pride': 3796, 'duff': 3797, 'hauser': 3798, 'hbo': 3799, 'pedro': 3800, 'remarkably': 3801, 'urich': 3802, 'board': 3803, 'restraint': 3804, 'smells': 3805, 'flavor': 3806, 'twigs': 3807, 'buddies': 3808, 'tested': 3809, 'irene': 3810, 'sammi': 3811, 'delinquents': 3812, 'duo': 3813, 'valseuses': 3814, 'forties': 3815, 'pg': 3816, 'glacier': 3817, 'fritz': 3818, 'flaw': 3819, 'mccomb': 3820, 'kriemhild': 3821, 'hagen': 3822, 'distribution': 3823, 'tetsuo': 3824, 'bhandarkar': 3825, 'sharma': 3826, 'troopers': 3827, 'pilots': 3828, 'quick': 3829, 'draft': 3830, 'blah': 3831, 'shimizu': 3832, 'mckay': 3833, 'treize': 3834, '73': 3835, 'prisoners': 3836, 'belle': 3837, 'ferrari': 3838, 'simba': 3839, 'funney': 3840, 'norwegian': 3841, 'blindpassasjer': 3842, 'bringsværd': 3843, 'adopted': 3844, 'literature': 3845, 'sgt': 3846, 'cristina': 3847, 'unstable': 3848, 'suicides': 3849, 'modeling': 3850, 'deborah': 3851, 'pal': 3852, 'inhabited': 3853, 'priest': 3854, 'sylvia': 3855, 'diabolical': 3856, 'rosemary': 3857, 'thoughtfully': 3858, 'einstein': 3859, 'waited': 3860, 'retrieve': 3861, 'occupied': 3862, 'rollicking': 3863, 'fifth': 3864, 'erica': 3865, 'axis': 3866, 'smuggling': 3867, 'bets': 3868, 'boiled': 3869, 'meal': 3870, 'exotic': 3871, 'creep': 3872, 'erupting': 3873, 'dilly': 3874, 'disgusting': 3875, 'dolman': 3876, 'savvy': 3877, 'stakes': 3878, 'consumed': 3879, 'stomach': 3880, 'dilemmas': 3881, 'proxy': 3882, 'global': 3883, 'canceled': 3884, 'omg': 3885, 'steven': 3886, 'pregnancy': 3887, 'spring': 3888, 'hefty': 3889, 'seven': 3890, 'innovation': 3891, 'bike': 3892, 'backgrounds': 3893, 'cultures': 3894, 'maker': 3895, 'quartet': 3896, 'trio': 3897, 'vicar': 3898, 'hordern': 3899, 'harrison': 3900, 'fancies': 3901, 'chain': 3902, 'stores': 3903, 'prosperous': 3904, 'felix': 3905, 'kelada': 3906, 'nigel': 3907, 'grey': 3908, 'wilfred': 3909, 'hyde': 3910, 'disapproving': 3911, '1935': 3912, 'longest': 3913, 'culver': 3914, 'finlay': 3915, 'irascible': 3916, 'scotsman': 3917, 'raymond': 3918, 'rennie': 3919, 'threatening': 3920, 'watches': 3921, 'conclusions': 3922, 'seth': 3923, 'directorial': 3924, 'classics': 3925, 'vixen': 3926, 'valley': 3927, 'gavin': 3928, 'robust': 3929, 'fish': 3930, 'grimy': 3931, 'steamy': 3932, 'inmates': 3933, 'longtime': 3934, 'roberta': 3935, 'rollers': 3936, 'raunchy': 3937, 'kleptomaniac': 3938, 'felon': 3939, 'cheryl': 3940, 'rainbeaux': 3941, 'ample': 3942, 'lurid': 3943, 'exploit': 3944, 'asserts': 3945, 'pro': 3946, 'feminist': 3947, 'obstacles': 3948, 'band': 3949, 'astutely': 3950, 'observed': 3951, 'incidental': 3952, 'engagingly': 3953, 'furthermore': 3954, 'tak': 3955, 'fujimoto': 3956, 'vibrant': 3957, 'wright': 3958, 'uproariously': 3959, 'online': 3960, 'photographer': 3961, 'pursues': 3962, 'breathe': 3963, 'painful': 3964, 'duvall': 3965, 'significance': 3966, '1979': 3967, 'testament': 3968, '1993': 3969, 'glover': 3970, 'expanded': 3971, 'broader': 3972, 'buster': 3973, 'smash': 3974, 'cheers': 3975, 'portion': 3976, 'romp': 3977, 'cheech': 3978, 'laundry': 3979, 'coke': 3980, 'coherent': 3981, 'plausible': 3982, 'smoke': 3983, 'notable': 3984, 'sober': 3985, 'villains': 3986, 'introduce': 3987, 'carton': 3988, 'critic': 3989, 'jared': 3990, 'mannerisms': 3991, 'credible': 3992, 'hearing': 3993, 'rolls': 3994, 'explosions': 3995, 'satellite': 3996, '1976': 3997, 'miserable': 3998, 'bearing': 3999, 'bones': 4000, 'jock': 4001, 'correctness': 4002, 'trade': 4003, 'wacky': 4004, 'kendall': 4005, 'helpful': 4006, 'decorated': 4007, 'inappropriately': 4008, 'carnage': 4009, 'reaction': 4010, 'parolini': 4011, 'spaghetti': 4012, '1960': 4013, 'chances': 4014, 'aimed': 4015, 'abandon': 4016, 'renders': 4017, 'errors': 4018, 'inconsistencies': 4019, 'meaningless': 4020, 'curse': 4021, 'improbable': 4022, 'tossed': 4023, 'cheezy': 4024, 'preserved': 4025, 'raft': 4026, 'bowery': 4027, '1863': 4028, 'fictionalized': 4029, 'argument': 4030, '1886': 4031, 'wray': 4032, 'talkies': 4033, 'spirits': 4034, 'anakin': 4035, 'sith': 4036, 'reckon': 4037, 'lol': 4038, 'views': 4039, 'skank': 4040, 'meadows': 4041, 'leon': 4042, 'models': 4043, 'taught': 4044, 'romero': 4045, 'instantly': 4046, 'afford': 4047, 'skeptical': 4048, 'rewarded': 4049, 'sincere': 4050, 'amateurs': 4051, 'oakland': 4052, 'experimental': 4053, 'mayhem': 4054, 'enemies': 4055, 'arise': 4056, 'bite': 4057, 'proves': 4058, 'jaguar': 4059, 'mercenary': 4060, 'separate': 4061, 'drinks': 4062, 'battlestar': 4063, 'galactica': 4064, 'astonishing': 4065, 'intriguing': 4066, 'influenced': 4067, 'robots': 4068, 'humanoid': 4069, 'hoechlin': 4070, 'wheel': 4071, 'basis': 4072, 'bold': 4073, 'rooney': 4074, 'safe': 4075, 'conrad': 4076, 'windshield': 4077, 'dollys': 4078, 'awakening': 4079, 'trucks': 4080, 'scenic': 4081, '1999': 4082, 'misses': 4083, 'gangs': 4084, 'confident': 4085, 'toned': 4086, 'hugo': 4087, 'speers': 4088, 'muscles': 4089, 'sigh': 4090, 'stole': 4091, 'shirt': 4092, 'evaluation': 4093, 'brainless': 4094, 'wash': 4095, 'winchester': 4096, 'battles': 4097, 'wire': 4098, 'trigger': 4099, 'chief': 4100, 'fought': 4101, 'rocky': 4102, 'shootouts': 4103, 'melodrama': 4104, 'chilling': 4105, 'bloodshed': 4106, 'casted': 4107, 'grease': 4108, 'travolta': 4109, 'pig': 4110, 'bull': 4111, 'manhood': 4112, 'wreck': 4113, 'infinitely': 4114, 'vcd': 4115, 'indie': 4116, 'commitment': 4117, 'retribution': 4118, 'shaky': 4119, 'neglected': 4120, 'cries': 4121, 'bella': 4122, 'apocalypse': 4123, 'evolution': 4124, 'eyre': 4125, 'dalton': 4126, 'clarke': 4127, 'enchanted': 4128, 'glance': 4129, 'comparisons': 4130, 'posh': 4131, 'rub': 4132, 'underbelly': 4133, 'fists': 4134, 'breathing': 4135, 'wrongly': 4136, 'complaint': 4137, 'polished': 4138, 'entry': 4139, 'dawson': 4140, 'deliberate': 4141, 'pacing': 4142, 'hokey': 4143, 'georges': 4144, 'edgar': 4145, 'sits': 4146, 'interview': 4147, 'incredulous': 4148, 'pounds': 4149, 'pound': 4150, 'mask': 4151, 'restrained': 4152, 'badly': 4153, 'pan': 4154, 'ricci': 4155, '11': 4156, '1959': 4157, 'schemes': 4158, 'jfk': 4159, 'prosecutor': 4160, 'schizophreniac': 4161, 'aggravated': 4162, 'addict': 4163, 'scumbag': 4164, 'insanity': 4165, 'demonic': 4166, 'atkins': 4167, '2nd': 4168, 'horrific': 4169, 'advised': 4170, 'biased': 4171, 'ranks': 4172, 'volumes': 4173, 'pleased': 4174, 'deceased': 4175, '23': 4176, 'sport': 4177, 'emphasis': 4178, 'spots': 4179, 'surf': 4180, 'appearances': 4181, 'swim': 4182, 'surviving': 4183, 'riders': 4184, 'comparable': 4185, 'ken': 4186, 'log': 4187, 'cabins': 4188, 'mardi': 4189, 'gras': 4190, 'funeral': 4191, 'discovering': 4192, 'progresses': 4193, 'cells': 4194, 'silenced': 4195, 'relying': 4196, 'cleverly': 4197, 'startling': 4198, 'enjoys': 4199, 'foundation': 4200, 'appealing': 4201, 'challenges': 4202, 'programs': 4203, 'tall': 4204, 'grass': 4205, 'kip': 4206, 'thief': 4207, 'objective': 4208, 'nicolas': 4209, 'retired': 4210, 'routine': 4211, 'angelina': 4212, 'downsides': 4213, 'unrealistic': 4214, 'tools': 4215, 'boost': 4216, 'mm': 4217, 'spaceship': 4218, 'lands': 4219, 'terrifying': 4220, 'robbie': 4221, 'appearing': 4222, 'embarrassingly': 4223, 'vanessa': 4224, 'susan': 4225, 'sentimentality': 4226, 'involvement': 4227, 'pairs': 4228, 'dancy': 4229, 'platform': 4230, 'connections': 4231, 'soap': 4232, 'selfless': 4233, 'triangle': 4234, 'symphony': 4235, 'discovery': 4236, 'admission': 4237, 'raises': 4238, 'tiempo': 4239, 'valientes': 4240, 'admiration': 4241, 'limits': 4242, 'innovations': 4243, 'argentina': 4244, 'del': 4245, 'trapero': 4246, 'caliber': 4247, 'luque': 4248, 'cheats': 4249, 'disposition': 4250, 'demonstrates': 4251, 'dinner': 4252, 'smokes': 4253, 'pot': 4254, 'screwed': 4255, 'arab': 4256, 'passions': 4257, 'diviner': 4258, 'allah': 4259, 'basil': 4260, 'rathbone': 4261, 'honorable': 4262, 'officer': 4263, 'brandon': 4264, 'shoulder': 4265, 'technicolor': 4266, 'arizona': 4267, 'rushes': 4268, 'nyc': 4269, 'theirs': 4270, 'wells': 4271, 'invade': 4272, 'accomplishment': 4273, 'meager': 4274, 'akshay': 4275, 'khanna': 4276, 'anil': 4277, 'producing': 4278, 'classy': 4279, 'senseless': 4280, 'overwhelming': 4281, 'display': 4282, 'taxidermy': 4283, 'rabbit': 4284, 'wits': 4285, 'bottle': 4286, 'invisible': 4287, 'occur': 4288, 'torment': 4289, 'streak': 4290, 'milk': 4291, 'damage': 4292, 'thirds': 4293, 'located': 4294, 'flour': 4295, 'morals': 4296, 'sarcasm': 4297, 'glowing': 4298, 'activist': 4299, 'fourth': 4300, 'pregnant': 4301, 'liberal': 4302, 'vote': 4303, 'closely': 4304, 'leisen': 4305, 'versatility': 4306, 'cameo': 4307, 'widescreen': 4308, 'ala': 4309, 'spark': 4310, 'minimal': 4311, 'bosses': 4312, 'peers': 4313, 'allowing': 4314, 'gillian': 4315, 'lawrence': 4316, 'huston': 4317, 'megan': 4318, 'allison': 4319, 'root': 4320, 'skip': 4321, '1940s': 4322, 'terribly': 4323, 'peace': 4324, 'sour': 4325, 'afternoon': 4326, 'upbeat': 4327, 'tommy': 4328, 'learned': 4329, 'crying': 4330, 'threw': 4331, 'acid': 4332, 'blissfully': 4333, 'ugly': 4334, 'backing': 4335, 'owns': 4336, 'paramount': 4337, 'farm': 4338, 'diane': 4339, 'conviction': 4340, 'gladiator': 4341, 'fanning': 4342, 'ellen': 4343, 'burstyn': 4344, 'emmy': 4345, 'illusion': 4346, 'psychologist': 4347, 'pursue': 4348, 'victims': 4349, 'drawback': 4350, 'consistency': 4351, 'dylan': 4352, 'mcdermott': 4353, 'mentor': 4354, 'spacey': 4355, 'homicidal': 4356, 'cheesiness': 4357, 'ideal': 4358, 'conditions': 4359, 'hostage': 4360, 'gibson': 4361, 'believing': 4362, 'rejection': 4363, 'gains': 4364, 'responses': 4365, 'wagner': 4366, 'coburn': 4367, 'engrossing': 4368, 'karen': 4369, 'whimsical': 4370, 'ontario': 4371, 'limitations': 4372, 'bumble': 4373, 'playful': 4374, 'meat': 4375, 'dvr': 4376, 'digital': 4377, 'recorder': 4378, 'hook': 4379, 'sinker': 4380, 'bauer': 4381, 'hooked': 4382, 'dollars': 4383, 'unnerving': 4384, 'unsettling': 4385, 'loud': 4386, 'trek': 4387, 'freaky': 4388, 'transported': 4389, 'mccoy': 4390, 'charged': 4391, 'witchcraft': 4392, 'royal': 4393, 'ton': 4394, 'taste': 4395, 'desperation': 4396, 'jam': 4397, 'choreographed': 4398, 'fest': 4399, 'regretfully': 4400, 'entertained': 4401, 'geared': 4402, 'inspirational': 4403, 'quest': 4404, 'aged': 4405, 'quintessential': 4406, 'crude': 4407, 'friendships': 4408, 'rolling': 4409, 'seats': 4410, 'vulgar': 4411, 'fairytale': 4412, 'handle': 4413, 'kinds': 4414, 'randy': 4415, 'eroticism': 4416, 'defining': 4417, 'shockingly': 4418, 'lust': 4419, 'criticise': 4420, 'upper': 4421, 'requiring': 4422, 'pony': 4423, 'properly': 4424, 'hank': 4425, 'wanda': 4426, 'executions': 4427, 'protagonists': 4428, 'justifies': 4429, 'poverty': 4430, 'redeeming': 4431, 'meloni': 4432, 'janel': 4433, 'leone': 4434, 'cracking': 4435, 'court': 4436, 'courtroom': 4437, 'historically': 4438, 'frontier': 4439, 'camaraderie': 4440, 'session': 4441, 'packed': 4442, 'winkler': 4443, 'wrestling': 4444, 'trademark': 4445, 'intellect': 4446, 'absurdity': 4447, 'minimum': 4448, 'superficial': 4449, 'fuel': 4450, 'excess': 4451, 'gangsta': 4452, 'positively': 4453, 'lifestyle': 4454, 'corleone': 4455, 'pfeiffer': 4456, 'uncomfortable': 4457, 'unfairly': 4458, 'suave': 4459, 'controversial': 4460, 'accessible': 4461, 'landmark': 4462, 'changing': 4463, 'prophet': 4464, 'dry': 4465, 'subconscious': 4466, 'acceptance': 4467, 'heroin': 4468, 'border': 4469, 'shades': 4470, 'rebellious': 4471, 'tearjerker': 4472, 'vanishing': 4473, 'meteor': 4474, 'drops': 4475, 'crater': 4476, 'locals': 4477, 'rendered': 4478, 'screening': 4479, 'suspension': 4480, 'magician': 4481, 'brief': 4482, 'cagney': 4483, 'doris': 4484, 'gordon': 4485, 'enlisted': 4486, 'hagerthy': 4487, 'gimmick': 4488, 'ohio': 4489, 'louella': 4490, 'column': 4491, 'bases': 4492, 'ballad': 4493, 'yup': 4494, 'margheriti': 4495, 'danza': 4496, 'macabra': 4497, '1964': 4498, 'sergio': 4499, '1966': 4500, 'encounters': 4501, 'gloomy': 4502, 'eve': 4503, 'uncanny': 4504, 'margarete': 4505, 'orchestra': 4506, 'arrives': 4507, 'impression': 4508, 'supplies': 4509, 'motley': 4510, 'battered': 4511, 'tormented': 4512, 'pornographic': 4513, 'siv': 4514, 'firing': 4515, 'fallen': 4516, 'nilsson': 4517, 'capturing': 4518, 'blend': 4519, 'activities': 4520, 'tutor': 4521, 'competing': 4522, 'soccer': 4523, 'antiques': 4524, 'confrontation': 4525, 'nostalgic': 4526, 'facial': 4527, 'traits': 4528, 'legend': 4529, 'satisfy': 4530, 'comers': 4531, 'campbell': 4532, 'continuation': 4533, 'marvel': 4534, 'ostensibly': 4535, 'framework': 4536, 'linear': 4537, 'threatens': 4538, 'product': 4539, 'paranoid': 4540, 'anniversary': 4541, 'slut': 4542, 'queen': 4543, 'corbin': 4544, 'bernsen': 4545, 'recommendations': 4546, 'nights': 4547, 'bum': 4548, 'retail': 4549, 'cafés': 4550, 'nymph': 4551, 'sordid': 4552, 'struggles': 4553, 'et': 4554, 'lebrun': 4555, 'disjointed': 4556, 'passing': 4557, 'emile': 4558, 'romances': 4559, 'shepherd': 4560, 'widow': 4561, 'bounds': 4562, 'downey': 4563, 'user': 4564, 'phoned': 4565, 'helena': 4566, 'natured': 4567, 'gleefully': 4568, 'ruled': 4569, 'switched': 4570, 'professor': 4571, 'igor': 4572, 'happily': 4573, 'fearless': 4574, 'disguised': 4575, 'angela': 4576, 'virginal': 4577, 'hapless': 4578, 'creator': 4579, 'bello': 4580, 'singular': 4581, 'dropped': 4582, 'budgeted': 4583, 'repeat': 4584, 'vocal': 4585, 'factual': 4586, 'wink': 4587, 'inherent': 4588, 'mankiewicz': 4589, 'adele': 4590, 'gambler': 4591, 'worker': 4592, 'charms': 4593, 'gangsters': 4594, 'dancers': 4595, 'excellently': 4596, 'method': 4597, 'humiliating': 4598, 'befriends': 4599, 'ratso': 4600, 'dustin': 4601, 'condemned': 4602, 'inter': 4603, 'salt': 4604, 'abandonment': 4605, 'grandmother': 4606, 'hustling': 4607, 'pessimism': 4608, 'dominates': 4609, 'kitchen': 4610, 'hopes': 4611, 'amidst': 4612, 'elusive': 4613, 'dignified': 4614, 'implied': 4615, 'hug': 4616, 'polyester': 4617, 'amateurish': 4618, 'risqué': 4619, '1931': 4620, 'prime': 4621, 'dynamics': 4622, 'siegfried': 4623, 'spitting': 4624, 'broadcasts': 4625, 'btw': 4626, 'coma': 4627, 'killings': 4628, 'ghibli': 4629, 'imaginary': 4630, 'pirates': 4631, 'dola': 4632, 'pirate': 4633, 'shaped': 4634, 'vast': 4635, 'dire': 4636, 'prefer': 4637, 'popping': 4638, 'sail': 4639, 'oddly': 4640, 'brady': 4641, 'digging': 4642, 'milland': 4643, 'crush': 4644, 'deanna': 4645, 'charmer': 4646, 'penny': 4647, 'ww2': 4648, 'bomb': 4649, 'bleibtreu': 4650, 'shoulders': 4651, 'invention': 4652, 'labor': 4653, 'giancarlo': 4654, 'neutral': 4655, 'tensions': 4656, 'resulting': 4657, 'akin': 4658, 'turkey': 4659, 'lends': 4660, 'credibility': 4661, 'icing': 4662, 'cake': 4663, 'cons': 4664, 'joxs': 4665, 'dangers': 4666, 'engineering': 4667, 'robot': 4668, 'fools': 4669, 'min': 4670, 'wake': 4671, 'soviet': 4672, 'holocaust': 4673, '1939': 4674, 'jeremy': 4675, 'allied': 4676, 'sweeney': 4677, 'historian': 4678, 'himmler': 4679, 'programmes': 4680, '2000': 4681, 'remaining': 4682, 'govind': 4683, 'nihalani': 4684, 'banners': 4685, 'bollywood': 4686, 'conscience': 4687, 'inspector': 4688, 'alcoholic': 4689, 'conveyed': 4690, 'adjust': 4691, 'par': 4692, 'dealers': 4693, 'assertion': 4694, 'independence': 4695, 'sticking': 4696, 'provokes': 4697, 'usage': 4698, 'colour': 4699, 'commended': 4700, 'owen': 4701, 'alik': 4702, 'shahadah': 4703, 'venture': 4704, '500': 4705, 'tigerland': 4706, 'template': 4707, 'dirt': 4708, 'judgement': 4709, 'reserved': 4710, 'merits': 4711, 'cocky': 4712, 'jacket': 4713, 'originality': 4714, 'sailors': 4715, 'towns': 4716, 'extremes': 4717, 'guardian': 4718, 'types': 4719, 'occult': 4720, 'potter': 4721, 'horizon': 4722, 'fulfillment': 4723, 'roots': 4724, 'perceived': 4725, 'scar': 4726, 'blades': 4727, 'handed': 4728, 'divine': 4729, 'uncertain': 4730, 'valerie': 4731, 'adoption': 4732, 'vacation': 4733, 'orphanage': 4734, 'nielsen': 4735, 'dealer': 4736, 'deserve': 4737, 'guaranteed': 4738, 'melting': 4739, 'cock': 4740, 'tremendously': 4741, 'matador': 4742, 'specializes': 4743, 'corporate': 4744, 'dudes': 4745, 'stumbles': 4746, 'kinnear': 4747, 'chalk': 4748, 'apologize': 4749, 'ultimate': 4750, 'overtly': 4751, 'blushy': 4752, 'birthday': 4753, 'reaches': 4754, 'normalcy': 4755, 'fred': 4756, 'table': 4757, 'adaption': 4758, 'originated': 4759, 'carroll': 4760, 'betty': 4761, 'smiles': 4762, 'album': 4763, 'keeler': 4764, 'lux': 4765, 'chestnut': 4766, 'dorothy': 4767, 'quinn': 4768, 'ronald': 4769, 'coleman': 4770, 'ear': 4771, 'victorian': 4772, 'chat': 4773, 'tatou': 4774, 'apt': 4775, 'le': 4776, 'theory': 4777, 'annoyingly': 4778, 'hostess': 4779, 'patty': 4780, 'elvira': 4781, 'chips': 4782, 'hills': 4783, 'trial': 4784, 'distract': 4785, 'climb': 4786, 'chagrin': 4787, 'powerfully': 4788, 'whoopi': 4789, 'naturalistic': 4790, 'suburbia': 4791, 'peer': 4792, 'shrink': 4793, 'graduation': 4794, 'challenged': 4795, 'thrills': 4796, 'shia': 4797, 'guarantee': 4798, 'depicts': 4799, 'kansas': 4800, 'chooses': 4801, 'unravel': 4802, 'breaks': 4803, 'confronted': 4804, 'proof': 4805, 'reversed': 4806, 'reveal': 4807, 'formatted': 4808, 'franz': 4809, 'shower': 4810, 'dickinson': 4811, 'bodies': 4812, 'flawlessly': 4813, 'interpreted': 4814, 'performers': 4815, 'dynamically': 4816, 'consists': 4817, 'bonaparte': 4818, 'jumping': 4819, 'insightful': 4820, 'awed': 4821, 'kudos': 4822, '16': 4823, 'halprin': 4824, 'improves': 4825, 'riot': 4826, 'ratio': 4827, 'paranoia': 4828, 'repulsion': 4829, 'unease': 4830, 'discrimination': 4831, 'sake': 4832, 'heap': 4833, 'wu': 4834, 'jiang': 4835, 'centers': 4836, 'mentally': 4837, 'zhang': 4838, 'flare': 4839, 'persons': 4840, 'equilibrium': 4841, 'poetry': 4842, 'innocence': 4843, 'wins': 4844, 'walters': 4845, 'encouraged': 4846, 'clinical': 4847, 'fluff': 4848, 'assembled': 4849, 'deciding': 4850, 'replay': 4851, 'heartbreaking': 4852, 'remo': 4853, 'figured': 4854, 'beastiality': 4855, 'duchess': 4856, 'humping': 4857, 'closed': 4858, 'beats': 4859, '22': 4860, 'fourteen': 4861, 'philosopher': 4862, 'mush': 4863, 'materialism': 4864, 'philosophy': 4865, 'adolf': 4866, 'serves': 4867, 'handy': 4868, 'arguably': 4869, 'michigan': 4870, 'seaver': 4871, 'stylized': 4872, 'composition': 4873, 'wanders': 4874, 'matters': 4875, 'naff': 4876, 'attacked': 4877, 'props': 4878, 'walter': 4879, 'row': 4880, 'crimes': 4881, 'widely': 4882, 'affairs': 4883, 'gojoe': 4884, 'warrior': 4885, 'seeks': 4886, 'illusions': 4887, 'hampered': 4888, 'fundamentally': 4889, 'sedate': 4890, 'sink': 4891, 'savagery': 4892, 'strictly': 4893, 'objects': 4894, 'swordplay': 4895, 'generic': 4896, 'buried': 4897, 'monks': 4898, 'scotland': 4899, 'mythology': 4900, 'consistently': 4901, 'celtic': 4902, 'invasion': 4903, 'inaccurate': 4904, 'utterly': 4905, 'videos': 4906, 'exceptionally': 4907, 'brains': 4908, 'investigating': 4909, 'excessive': 4910, 'blair': 4911, 'stunt': 4912, 'damon': 4913, 'organization': 4914, 'likely': 4915, 'kicking': 4916, 'crushing': 4917, 'kung': 4918, 'fu': 4919, 'mainland': 4920, 'rumble': 4921, 'bronx': 4922, 'frantically': 4923, 'trick': 4924, 'discuss': 4925, 'wires': 4926, 'trickery': 4927, 'pulsating': 4928, 'unsure': 4929, 'homerun': 4930, 'bosox': 4931, 'endure': 4932, 'fortunes': 4933, 'slipped': 4934, 'jose': 4935, 'arrival': 4936, '1942': 4937, 'pianist': 4938, 'mgm': 4939, 'columbia': 4940, 'delivered': 4941, 'lecturing': 4942, 'drop': 4943, 'connects': 4944, 'coach': 4945, 'teenagers': 4946, 'mcadams': 4947, 'cillian': 4948, 'marco': 4949, 'beltrami': 4950, 'orchestral': 4951, 'titles': 4952, 'anytime': 4953, 'challenger': 4954, 'engine': 4955, 'highway': 4956, 'dam': 4957, 'bigotry': 4958, 'discover': 4959, 'thrive': 4960, 'globe': 4961, 'aussie': 4962, 'bug': 4963, 'frustrating': 4964, 'lynch': 4965, 'partially': 4966, 'tasty': 4967, 'optimism': 4968, 'generated': 4969, 'cancellation': 4970, 'hawaiian': 4971, 'customer': 4972, 'service': 4973, 'rep': 4974, 'jamie': 4975, 'asleep': 4976, 'access': 4977, 'cassel': 4978, 'coolest': 4979, 'schotland': 4980, 'scottish': 4981, 'fields': 4982, 'eating': 4983, 'continuity': 4984, 'blowing': 4985, 'factors': 4986, 'hickory': 4987, 'dickory': 4988, 'dock': 4989, 'confess': 4990, 'solution': 4991, 'rushed': 4992, 'buckle': 4993, 'shoe': 4994, 'nightmares': 4995, 'pauline': 4996, 'disaster': 4997, '1996': 4998, 'debates': 4999, 'campus': 5000, 'scarlett': 5001, 'strangers': 5002, 'betrayal': 5003, 'petrified': 5004, 'humphrey': 5005, 'bogart': 5006, 'painter': 5007, 'concentrate': 5008, 'esteem': 5009, 'cockney': 5010, 'waitress': 5011, 'ironically': 5012, 'frances': 5013, 'reginald': 5014, 'denny': 5015, 'cared': 5016, 'olivia': 5017, 'spoiled': 5018, 'disgusted': 5019, 'kissing': 5020, 'rejects': 5021, 'boyfriend': 5022, 'equal': 5023, 'suspicious': 5024, 'astonished': 5025, 'claim': 5026, 'xenophobia': 5027, 'ignorance': 5028, 'convicted': 5029, 'iran': 5030, 'spared': 5031, 'encouraging': 5032, 'heroic': 5033, 'risk': 5034, 'instance': 5035, 'split': 5036, 'ups': 5037, 'coupled': 5038, 'spray': 5039, 'convey': 5040, 'trier': 5041, 'riget': 5042, 'absurd': 5043, 'backdrop': 5044, 'maintain': 5045, 'oblivious': 5046, 'askey': 5047, 'genuine': 5048, 'hat': 5049, 'televised': 5050, 'sat': 5051, 'slows': 5052, 'outer': 5053, 'tibetan': 5054, 'climber': 5055, 'disagree': 5056, 'respective': 5057, 'addiction': 5058, '64': 5059, 'courses': 5060, 'nintendo': 5061, 'rescue': 5062, 'object': 5063, 'boo': 5064, 'peaceful': 5065, 'worlds': 5066, 'uplifting': 5067, 'platoon': 5068, 'feudal': 5069, 'trippy': 5070, 'medieval': 5071, 'undoubtedly': 5072, 'extension': 5073, 'equipped': 5074, 'samurais': 5075, 'spans': 5076, 'mish': 5077, 'mash': 5078, 'grenades': 5079, 'jidai': 5080, 'geki': 5081, 'westerns': 5082, 'benefits': 5083, 'clocks': 5084, 'flies': 5085, 'bullet': 5086, 'notes': 5087, 'patricia': 5088, 'clarkson': 5089, 'vault': 5090, 'riley': 5091, 'heroes': 5092, 'survived': 5093, 'busy': 5094, 'erika': 5095, 'reactions': 5096, 'jerker': 5097, 'piano': 5098, 'strikes': 5099, 'blossoms': 5100, 'hayao': 5101, 'comparing': 5102, 'unfair': 5103, 'der': 5104, 'beek': 5105, 'paquin': 5106, 'irresistible': 5107, 'ruins': 5108, 'valentine': 5109, 'secondary': 5110, 'arrow': 5111, 'denise': 5112, 'valentines': 5113, 'confidential': 5114, 'unseen': 5115, 'labyrinth': 5116, 'shorts': 5117, 'listening': 5118, 'vacuum': 5119, 'vague': 5120, 'shall': 5121, 'touchingly': 5122, 'koji': 5123, 'stilted': 5124, 'eastern': 5125, 'condors': 5126, 'outing': 5127, 'compassionate': 5128, 'serve': 5129, 'insure': 5130, 'clashes': 5131, 'escalates': 5132, 'opponents': 5133, 'height': 5134, 'shetty': 5135, 'praised': 5136, 'sitcoms': 5137, 'neighbour': 5138, 'ain': 5139, 'blacked': 5140, 'spoke': 5141, 'bearer': 5142, 'upset': 5143, 'replaced': 5144, 'bombadier': 5145, 'layton': 5146, 'gloria': 5147, 'diminutive': 5148, 'lofty': 5149, 'graham': 5150, 'parkins': 5151, 'davies': 5152, 'poofs': 5153, 'colonel': 5154, 'char': 5155, 'shafeek': 5156, 'rope': 5157, 'derek': 5158, 'topped': 5159, 'quietly': 5160, 'repeats': 5161, 'lean': 5162, 'oscars': 5163, 'derived': 5164, 'truthful': 5165, 'artistically': 5166, 'todd': 5167, 'viewings': 5168, 'logic': 5169, 'flawed': 5170, 'marvellous': 5171, 'miracle': 5172, 'collide': 5173, 'feather': 5174, 'allowed': 5175, 'floats': 5176, 'advocate': 5177, 'bipolar': 5178, 'labeled': 5179, 'critique': 5180, 'conflicts': 5181, 'adequate': 5182, 'medication': 5183, 'crazier': 5184, 'county': 5185, 'shotgun': 5186, 'thrillers': 5187, 'identification': 5188, 'pits': 5189, 'gentleman': 5190, 'shape': 5191, 'sounding': 5192, 'preoccupation': 5193, 'spouting': 5194, 'slang': 5195, 'proudly': 5196, 'sticks': 5197, 'identify': 5198, 'aristocrat': 5199, 'attached': 5200, 'sheep': 5201, 'spunk': 5202, 'tedious': 5203, 'catching': 5204, 'boning': 5205, 'promise': 5206, 'treasured': 5207, 'hoot': 5208, 'beverley': 5209, 'preparing': 5210, 'poses': 5211, 'deft': 5212, 'newhart': 5213, 'malden': 5214, 'satisfyingly': 5215, 'womanising': 5216, 'classmates': 5217, 'youths': 5218, 'austin': 5219, 'achieve': 5220, 'redford': 5221, 'sheffer': 5222, 'skerritt': 5223, 'rebellion': 5224, 'emily': 5225, 'indoor': 5226, 'jo': 5227, 'topher': 5228, 'moore': 5229, 'bonnie': 5230, 'terry': 5231, 'dom': 5232, 'approached': 5233, 'longed': 5234, 'vaulted': 5235, 'jesus': 5236, 'lengthy': 5237, '1990s': 5238, 'firstly': 5239, 'secondly': 5240, 'acquired': 5241, 'melancholy': 5242, 'cd': 5243, 'z': 5244, 'scenarios': 5245, 'locale': 5246, 'astounded': 5247, 'villaronga': 5248, 'wrecks': 5249, 'spain': 5250, 'moreno': 5251, 'protected': 5252, 'morell': 5253, 'bruno': 5254, 'bergonzini': 5255, 'mutilation': 5256, 'antònia': 5257, 'torrens': 5258, 'bravery': 5259, 'splendid': 5260, 'inordinately': 5261, 'horrors': 5262, 'hardcastle': 5263, 'mccormick': 5264, 'closest': 5265, '1990': 5266, 'corpse': 5267, 'lavish': 5268, 'jealousies': 5269, 'sustaining': 5270, 'explaining': 5271, 'useful': 5272, 'rioting': 5273, 'clothing': 5274, 'aparthied': 5275, 'schools': 5276, 'jewel': 5277, 'harder': 5278, 'cases': 5279, 'bloke': 5280, 'cuthbert': 5281, 'departs': 5282, 'plague': 5283, 'gail': 5284, 'buffy': 5285, 'miserably': 5286, 'commit': 5287, 'files': 5288, 'unanswered': 5289, 'imo': 5290, 'bread': 5291, 'pantasia': 5292, 'bakers': 5293, 'pierre': 5294, 'cook': 5295, 'resolution': 5296, 'beep': 5297, 'thankful': 5298, 'hype': 5299, 'unions': 5300, 'rights': 5301, 'discussed': 5302, 'revolutionary': 5303, 'fabric': 5304, 'defeat': 5305, 'stratton': 5306, 'irritating': 5307, '81': 5308, 'route': 5309, 'homework': 5310, 'rao': 5311, 'contact': 5312, 'alok': 5313, 'nath': 5314, 'niece': 5315, 'khan': 5316, 'gettysburg': 5317, 'discipline': 5318, 'fascinated': 5319, 'lessons': 5320, 'june': 5321, 'graduate': 5322, 'lon': 5323, 'trail': 5324, 'harper': 5325, 'ferry': 5326, 'gespenster': 5327, 'herbert': 5328, 'suite': 5329, 'distance': 5330, 'klein': 5331, 'commenter': 5332, 'ewoks': 5333, 'primitive': 5334, 'ian': 5335, 'rogers': 5336, 'jabba': 5337, 'overtones': 5338, 'tisserand': 5339, 'demeaning': 5340, 'refers': 5341, 'maupassant': 5342, 'underlying': 5343, 'alcohol': 5344, 'muslim': 5345, 'pursued': 5346, 'communities': 5347, 'possibilities': 5348, 'aloof': 5349, 'starewicz': 5350, 'visits': 5351, 'settle': 5352, 'intimacy': 5353, 'plotting': 5354, 'beetles': 5355, 'insect': 5356, 'breasts': 5357, 'hehe': 5358, 'carried': 5359, 'rehash': 5360, 'grudge': 5361, 'twentieth': 5362, 'punches': 5363, 'jiggs': 5364, 'suspects': 5365, 'attorney': 5366, 'fernanda': 5367, 'carvalho': 5368, 'sells': 5369, 'escapes': 5370, 'glória': 5371, 'anjos': 5372, 'sol': 5373, 'exposing': 5374, 'plastic': 5375, 'taxi': 5376, 'slam': 5377, 'affect': 5378, 'tara': 5379, '1800': 5380, 'bartender': 5381, 'dropping': 5382, 'nuclear': 5383, 'pets': 5384, 'anne': 5385, 'shaun': 5386, 'commercials': 5387, 'convinced': 5388, 'loathe': 5389, 'loosely': 5390, 'directly': 5391, 'worm': 5392, 'confirm': 5393, 'cue': 5394, 'origins': 5395, 'mac': 5396, 'culkin': 5397, 'neck': 5398, 'command': 5399, 'ulee': 5400, 'nunez': 5401, 'israeli': 5402, 'distortion': 5403, 'november': 5404, 'prix': 5405, 'bouzaglo': 5406, 'judged': 5407, 'detached': 5408, 'spin': 5409, 'countless': 5410, 'lethal': 5411, 'ratings': 5412, 'screaming': 5413, 'publicity': 5414, 'unnecessarily': 5415, 'hoffman': 5416, 'hustler': 5417, 'experiment': 5418, 'buscemi': 5419, 'metro': 5420, 'nolte': 5421, 'confusing': 5422, 'sections': 5423, 'gunfire': 5424, 'crouse': 5425, 'shadowy': 5426, 'mantegna': 5427, 'ruin': 5428, 'taut': 5429, 'wondered': 5430, 'injury': 5431, 'limit': 5432, 'existence': 5433, 'brooding': 5434, 'zelah': 5435, 'governess': 5436, 'newspapers': 5437, 'thornfield': 5438, 'madly': 5439, 'trejo': 5440, 'drake': 5441, 'jan': 5442, 'lta': 5443, 'grander': 5444, 'newly': 5445, 'intolerance': 5446, '1920': 5447, 'weir': 5448, 'defends': 5449, 'enhance': 5450, 'notwithstanding': 5451, 'intrigue': 5452, 'label': 5453, 'authors': 5454, 'alba': 5455, 'sexploitation': 5456, 'monica': 5457, 'gayle': 5458, 'sandra': 5459, 'drags': 5460, 'insists': 5461, 'bracelet': 5462, 'caravan': 5463, 'apes': 5464, 'rapist': 5465, 'nonsense': 5466, 'inspiration': 5467, 'backwoods': 5468, 'belong': 5469, 'blondell': 5470, 'chaney': 5471, 'atwill': 5472, 'frye': 5473, 'bats': 5474, 'cohn': 5475, 'preview': 5476, 'lush': 5477, 'roemheld': 5478, 'weary': 5479, 'tune': 5480, 'shanghai': 5481, 'reel': 5482, 'rita': 5483, 'grigsby': 5484, 'destroys': 5485, 'whodunit': 5486, 'guitar': 5487, 'pattern': 5488, 'mirrors': 5489, 'backed': 5490, 'miller': 5491, 'kline': 5492, 'handling': 5493, 'shared': 5494, 'drifter': 5495, 'frantic': 5496, 'remade': 5497, 'rings': 5498, 'sundance': 5499, 'beach': 5500, 'buildings': 5501, 'fatale': 5502, 'pawn': 5503, 'ordeal': 5504, 'foch': 5505, 'plight': 5506, 'emotionally': 5507, 'instalment': 5508, 'edmund': 5509, 'bafta': 5510, 'rowan': 5511, 'atkinson': 5512, 'faithful': 5513, 'butler': 5514, 'miranda': 5515, 'mass': 5516, 'domino': 5517, 'culmination': 5518, 'gentlemen': 5519, 'burn': 5520, 'frustrations': 5521, 'myrna': 5522, 'teach': 5523, 'thakur': 5524, 'connection': 5525, 'careers': 5526, 'xmas': 5527, 'casually': 5528, 'seduction': 5529, '19': 5530, 'pin': 5531, 'harron': 5532, 'iris': 5533, 'deighton': 5534, 'crossing': 5535, 'integrity': 5536, 'education': 5537, 'accepted': 5538, 'chicken': 5539, 'travelling': 5540, 'believes': 5541, 'fixed': 5542, 'symbolism': 5543, 'description': 5544, 'heh': 5545, 'knight': 5546, 'comics': 5547, 'sarcastic': 5548, 'hybrid': 5549, 'kim': 5550, 'gair': 5551, 'abusive': 5552, 'kenneth': 5553, 'tends': 5554, 'paper': 5555, 'wiper': 5556, 'blocks': 5557, 'lukas': 5558, 'posse': 5559, 'hop': 5560, 'pile': 5561, 'toolbox': 5562, 'clue': 5563, 'wearing': 5564, 'gifted': 5565, 'stéphane': 5566, 'memory': 5567, 'confusion': 5568, 'approaches': 5569, 'drifts': 5570, 'solace': 5571, 'meditation': 5572, 'canyon': 5573, 'accidental': 5574, 'stare': 5575, 'focusing': 5576, 'binoche': 5577, 'casual': 5578, 'visit': 5579, 'yearning': 5580, 'pushes': 5581, 'unable': 5582, 'cherished': 5583, 'goldeneye': 5584, 'wickedly': 5585, 'willem': 5586, 'dafoe': 5587, 'spell': 5588, 'kiel': 5589, 'andrew': 5590, 'truman': 5591, 'wildly': 5592, 'misunderstood': 5593, 'forsythe': 5594, '1895': 5595, 'steady': 5596, 'slasher': 5597, 'gus': 5598, 'sant': 5599, 'ashanti': 5600, 'suleiman': 5601, 'determined': 5602, 'englishman': 5603, 'malik': 5604, 'rides': 5605, 'sharif': 5606, 'angle': 5607, 'recognized': 5608, 'curtiz': 5609, 'sr': 5610, 'philo': 5611, 'champion': 5612, 'challenging': 5613, 'swift': 5614, 'avoids': 5615, 'minded': 5616, 'palette': 5617, 'herring': 5618, 'vinson': 5619, 'cavanagh': 5620, 'projects': 5621, 'saga': 5622, 'round': 5623, 'characterizations': 5624, 'sons': 5625, 'finnish': 5626, 'radiates': 5627, 'sleeping': 5628, 'mice': 5629, 'hypnotic': 5630, 'laced': 5631, 'wayne': 5632, 'shining': 5633, 'armor': 5634, 'randell': 5635, 'rambeau': 5636, 'rocking': 5637, 'tag': 5638, 'gap': 5639, 'gusto': 5640, 'courtesy': 5641, 'clip': 5642, 'racy': 5643, 'ranging': 5644, 'exemplary': 5645, 'demanding': 5646, 'enthusiastic': 5647, 'spoofs': 5648, 'tree': 5649, 'multitude': 5650, 'collecting': 5651, 'beatles': 5652, 'albums': 5653, 'alexis': 5654, 'frawley': 5655, 'boxing': 5656, 'exclusive': 5657, 'olympic': 5658, 'mitzi': 5659, 'jill': 5660, 'awarded': 5661, 'yahoo': 5662, '1938': 5663, 'travel': 5664, 'dear': 5665, 'sexes': 5666, 'dislike': 5667, 'luise': 5668, 'transforms': 5669, 'perceives': 5670, 'en': 5671, 'typewriter': 5672, 'axe': 5673, 'nicholson': 5674, 'guessing': 5675, 'aura': 5676, 'defense': 5677, 'civilization': 5678, 'symbolic': 5679, 'symbols': 5680, 'push': 5681, 'puppets': 5682, 'invites': 5683, 'sopranos': 5684, 'jersey': 5685, 'gandolfini': 5686, 'arresting': 5687, 'redifined': 5688, 'sunrises': 5689, 'skippy': 5690, 'satanic': 5691, 'ozzy': 5692, 'preacher': 5693, 'massacre': 5694, 'rocker': 5695, 'scenario': 5696, 'liberty': 5697, 'inc': 5698, 'hilary': 5699, 'marisa': 5700, 'tomeii': 5701, 'oil': 5702, 'popstar': 5703, 'antidote': 5704, 'macho': 5705, 'crazed': 5706, 'relates': 5707, 'throat': 5708, 'charly': 5709, 'kalifornia': 5710, 'unrated': 5711, 'contained': 5712, 'fortunate': 5713, 'chimps': 5714, 'monarchs': 5715, 'rulers': 5716, 'marriages': 5717, 'afterward': 5718, 'noticeably': 5719, 'aardman': 5720, 'sniffing': 5721, 'legs': 5722, 'escaping': 5723, 'boom': 5724, 'glenaan': 5725, 'ditch': 5726, 'devil': 5727, 'solo': 5728, 'sliding': 5729, 'doors': 5730, 'profanity': 5731, 'interactions': 5732, 'creatures': 5733, 'conversations': 5734, 'goo': 5735, 'delirious': 5736, 'reluctant': 5737, 'polar': 5738, 'petty': 5739, 'security': 5740, 'reopen': 5741, 'selling': 5742, 'arriving': 5743, 'omen': 5744, 'presidency': 5745, 'pondering': 5746, 'temple': 5747, 'reward': 5748, 'plug': 5749, 'attributes': 5750, 'mountains': 5751, 'python': 5752, 'awtwb': 5753, 'address': 5754, 'liaison': 5755, 'juvenile': 5756, 'transfer': 5757, 'heywood': 5758, 'owes': 5759, 'climatic': 5760, 'raising': 5761, 'vargas': 5762, 'mixes': 5763, 'profoundly': 5764, 'seasoned': 5765, 'michelle': 5766, 'subdued': 5767, 'offensive': 5768, 'searched': 5769, 'candid': 5770, 'earle': 5771, 'travesty': 5772, 'seamless': 5773, 'alright': 5774, 'cotton': 5775, 'ignorant': 5776, 'raving': 5777, 'reisert': 5778, 'airport': 5779, 'mpaa': 5780, 'village': 5781, 'nekron': 5782, 'larn': 5783, 'avenge': 5784, 'bakshi': 5785, 'traffic': 5786, 'systems': 5787, 'akira': 5788, 'survivors': 5789, 'confronting': 5790, 'photographs': 5791, 'remembering': 5792, 'burt': 5793, 'deliverance': 5794, 'machismo': 5795, 'ronny': 5796, 'joining': 5797, 'dread': 5798, 'unresolved': 5799, 'regularly': 5800, 'interwoven': 5801, 'etzel': 5802, 'huns': 5803, 'topics': 5804, 'kidd': 5805, 'groove': 5806, 'clown': 5807, 'dynamic': 5808, 'necroborg': 5809, 'madhur': 5810, 'endlessly': 5811, 'konkana': 5812, 'sen': 5813, 'sassy': 5814, 'atul': 5815, 'kulkarni': 5816, 'ills': 5817, 'societal': 5818, 'tiresome': 5819, 'starship': 5820, 'coveted': 5821, 'cracks': 5822, 'contempt': 5823, 'gyllenhaal': 5824, 'homer': 5825, 'finland': 5826, 'emerson': 5827, 'bodycount': 5828, 'jeans': 5829, 'haines': 5830, 'pickford': 5831, 'harold': 5832, 'freshman': 5833, 'confines': 5834, 'ocean': 5835, 'grocery': 5836, 'atlantis': 5837, 'cough': 5838, 'colony': 5839, 'hula': 5840, 'disappointment': 5841, 'matched': 5842, 'blew': 5843, 'lavelle': 5844, 'showcasing': 5845, 'dd5': 5846, 'commentaries': 5847, 'claims': 5848, 'thai': 5849, 'pumbaa': 5850, 'lorenzo': 5851, 'lamas': 5852, '1978': 5853, 'blakes7': 5854, 'norway': 5855, 'swedish': 5856, 'manhattan': 5857, 'peasant': 5858, 'argue': 5859, 'mcgavin': 5860, 'eglantine': 5861, 'tomlinson': 5862, 'bobbing': 5863, 'piscopo': 5864, 'maureen': 5865, 'stapleton': 5866, 'stealer': 5867, 'moroni': 5868, 'skipper': 5869, 'flamingo': 5870, 'gummy': 5871, 'slated': 5872, 'guarding': 5873, 'gateway': 5874, 'raffin': 5875, 'brownstone': 5876, 'neighbors': 5877, 'burgess': 5878, 'meredith': 5879, 'kinky': 5880, 'beverly': 5881, 'angelo': 5882, 'eli': 5883, 'wallach': 5884, 'wily': 5885, 'pollination': 5886, 'exorcist': 5887, 'seller': 5888, 'jeffrey': 5889, 'konvitz': 5890, 'sentinel': 5891, 'entertainingly': 5892, 'mounts': 5893, 'downbeat': 5894, 'unremarkable': 5895, 'physicists': 5896, 'badmitton': 5897, 'sweaters': 5898, 'birdie': 5899, 'nambla': 5900, 'membership': 5901, 'grader': 5902, 'forrester': 5903, 'anew': 5904, 'prospect': 5905, 'poindexter': 5906, 'complicating': 5907, 'freckled': 5908, 'sleeveless': 5909, 'daunting': 5910, 'antagonizes': 5911, 'crackerjack': 5912, 'rumored': 5913, 'punched': 5914, 'unleashes': 5915, 'poison': 5916, 'handful': 5917, 'thermos': 5918, 'ewww': 5919, 'marinated': 5920, 'sauce': 5921, 'squashed': 5922, 'peanut': 5923, 'butter': 5924, 'sandwich': 5925, 'dubbed': 5926, 'radioactive': 5927, 'slime': 5928, 'microwaving': 5929, 'organism': 5930, 'uncontrollably': 5931, 'hearty': 5932, 'toddler': 5933, 'whining': 5934, 'hurts': 5935, 'farrelly': 5936, 'vomitous': 5937, 'storyteller': 5938, 'pm': 5939, 'insecurities': 5940, 'exaggerate': 5941, 'hyperbolize': 5942, 'quandaries': 5943, 'hater': 5944, 'pubescent': 5945, 'pawns': 5946, 'unity': 5947, 'international': 5948, 'peacekeeping': 5949, 'comforted': 5950, 'chaperoning': 5951, 'befuddlement': 5952, 'register': 5953, 'lawful': 5954, 'databases': 5955, 'additional': 5956, 'whit': 5957, 'carlos': 5958, 'anya': 5959, 'caseman': 5960, 'moynahan': 5961, 'slot': 5962, 'engaged': 5963, 'gasps': 5964, 'scrat': 5965, 'showmanship': 5966, 'overused': 5967, 'repercussions': 5968, 'suburban': 5969, 'soared': 5970, 'prolonged': 5971, 'samuel': 5972, 'pickwick': 5973, 'custodial': 5974, 'intellectual': 5975, 'snob': 5976, 'schooling': 5977, 'fires': 5978, 'kathleen': 5979, 'tobacco': 5980, 'thrives': 5981, 'grandchild': 5982, 'christened': 5983, 'payoff': 5984, 'aylmer': 5985, 'diversifying': 5986, 'investments': 5987, 'unintentional': 5988, 'coda': 5989, 'meeting': 5990, 'splashy': 5991, 'steamship': 5992, 'silently': 5993, 'enliven': 5994, 'insisting': 5995, 'spotted': 5996, 'roland': 5997, 'ashenden': 5998, 'alter': 5999, 'ego': 6000, 'huntley': 6001, 'advent': 6002, 'aileen': 6003, 'gonsalves': 6004, 'roshan': 6005, 'jonathan': 6006, 'rates': 6007, 'chicks': 6008, 'chains': 6009, 'grindhouse': 6010, 'beauteous': 6011, 'meyer': 6012, 'brassy': 6013, 'resilient': 6014, 'persevere': 6015, 'hellish': 6016, 'penitentiary': 6017, 'deliciously': 6018, 'crippled': 6019, 'frustrated': 6020, 'striptease': 6021, 'arousers': 6022, 'unholy': 6023, 'hilariously': 6024, 'cheerfully': 6025, 'mouthed': 6026, 'gut': 6027, 'busting': 6028, 'pinnochio': 6029, 'lynda': 6030, 'crystin': 6031, 'sinclaire': 6032, 'tobe': 6033, 'hooper': 6034, 'eaten': 6035, 'harrington': 6036, 'uninhibited': 6037, 'wildcat': 6038, 'cuddly': 6039, 'reprise': 6040, 'fragile': 6041, 'lemora': 6042, 'coarse': 6043, 'crass': 6044, 'sexist': 6045, 'filth': 6046, 'cruelly': 6047, 'bravely': 6048, 'misogynistic': 6049, 'oppressors': 6050, 'mighty': 6051, 'zesty': 6052, 'confidant': 6053, 'dolorous': 6054, 'rubber': 6055, 'howler': 6056, 'moonbeast': 6057, 'sidesplitting': 6058, 'jerky': 6059, 'escapees': 6060, 'rousing': 6061, 'caged': 6062, 'qualifies': 6063, 'mindbender': 6064, 'russel': 6065, 'emotionless': 6066, 'catalogue': 6067, 'replicate': 6068, 'firm': 6069, 'believer': 6070, 'juan': 6071, 'ruiz': 6072, 'anchía': 6073, 'gather': 6074, 'representative': 6075, 'beginnings': 6076, 'sayles': 6077, 'gina': 6078, 'berriault': 6079, 'wilford': 6080, 'brimley': 6081, 'frederic': 6082, 'existing': 6083, 'weight': 6084, 'horner': 6085, 'hangover': 6086, 'stallion': 6087, 'mercies': 6088, 'matewan': 6089, 'tide': 6090, 'roan': 6091, 'inish': 6092, '1994': 6093, 'wendy': 6094, 'lucy': 6095, 'trent': 6096, 'misfit': 6097, 'alternate': 6098, 'retell': 6099, 'penn': 6100, 'crispin': 6101, 'contextualized': 6102, 'retelling': 6103, 'vanilla': 6104, 'rockin': 6105, 'mendez': 6106, 'katie': 6107, 'cassidy': 6108, 'pee': 6109, 'wee': 6110, 'gasoline': 6111, 'welfare': 6112, 'rehab': 6113, 'heres': 6114, '56': 6115, 'beware': 6116, 'aways': 6117, 'solved': 6118, 'sweetly': 6119, 'addictions': 6120, 'casino': 6121, 'constantine': 6122, 'spescially': 6123, 'ruining': 6124, 'ta': 6125, 'resemble': 6126, 'posture': 6127, 'verbally': 6128, 'sparring': 6129, 'stuttering': 6130, 'mccartney': 6131, 'alexandra': 6132, 'bastedo': 6133, 'loaded': 6134, 'fired': 6135, 'galaxy': 6136, 'andromeda': 6137, 'civilizations': 6138, 'endearingly': 6139, 'revealingly': 6140, 'upstage': 6141, 'idiotic': 6142, 'goofiness': 6143, 'predicted': 6144, 'antonellina': 6145, 'interlenghi': 6146, 'umberto': 6147, 'lenzi': 6148, 'innuendo': 6149, 'nipple': 6150, 'tweak': 6151, 'strap': 6152, 'monstrous': 6153, 'anatomical': 6154, 'inquisitive': 6155, 'duplicitous': 6156, 'bastard': 6157, 'collie': 6158, 'loaders': 6159, 'smog': 6160, 'depending': 6161, 'enthusiastically': 6162, 'inept': 6163, 'gianfranco': 6164, 'sartana': 6165, 'delighted': 6166, 'adventuresome': 6167, 'sucked': 6168, 'dictate': 6169, 'outcome': 6170, 'macintosh': 6171, 'pod': 6172, 'faults': 6173, 'clunkiness': 6174, 'tearing': 6175, 'miniature': 6176, 'seamlessly': 6177, 'vapid': 6178, 'versus': 6179, 'golem': 6180, 'enjoyably': 6181, 'rampaging': 6182, 'wrecked': 6183, 'trampled': 6184, 'smashed': 6185, 'fertile': 6186, 'bodied': 6187, 'tykes': 6188, 'grandkids': 6189, 'spoiling': 6190, 'sends': 6191, 'feuding': 6192, 'nineteenth': 6193, '1901': 6194, '1852': 6195, '1913': 6196, '1898': 6197, 'rumbustious': 6198, 'ragtime': 6199, 'saloon': 6200, 'trixie': 6201, 'odbray': 6202, 'pert': 6203, 'kelton': 6204, 'slickest': 6205, 'pursuing': 6206, 'obi': 6207, 'wan': 6208, 'imperial': 6209, 'skywalker': 6210, 'selve': 6211, 'padme': 6212, 'mace': 6213, 'windu': 6214, 'jedis': 6215, 'younglings': 6216, 'lowly': 6217, 'débutante': 6218, 'phelps': 6219, 'playboy': 6220, 'hefner': 6221, 'esquire': 6222, 'fend': 6223, 'chauvinistic': 6224, 'unfathomable': 6225, 'hijinx': 6226, 'renting': 6227, 'invokes': 6228, 'holiness': 6229, 'aspire': 6230, 'professed': 6231, 'surpass': 6232, 'seminal': 6233, 'leprechaun': 6234, 'settled': 6235, 'populate': 6236, 'surrogate': 6237, 'parent': 6238, 'option': 6239, 'cpr': 6240, '911': 6241, 'injections': 6242, 'regenerative': 6243, 'ambulance': 6244, 'bloodthirsty': 6245, 'opined': 6246, 'jordan': 6247, 'replied': 6248, 'orleans': 6249, 'bars': 6250, 'surpasses': 6251, 'fda': 6252, 'approved': 6253, 'experimentation': 6254, 'contribution': 6255, 'canon': 6256, 'infection': 6257, 'pulses': 6258, 'absence': 6259, 'growl': 6260, 'noises': 6261, 'groan': 6262, 'assassin': 6263, 'greg': 6264, 'kinnair': 6265, 'narrow': 6266, 'theatrically': 6267, 'stoltz': 6268, 'paula': 6269, 'malcomson': 6270, 'deadwood': 6271, 'zoe': 6272, 'alessandra': 6273, 'torresani': 6274, 'esai': 6275, 'morales': 6276, 'objections': 6277, 'announced': 6278, 'adama': 6279, 'permeate': 6280, 'typed': 6281, 'restraints': 6282, 'tyler': 6283, 'piers': 6284, 'rayner': 6285, 'employs': 6286, 'candidates': 6287, 'unfit': 6288, 'organized': 6289, 'debt': 6290, 'seldomly': 6291, 'virtuous': 6292, 'haigh': 6293, 'rainy': 6294, 'snow': 6295, 'irish': 6296, 'revealing': 6297, 'subsequently': 6298, 'peering': 6299, 'sideways': 6300, 'principle': 6301, 'brazenly': 6302, 'marked': 6303, 'illuminates': 6304, 'brazen': 6305, 'phenominal': 6306, 'scorcesee': 6307, 'insomnia': 6308, 'minority': 6309, 'report': 6310, 'australians': 6311, 'tennis': 6312, 'mcinnes': 6313, 'seachange': 6314, 'rippling': 6315, 'sacks': 6316, 'effet': 6317, 'soylent': 6318, 'cookies': 6319, 'indifferent': 6320, 'idiocy': 6321, 'technologies': 6322, 'selection': 6323, 'gamblers': 6324, 'fighters': 6325, 'traders': 6326, 'robers': 6327, 'rifles': 6328, 'heists': 6329, 'durya': 6330, 'waco': 6331, 'gunfighter': 6332, 'itchy': 6333, 'trivia': 6334, 'hudson': 6335, 'outcrop': 6336, 'horseback': 6337, 'rieser': 6338, 'huh': 6339, 'colombo': 6340, 'giddy': 6341, 'unlisted': 6342, 'eh': 6343, 'nihilistic': 6344, 'revelations': 6345, 'crunching': 6346, 'edison': 6347, 'chen': 6348, 'cambodian': 6349, 'heroism': 6350, 'resist': 6351, 'nebula': 6352, 'copied': 6353, 'terminator': 6354, 'predator': 6355, 'puyn': 6356, 'timely': 6357, 'quotable': 6358, 'goddamned': 6359, 'distributors': 6360, 'adultery': 6361, 'grabbed': 6362, 'commits': 6363, 'naefe': 6364, 'teething': 6365, 'mobility': 6366, 'conjugal': 6367, 'succumb': 6368, 'trusted': 6369, 'spouses': 6370, 'reception': 6371, 'venezia': 6372, 'mesmerizing': 6373, 'hauntingly': 6374, 'poisoned': 6375, 'patches': 6376, 'plagued': 6377, 'consume': 6378, 'manufactured': 6379, 'toaster': 6380, 'bookworm': 6381, 'bronte': 6382, 'noirish': 6383, 'sophisticated': 6384, 'strata': 6385, 'nickels': 6386, 'accustomed': 6387, 'dime': 6388, 'routinely': 6389, 'confessions': 6390, 'crooks': 6391, 'det': 6392, 'roughing': 6393, 'confession': 6394, 'implicating': 6395, 'bleakest': 6396, 'brighter': 6397, 'standout': 6398, 'quibble': 6399, 'surroundings': 6400, 'unsavory': 6401, 'trusting': 6402, 'logical': 6403, 'scripting': 6404, 'pub': 6405, 'ghostly': 6406, 'recognizing': 6407, 'requests': 6408, 'skepticism': 6409, 'wager': 6410, 'overpraised': 6411, 'satan': 6412, 'dreadful': 6413, 'deteriorated': 6414, 'scan': 6415, 'hewitt': 6416, 'compares': 6417, 'cuban': 6418, 'sleeper': 6419, 'sailing': 6420, 'caribbean': 6421, 'socialist': 6422, 'regime': 6423, 'triumphs': 6424, 'annually': 6425, 'henri': 6426, 'verneuil': 6427, 'parallax': 6428, 'condor': 6429, 'representatives': 6430, 'commission': 6431, 'lone': 6432, 'gunman': 6433, 'volney': 6434, 'yves': 6435, 'montand': 6436, 'investigated': 6437, 'theories': 6438, 'embraces': 6439, 'ies': 6440, 'actuality': 6441, 'frightful': 6442, 'oracles': 6443, 'relentlessly': 6444, 'ventriloquist': 6445, 'dummy': 6446, 'rubberneck': 6447, 'spree': 6448, '1st': 6449, 'vilest': 6450, 'necromaniac': 6451, 'discretion': 6452, 'posting': 6453, 'emphasized': 6454, 'postings': 6455, 'duty': 6456, 'extended': 6457, 'wedge': 6458, 'hardest': 6459, 'bodysurfing': 6460, 'ridden': 6461, 'hammered': 6462, 'surfers': 6463, 'maverick': 6464, 'safety': 6465, 'sane': 6466, '75': 6467, 'sharks': 6468, 'jaws': 6469, 'tingle': 6470, 'uncontrolled': 6471, 'bowel': 6472, 'evacuation': 6473, 'laird': 6474, 'rincon': 6475, 'dedication': 6476, 'neglects': 6477, 'kalama': 6478, 'splice': 6479, 'bradshaw': 6480, 'lesbian': 6481, 'aids': 6482, 'warming': 6483, 'reconciliation': 6484, 'gradual': 6485, 'qualm': 6486, 't4': 6487, 'stumble': 6488, 'complements': 6489, 'quietness': 6490, 'parallels': 6491, 'irrationality': 6492, 'addresses': 6493, 'innocents': 6494, 'tid': 6495, 'bustelo': 6496, 'crate': 6497, 'reused': 6498, 'grandsons': 6499, 'hispanic': 6500, 'culturally': 6501, 'specific': 6502, 'preachy': 6503, 'sorting': 6504, 'avi': 6505, 'ullman': 6506, 'gruver': 6507, 'submission': 6508, 'enthused': 6509, 'giovanni': 6510, 'ribsi': 6511, 'messes': 6512, 'booster': 6513, 'lil': 6514, 'setbacks': 6515, '51': 6516, 'sway': 6517, 'feelgood': 6518, 'snake': 6519, 'favourites': 6520, 'cages': 6521, 'malkovich': 6522, 'ving': 6523, 'rhames': 6524, 'paycheque': 6525, 'lara': 6526, 'ships': 6527, 'unforgetable': 6528, 'morbuis': 6529, 'altair': 6530, 'overnight': 6531, 'nitpick': 6532, 'painted': 6533, 'backdrops': 6534, 'claustraphobia': 6535, 'bebe': 6536, 'barron': 6537, 'electronic': 6538, '250': 6539, 'lajos': 6540, 'deathbed': 6541, 'hallucination': 6542, 'utter': 6543, 'minot': 6544, 'skirts': 6545, 'ordinariness': 6546, 'admirable': 6547, 'engenders': 6548, 'sara': 6549, 'polley': 6550, 'natasha': 6551, 'mamie': 6552, 'collette': 6553, 'youthful': 6554, 'incarnation': 6555, 'eileen': 6556, 'mephisto': 6557, 'fateless': 6558, 'continental': 6559, 'newport': 6560, 'fraught': 6561, 'dutiful': 6562, 'compliance': 6563, 'pressures': 6564, 'rarified': 6565, 'sagas': 6566, 'captivatingly': 6567, 'woven': 6568, 'foregoing': 6569, 'vaguely': 6570, 'load': 6571, 'inviting': 6572, 'emerge': 6573, 'uncompromised': 6574, 'fondo': 6575, 'awakened': 6576, 'pablo': 6577, 'bonaerense': 6578, 'federal': 6579, 'alfredo': 6580, 'mariano': 6581, 'sessions': 6582, 'joins': 6583, 'spontaneity': 6584, 'crashes': 6585, 'trespasses': 6586, 'patrol': 6587, 'robber': 6588, 'diego': 6589, 'peretti': 6590, 'receive': 6591, 'locas': 6592, 'amor': 6593, 'impresses': 6594, 'summarize': 6595, '\\x85': 6596, 'sahara': 6597, 'trappist': 6598, 'fleeing': 6599, 'stirred': 6600, 'sorrow': 6601, 'hokum': 6602, 'marlene': 6603, 'dietrich': 6604, 'schildkraut': 6605, 'talkative': 6606, 'gibberish': 6607, 'lucile': 6608, 'watson': 6609, 'marshal': 6610, 'tilly': 6611, 'losch': 6612, 'carradine': 6613, 'aubrey': 6614, 'mavens': 6615, 'jerome': 6616, 'eddy': 6617, 'marcia': 6618, 'bonita': 6619, 'granville': 6620, 'peeking': 6621, 'convent': 6622, 'gaunt': 6623, 'brulier': 6624, 'monastery': 6625, 'lector': 6626, 'ferdinand': 6627, 'gottschalk': 6628, 'clerk': 6629, 'uncredited': 6630, 'yuma': 6631, 'dunes': 6632, 'contaminated': 6633, '135': 6634, 'revolt': 6635, 'selznick': 6636, 'remainder': 6637, 'documentry': 6638, 'underclass': 6639, 'camadrie': 6640, 'balls': 6641, 'nineteen': 6642, 'homo': 6643, 'extroverts': 6644, 'storyville': 6645, 'documented': 6646, 'hail': 6647, 'incarnations': 6648, '05': 6649, 'speilburg': 6650, '53': 6651, 'visualization': 6652, 'pages': 6653, 'remembers': 6654, 'martians': 6655, 'capsules': 6656, 'containing': 6657, 'tripod': 6658, 'machines': 6659, 'repel': 6660, 'canons': 6661, 'mes': 6662, 'shells': 6663, 'walkers': 6664, 'smallest': 6665, 'organisms': 6666, 'hines': 6667, 'million': 6668, 'larger': 6669, 'lately': 6670, 'slum': 6671, 'hallmark': 6672, 'harilal': 6673, 'interestingly': 6674, 'vinod': 6675, 'gandhis': 6676, 'essay': 6677, 'tail': 6678, 'surfing': 6679, 'disturbed': 6680, 'contend': 6681, 'chillness': 6682, 'comprehend': 6683, 'performer': 6684, 'transferring': 6685, 'oblige': 6686, 'stuffing': 6687, 'causes': 6688, 'rascally': 6689, 'employer': 6690, 'looney': 6691, 'volume': 6692, 'winds': 6693, 'ink': 6694, 'defending': 6695, 'sadistic': 6696, 'torments': 6697, 'unprovoked': 6698, 'deceiving': 6699, 'mousetrap': 6700, 'disappears': 6701, 'dish': 6702, 'paw': 6703, 'detect': 6704, 'footprints': 6705, 'lightness': 6706, 'soften': 6707, 'halt': 6708, 'trintignant': 6709, 'romy': 6710, 'schneider': 6711, 'july': 6712, 'slip': 6713, 'luther': 6714, 'aswell': 6715, 'protests': 6716, 'wavy': 6717, 'speaker': 6718, 'gravy': 6719, 'breakfast': 6720, 'employee': 6721, 'busby': 6722, 'berkeley': 6723, 'characterless': 6724, 'oakie': 6725, 'mclaghlan': 6726, 'personas': 6727, 'gertrude': 6728, 'rhapsody': 6729, 'unconvincing': 6730, 'faked': 6731, 'smalltime': 6732, 'upscale': 6733, 'superstars': 6734, 'disrupting': 6735, 'harding': 6736, 'warns': 6737, 'impress': 6738, 'insults': 6739, 'annoys': 6740, 'alison': 6741, 'olsen': 6742, 'clients': 6743, 'publicist': 6744, 'eleanor': 6745, 'maddox': 6746, 'annoy': 6747, 'rising': 6748, 'sophie': 6749, 'maes': 6750, 'downward': 6751, 'spiraling': 6752, 'cking': 6753, 'underused': 6754, 'spice': 6755, 'puzzlement': 6756, 'indescribable': 6757, 'ren': 6758, 'stimpy': 6759, 'te': 6760, 'undoubtably': 6761, 'bruise': 6762, 'sensibilities': 6763, 'disabled': 6764, 'hyper': 6765, 'umbrage': 6766, 'curled': 6767, 'fetal': 6768, 'faded': 6769, 'float': 6770, 'caricatures': 6771, 'flattering': 6772, 'crosby': 6773, 'reportedly': 6774, 'treaty': 6775, 'idyllic': 6776, 'predictably': 6777, 'pipe': 6778, 'frying': 6779, 'bat': 6780, 'butch': 6781, 'roue': 6782, 'talkie': 6783, 'innovative': 6784, 'lottery': 6785, 'exhilarating': 6786, 'spectacularly': 6787, 'marx': 6788, 'sucks': 6789, 'eritated': 6790, 'dillon': 6791, 'wrists': 6792, 'craps': 6793, 'battery': 6794, 'blinding': 6795, 'dern': 6796, 'wrrrooonnnnggg': 6797, 'wrought': 6798, 'unleashed': 6799, 'bo': 6800, 'diddley': 6801, 'raring': 6802, 'biloxi': 6803, 'confederate': 6804, 'flag': 6805, 'factotum': 6806, 'matured': 6807, 'hound': 6808, 'ager': 6809, 'bodyguard': 6810, 'mexico': 6811, 'kidnappings': 6812, 'ransom': 6813, 'befriend': 6814, 'gregson': 6815, 'gerrard': 6816, 'mickey': 6817, 'rourke': 6818, 'walken': 6819, 'radtha': 6820, 'dakota': 6821, 'samantha': 6822, 'mathis': 6823, 'april': 6824, 'nominations': 6825, 'cridits': 6826, 'debts': 6827, 'urge': 6828, 'tricksters': 6829, 'tricked': 6830, 'perpetrators': 6831, 'compensated': 6832, 'timberlake': 6833, 'fangirl': 6834, 'elwes': 6835, 'uncovering': 6836, 'corrupt': 6837, 'conflicted': 6838, 'freeman': 6839, 'freaked': 6840, 'catchphrases': 6841, 'unjustified': 6842, 'theatres': 6843, 'refreshingly': 6844, 'picaresque': 6845, 'recounts': 6846, 'escaped': 6847, 'convict': 6848, 'freshness': 6849, 'parole': 6850, 'undeserved': 6851, 'contrives': 6852, 'spontaneous': 6853, 'fore': 6854, 'flees': 6855, 'lakeside': 6856, 'residence': 6857, 'bursting': 6858, 'capricious': 6859, 'captive': 6860, 'tethered': 6861, 'discerned': 6862, 'zealous': 6863, 'manhunt': 6864, 'profits': 6865, 'capital': 6866, 'lad': 6867, 'contributed': 6868, 'josephs': 6869, 'watts': 6870, 'autumnal': 6871, 'province': 6872, 'correction': 6873, 'misinformation': 6874, '1962': 6875, '1965': 6876, 'altered': 6877, 'governors': 6878, 'underscore': 6879, 'dodger': 6880, 'fagin': 6881, 'shani': 6882, 'wallis': 6883, 'concider': 6884, 'chores': 6885, 'blinking': 6886, 'unlimited': 6887, 'month': 6888, 'needless': 6889, 'weeks': 6890, '72': 6891, 'anticipation': 6892, 'torturous': 6893, 'chomping': 6894, 'tightly': 6895, 'wound': 6896, 'navigate': 6897, 'fundraiser': 6898, 'salesman': 6899, 'accompanies': 6900, 'facility': 6901, 'bronstein': 6902, 'fav': 6903, 'beam': 6904, 'explode': 6905, 'librarian': 6906, 'dude': 6907, '16th': 6908, 'freeze': 6909, 'amok': 6910, 'vanquished': 6911, 'assestment': 6912, 'whuppin': 6913, 'wasteland': 6914, 'vulkin': 6915, 'salem': 6916, 'isolation': 6917, 'fer': 6918, 'shure': 6919, 'vulcans': 6920, 'efficient': 6921, 'confucian': 6922, 'survives': 6923, 'posed': 6924, 'brash': 6925, 'representing': 6926, 'amuses': 6927, 'capitalizes': 6928, 'strengths': 6929, 'stitzer': 6930, 'socializing': 6931, 'rudd': 6932, 'jay': 6933, 'romany': 6934, 'malco': 6935, 'cal': 6936, 'rogen': 6937, 'tease': 6938, 'assisting': 6939, 'virginity': 6940, 'bulk': 6941, 'derives': 6942, 'naiveté': 6943, 'gross': 6944, 'crashers': 6945, 'grotesque': 6946, 'centres': 6947, 'mythological': 6948, 'rumoured': 6949, 'wander': 6950, 'lusts': 6951, 'bestiality': 6952, 'centre': 6953, 'gaps': 6954, 'mount': 6955, 'opener': 6956, 'exclamation': 6957, 'prepares': 6958, 'offend': 6959, 'epitomises': 6960, 'weaved': 6961, 'ensure': 6962, 'awaits': 6963, 'skilful': 6964, 'improvements': 6965, 'freak': 6966, 'manticore': 6967, 'ppl': 6968, 'comeback': 6969, 'yrs': 6970, 'executioner': 6971, 'melnik': 6972, 'christ': 6973, 'woeful': 6974, 'wrenching': 6975, 'scences': 6976, 'existience': 6977, 'guest': 6978, 'glamous': 6979, 'beaver': 6980, 'ogle': 6981, 'maloney': 6982, 'loon': 6983, 'vinnie': 6984, 'jackass': 6985, 'simpleton': 6986, 'shake': 6987, 'heartland': 6988, 'depiction': 6989, 'climate': 6990, 'blended': 6991, 'interdependence': 6992, 'settlers': 6993, 'diaries': 6994, 'descendants': 6995, 'glamorous': 6996, 'conchatta': 6997, 'ferrell': 6998, 'persevering': 6999, 'wyoming': 7000, 'hardship': 7001, 'orpington': 7002, 'kent': 7003, 'injured': 7004, 'uproar': 7005, 'purely': 7006, 'anyways': 7007, 'prequels': 7008, 'herzog': 7009, 'undermines': 7010, 'portions': 7011, 'exploitive': 7012, 'submit': 7013, 'currents': 7014, 'ferocious': 7015, 'corruption': 7016, 'fabled': 7017, 'fashions': 7018, 'borderlines': 7019, 'rappers': 7020, 'depalma': 7021, 'sinks': 7022, 'sloppy': 7023, 'misled': 7024, 'supported': 7025, 'tackling': 7026, 'sawing': 7027, 'comfortably': 7028, 'wormed': 7029, 'serpico': 7030, 'intentionally': 7031, 'mimicked': 7032, 'misjudged': 7033, 'shenar': 7034, 'alejandro': 7035, 'sosa': 7036, 'continually': 7037, 'lds': 7038, 'tribulation': 7039, 'cassavetes': 7040, 'rowland': 7041, 'declining': 7042, 'alcoholism': 7043, 'embodied': 7044, 'spectre': 7045, 'oneself': 7046, 'puzzling': 7047, 'infantilize': 7048, 'standardize': 7049, 'nonsensical': 7050, 'mediocrity': 7051, 'viggo': 7052, 'mortensen': 7053, 'aragorn': 7054, 'flashback': 7055, 'annoyed': 7056, 'priestly': 7057, 'atrocious': 7058, 'tucson': 7059, 'prominently': 7060, 'smell': 7061, 'dug': 7062, 'reawakens': 7063, 'plesiosaur': 7064, 'terrorize': 7065, 'sending': 7066, 'skeleton': 7067, 'cadavra': 7068, 'trespass': 7069, 'moot': 7070, 'charmingly': 7071, 'quaint': 7072, 'farther': 7073, 'triple': 7074, 'boggy': 7075, 'creek': 7076, 'ie': 7077, 'gooding': 7078, '1954': 7079, 'gallico': 7080, 'inventor': 7081, 'inventions': 7082, 'gabor': 7083, 'rooting': 7084, 'wax': 7085, 'starlift': 7086, 'throwback': 7087, 'macrae': 7088, 'gershwin': 7089, 'jule': 7090, 'styne': 7091, 'sammy': 7092, 'cahn': 7093, 'supplying': 7094, 'wesson': 7095, 'janice': 7096, 'youngstown': 7097, 'parsons': 7098, 'catered': 7099, 'publicize': 7100, 'servicemen': 7101, 'korea': 7102, 'travis': 7103, 'base': 7104, 'specialty': 7105, 'phil': 7106, 'narrates': 7107, 'ranger': 7108, 'aided': 7109, 'assisted': 7110, 'virginia': 7111, 'lovejoy': 7112, 'oldest': 7113, 'demise': 7114, 'mourn': 7115, 'maschera': 7116, 'demonio': 7117, 'pendulum': 7118, '1961': 7119, 'earned': 7120, 'corbucci': 7121, 'ingenious': 7122, 'milestones': 7123, 'django': 7124, 'silence': 7125, 'masters': 7126, 'doubtlessly': 7127, 'macabre': 7128, 'tavern': 7129, 'nobleman': 7130, 'resident': 7131, 'elisabeth': 7132, 'forebodings': 7133, 'terrors': 7134, 'bears': 7135, 'riz': 7136, 'ortolani': 7137, 'uniting': 7138, 'ravishing': 7139, 'robsahm': 7140, 'departments': 7141, 'dareus': 7142, 'conducting': 7143, 'contributes': 7144, 'installed': 7145, 'abode': 7146, 'pastor': 7147, 'endear': 7148, 'interpret': 7149, 'gabriella': 7150, 'singers': 7151, 'repertoire': 7152, 'magazines': 7153, 'dogma': 7154, 'considers': 7155, 'unhealthy': 7156, 'participate': 7157, 'austria': 7158, 'doubts': 7159, 'enormously': 7160, 'nykvist': 7161, 'frida': 7162, 'hallgren': 7163, 'niklas': 7164, 'ylva': 7165, 'loof': 7166, 'stefan': 7167, 'harald': 7168, 'gunnar': 7169, 'paalgard': 7170, 'bufoonery': 7171, 'jacky': 7172, 'shao': 7173, 'ye': 7174, 'implementing': 7175, 'boyish': 7176, 'idiotically': 7177, 'midst': 7178, 'shipment': 7179, 'depress': 7180, 'inspire': 7181, 'playfulness': 7182, 'oily': 7183, 'mania': 7184, 'teal': 7185, 'theoretically': 7186, 'oops': 7187, 'nutz': 7188, 'conclude': 7189, 'packing': 7190, 'boosted': 7191, 'purposes': 7192, 'gunplay': 7193, 'tng': 7194, 'forgettable': 7195, 'data': 7196, 'okona': 7197, 'tryst': 7198, 'rudely': 7199, 'interrupted': 7200, 'lt': 7201, 'worf': 7202, 'demonstrated': 7203, 'cardiac': 7204, 'increasingly': 7205, 'infrequently': 7206, 'opts': 7207, 'tahiti': 7208, 'obtain': 7209, 'rekindle': 7210, 'tahitian': 7211, 'outline': 7212, 'vastness': 7213, 'connect': 7214, 'dots': 7215, 'observe': 7216, 'integrate': 7217, 'beau': 7218, 'travail': 7219, 'processing': 7220, 'conceptual': 7221, 'discourse': 7222, 'jittery': 7223, 'dentistry': 7224, 'squirm': 7225, 'dental': 7226, 'hygienist': 7227, 'pool': 7228, 'snaps': 7229, 'strolls': 7230, 'marital': 7231, 'aggression': 7232, 'jabbing': 7233, 'fondling': 7234, 'deranged': 7235, 'gases': 7236, 'mercilessly': 7237, 'yanking': 7238, 'teeth': 7239, 'laughably': 7240, 'heed': 7241, '210': 7242, 'promiscuous': 7243, 'womanizer': 7244, 'gigolo': 7245, 'restaurants': 7246, 'impregnated': 7247, 'dumped': 7248, 'aborted': 7249, 'nurse': 7250, 'striked': 7251, 'ménage': 7252, 'à': 7253, 'trois': 7254, 'aforesaid': 7255, 'provider': 7256, 'maman': 7257, 'putain': 7258, 'deduce': 7259, 'eustache': 7260, 'chatty': 7261, 'aimlessly': 7262, 'preaching': 7263, 'insipid': 7264, 'lamenting': 7265, 'léaud': 7266, 'obdurate': 7267, 'brightest': 7268, 'cybill': 7269, 'moonlighting': 7270, 'duds': 7271, 'vicariously': 7272, 'cusp': 7273, 'stardom': 7274, 'overstep': 7275, 'graciously': 7276, 'ryan': 7277, 'neal': 7278, 'macdonald': 7279, 'coasts': 7280, 'sizzling': 7281, 'judgment': 7282, 'howze': 7283, 'grossing': 7284, 'communicated': 7285, 'sacrifices': 7286, 'las': 7287, 'vegas': 7288, 'illusionist': 7289, 'travails': 7290, 'showbiz': 7291, 'mentoring': 7292, 'romps': 7293, 'trampling': 7294, 'zuckers': 7295, 'gangrene': 7296, 'astin': 7297, '3rd': 7298, 'rightful': 7299, 'lundquist': 7300, 'sportscaster': 7301, 'ringer': 7302, 'skewering': 7303, 'opposing': 7304, 'fuzzy': 7305, 'ft': 7306, 'allies': 7307, 'thinly': 7308, 'visser': 7309, 'bouncing': 7310, 'unabashed': 7311, 'borderline': 7312, 'psychosis': 7313, 'netherlands': 7314, 'returning': 7315, 'rick': 7316, 'millionaire': 7317, 'obnoxiously': 7318, 'veers': 7319, 'costar': 7320, 'sympathised': 7321, 'milder': 7322, 'dystrophic': 7323, 'epidermolysis': 7324, 'bullosa': 7325, 'eb': 7326, 'wasting': 7327, 'muscle': 7328, 'puberty': 7329, 'sympathising': 7330, 'pealing': 7331, 'bandages': 7332, 'naughty': 7333, 'coffin': 7334, 'edna': 7335, 'supporter': 7336, 'nell': 7337, 'mcandrew': 7338, 'baftas': 7339, 'flaherty': 7340, 'contrary': 7341, 'transposed': 7342, 'interruption': 7343, 'catchy': 7344, 'escapism': 7345, 'ilk': 7346, 'click': 7347, 'straddle': 7348, 'winners': 7349, 'stretched': 7350, 'betrothed': 7351, 'dollar': 7352, 'tab': 7353, 'wooing': 7354, 'idiosyncrasies': 7355, 'saitn': 7356, 'compromised': 7357, 'reeled': 7358, 'chops': 7359, 'spurts': 7360, 'cats': 7361, 'havana': 7362, 'tutti': 7363, 'fruttis': 7364, 'misadventures': 7365, 'rico': 7366, 'rizzo': 7367, 'hoffmann': 7368, 'homeless': 7369, 'plights': 7370, 'psychedelic': 7371, 'raped': 7372, 'wistful': 7373, 'deceptively': 7374, 'flowery': 7375, 'pennies': 7376, 'dishwasher': 7377, 'soup': 7378, 'dashed': 7379, 'schlesinger': 7380, 'prevailing': 7381, 'wiser': 7382, 'warmed': 7383, 'emerged': 7384, 'lite': 7385, 'hairspray': 7386, 'tasted': 7387, 'watered': 7388, 'liqueur': 7389, 'regurgitate': 7390, 'successes': 7391, 'vagaries': 7392, 'pretentiousness': 7393, 'exhibited': 7394, 'prices': 7395, 'emblazoned': 7396, 'furlong': 7397, 'histrionic': 7398, 'guests': 7399, 'yacht': 7400, 'impromptu': 7401, 'underwear': 7402, 'jibes': 7403, '1988': 7404, 'austrian': 7405, 'bronze': 7406, 'montreux': 7407, 'mirror': 7408, 'shave': 7409, 'oblivion': 7410, 'purchase': 7411, 'moh': 7412, 'airbag': 7413, 'graft': 7414, 'vengeful': 7415, 'schmidt': 7416, 'knack': 7417, 'predecessor': 7418, 'conjure': 7419, 'meticulous': 7420, 'lupinesque': 7421, 'dub': 7422, 'acquit': 7423, 'pear': 7424, 'swallowed': 7425, 'operative': 7426, 'affecting': 7427, 'crucial': 7428, 'gawked': 7429, 'vistas': 7430, 'tolerable': 7431, 'gobledegook': 7432, 'princesses': 7433, 'crystals': 7434, 'leagues': 7435, 'chronological': 7436, 'squirrel': 7437, 'matching': 7438, 'outfits': 7439, 'torch': 7440, 'marrying': 7441, 'digger': 7442, 'tricking': 7443, 'richest': 7444, 'scheming': 7445, 'durbin': 7446, 'youngest': 7447, 'vocals': 7448, 'sings': 7449, 'unexploded': 7450, 'explodes': 7451, 'charter': 7452, 'stating': 7453, 'burgundy': 7454, 'appeals': 7455, 'stalwarts': 7456, 'holloway': 7457, 'londoners': 7458, 'barricade': 7459, 'consequence': 7460, 'adored': 7461, 'moritz': 7462, 'barnaby': 7463, 'julietta': 7464, 'industries': 7465, 'poetic': 7466, 'onward': 7467, 'rivalry': 7468, 'determination': 7469, 'formed': 7470, 'fuller': 7471, 'mentalities': 7472, 'disdain': 7473, 'immigration': 7474, 'fatih': 7475, 'outranks': 7476, 'strangelove': 7477, 'naming': 7478, 'superpowers': 7479, 'confederation': 7480, 'commies': 7481, 'gen': 7482, 'genetic': 7483, 'tackled': 7484, 'comradeship': 7485, 'screams': 7486, 'informative': 7487, '26': 7488, 'pacific': 7489, 'burma': 7490, 'fronts': 7491, '1933': 7492, 'territorial': 7493, 'outbreak': 7494, 'thames': 7495, 'commissioned': 7496, 'revered': 7497, 'campaigns': 7498, 'eyewitness': 7499, 'civilians': 7500, 'politicians': 7501, 'speer': 7502, 'donitz': 7503, 'mauldin': 7504, 'lemay': 7505, 'mountbatten': 7506, 'alger': 7507, 'hiss': 7508, 'toshikazu': 7509, 'kase': 7510, 'tibbets': 7511, 'traudl': 7512, 'junge': 7513, 'ambrose': 7514, 'aides': 7515, 'assistants': 7516, 'locate': 7517, 'persuade': 7518, 'heinrich': 7519, 'adjutant': 7520, 'wolff': 7521, 'execution': 7522, 'institute': 7523, 'voted': 7524, 'professionals': 7525, 'ranked': 7526, '1998': 7527, 'aakrosh': 7528, 'documentaries': 7529, 'fulfil': 7530, 'requirements': 7531, 'diluting': 7532, 'contested': 7533, 'coolie': 7534, 'betaab': 7535, 'smithapatel': 7536, 'drifted': 7537, 'composure': 7538, 'trees': 7539, 'shrubs': 7540, 'ruthlessness': 7541, 'roof': 7542, 'om': 7543, 'puri': 7544, 'naseeruddin': 7545, 'shah': 7546, 'rubbed': 7547, 'forecast': 7548, 'sadashiv': 7549, 'amrapurkar': 7550, 'filmfare': 7551, 'drohkaal': 7552, 'multidimensional': 7553, 'unstated': 7554, 'aesthetic': 7555, 'attain': 7556, 'innovates': 7557, 'multiply': 7558, 'texture': 7559, 'eludes': 7560, 'indirectly': 7561, 'studied': 7562, 'joel': 7563, 'schumacher': 7564, 'emerging': 7565, 'mutual': 7566, 'commanding': 7567, 'justified': 7568, 'centring': 7569, 'dissident': 7570, 'bozz': 7571, 'outstandingly': 7572, 'colin': 7573, 'farrell': 7574, 'governs': 7575, 'consent': 7576, 'powerless': 7577, 'complicity': 7578, 'constructed': 7579, 'shifted': 7580, 'asia': 7581, 'staggering': 7582, 'supremely': 7583, 'shipload': 7584, 'deter': 7585, 'maidens': 7586, 'dispatch': 7587, 'squad': 7588, 'abyss': 7589, 'hypnosis': 7590, 'wishing': 7591, 'dismal': 7592, 'luminosity': 7593, 'vagabond': 7594, 'retain': 7595, 'fantasies': 7596, 'occupy': 7597, 'robbed': 7598, 'inattentiveness': 7599, 'ankle': 7600, 'birthmark': 7601, 'adopts': 7602, 'disillusioning': 7603, 'niña': 7604, 'accompany': 7605, 'joyless': 7606, 'discussions': 7607, 'auction': 7608, 'collectibles': 7609, 'agency': 7610, 'couples': 7611, 'dilemma': 7612, 'siblings': 7613, 'kyle': 7614, 'molly': 7615, 'caretakers': 7616, 'inexperienced': 7617, 'darling': 7618, 'wheeler': 7619, 'doorman': 7620, 'snappy': 7621, 'orphaned': 7622, 'margaritas': 7623, 'unexpectedly': 7624, 'noble': 7625, 'facilitator': 7626, 'gigs': 7627, 'assassinating': 7628, 'realization': 7629, 'verge': 7630, 'dearly': 7631, 'desolate': 7632, 'laurel': 7633, 'hardy': 7634, 'persistent': 7635, 'interplay': 7636, 'timed': 7637, 'imprints': 7638, 'despicably': 7639, 'averse': 7640, 'ogles': 7641, 'impurest': 7642, 'utters': 7643, 'sucky': 7644, 'fucky': 7645, 'smirk': 7646, '30lbs': 7647, 'console': 7648, 'bedroom': 7649, 'overlooked': 7650, 'tc': 7651, 'candler': 7652, 'independentcritics': 7653, '1927': 7654, '1928': 7655, '372': 7656, 'grable': 7657, 'dailey': 7658, 'vinyl': 7659, 'jolson': 7660, 'nightclub': 7661, 'trumpeter': 7662, 'lamour': 7663, 'earliest': 7664, 'urbane': 7665, 'cased': 7666, 'wandering': 7667, 'farce': 7668, 'gable': 7669, 'buff': 7670, 'musically': 7671, 'dickens': 7672, 'justifiably': 7673, 'stimulating': 7674, 'imaginatively': 7675, 'devised': 7676, 'creatively': 7677, 'artistes': 7678, 'breathtakingly': 7679, 'recording': 7680, 'admirably': 7681, 'matches': 7682, 'withstand': 7683, 'happenstance': 7684, 'parisian': 7685, 'chacun': 7686, 'cherche': 7687, 'battement': 7688, 'ailes': 7689, 'papillon': 7690, 'summarizing': 7691, 'controlling': 7692, 'gamine': 7693, 'flashes': 7694, 'fantasize': 7695, 'coincidences': 7696, 'immigrants': 7697, 'nests': 7698, 'crowded': 7699, 'subway': 7700, 'elivra': 7701, 'duties': 7702, 'transylvanian': 7703, 'parton': 7704, 'mcclurg': 7705, 'kellerman': 7706, 'crunch': 7707, 'topping': 7708, 'crunches': 7709, 'showtime': 7710, 'misleading': 7711, 'logging': 7712, 'upward': 7713, 'justification': 7714, 'greenwich': 7715, 'compulsion': 7716, 'interloper': 7717, 'represented': 7718, 'oreo': 7719, 'goldberg': 7720, 'verbal': 7721, 'informs': 7722, 'denouement': 7723, 'girlfight': 7724, 'latinos': 7725, 'luxurious': 7726, 'basketball': 7727, 'victory': 7728, 'gender': 7729, 'bending': 7730, 'outcomes': 7731, 'labeouf': 7732, 'sigourney': 7733, 'weaver': 7734, 'viewpoint': 7735, 'planner': 7736, 'invariable': 7737, 'perceive': 7738, 'windy': 7739, 'myth': 7740, 'farmers': 7741, 'cash': 7742, 'geer': 7743, 'apprehended': 7744, 'enforcement': 7745, 'escalating': 7746, 'impending': 7747, 'irritation': 7748, 'faints': 7749, 'irrefutable': 7750, 'progressed': 7751, 'loathed': 7752, 'participants': 7753, 'unrelenting': 7754, 'taunt': 7755, 'incorrect': 7756, 'positioned': 7757, 'backseat': 7758, 'cargo': 7759, 'pontiac': 7760, 'optical': 7761, 'backward': 7762, 'traveling': 7763, 'examination': 7764, 'inferred': 7765, 'dramatics': 7766, 'palma': 7767, 'imitation': 7768, 'ripoff': 7769, 'tapes': 7770, 'downside': 7771, 'sleaziness': 7772, 'nypd': 7773, 'dennis': 7774, 'angie': 7775, 'closeups': 7776, 'males': 7777, 'ogling': 7778, 'shamefully': 7779, 'unfamiliar': 7780, 'bonham': 7781, 'graced': 7782, 'dominion': 7783, 'characterization': 7784, 'intricacies': 7785, 'plausibility': 7786, 'gunship': 7787, 'buaku': 7788, 'zabriskie': 7789, 'quarter': 7790, 'zp': 7791, 'capsule': 7792, 'los': 7793, 'angeles': 7794, 'designer': 7795, 'tavoularis': 7796, 'extraneous': 7797, 'daria': 7798, 'distorted': 7799, 'rapidly': 7800, 'knife': 7801, 'counted': 7802, 'alienation': 7803, 'hesitant': 7804, 'unbearably': 7805, 'weirdness': 7806, 'contributions': 7807, 'overshadowed': 7808, 'awkwardness': 7809, 'outcast': 7810, 'isabelle': 7811, 'adjani': 7812, 'melyvn': 7813, 'xizao': 7814, 'quanxiu': 7815, 'pu': 7816, 'businessman': 7817, 'liu': 7818, 'xu': 7819, 'zhu': 7820, 'tradition': 7821, 'purifies': 7822, 'customs': 7823, 'yang': 7824, 'sticked': 7825, 'patronizing': 7826, 'ireland': 7827, 'ostracized': 7828, 'warn': 7829, 'appendage': 7830, 'paint': 7831, 'prominence': 7832, 'sheridan': 7833, 'hopeful': 7834, 'sullavan': 7835, 'budapest': 7836, 'sweetheart': 7837, 'eager': 7838, 'mail': 7839, 'mandatory': 7840, 'jumpstart': 7841, 'tonight': 7842, 'allusions': 7843, 'mozart': 7844, 'violin': 7845, 'humming': 7846, 'eine': 7847, 'kleine': 7848, 'nachtmusik': 7849, 'iq': 7850, 'staunch': 7851, 'libber': 7852, 'catherine': 7853, 'fiance': 7854, 'behavioral': 7855, 'researcher': 7856, 'defined': 7857, 'labels': 7858, 'throwaways': 7859, 'symposium': 7860, 'instruments': 7861, 'protractor': 7862, 'ruler': 7863, 'ledge': 7864, 'shaloub': 7865, 'watters': 7866, 'rosetti': 7867, 'estimations': 7868, 'marraiges': 7869, 'jeopardy': 7870, 'bakersfield': 7871, 'taft': 7872, 'quarterback': 7873, 'hightower': 7874, 'holly': 7875, 'rematch': 7876, 'famed': 7877, 'perverted': 7878, 'deceived': 7879, 'freely': 7880, 'erection': 7881, 'ejaculation': 7882, 'frolicking': 7883, 'interspecial': 7884, 'babysitter': 7885, 'satisfaction': 7886, 'daydreaming': 7887, 'masturbating': 7888, 'petals': 7889, 'curtains': 7890, 'celebertis': 7891, 'uncut': 7892, 'surfaces': 7893, 'congress': 7894, 'pimped': 7895, 'tat': 7896, 'calculating': 7897, 'moniker': 7898, 'coated': 7899, 'cunning': 7900, 'tinged': 7901, 'pretense': 7902, 'sleeps': 7903, 'theresa': 7904, 'carnal': 7905, 'intention': 7906, 'hitching': 7907, 'wagon': 7908, 'destination': 7909, 'ephemeral': 7910, 'friedrich': 7911, 'stressed': 7912, 'lilly': 7913, 'understood': 7914, 'nietzschean': 7915, 'nth': 7916, 'touted': 7917, 'rantings': 7918, 'indictment': 7919, 'cutest': 7920, 'apropos': 7921, 'applicable': 7922, 'melody': 7923, 'salacious': 7924, 'disagreeing': 7925, 'lyrics': 7926, 'orders': 7927, 'chronicles': 7928, 'kallio': 7929, 'approporiately': 7930, 'tomorrow': 7931, 'biker': 7932, '350': 7933, 'merry': 7934, 'mounted': 7935, 'cheering': 7936, 'frisbee': 7937, 'saucer': 7938, 'landing': 7939, 'islam': 7940, 'jj': 7941, 'alta': 7942, 'modestly': 7943, 'engineer': 7944, 'futuristic': 7945, 'gadgets': 7946, 'gizmos': 7947, 'dreamed': 7948, 'pidgeon': 7949, 'neilsen': 7950, 'presumed': 7951, 'arne': 7952, 'glimcher': 7953, 'hurricane': 7954, 'lauded': 7955, 'buddhist': 7956, 'meanings': 7957, 'contextual': 7958, 'impactful': 7959, 'enlightenment': 7960, 'destroying': 7961, 'seeker': 7962, 'demons': 7963, 'indecision': 7964, 'goal': 7965, 'sogo': 7966, 'ishii': 7967, 'measured': 7968, 'frenzied': 7969, 'neglecting': 7970, 'ethereal': 7971, 'flights': 7972, 'makoto': 7973, 'watanbe': 7974, 'richly': 7975, 'evocative': 7976, 'actingwise': 7977, 'daisuke': 7978, 'ryu': 7979, 'tadanobu': 7980, 'asano': 7981, 'arrogance': 7982, 'masatoshi': 7983, 'nagase': 7984, 'rounds': 7985, 'flabby': 7986, 'frenetic': 7987, 'obscured': 7988, 'flashing': 7989, 'individuals': 7990, 'whirling': 7991, 'adversaries': 7992, 'invigorating': 7993, 'traditionalism': 7994, 'distracting': 7995, 'azumi': 7996, 'adventurously': 7997, 'inclined': 7998, 'archaic': 7999, 'celticism': 8000, 'comprised': 8001, 'iona': 8002, 'coast': 8003, 'abbots': 8004, 'apprentice': 8005, 'crom': 8006, 'cruic': 8007, 'fierce': 8008, 'headless': 8009, 'horseman': 8010, 'pagan': 8011, 'recovering': 8012, 'artefact': 8013, 'shaded': 8014, 'deriving': 8015, 'affective': 8016, 'viking': 8017, 'intensely': 8018, 'revivalist': 8019, 'mysticism': 8020, 'glides': 8021, 'disappearing': 8022, 'resembling': 8023, 'cheshire': 8024, 'wonderland': 8025, 'genders': 8026, 'saget': 8027, '00': 8028, 'alongs': 8029, 'reprimanded': 8030, 'warned': 8031, 'assailant': 8032, 'panics': 8033, 'assumes': 8034, 'blamed': 8035, 'greengrass': 8036, 'ezra': 8037, 'stiles': 8038, 'strathairn': 8039, 'cia': 8040, 'nonstop': 8041, 'immersed': 8042, 'eisenhower': 8043, 'deco': 8044, 'furniture': 8045, 'servants': 8046, 'dismiss': 8047, 'vastly': 8048, 'merk': 8049, 'diver': 8050, 'cemented': 8051, 'successor': 8052, 'bared': 8053, 'bench': 8054, 'typifies': 8055, 'talisman': 8056, 'medalian': 8057, 'tuxedo': 8058, 'pale': 8059, 'insignificance': 8060, 'dumbed': 8061, 'utilise': 8062, 'maximum': 8063, 'shards': 8064, 'glass': 8065, 'dangling': 8066, 'madman': 8067, 'inanimate': 8068, 'prop': 8069, 'devices': 8070, 'injuring': 8071, 'harm': 8072, 'persistence': 8073, 'stuntman': 8074, 'bruises': 8075, 'devising': 8076, 'matrix': 8077, 'boston': 8078, 'fenway': 8079, 'ballplayers': 8080, 'failures': 8081, 'overage': 8082, 'costner': 8083, 'believers': 8084, 'whacky': 8085, 'sox': 8086, 'coasted': 8087, 'willie': 8088, 'garson': 8089, 'stanford': 8090, 'blatch': 8091, 'vj': 8092, 'thrived': 8093, 'rationed': 8094, 'strung': 8095, 'til': 8096, 'reviewing': 8097, '1929': 8098, '17': 8099, 'liszt': 8100, 'rhapsodies': 8101, 'pasternak': 8102, 'credited': 8103, 'classical': 8104, 'grayson': 8105, 'audition': 8106, 'gi': 8107, 'concerts': 8108, 'records': 8109, 'sensation': 8110, 'assurance': 8111, 'ignorantly': 8112, 'complimenting': 8113, 'spaniard': 8114, 'conquered': 8115, 'soto': 8116, 'cortez': 8117, 'www': 8118, 'joseiturbi': 8119, 'discography': 8120, 'trout': 8121, 'shares': 8122, 'flightplan': 8123, 'unbelievability': 8124, 'assassinated': 8125, 'hack': 8126, 'spying': 8127, 'predicament': 8128, 'perplexed': 8129, 'requires': 8130, 'require': 8131, 'comfy': 8132, 'rave': 8133, 'stretch': 8134, 'cursed': 8135, 'whiles': 8136, 'reruns': 8137, 'prompted': 8138, 'publicized': 8139, 'searching': 8140, 'referential': 8141, 'upstairs': 8142, 'minkus': 8143, 'aunt': 8144, 'hilda': 8145, 'encompassing': 8146, 'zelda': 8147, 'dj': 8148, '185': 8149, 'bulldozers': 8150, 'speedometer': 8151, 'needle': 8152, 'wobbling': 8153, '145': 8154, '150': 8155, 'supercharged': 8156, 'hemi': 8157, 'aerodynamics': 8158, 'aspirated': 8159, 'chrysler': 8160, '300c': 8161, '168': 8162, 'brick': 8163, 'tunnel': 8164, 'aerodynamic': 8165, 'dingo': 8166, 'basics': 8167, 'knee': 8168, 'seated': 8169, 'pronunciation': 8170, 'causal': 8171, 'shifts': 8172, 'myriad': 8173, 'overriding': 8174, 'cockroach': 8175, 'airline': 8176, 'frames': 8177, 'meals': 8178, 'ernie': 8179, 'technician': 8180, 'unbounded': 8181, 'clogged': 8182, 'drain': 8183, 'donut': 8184, 'disruption': 8185, 'crushed': 8186, 'auto': 8187, 'fender': 8188, 'obliterated': 8189, 'reservation': 8190, 'chippendale': 8191, 'johnston': 8192, 'irate': 8193, 'germ': 8194, 'cyr': 8195, 'reacting': 8196, 'refusal': 8197, 'hostile': 8198, 'manning': 8199, 'jackhammer': 8200, 'darryl': 8201, 'theirse': 8202, 'bubble': 8203, 'planes': 8204, 'automobiles': 8205, 'fresher': 8206, 'scammed': 8207, 'jez': 8208, 'butterworth': 8209, 'ott': 8210, 'kassovitz': 8211, 'trainspotting': 8212, 'petrol': 8213, 'shouting': 8214, 'reasonable': 8215, 'loui': 8216, 'cecelia': 8217, 'posted': 8218, 'hulu': 8219, 'analyze': 8220, 'woog': 8221, 'dweeb': 8222, 'herbivores': 8223, 'detracts': 8224, 'scariness': 8225, 'screweyes': 8226, 'blatantly': 8227, 'dinosaurs': 8228, 'lacked': 8229, 'revisited': 8230, 'avid': 8231, 'agatha': 8232, 'christie': 8233, 'valiant': 8234, 'padded': 8235, 'scores': 8236, 'suchet': 8237, 'phillip': 8238, 'moran': 8239, 'integral': 8240, 'leonard': 8241, 'bethany': 8242, 'airplane': 8243, 'infected': 8244, 'daphne': 8245, 'zuniga': 8246, 'leeves': 8247, 'frasier': 8248, 'loggia': 8249, 'herrmann': 8250, 'dirk': 8251, 'bogard': 8252, 'wilkes': 8253, 'hara': 8254, 'melonie': 8255, 'higgins': 8256, 'armstrong': 8257, 'hospitality': 8258, '49th': 8259, 'westerner': 8260, 'shrivel': 8261, 'poet': 8262, 'dreamer': 8263, 'wanderer': 8264, 'carey': 8265, 'somerset': 8266, 'strickland': 8267, 'moon': 8268, 'sixpence': 8269, 'accentuated': 8270, 'bette': 8271, 'addressed': 8272, 'dee': 8273, 'forgiving': 8274, 'doormat': 8275, 'tortured': 8276, 'insistence': 8277, 'haviland': 8278, 'leigh': 8279, 'deaf': 8280, 'frisco': 8281, 'bitch': 8282, 'curiously': 8283, 'abuses': 8284, 'culminating': 8285, 'deteriorating': 8286, 'brusquely': 8287, 'expects': 8288, 'casualty': 8289, 'sciences': 8290, 'nominate': 8291, 'largest': 8292, 'joyce': 8293, 'heth': 8294, 'boomerang': 8295, 'apathy': 8296, 'hypocrisy': 8297, 'rationalize': 8298, 'beliefs': 8299, 'hatzisavvas': 8300, 'dinosaur': 8301, 'deny': 8302, 'officially': 8303, 'sexism': 8304, 'oppose': 8305, 'oppression': 8306, 'jafar': 8307, 'panahi': 8308, 'tinting': 8309, 'photograph': 8310, 'projection': 8311, 'leopold': 8312, 'projected': 8313, 'foreground': 8314, 'ravensteins': 8315, 'battleship': 8316, 'potemkin': 8317, 'katharina': 8318, 'bathtub': 8319, 'werewolf': 8320, 'ernst': 8321, 'järegård': 8322, 'snickers': 8323, 'kingdom': 8324, 'plotline': 8325, 'anal': 8326, 'retentiveness': 8327, 'conductors': 8328, 'administrator': 8329, 'sydow': 8330, 'coward': 8331, 'bjork': 8332, 'rethink': 8333, 'chillers': 8334, 'stormy': 8335, 'amer': 8336, 'voyage': 8337, 'receptive': 8338, 'suggestions': 8339, 'electronics': 8340, 'nut': 8341, 'chum': 8342, 'nader': 8343, 'oxy': 8344, 'bonanza': 8345, 'recall': 8346, 'surfs': 8347, 'cave': 8348, 'trance': 8349, 'adversity': 8350, 'climbing': 8351, 'mt': 8352, 'everest': 8353, 'contradictory': 8354, 'athlete': 8355, 'academic': 8356, 'lhasa': 8357, 'tibet': 8358, 'summit': 8359, 'tashi': 8360, 'spellbound': 8361, 'murderball': 8362, 'proclaimed': 8363, 'judgmental': 8364, 'fables': 8365, 'sketch': 8366, 'commend': 8367, 'n64': 8368, 'peach': 8369, '120': 8370, 'curses': 8371, 'challnges': 8372, 'secert': 8373, 'toad': 8374, 'alliances': 8375, 'luigi': 8376, 'yoshi': 8377, 'goomba': 8378, 'gameplay': 8379, 'gladly': 8380, 'jolly': 8381, 'bay': 8382, 'gamer': 8383, 'garage': 8384, 'bio': 8385, 'pesci': 8386, 'owning': 8387, 'bian': 8388, 'tire': 8389, 'definately': 8390, 'keeper': 8391, 'formation': 8392, 'tokugawa': 8393, 'shogunate': 8394, 'tin': 8395, 'mumbo': 8396, 'jumbo': 8397, 'steam': 8398, 'latest': 8399, 'warfare': 8400, 'relentless': 8401, 'exhausting': 8402, 'premises': 8403, 'ninjas': 8404, 'shuriikens': 8405, 'iba': 8406, 'gunning': 8407, 'mortars': 8408, 'firmly': 8409, 'sprawling': 8410, 'kagemusha': 8411, 'hiroshi': 8412, 'inagaki': 8413, 'stylistic': 8414, 'peckinpah': 8415, 'enzo': 8416, 'castellari': 8417, 'circa': 8418, 'keoma': 8419, 'absent': 8420, 'pander': 8421, 'evident': 8422, 'ambitions': 8423, 'withouts': 8424, 'disco': 8425, 'montages': 8426, 'bonding': 8427, 'detract': 8428, 'whooping': 8429, '140': 8430, 'clipped': 8431, 'tighter': 8432, 'prominent': 8433, 'sonny': 8434, 'chiba': 8435, 'isao': 8436, 'natsuyagi': 8437, 'goyokin': 8438, 'tsunehiko': 8439, 'watase': 8440, 'yakuza': 8441, 'papers': 8442, 'hiroyuki': 8443, 'sanada': 8444, 'guzman': 8445, 'burglary': 8446, 'heist': 8447, 'lifer': 8448, 'rosalind': 8449, 'pero': 8450, 'mahalovic': 8451, 'soliti': 8452, 'ignoti': 8453, 'macy': 8454, 'isaiah': 8455, 'jeter': 8456, 'guzmán': 8457, 'esposito': 8458, 'clooney': 8459, 'securing': 8460, 'babitch': 8461, 'corrupted': 8462, 'legal': 8463, 'illegal': 8464, 'toto': 8465, 'deed': 8466, 'columbine': 8467, 'phillips': 8468, 'christensen': 8469, 'garber': 8470, 'tissues': 8471, 'alert': 8472, 'prank': 8473, 'swoop': 8474, 'forgiveness': 8475, 'warranted': 8476, 'pose': 8477, 'determine': 8478, 'lip': 8479, 'movements': 8480, 'fares': 8481, 'hamill': 8482, 'unrecognizable': 8483, 'muska': 8484, 'squawk': 8485, 'monotonous': 8486, 'cummings': 8487, 'miscast': 8488, 'follower': 8489, 'blanks': 8490, 'dashing': 8491, 'wounds': 8492, 'accumulated': 8493, 'girlfriends': 8494, 'humanism': 8495, 'secretly': 8496, 'togetherness': 8497, 'starlets': 8498, 'cauffiel': 8499, 'broaches': 8500, 'tummy': 8501, 'katherine': 8502, 'heigl': 8503, 'biology': 8504, 'laboratory': 8505, 'tables': 8506, 'whirlpool': 8507, 'bath': 8508, 'capshaw': 8509, 'calumniated': 8510, 'marley': 8511, 'shelton': 8512, 'unluckiest': 8513, 'vicissitude': 8514, 'benita': 8515, 'luckiest': 8516, 'boreanaz': 8517, 'fraidy': 8518, 'broadcast': 8519, 'observes': 8520, 'sheet': 8521, 'cleaner': 8522, 'controls': 8523, 'maid': 8524, 'reflection': 8525, 'slower': 8526, 'dodging': 8527, 'numb': 8528, 'motivations': 8529, 'motivated': 8530, 'repent': 8531, 'floated': 8532, 'spare': 8533, 'agony': 8534, 'exultation': 8535, 'sugiyama': 8536, 'yakusho': 8537, 'rediscovering': 8538, 'agonies': 8539, 'expressed': 8540, 'watercolor': 8541, 'prodigal': 8542, 'hung': 8543, 'fatter': 8544, 'footed': 8545, 'actioner': 8546, 'adjuncts': 8547, 'sabre': 8548, 'duel': 8549, 'deceptive': 8550, 'pedicab': 8551, 'sweetened': 8552, 'lau': 8553, 'kar': 8554, 'leung': 8555, 'climactic': 8556, 'altercations': 8557, 'assault': 8558, 'chow': 8559, 'punishing': 8560, 'shilpa': 8561, 'jade': 8562, 'goody': 8563, 'bashing': 8564, 'curry': 8565, 'thy': 8566, 'hypocritical': 8567, 'urdu': 8568, 'fluently': 8569, 'ram': 8570, 'renu': 8571, 'setna': 8572, '1995': 8573, 'landed': 8574, 'walmington': 8575, 'jungles': 8576, 'deolali': 8577, 'solomons': 8578, 'beaumont': 8579, 'hayes': 8580, 'sugden': 8581, 'lah': 8582, 'dah': 8583, 'clegg': 8584, 'presiding': 8585, 'bellicose': 8586, 'windsor': 8587, 'regarded': 8588, 'illegitimate': 8589, 'reynolds': 8590, 'hewlett': 8591, 'dimwitted': 8592, 'captain': 8593, 'ashwood': 8594, 'knowles': 8595, 'sage': 8596, 'quoting': 8597, 'hindu': 8598, 'proverbs': 8599, 'dino': 8600, 'punka': 8601, 'babar': 8602, 'bhatti': 8603, 'indians': 8604, 'interruptions': 8605, 'warbling': 8606, 'penned': 8607, 'taverner': 8608, 'equalling': 8609, 'affections': 8610, '1975': 8611, 'estelle': 8612, 'charts': 8613, 'whispering': 8614, 'chestnuts': 8615, 'recast': 8616, '1981': 8617, 'blighty': 8618, 'dodgy': 8619, 'passage': 8620, 'refer': 8621, 'sanitizing': 8622, 'unsavoury': 8623, 'dishonest': 8624, 'heavens': 8625, 'gossiping': 8626, 'commercially': 8627, 'merit': 8628, 'undoing': 8629, 'clone': 8630, 'glib': 8631, 'broad': 8632, 'adequately': 8633, 'battlefield': 8634, 'newfound': 8635, 'underestimate': 8636, 'unclear': 8637, 'unfounded': 8638, 'brandoesque': 8639, 'earn': 8640, 'realistically': 8641, 'materialistic': 8642, 'anguished': 8643, 'prayers': 8644, 'prevents': 8645, 'accepting': 8646, 'alternately': 8647, 'complement': 8648, 'perplexing': 8649, 'miracles': 8650, 'restore': 8651, 'tauntingly': 8652, 'metaphor': 8653, 'manic': 8654, 'psychiatric': 8655, 'regressive': 8656, 'discriminatory': 8657, 'hesseman': 8658, 'stigma': 8659, 'advances': 8660, 'bouts': 8661, 'promiscuity': 8662, 'divorces': 8663, 'tantrums': 8664, 'survey': 8665, 'nami': 8666, 'symptoms': 8667, 'respondents': 8668, 'poll': 8669, 'bp': 8670, 'bootstraps': 8671, 'educated': 8672, 'prejudice': 8673, 'weirdo': 8674, 'coeds': 8675, 'doofy': 8676, 'boyfriends': 8677, 'redneck': 8678, 'cuties': 8679, 'macon': 8680, 'stalks': 8681, 'traps': 8682, 'slaughters': 8683, 'witless': 8684, 'misanthropes': 8685, 'misogynists': 8686, 'nihilists': 8687, 'dreamy': 8688, 'teaching': 8689, 'literacy': 8690, 'rang': 8691, 'gulp': 8692, 'plimpton': 8693, 'lagging': 8694, 'atherton': 8695, 'peacefully': 8696, 'mistreating': 8697, 'naturally': 8698, 'enforcer': 8699, 'blazing': 8700, 'monday': 8701, 'shield': 8702, 'dud': 8703, 'escapist': 8704, 'ropey': 8705, 'obligatory': 8706, 'depended': 8707, 'obsess': 8708, 'cliches': 8709, 'ghetto': 8710, 'sterotype': 8711, 'ebonic': 8712, 'phrased': 8713, 'provoked': 8714, 'slur': 8715, 'resonance': 8716, 'empathic': 8717, 'understatedly': 8718, 'ghetoization': 8719, 'canadians': 8720, 'avoiding': 8721, 'weirdy': 8722, 'cuz': 8723, 'pops': 8724, 'rapes': 8725, 'gallons': 8726, 'simulated': 8727, 'unnervingly': 8728, 'masturbation': 8729, 'jerks': 8730, 'fetish': 8731, 'winded': 8732, 'tended': 8733, 'awfully': 8734, 'unintentionally': 8735, 'tits': 8736, 'hairy': 8737, 'bushes': 8738, 'spackling': 8739, 'maiden': 8740, 'vagina': 8741, 'yum': 8742, 'snoozer': 8743, 'sleaze': 8744, 'utilized': 8745, 'phase': 8746, 'captioned': 8747, 'emulate': 8748, 'ely': 8749, 'bisset': 8750, 'shawn': 8751, 'sly': 8752, 'poking': 8753, 'sharkey': 8754, 'manservant': 8755, 'prude': 8756, 'heartily': 8757, 'fyi': 8758, 'bacon': 8759, 'beltran': 8760, 'comet': 8761, 'hercule': 8762, 'raconteur': 8763, 'embezzler': 8764, 'gaol': 8765, 'governor': 8766, 'tax': 8767, 'sensing': 8768, 'infiltrate': 8769, 'multinational': 8770, 'prone': 8771, 'sparrow': 8772, 'bird': 8773, 'executive': 8774, 'caper': 8775, 'stumbling': 8776, 'deck': 8777, 'cards': 8778, 'computing': 8779, 'glitches': 8780, 'niggles': 8781, 'intervals': 8782, 'caitlin': 8783, 'feared': 8784, 'manipulates': 8785, 'influences': 8786, 'immorality': 8787, 'tiffani': 8788, 'amber': 8789, 'thiessen': 8790, 'torn': 8791, 'unthinkable': 8792, 'tournament': 8793, 'taekwondo': 8794, 'korean': 8795, 'majesty': 8796, 'macleans': 8797, 'memoir': 8798, 'daredevil': 8799, 'stern': 8800, 'minister': 8801, 'descends': 8802, 'slippery': 8803, 'jessie': 8804, 'cinematopghaphy': 8805, 'kurtwood': 8806, 'debra': 8807, 'rupp': 8808, 'adolescents': 8809, 'kushton': 8810, 'interests': 8811, 'diana': 8812, 'hyland': 8813, 'demi': 8814, 'mo': 8815, 'gaffney': 8816, 'joanne': 8817, 'replacement': 8818, 'tanya': 8819, 'brooke': 8820, 'shields': 8821, 'heading': 8822, 'sabotaged': 8823, 'turners': 8824, 'dummies': 8825, 'adulation': 8826, 'unearthing': 8827, 'ghouls': 8828, 'arcane': 8829, 'filmmaking': 8830, 'wishman': 8831, 'dismember': 8832, 'rendering': 8833, 'unfindable': 8834, 'treasures': 8835, 'behold': 8836, 'woke': 8837, 'ether': 8838, 'fangoria': 8839, 'printed': 8840, 'article': 8841, 'whetted': 8842, 'appetite': 8843, 'kitsch': 8844, 'hallucinogenic': 8845, 'wondrous': 8846, 'cineastes': 8847, 'surrealism': 8848, 'resoundingly': 8849, 'eloquently': 8850, 'users': 8851, 'artefacts': 8852, 'cologne': 8853, 'promotional': 8854, 'woodify': 8855, 'eulogies': 8856, 'squarely': 8857, 'european': 8858, 'arthouse': 8859, 'groupe': 8860, 'exert': 8861, 'listener': 8862, 'contemplating': 8863, 'promo': 8864, 'cinequanon': 8865, 'beg': 8866, 'borrow': 8867, 'steal': 8868, 'acquire': 8869, 'eartha': 8870, 'kitt': 8871, 'darcy': 8872, 'clay': 8873, 'zealand': 8874, 'minty': 8875, 'zhv': 8876, 'testifies': 8877, 'mold': 8878, 'mild': 8879, 'kora': 8880, 'tunde': 8881, 'jegede': 8882, 'preteen': 8883, 'drawings': 8884, 'morphed': 8885, 'oriental': 8886, '21st': 8887, 'crocker': 8888, 'malta': 8889, 'mediterranean': 8890, 'gunslinger': 8891, 'suffered': 8892, 'bots': 8893, 'mst': 8894, 'agustí': 8895, 'antoni': 8896, 'aloy': 8897, 'biel': 8898, 'mesquida': 8899, 'blai': 8900, 'bonet': 8901, 'havoc': 8902, 'heinous': 8903, 'transference': 8904, 'documents': 8905, 'resorting': 8906, 'pamphleteering': 8907, 'blackouts': 8908, 'invasive': 8909, 'nighttime': 8910, 'slaughtering': 8911, 'nilo': 8912, 'mur': 8913, 'lozano': 8914, 'sergi': 8915, 'psychic': 8916, 'trauma': 8917, 'confined': 8918, 'tuberculosis': 8919, 'casamajor': 8920, 'juli': 8921, 'mira': 8922, 'catholicism': 8923, 'blur': 8924, 'delusional': 8925, 'crucifixion': 8926, 'joined': 8927, 'scars': 8928, 'suffice': 8929, 'utmost': 8930, 'applauded': 8931, 'perseverance': 8932, 'cassamoor': 8933, 'jaime': 8934, 'peracaula': 8935, 'javier': 8936, 'navarrete': 8937, 'unafraid': 8938, 'aftermath': 8939, 'dukes': 8940, 'hazzard': 8941, 'hunter': 8942, 'jabs': 8943, 'coyote': 8944, 'crave': 8945, 'pertinent': 8946, 'posey': 8947, 'jalal': 8948, 'hindsight': 8949, 'naivety': 8950, 'denial': 8951, 'terrorism': 8952, 'goldblum': 8953, 'stylistically': 8954, 'gained': 8955, 'revelation': 8956, 'textbooks': 8957, 'vogueing': 8958, 'slide': 8959, 'pretenders': 8960, 'fleisher': 8961, 'illustrated': 8962, 'chart': 8963, 'eltinge': 8964, 'minette': 8965, 'warhol': 8966, 'postdates': 8967, 'ignores': 8968, 'senelick': 8969, 'articles': 8970, 'chrystal': 8971, 'beija': 8972, 'burning': 8973, 'snapshot': 8974, 'venus': 8975, 'xtravaganza': 8976, 'transsexuals': 8977, 'dorian': 8978, 'corey': 8979, 'mummified': 8980, 'literal': 8981, 'closet': 8982, 'austen': 8983, 'provincial': 8984, 'northam': 8985, 'paltrow': 8986, 'salutory': 8987, 'virtue': 8988, 'accessability': 8989, 'scepticism': 8990, 'successions': 8991, 'sympathise': 8992, 'apartheid': 8993, 'reliable': 8994, 'executing': 8995, 'looting': 8996, 'policies': 8997, 'haunt': 8998, 'reverie': 8999, 'lester': 9000, 'shadows': 9001, 'kasdan': 9002, 'lays': 9003, 'divides': 9004, 'insulate': 9005, 'beard': 9006, 'causing': 9007, 'finance': 9008, 'quoted': 9009, 'generalities': 9010, 'responsibility': 9011, 'dismisses': 9012, 'epiphany': 9013, 'subordinate': 9014, 'rightly': 9015, 'mustard': 9016, 'trenches': 9017, 'suzie': 9018, 'favours': 9019, 'enclosed': 9020, 'copyright': 9021, 'communicate': 9022, 'basement': 9023, 'elevator': 9024, 'clicking': 9025, 'satisfactory': 9026, 'hottest': 9027, 'resounding': 9028, 'familiarity': 9029, 'earthy': 9030, 'grounded': 9031, 'walked': 9032, 'thoughtfulness': 9033, 'wrapped': 9034, 'fluffy': 9035, 'fleece': 9036, 'blanket': 9037, 'adore': 9038, 'ch4': 9039, 'eeriness': 9040, 'manipulation': 9041, 'thoughtful': 9042, 'latent': 9043, 'inherited': 9044, 'angelic': 9045, 'merlyn': 9046, 'wrathful': 9047, 'sower': 9048, 'apologise': 9049, 'ag': 9050, 'bankrupt': 9051, 'ridiculousness': 9052, 'kicked': 9053, 'stamped': 9054, 'emergence': 9055, 'entirety': 9056, 'frustrate': 9057, 'gails': 9058, 'resolved': 9059, 'confront': 9060, 'trinity': 9061, 'arcs': 9062, 'execs': 9063, 'yaitate': 9064, 'abs': 9065, 'cbn': 9066, 'azuma': 9067, 'kazuma': 9068, 'fulfill': 9069, 'southern': 9070, 'toyo': 9071, 'tsukino': 9072, 'azusagawa': 9073, 'kawachi': 9074, 'kyousuke': 9075, 'kanmuri': 9076, 'shigeru': 9077, 'skillful': 9078, 'mimic': 9079, 'naruto': 9080, 'conan': 9081, 'takashi': 9082, 'haschiguchi': 9083, 'mediocre': 9084, 'duking': 9085, 'fuflo': 9086, 'pc': 9087, 'worldwide': 9088, 'brawl': 9089, 'pretending': 9090, 'mentioning': 9091, 'grimaces': 9092, 'management': 9093, 'dates': 9094, 'textiles': 9095, 'turmoil': 9096, 'retains': 9097, 'repels': 9098, 'titular': 9099, 'centrepiece': 9100, 'indestructible': 9101, 'characterisation': 9102, 'eras': 9103, 'adopt': 9104, 'lifts': 9105, 'dizzying': 9106, 'insular': 9107, 'generate': 9108, 'urgency': 9109, 'bury': 9110, 'greenwood': 9111, 'befuddled': 9112, 'cecil': 9113, 'gough': 9114, 'sparkling': 9115, 'dollops': 9116, 'cynicism': 9117, 'wine': 9118, 'displaying': 9119, 'engagement': 9120, 'manners': 9121, 'reflected': 9122, 'bride': 9123, 'anjaane': 9124, 'ajnabi': 9125, 'characteristics': 9126, 'answering': 9127, 'softly': 9128, 'feeds': 9129, 'poonam': 9130, 'replacing': 9131, 'salman': 9132, 'anupam': 9133, 'kher': 9134, 'mohan': 9135, 'joshi': 9136, 'promised': 9137, 'cheered': 9138, 'lifted': 9139, 'antebellum': 9140, 'sale': 9141, 'brotherhood': 9142, 'uniforms': 9143, 'corps': 9144, '1830': 9145, 'graduated': 9146, '1861': 9147, 'dupont': 9148, 'grad': 9149, 'switching': 9150, 'experimenting': 9151, 'nicknames': 9152, 'autie': 9153, 'alonzo': 9154, 'cushing': 9155, '1854': 9156, 'santa': 9157, 'fe': 9158, 'fudges': 9159, 'graduating': 9160, 'jeb': 9161, '1859': 9162, 'insurrection': 9163, 'raid': 9164, 'cadet': 9165, '61': 9166, 'chums': 9167, 'dev': 9168, 'shelby': 9169, 'peyton': 9170, 'partick': 9171, 'rorke': 9172, 'pelham': 9173, 'pumba': 9174, 'explanations': 9175, 'hakuna': 9176, 'matata': 9177, 'worries': 9178, 'uncooked': 9179, 'sabine': 9180, 'timento': 9181, 'achterbusch': 9182, 'hummer': 9183, 'conventions': 9184, 'pendant': 9185, 'introversion': 9186, 'exhibition': 9187, 'fanatically': 9188, 'dezel': 9189, 'embarrassing': 9190, 'sooo': 9191, 'renewed': 9192, 'vietcong': 9193, 'technologically': 9194, 'mcdiarmid': 9195, 'bittersweet': 9196, 'palace': 9197, 'bikini': 9198, 'franchises': 9199, 'sorta': 9200, 'lovecraftian': 9201, 'backbone': 9202, 'doses': 9203, 'splattery': 9204, 'marcus': 9205, 'bodybuilding': 9206, 'transsexual': 9207, 'retarded': 9208, 'plaything': 9209, 'freakish': 9210, 'craziness': 9211, 'freudian': 9212, 'anomaly': 9213, 'despairing': 9214, 'equivalent': 9215, 'malle': 9216, 'feu': 9217, 'follet': 9218, '1963': 9219, 'harel': 9220, 'wry': 9221, 'entomologist': 9222, 'colleagues': 9223, 'josé': 9224, 'garcia': 9225, 'climaxes': 9226, 'unfulfilled': 9227, 'clouzot': 9228, 'misanthropy': 9229, 'narrator': 9230, 'rouen': 9231, 'disgust': 9232, 'informed': 9233, 'dumps': 9234, 'clyde': 9235, 'thelma': 9236, 'louise': 9237, 'gently': 9238, 'tribute': 9239, 'moroccan': 9240, 'devoutly': 9241, 'generosity': 9242, 'wisdom': 9243, 'elders': 9244, 'phones': 9245, 'yugoslavia': 9246, 'mecca': 9247, 'populations': 9248, 'repression': 9249, 'cleansing': 9250, 'dictators': 9251, 'torture': 9252, 'hints': 9253, 'agendas': 9254, 'drab': 9255, 'outlandish': 9256, 'donovan': 9257, 'chews': 9258, 'desserts': 9259, 'absurdly': 9260, 'strikingly': 9261, 'infidelities': 9262, 'pioneer': 9263, 'wladyslaw': 9264, 'mest': 9265, 'kinematograficheskogo': 9266, 'operatora': 9267, 'kinematograph': 9268, 'brimming': 9269, 'puppetry': 9270, 'shortage': 9271, 'uneventful': 9272, 'yearn': 9273, 'dragonfly': 9274, 'admirer': 9275, 'devious': 9276, 'acquaintance': 9277, 'keyhole': 9278, 'spectacle': 9279, 'bashes': 9280, 'clambers': 9281, 'chimney': 9282, 'venting': 9283, 'forgives': 9284, 'projectionist': 9285, 'attending': 9286, 'intercut': 9287, 'disloyalty': 9288, 'umbrella': 9289, 'dives': 9290, 'appreciative': 9291, 'comings': 9292, 'goings': 9293, 'miniscule': 9294, 'species': 9295, 'communicating': 9296, 'startlingly': 9297, 'gr8': 9298, 'fella': 9299, 'drink': 9300, 'breast': 9301, 'lusting': 9302, 'aroused': 9303, 'cheeky': 9304, 'jugs': 9305, 'tit': 9306, 'friday': 9307, '25yrs': 9308, 'rivals': 9309, 'zatoichi': 9310, 'katsu': 9311, 'unpretentious': 9312, 'offs': 9313, 'unofficial': 9314, 'corner': 9315, 'fright': 9316, 'dept': 9317, 'mins': 9318, 'frights': 9319, 'organic': 9320, 'ck': 9321, 'commentators': 9322, 'summaries': 9323, 'spooked': 9324, 'tripe': 9325, 'bogeymen': 9326, 'invasions': 9327, 'external': 9328, 'completing': 9329, 'cycle': 9330, 'reunited': 9331, 'hardened': 9332, 'despises': 9333, 'crook': 9334, 'sandy': 9335, 'unknowingly': 9336, 'stevens': 9337, 'shaken': 9338, 'intending': 9339, 'slapped': 9340, 'enraging': 9341, 'departed': 9342, 'riddled': 9343, 'confessing': 9344, 'permits': 9345, 'professes': 9346, 'mueller': 9347, 'curtain': 9348, 'wtse': 9349, 'donnelly': 9350, 'flames': 9351, 'cityscapes': 9352, 'taunts': 9353, 'neville': 9354, 'brand': 9355, 'unjustly': 9356, 'northeastern': 9357, 'illiterate': 9358, 'tadeu': 9359, 'dias': 9360, 'housemaid': 9361, 'resold': 9362, 'lourenço': 9363, 'otávio': 9364, 'augusto': 9365, 'deflowers': 9366, 'brothel': 9367, 'amazonas': 9368, 'saraiva': 9369, 'calloni': 9370, 'rio': 9371, 'janeiro': 9372, 'cáften': 9373, 'vera': 9374, 'exposes': 9375, 'shameful': 9376, 'lilja': 9377, 'identical': 9378, 'rudi': 9379, 'lagemann': 9380, 'prostitutes': 9381, 'surgeries': 9382, 'foxes': 9383, 'jodie': 9384, 'stronger': 9385, 'schooler': 9386, 'baio': 9387, 'chachi': 9388, 'cherie': 9389, 'hangs': 9390, 'rescued': 9391, 'automobile': 9392, 'flipping': 9393, 'bedtime': 9394, 'dunk': 9395, 'examine': 9396, 'aftereffects': 9397, 'contrived': 9398, 'depressant': 9399, 'columnbine': 9400, 'popped': 9401, 'dispensing': 9402, 'term': 9403, 'nuts': 9404, 'illnesses': 9405, 'particulars': 9406, 'fitzgerald': 9407, 'anglophile': 9408, 'toby': 9409, 'stephens': 9410, 'magnetic': 9411, 'gilbert': 9412, 'markham': 9413, 'pleasently': 9414, 'farrah': 9415, 'fawcett': 9416, 'orr': 9417, 'burrows': 9418, 'hoped': 9419, 'packs': 9420, 'belushi': 9421, 'lovitz': 9422, 'linda': 9423, 'renee': 9424, 'wholesome': 9425, 'danced': 9426, 'bombs': 9427, 'carrie': 9428, 'moss': 9429, 'connolly': 9430, 'czerny': 9431, 'refused': 9432, 'squirted': 9433, 'hose': 9434, 'hedge': 9435, 'ant': 9436, 'egg': 9437, 'omelet': 9438, 'mistakenly': 9439, 'mocking': 9440, 'tormentors': 9441, 'alley': 9442, 'oop': 9443, 'responds': 9444, 'rejoinder': 9445, 'remark': 9446, 'spoken': 9447, 'sibling': 9448, 'conformity': 9449, 'stereotypical': 9450, 'tool': 9451, 'laughable': 9452, 'mcdonald': 9453, 'scoff': 9454, 'macaulay': 9455, 'smalltown': 9456, 'panhandle': 9457, 'echoes': 9458, 'riviera': 9459, 'overcomes': 9460, 'deceit': 9461, 'infectious': 9462, 'gait': 9463, 'exude': 9464, '1997': 9465, 'slightest': 9466, 'cinéma': 9467, 'tout': 9468, 'écran': 9469, 'nervous': 9470, 'uneasiness': 9471, 'terrorist': 9472, 'quote': 9473, 'translating': 9474, 'undergoing': 9475, 'voyeur': 9476, 'happiest': 9477, 'earns': 9478, 'precedent': 9479, 'sum': 9480, 'reassures': 9481, 'personnaly': 9482, 'alchemy': 9483, 'kris': 9484, 'kristofferson': 9485, 'globes': 9486, 'grammy': 9487, 'criticized': 9488, 'dared': 9489, 'dodge': 9490, 'bullets': 9491, 'sifting': 9492, 'bargain': 9493, 'relic': 9494, 'abnormal': 9495, 'bothered': 9496, 'realised': 9497, 'wasters': 9498, 'acceptably': 9499, 'abysmal': 9500, 'controversy': 9501, 'spoils': 9502, 'ashoka': 9503, 'mangal': 9504, 'pandey': 9505, 'loc': 9506, 'milestone': 9507, 'mega': 9508, 'pinjar': 9509, 'counts': 9510, 'firoz': 9511, 'abbas': 9512, 'migrates': 9513, 'profession': 9514, 'georgeann': 9515, 'cass': 9516, 'fatso': 9517, 'evolves': 9518, 'programming': 9519, 'brenda': 9520, 'vaccaro': 9521, 'hankies': 9522, 'milgram': 9523, 'scripted': 9524, 'constituted': 9525, 'investigate': 9526, 'findings': 9527, 'committee': 9528, 'initiate': 9529, 'controlled': 9530, '14th': 9531, 'arrondissement': 9532, 'carol': 9533, 'margo': 9534, 'martindale': 9535, 'denver': 9536, 'montmartre': 9537, 'loin': 9538, '16ème': 9539, 'riots': 9540, 'cités': 9541, 'ana': 9542, 'catalina': 9543, 'sandino': 9544, 'nanny': 9545, 'quartier': 9546, 'gérard': 9547, 'depardieu': 9548, 'tenancier': 9549, 'gazzara': 9550, 'eiffel': 9551, 'mimes': 9552, 'tuileries': 9553, 'tourist': 9554, 'parc': 9555, 'monceau': 9556, 'ludivine': 9557, 'sagnier': 9558, 'barcelona': 9559, 'verdi': 9560, '84': 9561, 'conor': 9562, 'guineas': 9563, 'overcame': 9564, 'income': 9565, 'dubliners': 9566, 'arrogant': 9567, 'scratching': 9568, 'fatal': 9569, 'plasma': 9570, 'emphasize': 9571, 'blueray': 9572, 'suggestion': 9573, 'mowed': 9574, 'esteemed': 9575, 'lulls': 9576, 'vigilance': 9577, 'laconic': 9578, 'uniformly': 9579, 'mamet': 9580, 'unattractive': 9581, 'homeliness': 9582, 'motivation': 9583, 'underside': 9584, 'discomforting': 9585, 'ambiguity': 9586, 'adapting': 9587, 'mores': 9588, 'habitually': 9589, 'violating': 9590, 'brainer': 9591, 'nooo': 9592, 'bmacv': 9593, 'spells': 9594, 'dieted': 9595, 'crack': 9596, 'chemotherapy': 9597, 'disconcerting': 9598, 'detracted': 9599, 'hotness': 9600, 'separated': 9601, 'cracker': 9602, 'press': 9603, 'conference': 9604, 'dolittle': 9605, 'shyness': 9606, 'gentleness': 9607, 'charity': 9608, 'advertises': 9609, 'services': 9610, 'halls': 9611, 'busey': 9612, 'wisecracks': 9613, 'chuckles': 9614, 'amuse': 9615, 'helicopters': 9616, 'vans': 9617, 'borden': 9618, 'wellman': 9619, 'ww11': 9620, 'euphoria': 9621, 'goodwill': 9622, '1944': 9623, 'defeated': 9624, 'déjà': 9625, 'vu': 9626, 'radiant': 9627, 'validates': 9628, 'carousel': 9629, 'wally': 9630, 'bleary': 9631, 'gleason': 9632, 'ulysses': 9633, 'lighter': 9634, 'tustin': 9635, 'lakehurst': 9636, 'p': 9637, '38': 9638, 'squadron': 9639, 'afb': 9640, 'doubled': 9641, 'fantastical': 9642, 'designed': 9643, 'launch': 9644, 'capabilities': 9645, 'reconnaissance': 9646, 'griffith': 9647, 'reasoning': 9648, 'appropriating': 9649, 'reduced': 9650, 'reelers': 9651, 'satires': 9652, 'riotous': 9653, 'goof': 9654, 'aborigins': 9655, 'defendant': 9656, 'mulkurul': 9657, 'thousands': 9658, 'rainfall': 9659, 'aboriginal': 9660, 'drown': 9661, 'hamnett': 9662, 'gulpilil': 9663, 'chap': 9664, 'aborigin': 9665, 'owl': 9666, 'dramatized': 9667, 'reluctance': 9668, 'republican': 9669, 'overthrown': 9670, 'infiltrates': 9671, 'fascists': 9672, 'beaten': 9673, 'miners': 9674, 'livelihood': 9675, 'socio': 9676, 'economic': 9677, 'hierarchy': 9678, 'compatriots': 9679, 'katina': 9680, 'paxinou': 9681, 'lorre': 9682, 'darkly': 9683, 'lit': 9684, 'dreary': 9685, 'wong': 9686, 'howe': 9687, 'jörg': 9688, 'huxley': 9689, 'percy': 9690, 'swallows': 9691, 'standstill': 9692, 'pulse': 9693, 'landscape': 9694, 'primary': 9695, 'messenger': 9696, 'calloused': 9697, 'vulnerable': 9698, 'allowance': 9699, 'legalization': 9700, 'hardcore': 9701, 'subsequent': 9702, 'fade': 9703, 'heightens': 9704, 'mystique': 9705, 'graver': 9706, 'pressed': 9707, 'sounded': 9708, '1932': 9709, 'falters': 9710, 'harmonic': 9711, 'duped': 9712, 'crock': 9713, 'steels': 9714, 'elephant': 9715, 'belonged': 9716, 'businesses': 9717, 'crocks': 9718, 'pothole': 9719, 'banks': 9720, 'liana': 9721, 'picking': 9722, 'punishment': 9723, 'vane': 9724, 'slap': 9725, 'potholes': 9726, 'inclination': 9727, 'erbe': 9728, 'relaxed': 9729, 'horribly': 9730, 'dissed': 9731, 'chatting': 9732, 'weather': 9733, 'sc': 9734, 'folk': 9735, 'babies': 9736, 'begun': 9737, 'maltin': 9738, 'bells': 9739, 'pursuit': 9740, 'brophy': 9741, 'mcbride': 9742, 'casts': 9743, 'lugosi': 9744, 'karloff': 9745, 'lionel': 9746, 'staircases': 9747, 'townspeople': 9748, 'waving': 9749, 'torches': 9750, 'vampires': 9751, 'goofy': 9752, 'haired': 9753, 'burgomeister': 9754, 'spaced': 9755, 'kleinschloss': 9756, 'revolves': 9757, 'tier': 9758, 'hum': 9759, 'hi': 9760, 'woody7739': 9761, 'melissa': 9762, 'hart': 9763, 'sabrina': 9764, 'carfully': 9765, 'bottles': 9766, 'fingerprints': 9767, 'backfired': 9768, 'shops': 9769, 'memo': 9770, 'mogul': 9771, 'antheil': 9772, 'acceptable': 9773, 'heinz': 9774, 'arrangements': 9775, 'ardent': 9776, 'devotee': 9777, 'scratched': 9778, 'initials': 9779, 'unhappier': 9780, 'abroad': 9781, 'vi': 9782, 'viola': 9783, 'cab': 9784, 'accounting': 9785, 'weaknesses': 9786, 'diving': 9787, 'warrant': 9788, 'crescendo': 9789, 'bewilderment': 9790, 'items': 9791, 'antic': 9792, 'pratfall': 9793, 'pluto': 9794, 'pup': 9795, 'duck': 9796, 'sorely': 9797, 'photographing': 9798, 'picnic': 9799, 'strain': 9800, 'outburst': 9801, 'aquarium': 9802, 'echo': 9803, 'pier': 9804, 'gunshot': 9805, 'expenditure': 9806, 'junked': 9807, 'hullabaloo': 9808, 'reference': 9809, 'vulgarity': 9810, 'incalculable': 9811, 'edits': 9812, 'elliot': 9813, 'toss': 9814, 'climbs': 9815, 'scoping': 9816, 'kathy': 9817, 'moriarty': 9818, 'dining': 9819, 'seemy': 9820, 'daytime': 9821, 'analyzing': 9822, 'critiquing': 9823, 'employing': 9824, 'bonds': 9825, 'visconti': 9826, 'immaculate': 9827, 'massimo': 9828, 'girotti': 9829, 'calamai': 9830, 'giovanna': 9831, 'postman': 9832, 'bettered': 9833, 'zenith': 9834, 'establishing': 9835, 'jury': 9836, 'enthusiast': 9837, 'baggage': 9838, 'staring': 9839, 'allergic': 9840, 'mosquitos': 9841, 'itch': 9842, 'boil': 9843, 'rochelle': 9844, 'panama': 9845, 'necessity': 9846, 'fuss': 9847, 'bombed': 9848, 'nodding': 9849, 'sip': 9850, 'ad': 9851, 'overjoyed': 9852, 'terrifyingly': 9853, 'elegant': 9854, 'cowering': 9855, 'icy': 9856, 'patrician': 9857, 'impecunious': 9858, 'vanishes': 9859, 'dithering': 9860, 'macready': 9861, 'troubled': 9862, 'lowlife': 9863, 'relax': 9864, 'plodding': 9865, 'span': 9866, 'grips': 9867, 'hurrying': 9868, 'emphatically': 9869, 'alloted': 9870, 'apprehensive': 9871, 'hermiting': 9872, 'jahfre': 9873, 'imdbs': 9874, 'delve': 9875, 'invested': 9876, 'weepy': 9877, 'baked': 9878, 'awaited': 9879, 'vitti': 9880, 'elton': 9881, 'tudor': 9882, 'elizabethan': 9883, 'baldrick': 9884, 'robinson': 9885, 'regent': 9886, 'wales': 9887, 'electing': 9888, 'borough': 9889, 'scarlet': 9890, 'pimpernel': 9891, 'coltrane': 9892, 'mcinnerny': 9893, 'fry': 9894, 'comedians': 9895, 'overkill': 9896, 'rebecca': 9897, 'gibney': 9898, 'intricate': 9899, 'flashy': 9900, 'desired': 9901, 'messy': 9902, 'interpreter': 9903, 'doubting': 9904, 'remakes': 9905, 'interacted': 9906, 'encountered': 9907, 'complications': 9908, 'envisions': 9909, 'amitabh': 9910, 'bachchan': 9911, 'kumer': 9912, 'aditya': 9913, 'shefali': 9914, 'sumitra': 9915, 'priyanka': 9916, 'chopra': 9917, 'ragpal': 9918, 'yadav': 9919, 'phenomena': 9920, 'phenoms': 9921, 'novak': 9922, 'lemon': 9923, 'resume': 9924, 'lancaster': 9925, 'gingold': 9926, 'avenues': 9927, 'veronica': 9928, 'witchy': 9929, 'bewitched': 9930, 'practical': 9931, 'holidays': 9932, 'superficially': 9933, 'sacrifice': 9934, 'rib': 9935, 'guileless': 9936, 'possession': 9937, 'confronts': 9938, 'bios': 9939, 'strangler': 9940, 'clarify': 9941, 'senate': 9942, 'envelope': 9943, 'tastefully': 9944, 'shorter': 9945, 'toronto': 9946, 'paragraphs': 9947, 'nails': 9948, 'flop': 9949, 'moviemanmenzel': 9950, 'quips': 9951, 'timeing': 9952, 'undervalued': 9953, 'imitate': 9954, 'knockoff': 9955, 'butchering': 9956, 'rewrite': 9957, 'boarder': 9958, 'minefield': 9959, 'polish': 9960, 'cloth': 9961, 'similarly': 9962, 'disorientation': 9963, 'defection': 9964, 'comported': 9965, 'desperately': 9966, 'divide': 9967, 'pays': 9968, 'idealism': 9969, 'clevemore': 9970, 'impose': 9971, 'unnoticed': 9972, 'promote': 9973, 'colourful': 9974, 'institution': 9975, 'commutes': 9976, 'mortgage': 9977, 'flagging': 9978, 'zest': 9979, 'commute': 9980, 'lecherous': 9981, 'initiated': 9982, 'attitudes': 9983, 'imports': 9984, 'contrasts': 9985, 'insights': 9986, 'starters': 9987, 'spawn': 9988, 'cartoony': 9989, 'feiss': 9990, 'cow': 9991, 'twisting': 9992, 'unmissable': 9993, 'adrenalin': 9994, 'cudos': 9995, 'endemol': 9996, 'holland': 9997, 'kidney': 9998, 'hoax': 9999, 'organ': 10000, 'donation': 10001, '<PAD>': 0, '<UNK>': 1}\n"
     ]
    }
   ],
   "source": [
    "print(token2id)"
   ]
  },
  {
   "cell_type": "markdown",
   "metadata": {
    "colab_type": "text",
    "id": "w8KaOtTEkirr"
   },
   "source": [
    "#### Transform tokens into indices according to token2id"
   ]
  },
  {
   "cell_type": "code",
   "execution_count": 21,
   "metadata": {
    "colab": {},
    "colab_type": "code",
    "id": "oE_8noJXkKVn"
   },
   "outputs": [],
   "source": [
    "# transform tokens into integer indices according to token2id\n",
    "def transform(tokenized_data, token2id):\n",
    "  # input: list of lists of tokens\n",
    "  # output: list of list of ids according to token2id\n",
    "\n",
    "  text_indices = []\n",
    "  for tokens in tqdm(tokenized_data):\n",
    "      indices = [token2id.get(token, 1) for token in tokens]\n",
    "      text_indices.append(indices)\n",
    "  return text_indices"
   ]
  },
  {
   "cell_type": "code",
   "execution_count": 22,
   "metadata": {
    "colab": {
     "base_uri": "https://localhost:8080/",
     "height": 115,
     "referenced_widgets": [
      "9f81a39c281f426880909e361d039c8b",
      "b84abe778aac4c8183d13c6eec68c81f",
      "1fe50b1e6192475b9a71ea83cfe6ae11",
      "d99e45a60c7a405cb5173f7f8d988b7a",
      "e3b14c527dda43f5aaaf3c0c6a2ad6ed",
      "20f8d3477af14e42a781aecfd85947ac",
      "5dd9fe24a71b4ce0ba7d6b949445e62e",
      "dad8594b243841c085fe70ac2aebd807",
      "1db49dd1ce7c4a88982e18d2c8dab533",
      "b981cd873c5448908cec41a55a670cf1",
      "05ae2950765a4bfdb4984cf44316ec62",
      "a478daf24caf482499017ceea295fb9d",
      "87d9c635d28e44f3b9693f6ce760e0b3",
      "913eeb0253d44501bab15e96cda7d0c5",
      "781e683609ee4b419a69151fff7c6900",
      "db8d778b53b24d8695e81294098e368c"
     ]
    },
    "colab_type": "code",
    "id": "brknQnkElA33",
    "outputId": "b3f0177c-e74e-4aff-a893-c0b929ea84ea"
   },
   "outputs": [
    {
     "name": "stderr",
     "output_type": "stream",
     "text": [
      "100%|██████████| 500/500 [00:00<00:00, 43813.89it/s]\n",
      "100%|██████████| 500/500 [00:00<00:00, 43003.51it/s]\n"
     ]
    }
   ],
   "source": [
    "train_transformed = transform(train_tokenized, token2id)\n",
    "test_transformed = transform(test_tokenized, token2id)"
   ]
  },
  {
   "cell_type": "code",
   "execution_count": 23,
   "metadata": {
    "colab": {
     "base_uri": "https://localhost:8080/",
     "height": 71
    },
    "colab_type": "code",
    "id": "6NIt3HQrlbjh",
    "outputId": "dffeff2c-56f8-4d5a-88d5-ca0aab1603da"
   },
   "outputs": [
    {
     "name": "stdout",
     "output_type": "stream",
     "text": [
      "[847, 132, 4, 848, 289, 1836, 1165, 3847, 2844, 138, 71, 2, 5870, 932, 89, 414, 3848, 1554, 5871, 933, 5872, 1555, 2244, 3849, 5873, 5874, 934, 43, 2844, 3850, 2245, 771, 44, 104, 3851, 5875, 554, 3847, 2, 3852, 2844, 597, 703, 2845, 2246, 5876, 3853, 1166, 3854, 1030, 67, 256, 2846, 5877, 390, 2247, 2248, 5878, 5879, 5880, 307, 3855, 2847, 5881, 149, 5882, 3856, 55, 5883, 5884, 7, 68, 5885, 243, 598, 4, 391, 1556, 5886, 3857, 2, 308, 5887, 1338, 202, 13, 5888, 5889, 5890, 5891, 5892, 1339, 2249, 599, 41, 224, 1167, 5893, 3858, 5894, 139, 2848, 167, 119]\n",
      "['bizarre', 'horror', 'movie', 'filled', 'famous', 'faces', 'stolen', 'cristina', 'raines', 'later', 'tv', 's', 'flamingo', 'road', 'pretty', 'somewhat', 'unstable', 'model', 'gummy', 'smile', 'slated', 'pay', 'attempted', 'suicides', 'guarding', 'gateway', 'hell', 'scenes', 'raines', 'modeling', 'captured', 'mood', 'music', 'perfect', 'deborah', 'raffin', 'charming', 'cristina', 's', 'pal', 'raines', 'moves', 'creepy', 'brooklyn', 'heights', 'brownstone', 'inhabited', 'blind', 'priest', 'floor', 'things', 'start', 'cooking', 'neighbors', 'including', 'fantastically', 'wicked', 'burgess', 'meredith', 'kinky', 'couple', 'sylvia', 'miles', 'beverly', 'd', 'angelo', 'diabolical', 'lot', 'eli', 'wallach', 'great', 'fun', 'wily', 'police', 'detective', 'movie', 'nearly', 'cross', 'pollination', 'rosemary', 's', 'baby', 'exorcist', 'combination', 'based', 'best', 'seller', 'jeffrey', 'konvitz', 'sentinel', 'entertainingly', 'spooky', 'shocks', 'brought', 'director', 'michael', 'winner', 'mounts', 'thoughtfully', 'downbeat', 'ending', 'skill', '1', '2']\n"
     ]
    }
   ],
   "source": [
    "print(train_transformed[1])\n",
    "print([id2token[i] for i in train_transformed[1]])"
   ]
  },
  {
   "cell_type": "code",
   "execution_count": 24,
   "metadata": {
    "colab": {
     "base_uri": "https://localhost:8080/",
     "height": 34
    },
    "colab_type": "code",
    "id": "30sMklPoldzI",
    "outputId": "a05f8eab-878a-4a37-9f6f-caab871779c1"
   },
   "outputs": [
    {
     "name": "stdout",
     "output_type": "stream",
     "text": [
      "[532, 55, 1]\n"
     ]
    }
   ],
   "source": [
    "tokens = [\"oh\", \"lot\", \"skhjdaasdsa\"]\n",
    "print([token2id.get(token, 1) for token in tokens])"
   ]
  },
  {
   "cell_type": "code",
   "execution_count": null,
   "metadata": {},
   "outputs": [],
   "source": []
  }
 ],
 "metadata": {
  "colab": {
   "collapsed_sections": [],
   "name": "Selina:Lab2_TextPreProcessing.ipynb",
   "provenance": [],
   "toc_visible": true
  },
  "kernelspec": {
   "display_name": "Python 3",
   "language": "python",
   "name": "python3"
  },
  "language_info": {
   "codemirror_mode": {
    "name": "ipython",
    "version": 3
   },
   "file_extension": ".py",
   "mimetype": "text/x-python",
   "name": "python",
   "nbconvert_exporter": "python",
   "pygments_lexer": "ipython3",
   "version": "3.7.6"
  },
  "widgets": {
   "application/vnd.jupyter.widget-state+json": {
    "029f7851706b4116b47ffabb5127adfd": {
     "model_module": "@jupyter-widgets/controls",
     "model_name": "FloatProgressModel",
     "state": {
      "_dom_classes": [],
      "_model_module": "@jupyter-widgets/controls",
      "_model_module_version": "1.5.0",
      "_model_name": "FloatProgressModel",
      "_view_count": null,
      "_view_module": "@jupyter-widgets/controls",
      "_view_module_version": "1.5.0",
      "_view_name": "ProgressView",
      "bar_style": "success",
      "description": "100%",
      "description_tooltip": null,
      "layout": "IPY_MODEL_af9961b166524d0cb1281063f7b5b7a0",
      "max": 12500,
      "min": 0,
      "orientation": "horizontal",
      "style": "IPY_MODEL_fd9b655634064f139b396992a0ebe392",
      "value": 12500
     }
    },
    "05ae2950765a4bfdb4984cf44316ec62": {
     "model_module": "@jupyter-widgets/controls",
     "model_name": "FloatProgressModel",
     "state": {
      "_dom_classes": [],
      "_model_module": "@jupyter-widgets/controls",
      "_model_module_version": "1.5.0",
      "_model_name": "FloatProgressModel",
      "_view_count": null,
      "_view_module": "@jupyter-widgets/controls",
      "_view_module_version": "1.5.0",
      "_view_name": "ProgressView",
      "bar_style": "success",
      "description": "100%",
      "description_tooltip": null,
      "layout": "IPY_MODEL_913eeb0253d44501bab15e96cda7d0c5",
      "max": 500,
      "min": 0,
      "orientation": "horizontal",
      "style": "IPY_MODEL_87d9c635d28e44f3b9693f6ce760e0b3",
      "value": 500
     }
    },
    "0600c4bb441549d091d59e5ec972fbda": {
     "model_module": "@jupyter-widgets/controls",
     "model_name": "ProgressStyleModel",
     "state": {
      "_model_module": "@jupyter-widgets/controls",
      "_model_module_version": "1.5.0",
      "_model_name": "ProgressStyleModel",
      "_view_count": null,
      "_view_module": "@jupyter-widgets/base",
      "_view_module_version": "1.2.0",
      "_view_name": "StyleView",
      "bar_color": null,
      "description_width": "initial"
     }
    },
    "07f1144a123b43caa2bf0e796e110e72": {
     "model_module": "@jupyter-widgets/base",
     "model_name": "LayoutModel",
     "state": {
      "_model_module": "@jupyter-widgets/base",
      "_model_module_version": "1.2.0",
      "_model_name": "LayoutModel",
      "_view_count": null,
      "_view_module": "@jupyter-widgets/base",
      "_view_module_version": "1.2.0",
      "_view_name": "LayoutView",
      "align_content": null,
      "align_items": null,
      "align_self": null,
      "border": null,
      "bottom": null,
      "display": null,
      "flex": null,
      "flex_flow": null,
      "grid_area": null,
      "grid_auto_columns": null,
      "grid_auto_flow": null,
      "grid_auto_rows": null,
      "grid_column": null,
      "grid_gap": null,
      "grid_row": null,
      "grid_template_areas": null,
      "grid_template_columns": null,
      "grid_template_rows": null,
      "height": null,
      "justify_content": null,
      "justify_items": null,
      "left": null,
      "margin": null,
      "max_height": null,
      "max_width": null,
      "min_height": null,
      "min_width": null,
      "object_fit": null,
      "object_position": null,
      "order": null,
      "overflow": null,
      "overflow_x": null,
      "overflow_y": null,
      "padding": null,
      "right": null,
      "top": null,
      "visibility": null,
      "width": null
     }
    },
    "09d00473796e47b4be26b18042f45637": {
     "model_module": "@jupyter-widgets/base",
     "model_name": "LayoutModel",
     "state": {
      "_model_module": "@jupyter-widgets/base",
      "_model_module_version": "1.2.0",
      "_model_name": "LayoutModel",
      "_view_count": null,
      "_view_module": "@jupyter-widgets/base",
      "_view_module_version": "1.2.0",
      "_view_name": "LayoutView",
      "align_content": null,
      "align_items": null,
      "align_self": null,
      "border": null,
      "bottom": null,
      "display": null,
      "flex": null,
      "flex_flow": null,
      "grid_area": null,
      "grid_auto_columns": null,
      "grid_auto_flow": null,
      "grid_auto_rows": null,
      "grid_column": null,
      "grid_gap": null,
      "grid_row": null,
      "grid_template_areas": null,
      "grid_template_columns": null,
      "grid_template_rows": null,
      "height": null,
      "justify_content": null,
      "justify_items": null,
      "left": null,
      "margin": null,
      "max_height": null,
      "max_width": null,
      "min_height": null,
      "min_width": null,
      "object_fit": null,
      "object_position": null,
      "order": null,
      "overflow": null,
      "overflow_x": null,
      "overflow_y": null,
      "padding": null,
      "right": null,
      "top": null,
      "visibility": null,
      "width": null
     }
    },
    "0bcf8d63ae244719a93a9d384b8419bb": {
     "model_module": "@jupyter-widgets/base",
     "model_name": "LayoutModel",
     "state": {
      "_model_module": "@jupyter-widgets/base",
      "_model_module_version": "1.2.0",
      "_model_name": "LayoutModel",
      "_view_count": null,
      "_view_module": "@jupyter-widgets/base",
      "_view_module_version": "1.2.0",
      "_view_name": "LayoutView",
      "align_content": null,
      "align_items": null,
      "align_self": null,
      "border": null,
      "bottom": null,
      "display": null,
      "flex": null,
      "flex_flow": null,
      "grid_area": null,
      "grid_auto_columns": null,
      "grid_auto_flow": null,
      "grid_auto_rows": null,
      "grid_column": null,
      "grid_gap": null,
      "grid_row": null,
      "grid_template_areas": null,
      "grid_template_columns": null,
      "grid_template_rows": null,
      "height": null,
      "justify_content": null,
      "justify_items": null,
      "left": null,
      "margin": null,
      "max_height": null,
      "max_width": null,
      "min_height": null,
      "min_width": null,
      "object_fit": null,
      "object_position": null,
      "order": null,
      "overflow": null,
      "overflow_x": null,
      "overflow_y": null,
      "padding": null,
      "right": null,
      "top": null,
      "visibility": null,
      "width": null
     }
    },
    "0bf09ecccd584add8d9af0ce834a1367": {
     "model_module": "@jupyter-widgets/base",
     "model_name": "LayoutModel",
     "state": {
      "_model_module": "@jupyter-widgets/base",
      "_model_module_version": "1.2.0",
      "_model_name": "LayoutModel",
      "_view_count": null,
      "_view_module": "@jupyter-widgets/base",
      "_view_module_version": "1.2.0",
      "_view_name": "LayoutView",
      "align_content": null,
      "align_items": null,
      "align_self": null,
      "border": null,
      "bottom": null,
      "display": null,
      "flex": null,
      "flex_flow": null,
      "grid_area": null,
      "grid_auto_columns": null,
      "grid_auto_flow": null,
      "grid_auto_rows": null,
      "grid_column": null,
      "grid_gap": null,
      "grid_row": null,
      "grid_template_areas": null,
      "grid_template_columns": null,
      "grid_template_rows": null,
      "height": null,
      "justify_content": null,
      "justify_items": null,
      "left": null,
      "margin": null,
      "max_height": null,
      "max_width": null,
      "min_height": null,
      "min_width": null,
      "object_fit": null,
      "object_position": null,
      "order": null,
      "overflow": null,
      "overflow_x": null,
      "overflow_y": null,
      "padding": null,
      "right": null,
      "top": null,
      "visibility": null,
      "width": null
     }
    },
    "0fffbe2dbd8d4b27bacebc73014cad00": {
     "model_module": "@jupyter-widgets/controls",
     "model_name": "HBoxModel",
     "state": {
      "_dom_classes": [],
      "_model_module": "@jupyter-widgets/controls",
      "_model_module_version": "1.5.0",
      "_model_name": "HBoxModel",
      "_view_count": null,
      "_view_module": "@jupyter-widgets/controls",
      "_view_module_version": "1.5.0",
      "_view_name": "HBoxView",
      "box_style": "",
      "children": [
       "IPY_MODEL_029f7851706b4116b47ffabb5127adfd",
       "IPY_MODEL_82c64116605a43b1b8d8d975b576e5d1"
      ],
      "layout": "IPY_MODEL_7bd720203eee40f6a1f1f5160eb88a92"
     }
    },
    "182f3f35194142c988669205ae4606df": {
     "model_module": "@jupyter-widgets/base",
     "model_name": "LayoutModel",
     "state": {
      "_model_module": "@jupyter-widgets/base",
      "_model_module_version": "1.2.0",
      "_model_name": "LayoutModel",
      "_view_count": null,
      "_view_module": "@jupyter-widgets/base",
      "_view_module_version": "1.2.0",
      "_view_name": "LayoutView",
      "align_content": null,
      "align_items": null,
      "align_self": null,
      "border": null,
      "bottom": null,
      "display": null,
      "flex": null,
      "flex_flow": null,
      "grid_area": null,
      "grid_auto_columns": null,
      "grid_auto_flow": null,
      "grid_auto_rows": null,
      "grid_column": null,
      "grid_gap": null,
      "grid_row": null,
      "grid_template_areas": null,
      "grid_template_columns": null,
      "grid_template_rows": null,
      "height": null,
      "justify_content": null,
      "justify_items": null,
      "left": null,
      "margin": null,
      "max_height": null,
      "max_width": null,
      "min_height": null,
      "min_width": null,
      "object_fit": null,
      "object_position": null,
      "order": null,
      "overflow": null,
      "overflow_x": null,
      "overflow_y": null,
      "padding": null,
      "right": null,
      "top": null,
      "visibility": null,
      "width": null
     }
    },
    "1bd64b338cdb4d71b49041bd98860d8c": {
     "model_module": "@jupyter-widgets/base",
     "model_name": "LayoutModel",
     "state": {
      "_model_module": "@jupyter-widgets/base",
      "_model_module_version": "1.2.0",
      "_model_name": "LayoutModel",
      "_view_count": null,
      "_view_module": "@jupyter-widgets/base",
      "_view_module_version": "1.2.0",
      "_view_name": "LayoutView",
      "align_content": null,
      "align_items": null,
      "align_self": null,
      "border": null,
      "bottom": null,
      "display": null,
      "flex": null,
      "flex_flow": null,
      "grid_area": null,
      "grid_auto_columns": null,
      "grid_auto_flow": null,
      "grid_auto_rows": null,
      "grid_column": null,
      "grid_gap": null,
      "grid_row": null,
      "grid_template_areas": null,
      "grid_template_columns": null,
      "grid_template_rows": null,
      "height": null,
      "justify_content": null,
      "justify_items": null,
      "left": null,
      "margin": null,
      "max_height": null,
      "max_width": null,
      "min_height": null,
      "min_width": null,
      "object_fit": null,
      "object_position": null,
      "order": null,
      "overflow": null,
      "overflow_x": null,
      "overflow_y": null,
      "padding": null,
      "right": null,
      "top": null,
      "visibility": null,
      "width": null
     }
    },
    "1ca28a4f28ef4ca68bb14ce24840b9de": {
     "model_module": "@jupyter-widgets/controls",
     "model_name": "ProgressStyleModel",
     "state": {
      "_model_module": "@jupyter-widgets/controls",
      "_model_module_version": "1.5.0",
      "_model_name": "ProgressStyleModel",
      "_view_count": null,
      "_view_module": "@jupyter-widgets/base",
      "_view_module_version": "1.2.0",
      "_view_name": "StyleView",
      "bar_color": null,
      "description_width": "initial"
     }
    },
    "1db49dd1ce7c4a88982e18d2c8dab533": {
     "model_module": "@jupyter-widgets/controls",
     "model_name": "HBoxModel",
     "state": {
      "_dom_classes": [],
      "_model_module": "@jupyter-widgets/controls",
      "_model_module_version": "1.5.0",
      "_model_name": "HBoxModel",
      "_view_count": null,
      "_view_module": "@jupyter-widgets/controls",
      "_view_module_version": "1.5.0",
      "_view_name": "HBoxView",
      "box_style": "",
      "children": [
       "IPY_MODEL_05ae2950765a4bfdb4984cf44316ec62",
       "IPY_MODEL_a478daf24caf482499017ceea295fb9d"
      ],
      "layout": "IPY_MODEL_b981cd873c5448908cec41a55a670cf1"
     }
    },
    "1f12831ea8fa4142b72d1f8aed218887": {
     "model_module": "@jupyter-widgets/base",
     "model_name": "LayoutModel",
     "state": {
      "_model_module": "@jupyter-widgets/base",
      "_model_module_version": "1.2.0",
      "_model_name": "LayoutModel",
      "_view_count": null,
      "_view_module": "@jupyter-widgets/base",
      "_view_module_version": "1.2.0",
      "_view_name": "LayoutView",
      "align_content": null,
      "align_items": null,
      "align_self": null,
      "border": null,
      "bottom": null,
      "display": null,
      "flex": null,
      "flex_flow": null,
      "grid_area": null,
      "grid_auto_columns": null,
      "grid_auto_flow": null,
      "grid_auto_rows": null,
      "grid_column": null,
      "grid_gap": null,
      "grid_row": null,
      "grid_template_areas": null,
      "grid_template_columns": null,
      "grid_template_rows": null,
      "height": null,
      "justify_content": null,
      "justify_items": null,
      "left": null,
      "margin": null,
      "max_height": null,
      "max_width": null,
      "min_height": null,
      "min_width": null,
      "object_fit": null,
      "object_position": null,
      "order": null,
      "overflow": null,
      "overflow_x": null,
      "overflow_y": null,
      "padding": null,
      "right": null,
      "top": null,
      "visibility": null,
      "width": null
     }
    },
    "1fe50b1e6192475b9a71ea83cfe6ae11": {
     "model_module": "@jupyter-widgets/controls",
     "model_name": "FloatProgressModel",
     "state": {
      "_dom_classes": [],
      "_model_module": "@jupyter-widgets/controls",
      "_model_module_version": "1.5.0",
      "_model_name": "FloatProgressModel",
      "_view_count": null,
      "_view_module": "@jupyter-widgets/controls",
      "_view_module_version": "1.5.0",
      "_view_name": "ProgressView",
      "bar_style": "success",
      "description": "100%",
      "description_tooltip": null,
      "layout": "IPY_MODEL_20f8d3477af14e42a781aecfd85947ac",
      "max": 500,
      "min": 0,
      "orientation": "horizontal",
      "style": "IPY_MODEL_e3b14c527dda43f5aaaf3c0c6a2ad6ed",
      "value": 500
     }
    },
    "20f8d3477af14e42a781aecfd85947ac": {
     "model_module": "@jupyter-widgets/base",
     "model_name": "LayoutModel",
     "state": {
      "_model_module": "@jupyter-widgets/base",
      "_model_module_version": "1.2.0",
      "_model_name": "LayoutModel",
      "_view_count": null,
      "_view_module": "@jupyter-widgets/base",
      "_view_module_version": "1.2.0",
      "_view_name": "LayoutView",
      "align_content": null,
      "align_items": null,
      "align_self": null,
      "border": null,
      "bottom": null,
      "display": null,
      "flex": null,
      "flex_flow": null,
      "grid_area": null,
      "grid_auto_columns": null,
      "grid_auto_flow": null,
      "grid_auto_rows": null,
      "grid_column": null,
      "grid_gap": null,
      "grid_row": null,
      "grid_template_areas": null,
      "grid_template_columns": null,
      "grid_template_rows": null,
      "height": null,
      "justify_content": null,
      "justify_items": null,
      "left": null,
      "margin": null,
      "max_height": null,
      "max_width": null,
      "min_height": null,
      "min_width": null,
      "object_fit": null,
      "object_position": null,
      "order": null,
      "overflow": null,
      "overflow_x": null,
      "overflow_y": null,
      "padding": null,
      "right": null,
      "top": null,
      "visibility": null,
      "width": null
     }
    },
    "2b89185ce43e4905b85e6685cdbde5f7": {
     "model_module": "@jupyter-widgets/controls",
     "model_name": "FloatProgressModel",
     "state": {
      "_dom_classes": [],
      "_model_module": "@jupyter-widgets/controls",
      "_model_module_version": "1.5.0",
      "_model_name": "FloatProgressModel",
      "_view_count": null,
      "_view_module": "@jupyter-widgets/controls",
      "_view_module_version": "1.5.0",
      "_view_name": "ProgressView",
      "bar_style": "success",
      "description": "100%",
      "description_tooltip": null,
      "layout": "IPY_MODEL_b3caaed0529e4ed081bd949268ad5885",
      "max": 500,
      "min": 0,
      "orientation": "horizontal",
      "style": "IPY_MODEL_97ed6e83147f48b783858b0b770e06fb",
      "value": 500
     }
    },
    "2c5abf7df8564507b43872eabaac0175": {
     "model_module": "@jupyter-widgets/base",
     "model_name": "LayoutModel",
     "state": {
      "_model_module": "@jupyter-widgets/base",
      "_model_module_version": "1.2.0",
      "_model_name": "LayoutModel",
      "_view_count": null,
      "_view_module": "@jupyter-widgets/base",
      "_view_module_version": "1.2.0",
      "_view_name": "LayoutView",
      "align_content": null,
      "align_items": null,
      "align_self": null,
      "border": null,
      "bottom": null,
      "display": null,
      "flex": null,
      "flex_flow": null,
      "grid_area": null,
      "grid_auto_columns": null,
      "grid_auto_flow": null,
      "grid_auto_rows": null,
      "grid_column": null,
      "grid_gap": null,
      "grid_row": null,
      "grid_template_areas": null,
      "grid_template_columns": null,
      "grid_template_rows": null,
      "height": null,
      "justify_content": null,
      "justify_items": null,
      "left": null,
      "margin": null,
      "max_height": null,
      "max_width": null,
      "min_height": null,
      "min_width": null,
      "object_fit": null,
      "object_position": null,
      "order": null,
      "overflow": null,
      "overflow_x": null,
      "overflow_y": null,
      "padding": null,
      "right": null,
      "top": null,
      "visibility": null,
      "width": null
     }
    },
    "2fcaed18ff6a4d4bbaa9a055e62e56e1": {
     "model_module": "@jupyter-widgets/controls",
     "model_name": "DescriptionStyleModel",
     "state": {
      "_model_module": "@jupyter-widgets/controls",
      "_model_module_version": "1.5.0",
      "_model_name": "DescriptionStyleModel",
      "_view_count": null,
      "_view_module": "@jupyter-widgets/base",
      "_view_module_version": "1.2.0",
      "_view_name": "StyleView",
      "description_width": ""
     }
    },
    "302d20a60aef46a281018219baf96ebf": {
     "model_module": "@jupyter-widgets/controls",
     "model_name": "HBoxModel",
     "state": {
      "_dom_classes": [],
      "_model_module": "@jupyter-widgets/controls",
      "_model_module_version": "1.5.0",
      "_model_name": "HBoxModel",
      "_view_count": null,
      "_view_module": "@jupyter-widgets/controls",
      "_view_module_version": "1.5.0",
      "_view_name": "HBoxView",
      "box_style": "",
      "children": [
       "IPY_MODEL_e3271679a54b45aeb52c306a20126090",
       "IPY_MODEL_ad2952fe5ba44b80a0c46bf0381f5ac9"
      ],
      "layout": "IPY_MODEL_aff7bf54aef746a0aaa3cbd0d3d06ef5"
     }
    },
    "31516c1c6254411ea147854297928ac4": {
     "model_module": "@jupyter-widgets/controls",
     "model_name": "HBoxModel",
     "state": {
      "_dom_classes": [],
      "_model_module": "@jupyter-widgets/controls",
      "_model_module_version": "1.5.0",
      "_model_name": "HBoxModel",
      "_view_count": null,
      "_view_module": "@jupyter-widgets/controls",
      "_view_module_version": "1.5.0",
      "_view_name": "HBoxView",
      "box_style": "",
      "children": [
       "IPY_MODEL_55721078ebb04583a8c9c1d56da2040a",
       "IPY_MODEL_f40ffb364ad240a0826f8e3c6f25d2b3"
      ],
      "layout": "IPY_MODEL_1f12831ea8fa4142b72d1f8aed218887"
     }
    },
    "34551ffa33fd43bdac4fe37d25957380": {
     "model_module": "@jupyter-widgets/controls",
     "model_name": "FloatProgressModel",
     "state": {
      "_dom_classes": [],
      "_model_module": "@jupyter-widgets/controls",
      "_model_module_version": "1.5.0",
      "_model_name": "FloatProgressModel",
      "_view_count": null,
      "_view_module": "@jupyter-widgets/controls",
      "_view_module_version": "1.5.0",
      "_view_name": "ProgressView",
      "bar_style": "success",
      "description": "100%",
      "description_tooltip": null,
      "layout": "IPY_MODEL_f9c18715bfe646fe9eccd7653ce4f11e",
      "max": 500,
      "min": 0,
      "orientation": "horizontal",
      "style": "IPY_MODEL_db696eb7bc3545638a1ff143ff896590",
      "value": 500
     }
    },
    "35cf01b37edd4ce9a0d95700819e54d5": {
     "model_module": "@jupyter-widgets/controls",
     "model_name": "HBoxModel",
     "state": {
      "_dom_classes": [],
      "_model_module": "@jupyter-widgets/controls",
      "_model_module_version": "1.5.0",
      "_model_name": "HBoxModel",
      "_view_count": null,
      "_view_module": "@jupyter-widgets/controls",
      "_view_module_version": "1.5.0",
      "_view_name": "HBoxView",
      "box_style": "",
      "children": [
       "IPY_MODEL_34551ffa33fd43bdac4fe37d25957380",
       "IPY_MODEL_cc9b146dc2dc4fc39d068548f5684578"
      ],
      "layout": "IPY_MODEL_0bcf8d63ae244719a93a9d384b8419bb"
     }
    },
    "365f5af61c774198832bd041c4518da4": {
     "model_module": "@jupyter-widgets/controls",
     "model_name": "HTMLModel",
     "state": {
      "_dom_classes": [],
      "_model_module": "@jupyter-widgets/controls",
      "_model_module_version": "1.5.0",
      "_model_name": "HTMLModel",
      "_view_count": null,
      "_view_module": "@jupyter-widgets/controls",
      "_view_module_version": "1.5.0",
      "_view_name": "HTMLView",
      "description": "",
      "description_tooltip": null,
      "layout": "IPY_MODEL_2c5abf7df8564507b43872eabaac0175",
      "placeholder": "​",
      "style": "IPY_MODEL_2fcaed18ff6a4d4bbaa9a055e62e56e1",
      "value": " 500/500 [00:00&lt;00:00, 2136.56it/s]"
     }
    },
    "366e4ce04b7f4692a36f9be73609a8ae": {
     "model_module": "@jupyter-widgets/base",
     "model_name": "LayoutModel",
     "state": {
      "_model_module": "@jupyter-widgets/base",
      "_model_module_version": "1.2.0",
      "_model_name": "LayoutModel",
      "_view_count": null,
      "_view_module": "@jupyter-widgets/base",
      "_view_module_version": "1.2.0",
      "_view_name": "LayoutView",
      "align_content": null,
      "align_items": null,
      "align_self": null,
      "border": null,
      "bottom": null,
      "display": null,
      "flex": null,
      "flex_flow": null,
      "grid_area": null,
      "grid_auto_columns": null,
      "grid_auto_flow": null,
      "grid_auto_rows": null,
      "grid_column": null,
      "grid_gap": null,
      "grid_row": null,
      "grid_template_areas": null,
      "grid_template_columns": null,
      "grid_template_rows": null,
      "height": null,
      "justify_content": null,
      "justify_items": null,
      "left": null,
      "margin": null,
      "max_height": null,
      "max_width": null,
      "min_height": null,
      "min_width": null,
      "object_fit": null,
      "object_position": null,
      "order": null,
      "overflow": null,
      "overflow_x": null,
      "overflow_y": null,
      "padding": null,
      "right": null,
      "top": null,
      "visibility": null,
      "width": null
     }
    },
    "3743a27f9764470b8b1ea5bb7e28c31d": {
     "model_module": "@jupyter-widgets/base",
     "model_name": "LayoutModel",
     "state": {
      "_model_module": "@jupyter-widgets/base",
      "_model_module_version": "1.2.0",
      "_model_name": "LayoutModel",
      "_view_count": null,
      "_view_module": "@jupyter-widgets/base",
      "_view_module_version": "1.2.0",
      "_view_name": "LayoutView",
      "align_content": null,
      "align_items": null,
      "align_self": null,
      "border": null,
      "bottom": null,
      "display": null,
      "flex": null,
      "flex_flow": null,
      "grid_area": null,
      "grid_auto_columns": null,
      "grid_auto_flow": null,
      "grid_auto_rows": null,
      "grid_column": null,
      "grid_gap": null,
      "grid_row": null,
      "grid_template_areas": null,
      "grid_template_columns": null,
      "grid_template_rows": null,
      "height": null,
      "justify_content": null,
      "justify_items": null,
      "left": null,
      "margin": null,
      "max_height": null,
      "max_width": null,
      "min_height": null,
      "min_width": null,
      "object_fit": null,
      "object_position": null,
      "order": null,
      "overflow": null,
      "overflow_x": null,
      "overflow_y": null,
      "padding": null,
      "right": null,
      "top": null,
      "visibility": null,
      "width": null
     }
    },
    "3b79fed4fea742d79a7cdad62d3360ae": {
     "model_module": "@jupyter-widgets/controls",
     "model_name": "HBoxModel",
     "state": {
      "_dom_classes": [],
      "_model_module": "@jupyter-widgets/controls",
      "_model_module_version": "1.5.0",
      "_model_name": "HBoxModel",
      "_view_count": null,
      "_view_module": "@jupyter-widgets/controls",
      "_view_module_version": "1.5.0",
      "_view_name": "HBoxView",
      "box_style": "",
      "children": [
       "IPY_MODEL_e8bf8a870f3e48e293b80984eb25a3de",
       "IPY_MODEL_47dc44a83b484ca283e044afd9684002"
      ],
      "layout": "IPY_MODEL_09d00473796e47b4be26b18042f45637"
     }
    },
    "465b78aa035849dc92378429195cbffa": {
     "model_module": "@jupyter-widgets/base",
     "model_name": "LayoutModel",
     "state": {
      "_model_module": "@jupyter-widgets/base",
      "_model_module_version": "1.2.0",
      "_model_name": "LayoutModel",
      "_view_count": null,
      "_view_module": "@jupyter-widgets/base",
      "_view_module_version": "1.2.0",
      "_view_name": "LayoutView",
      "align_content": null,
      "align_items": null,
      "align_self": null,
      "border": null,
      "bottom": null,
      "display": null,
      "flex": null,
      "flex_flow": null,
      "grid_area": null,
      "grid_auto_columns": null,
      "grid_auto_flow": null,
      "grid_auto_rows": null,
      "grid_column": null,
      "grid_gap": null,
      "grid_row": null,
      "grid_template_areas": null,
      "grid_template_columns": null,
      "grid_template_rows": null,
      "height": null,
      "justify_content": null,
      "justify_items": null,
      "left": null,
      "margin": null,
      "max_height": null,
      "max_width": null,
      "min_height": null,
      "min_width": null,
      "object_fit": null,
      "object_position": null,
      "order": null,
      "overflow": null,
      "overflow_x": null,
      "overflow_y": null,
      "padding": null,
      "right": null,
      "top": null,
      "visibility": null,
      "width": null
     }
    },
    "47dc44a83b484ca283e044afd9684002": {
     "model_module": "@jupyter-widgets/controls",
     "model_name": "HTMLModel",
     "state": {
      "_dom_classes": [],
      "_model_module": "@jupyter-widgets/controls",
      "_model_module_version": "1.5.0",
      "_model_name": "HTMLModel",
      "_view_count": null,
      "_view_module": "@jupyter-widgets/controls",
      "_view_module_version": "1.5.0",
      "_view_name": "HTMLView",
      "description": "",
      "description_tooltip": null,
      "layout": "IPY_MODEL_1bd64b338cdb4d71b49041bd98860d8c",
      "placeholder": "​",
      "style": "IPY_MODEL_dffc4356f8e5457b9ba244117abbb22c",
      "value": " 500/500 [00:00&lt;00:00, 3369.44it/s]"
     }
    },
    "47e84c93906a4edfb1768c7fb59ec699": {
     "model_module": "@jupyter-widgets/controls",
     "model_name": "HBoxModel",
     "state": {
      "_dom_classes": [],
      "_model_module": "@jupyter-widgets/controls",
      "_model_module_version": "1.5.0",
      "_model_name": "HBoxModel",
      "_view_count": null,
      "_view_module": "@jupyter-widgets/controls",
      "_view_module_version": "1.5.0",
      "_view_name": "HBoxView",
      "box_style": "",
      "children": [
       "IPY_MODEL_b360a4c51cb34b6e943205f11e1cf066",
       "IPY_MODEL_4b6f5463bfee4981a4cc8f8b38a58f5c"
      ],
      "layout": "IPY_MODEL_6df5688aa5e646a08c2ce9d24b8e462d"
     }
    },
    "496ece1712fa4f4388a86ded70be94af": {
     "model_module": "@jupyter-widgets/base",
     "model_name": "LayoutModel",
     "state": {
      "_model_module": "@jupyter-widgets/base",
      "_model_module_version": "1.2.0",
      "_model_name": "LayoutModel",
      "_view_count": null,
      "_view_module": "@jupyter-widgets/base",
      "_view_module_version": "1.2.0",
      "_view_name": "LayoutView",
      "align_content": null,
      "align_items": null,
      "align_self": null,
      "border": null,
      "bottom": null,
      "display": null,
      "flex": null,
      "flex_flow": null,
      "grid_area": null,
      "grid_auto_columns": null,
      "grid_auto_flow": null,
      "grid_auto_rows": null,
      "grid_column": null,
      "grid_gap": null,
      "grid_row": null,
      "grid_template_areas": null,
      "grid_template_columns": null,
      "grid_template_rows": null,
      "height": null,
      "justify_content": null,
      "justify_items": null,
      "left": null,
      "margin": null,
      "max_height": null,
      "max_width": null,
      "min_height": null,
      "min_width": null,
      "object_fit": null,
      "object_position": null,
      "order": null,
      "overflow": null,
      "overflow_x": null,
      "overflow_y": null,
      "padding": null,
      "right": null,
      "top": null,
      "visibility": null,
      "width": null
     }
    },
    "4b6f5463bfee4981a4cc8f8b38a58f5c": {
     "model_module": "@jupyter-widgets/controls",
     "model_name": "HTMLModel",
     "state": {
      "_dom_classes": [],
      "_model_module": "@jupyter-widgets/controls",
      "_model_module_version": "1.5.0",
      "_model_name": "HTMLModel",
      "_view_count": null,
      "_view_module": "@jupyter-widgets/controls",
      "_view_module_version": "1.5.0",
      "_view_name": "HTMLView",
      "description": "",
      "description_tooltip": null,
      "layout": "IPY_MODEL_3743a27f9764470b8b1ea5bb7e28c31d",
      "placeholder": "​",
      "style": "IPY_MODEL_b3b90d455aad487ea3ab44be25ed12bf",
      "value": " 500/500 [00:05&lt;00:00, 99.56it/s]"
     }
    },
    "4fabd4bbe5f0468296768159945387af": {
     "model_module": "@jupyter-widgets/controls",
     "model_name": "HBoxModel",
     "state": {
      "_dom_classes": [],
      "_model_module": "@jupyter-widgets/controls",
      "_model_module_version": "1.5.0",
      "_model_name": "HBoxModel",
      "_view_count": null,
      "_view_module": "@jupyter-widgets/controls",
      "_view_module_version": "1.5.0",
      "_view_name": "HBoxView",
      "box_style": "",
      "children": [
       "IPY_MODEL_6e81a97048cf4ecdbdf8ca15a683dd9e",
       "IPY_MODEL_eec80c9117834e3ebc1ac0b3fc98c647"
      ],
      "layout": "IPY_MODEL_a565dddd2d5a4a6ea86ca96c66fb63f6"
     }
    },
    "55721078ebb04583a8c9c1d56da2040a": {
     "model_module": "@jupyter-widgets/controls",
     "model_name": "FloatProgressModel",
     "state": {
      "_dom_classes": [],
      "_model_module": "@jupyter-widgets/controls",
      "_model_module_version": "1.5.0",
      "_model_name": "FloatProgressModel",
      "_view_count": null,
      "_view_module": "@jupyter-widgets/controls",
      "_view_module_version": "1.5.0",
      "_view_name": "ProgressView",
      "bar_style": "success",
      "description": "100%",
      "description_tooltip": null,
      "layout": "IPY_MODEL_8e2d98b9d63c4bf9a28d4f889ccc601a",
      "max": 12500,
      "min": 0,
      "orientation": "horizontal",
      "style": "IPY_MODEL_d9e7c0cab3554b92afd527dc8f1f16a6",
      "value": 12500
     }
    },
    "573e48604e494f7c8e07ff09e3f2358a": {
     "model_module": "@jupyter-widgets/controls",
     "model_name": "ProgressStyleModel",
     "state": {
      "_model_module": "@jupyter-widgets/controls",
      "_model_module_version": "1.5.0",
      "_model_name": "ProgressStyleModel",
      "_view_count": null,
      "_view_module": "@jupyter-widgets/base",
      "_view_module_version": "1.2.0",
      "_view_name": "StyleView",
      "bar_color": null,
      "description_width": "initial"
     }
    },
    "58f7f13370ae4f85b012754d8ec1dd78": {
     "model_module": "@jupyter-widgets/controls",
     "model_name": "HTMLModel",
     "state": {
      "_dom_classes": [],
      "_model_module": "@jupyter-widgets/controls",
      "_model_module_version": "1.5.0",
      "_model_name": "HTMLModel",
      "_view_count": null,
      "_view_module": "@jupyter-widgets/controls",
      "_view_module_version": "1.5.0",
      "_view_name": "HTMLView",
      "description": "",
      "description_tooltip": null,
      "layout": "IPY_MODEL_59f41c6ac9994f97b4cbea431a37a973",
      "placeholder": "​",
      "style": "IPY_MODEL_eaa03699b0fd4a2fbce4b0d3a9be0d59",
      "value": " 500/500 [00:00&lt;00:00, 5821.19it/s]"
     }
    },
    "59f41c6ac9994f97b4cbea431a37a973": {
     "model_module": "@jupyter-widgets/base",
     "model_name": "LayoutModel",
     "state": {
      "_model_module": "@jupyter-widgets/base",
      "_model_module_version": "1.2.0",
      "_model_name": "LayoutModel",
      "_view_count": null,
      "_view_module": "@jupyter-widgets/base",
      "_view_module_version": "1.2.0",
      "_view_name": "LayoutView",
      "align_content": null,
      "align_items": null,
      "align_self": null,
      "border": null,
      "bottom": null,
      "display": null,
      "flex": null,
      "flex_flow": null,
      "grid_area": null,
      "grid_auto_columns": null,
      "grid_auto_flow": null,
      "grid_auto_rows": null,
      "grid_column": null,
      "grid_gap": null,
      "grid_row": null,
      "grid_template_areas": null,
      "grid_template_columns": null,
      "grid_template_rows": null,
      "height": null,
      "justify_content": null,
      "justify_items": null,
      "left": null,
      "margin": null,
      "max_height": null,
      "max_width": null,
      "min_height": null,
      "min_width": null,
      "object_fit": null,
      "object_position": null,
      "order": null,
      "overflow": null,
      "overflow_x": null,
      "overflow_y": null,
      "padding": null,
      "right": null,
      "top": null,
      "visibility": null,
      "width": null
     }
    },
    "5dd1de551fb5476bbcab8e9072b4d072": {
     "model_module": "@jupyter-widgets/base",
     "model_name": "LayoutModel",
     "state": {
      "_model_module": "@jupyter-widgets/base",
      "_model_module_version": "1.2.0",
      "_model_name": "LayoutModel",
      "_view_count": null,
      "_view_module": "@jupyter-widgets/base",
      "_view_module_version": "1.2.0",
      "_view_name": "LayoutView",
      "align_content": null,
      "align_items": null,
      "align_self": null,
      "border": null,
      "bottom": null,
      "display": null,
      "flex": null,
      "flex_flow": null,
      "grid_area": null,
      "grid_auto_columns": null,
      "grid_auto_flow": null,
      "grid_auto_rows": null,
      "grid_column": null,
      "grid_gap": null,
      "grid_row": null,
      "grid_template_areas": null,
      "grid_template_columns": null,
      "grid_template_rows": null,
      "height": null,
      "justify_content": null,
      "justify_items": null,
      "left": null,
      "margin": null,
      "max_height": null,
      "max_width": null,
      "min_height": null,
      "min_width": null,
      "object_fit": null,
      "object_position": null,
      "order": null,
      "overflow": null,
      "overflow_x": null,
      "overflow_y": null,
      "padding": null,
      "right": null,
      "top": null,
      "visibility": null,
      "width": null
     }
    },
    "5dd9fe24a71b4ce0ba7d6b949445e62e": {
     "model_module": "@jupyter-widgets/controls",
     "model_name": "DescriptionStyleModel",
     "state": {
      "_model_module": "@jupyter-widgets/controls",
      "_model_module_version": "1.5.0",
      "_model_name": "DescriptionStyleModel",
      "_view_count": null,
      "_view_module": "@jupyter-widgets/base",
      "_view_module_version": "1.2.0",
      "_view_name": "StyleView",
      "description_width": ""
     }
    },
    "6cf3540625804ef995d654a33fe16803": {
     "model_module": "@jupyter-widgets/controls",
     "model_name": "ProgressStyleModel",
     "state": {
      "_model_module": "@jupyter-widgets/controls",
      "_model_module_version": "1.5.0",
      "_model_name": "ProgressStyleModel",
      "_view_count": null,
      "_view_module": "@jupyter-widgets/base",
      "_view_module_version": "1.2.0",
      "_view_name": "StyleView",
      "bar_color": null,
      "description_width": "initial"
     }
    },
    "6df5688aa5e646a08c2ce9d24b8e462d": {
     "model_module": "@jupyter-widgets/base",
     "model_name": "LayoutModel",
     "state": {
      "_model_module": "@jupyter-widgets/base",
      "_model_module_version": "1.2.0",
      "_model_name": "LayoutModel",
      "_view_count": null,
      "_view_module": "@jupyter-widgets/base",
      "_view_module_version": "1.2.0",
      "_view_name": "LayoutView",
      "align_content": null,
      "align_items": null,
      "align_self": null,
      "border": null,
      "bottom": null,
      "display": null,
      "flex": null,
      "flex_flow": null,
      "grid_area": null,
      "grid_auto_columns": null,
      "grid_auto_flow": null,
      "grid_auto_rows": null,
      "grid_column": null,
      "grid_gap": null,
      "grid_row": null,
      "grid_template_areas": null,
      "grid_template_columns": null,
      "grid_template_rows": null,
      "height": null,
      "justify_content": null,
      "justify_items": null,
      "left": null,
      "margin": null,
      "max_height": null,
      "max_width": null,
      "min_height": null,
      "min_width": null,
      "object_fit": null,
      "object_position": null,
      "order": null,
      "overflow": null,
      "overflow_x": null,
      "overflow_y": null,
      "padding": null,
      "right": null,
      "top": null,
      "visibility": null,
      "width": null
     }
    },
    "6e81a97048cf4ecdbdf8ca15a683dd9e": {
     "model_module": "@jupyter-widgets/controls",
     "model_name": "FloatProgressModel",
     "state": {
      "_dom_classes": [],
      "_model_module": "@jupyter-widgets/controls",
      "_model_module_version": "1.5.0",
      "_model_name": "FloatProgressModel",
      "_view_count": null,
      "_view_module": "@jupyter-widgets/controls",
      "_view_module_version": "1.5.0",
      "_view_name": "ProgressView",
      "bar_style": "success",
      "description": "100%",
      "description_tooltip": null,
      "layout": "IPY_MODEL_92b36e023feb497487aaeffca9c7eaa5",
      "max": 12500,
      "min": 0,
      "orientation": "horizontal",
      "style": "IPY_MODEL_d68a9fe4861643759d7217c749a6389f",
      "value": 12500
     }
    },
    "7493ab05358945bc91bdd62e790c9471": {
     "model_module": "@jupyter-widgets/controls",
     "model_name": "DescriptionStyleModel",
     "state": {
      "_model_module": "@jupyter-widgets/controls",
      "_model_module_version": "1.5.0",
      "_model_name": "DescriptionStyleModel",
      "_view_count": null,
      "_view_module": "@jupyter-widgets/base",
      "_view_module_version": "1.2.0",
      "_view_name": "StyleView",
      "description_width": ""
     }
    },
    "781e683609ee4b419a69151fff7c6900": {
     "model_module": "@jupyter-widgets/controls",
     "model_name": "DescriptionStyleModel",
     "state": {
      "_model_module": "@jupyter-widgets/controls",
      "_model_module_version": "1.5.0",
      "_model_name": "DescriptionStyleModel",
      "_view_count": null,
      "_view_module": "@jupyter-widgets/base",
      "_view_module_version": "1.2.0",
      "_view_name": "StyleView",
      "description_width": ""
     }
    },
    "7bd720203eee40f6a1f1f5160eb88a92": {
     "model_module": "@jupyter-widgets/base",
     "model_name": "LayoutModel",
     "state": {
      "_model_module": "@jupyter-widgets/base",
      "_model_module_version": "1.2.0",
      "_model_name": "LayoutModel",
      "_view_count": null,
      "_view_module": "@jupyter-widgets/base",
      "_view_module_version": "1.2.0",
      "_view_name": "LayoutView",
      "align_content": null,
      "align_items": null,
      "align_self": null,
      "border": null,
      "bottom": null,
      "display": null,
      "flex": null,
      "flex_flow": null,
      "grid_area": null,
      "grid_auto_columns": null,
      "grid_auto_flow": null,
      "grid_auto_rows": null,
      "grid_column": null,
      "grid_gap": null,
      "grid_row": null,
      "grid_template_areas": null,
      "grid_template_columns": null,
      "grid_template_rows": null,
      "height": null,
      "justify_content": null,
      "justify_items": null,
      "left": null,
      "margin": null,
      "max_height": null,
      "max_width": null,
      "min_height": null,
      "min_width": null,
      "object_fit": null,
      "object_position": null,
      "order": null,
      "overflow": null,
      "overflow_x": null,
      "overflow_y": null,
      "padding": null,
      "right": null,
      "top": null,
      "visibility": null,
      "width": null
     }
    },
    "82c64116605a43b1b8d8d975b576e5d1": {
     "model_module": "@jupyter-widgets/controls",
     "model_name": "HTMLModel",
     "state": {
      "_dom_classes": [],
      "_model_module": "@jupyter-widgets/controls",
      "_model_module_version": "1.5.0",
      "_model_name": "HTMLModel",
      "_view_count": null,
      "_view_module": "@jupyter-widgets/controls",
      "_view_module_version": "1.5.0",
      "_view_name": "HTMLView",
      "description": "",
      "description_tooltip": null,
      "layout": "IPY_MODEL_ed292969a4e94a24a7bdcfaba59b6d1f",
      "placeholder": "​",
      "style": "IPY_MODEL_e5e9251b830b4ef6bfb51edae2672a5d",
      "value": " 12500/12500 [00:08&lt;00:00, 1411.26it/s]"
     }
    },
    "879fd8d12d2c4fa38b92adf583caebbb": {
     "model_module": "@jupyter-widgets/controls",
     "model_name": "HBoxModel",
     "state": {
      "_dom_classes": [],
      "_model_module": "@jupyter-widgets/controls",
      "_model_module_version": "1.5.0",
      "_model_name": "HBoxModel",
      "_view_count": null,
      "_view_module": "@jupyter-widgets/controls",
      "_view_module_version": "1.5.0",
      "_view_name": "HBoxView",
      "box_style": "",
      "children": [
       "IPY_MODEL_a3f6628a17d4478d866884534c7394c7",
       "IPY_MODEL_365f5af61c774198832bd041c4518da4"
      ],
      "layout": "IPY_MODEL_182f3f35194142c988669205ae4606df"
     }
    },
    "87d9c635d28e44f3b9693f6ce760e0b3": {
     "model_module": "@jupyter-widgets/controls",
     "model_name": "ProgressStyleModel",
     "state": {
      "_model_module": "@jupyter-widgets/controls",
      "_model_module_version": "1.5.0",
      "_model_name": "ProgressStyleModel",
      "_view_count": null,
      "_view_module": "@jupyter-widgets/base",
      "_view_module_version": "1.2.0",
      "_view_name": "StyleView",
      "bar_color": null,
      "description_width": "initial"
     }
    },
    "8e2d98b9d63c4bf9a28d4f889ccc601a": {
     "model_module": "@jupyter-widgets/base",
     "model_name": "LayoutModel",
     "state": {
      "_model_module": "@jupyter-widgets/base",
      "_model_module_version": "1.2.0",
      "_model_name": "LayoutModel",
      "_view_count": null,
      "_view_module": "@jupyter-widgets/base",
      "_view_module_version": "1.2.0",
      "_view_name": "LayoutView",
      "align_content": null,
      "align_items": null,
      "align_self": null,
      "border": null,
      "bottom": null,
      "display": null,
      "flex": null,
      "flex_flow": null,
      "grid_area": null,
      "grid_auto_columns": null,
      "grid_auto_flow": null,
      "grid_auto_rows": null,
      "grid_column": null,
      "grid_gap": null,
      "grid_row": null,
      "grid_template_areas": null,
      "grid_template_columns": null,
      "grid_template_rows": null,
      "height": null,
      "justify_content": null,
      "justify_items": null,
      "left": null,
      "margin": null,
      "max_height": null,
      "max_width": null,
      "min_height": null,
      "min_width": null,
      "object_fit": null,
      "object_position": null,
      "order": null,
      "overflow": null,
      "overflow_x": null,
      "overflow_y": null,
      "padding": null,
      "right": null,
      "top": null,
      "visibility": null,
      "width": null
     }
    },
    "913eeb0253d44501bab15e96cda7d0c5": {
     "model_module": "@jupyter-widgets/base",
     "model_name": "LayoutModel",
     "state": {
      "_model_module": "@jupyter-widgets/base",
      "_model_module_version": "1.2.0",
      "_model_name": "LayoutModel",
      "_view_count": null,
      "_view_module": "@jupyter-widgets/base",
      "_view_module_version": "1.2.0",
      "_view_name": "LayoutView",
      "align_content": null,
      "align_items": null,
      "align_self": null,
      "border": null,
      "bottom": null,
      "display": null,
      "flex": null,
      "flex_flow": null,
      "grid_area": null,
      "grid_auto_columns": null,
      "grid_auto_flow": null,
      "grid_auto_rows": null,
      "grid_column": null,
      "grid_gap": null,
      "grid_row": null,
      "grid_template_areas": null,
      "grid_template_columns": null,
      "grid_template_rows": null,
      "height": null,
      "justify_content": null,
      "justify_items": null,
      "left": null,
      "margin": null,
      "max_height": null,
      "max_width": null,
      "min_height": null,
      "min_width": null,
      "object_fit": null,
      "object_position": null,
      "order": null,
      "overflow": null,
      "overflow_x": null,
      "overflow_y": null,
      "padding": null,
      "right": null,
      "top": null,
      "visibility": null,
      "width": null
     }
    },
    "92b36e023feb497487aaeffca9c7eaa5": {
     "model_module": "@jupyter-widgets/base",
     "model_name": "LayoutModel",
     "state": {
      "_model_module": "@jupyter-widgets/base",
      "_model_module_version": "1.2.0",
      "_model_name": "LayoutModel",
      "_view_count": null,
      "_view_module": "@jupyter-widgets/base",
      "_view_module_version": "1.2.0",
      "_view_name": "LayoutView",
      "align_content": null,
      "align_items": null,
      "align_self": null,
      "border": null,
      "bottom": null,
      "display": null,
      "flex": null,
      "flex_flow": null,
      "grid_area": null,
      "grid_auto_columns": null,
      "grid_auto_flow": null,
      "grid_auto_rows": null,
      "grid_column": null,
      "grid_gap": null,
      "grid_row": null,
      "grid_template_areas": null,
      "grid_template_columns": null,
      "grid_template_rows": null,
      "height": null,
      "justify_content": null,
      "justify_items": null,
      "left": null,
      "margin": null,
      "max_height": null,
      "max_width": null,
      "min_height": null,
      "min_width": null,
      "object_fit": null,
      "object_position": null,
      "order": null,
      "overflow": null,
      "overflow_x": null,
      "overflow_y": null,
      "padding": null,
      "right": null,
      "top": null,
      "visibility": null,
      "width": null
     }
    },
    "97ed6e83147f48b783858b0b770e06fb": {
     "model_module": "@jupyter-widgets/controls",
     "model_name": "ProgressStyleModel",
     "state": {
      "_model_module": "@jupyter-widgets/controls",
      "_model_module_version": "1.5.0",
      "_model_name": "ProgressStyleModel",
      "_view_count": null,
      "_view_module": "@jupyter-widgets/base",
      "_view_module_version": "1.2.0",
      "_view_name": "StyleView",
      "bar_color": null,
      "description_width": "initial"
     }
    },
    "9f81a39c281f426880909e361d039c8b": {
     "model_module": "@jupyter-widgets/controls",
     "model_name": "HBoxModel",
     "state": {
      "_dom_classes": [],
      "_model_module": "@jupyter-widgets/controls",
      "_model_module_version": "1.5.0",
      "_model_name": "HBoxModel",
      "_view_count": null,
      "_view_module": "@jupyter-widgets/controls",
      "_view_module_version": "1.5.0",
      "_view_name": "HBoxView",
      "box_style": "",
      "children": [
       "IPY_MODEL_1fe50b1e6192475b9a71ea83cfe6ae11",
       "IPY_MODEL_d99e45a60c7a405cb5173f7f8d988b7a"
      ],
      "layout": "IPY_MODEL_b84abe778aac4c8183d13c6eec68c81f"
     }
    },
    "a2b6cab304a948398c81206002b4bd4f": {
     "model_module": "@jupyter-widgets/controls",
     "model_name": "DescriptionStyleModel",
     "state": {
      "_model_module": "@jupyter-widgets/controls",
      "_model_module_version": "1.5.0",
      "_model_name": "DescriptionStyleModel",
      "_view_count": null,
      "_view_module": "@jupyter-widgets/base",
      "_view_module_version": "1.2.0",
      "_view_name": "StyleView",
      "description_width": ""
     }
    },
    "a3f6628a17d4478d866884534c7394c7": {
     "model_module": "@jupyter-widgets/controls",
     "model_name": "FloatProgressModel",
     "state": {
      "_dom_classes": [],
      "_model_module": "@jupyter-widgets/controls",
      "_model_module_version": "1.5.0",
      "_model_name": "FloatProgressModel",
      "_view_count": null,
      "_view_module": "@jupyter-widgets/controls",
      "_view_module_version": "1.5.0",
      "_view_name": "ProgressView",
      "bar_style": "success",
      "description": "100%",
      "description_tooltip": null,
      "layout": "IPY_MODEL_c7d4c4e276214935aa843e9f3aef814b",
      "max": 500,
      "min": 0,
      "orientation": "horizontal",
      "style": "IPY_MODEL_6cf3540625804ef995d654a33fe16803",
      "value": 500
     }
    },
    "a478daf24caf482499017ceea295fb9d": {
     "model_module": "@jupyter-widgets/controls",
     "model_name": "HTMLModel",
     "state": {
      "_dom_classes": [],
      "_model_module": "@jupyter-widgets/controls",
      "_model_module_version": "1.5.0",
      "_model_name": "HTMLModel",
      "_view_count": null,
      "_view_module": "@jupyter-widgets/controls",
      "_view_module_version": "1.5.0",
      "_view_name": "HTMLView",
      "description": "",
      "description_tooltip": null,
      "layout": "IPY_MODEL_db8d778b53b24d8695e81294098e368c",
      "placeholder": "​",
      "style": "IPY_MODEL_781e683609ee4b419a69151fff7c6900",
      "value": " 500/500 [00:54&lt;00:00,  9.21it/s]"
     }
    },
    "a565dddd2d5a4a6ea86ca96c66fb63f6": {
     "model_module": "@jupyter-widgets/base",
     "model_name": "LayoutModel",
     "state": {
      "_model_module": "@jupyter-widgets/base",
      "_model_module_version": "1.2.0",
      "_model_name": "LayoutModel",
      "_view_count": null,
      "_view_module": "@jupyter-widgets/base",
      "_view_module_version": "1.2.0",
      "_view_name": "LayoutView",
      "align_content": null,
      "align_items": null,
      "align_self": null,
      "border": null,
      "bottom": null,
      "display": null,
      "flex": null,
      "flex_flow": null,
      "grid_area": null,
      "grid_auto_columns": null,
      "grid_auto_flow": null,
      "grid_auto_rows": null,
      "grid_column": null,
      "grid_gap": null,
      "grid_row": null,
      "grid_template_areas": null,
      "grid_template_columns": null,
      "grid_template_rows": null,
      "height": null,
      "justify_content": null,
      "justify_items": null,
      "left": null,
      "margin": null,
      "max_height": null,
      "max_width": null,
      "min_height": null,
      "min_width": null,
      "object_fit": null,
      "object_position": null,
      "order": null,
      "overflow": null,
      "overflow_x": null,
      "overflow_y": null,
      "padding": null,
      "right": null,
      "top": null,
      "visibility": null,
      "width": null
     }
    },
    "aab4cb6450b74d65aa5c79b875a23d54": {
     "model_module": "@jupyter-widgets/base",
     "model_name": "LayoutModel",
     "state": {
      "_model_module": "@jupyter-widgets/base",
      "_model_module_version": "1.2.0",
      "_model_name": "LayoutModel",
      "_view_count": null,
      "_view_module": "@jupyter-widgets/base",
      "_view_module_version": "1.2.0",
      "_view_name": "LayoutView",
      "align_content": null,
      "align_items": null,
      "align_self": null,
      "border": null,
      "bottom": null,
      "display": null,
      "flex": null,
      "flex_flow": null,
      "grid_area": null,
      "grid_auto_columns": null,
      "grid_auto_flow": null,
      "grid_auto_rows": null,
      "grid_column": null,
      "grid_gap": null,
      "grid_row": null,
      "grid_template_areas": null,
      "grid_template_columns": null,
      "grid_template_rows": null,
      "height": null,
      "justify_content": null,
      "justify_items": null,
      "left": null,
      "margin": null,
      "max_height": null,
      "max_width": null,
      "min_height": null,
      "min_width": null,
      "object_fit": null,
      "object_position": null,
      "order": null,
      "overflow": null,
      "overflow_x": null,
      "overflow_y": null,
      "padding": null,
      "right": null,
      "top": null,
      "visibility": null,
      "width": null
     }
    },
    "ad2952fe5ba44b80a0c46bf0381f5ac9": {
     "model_module": "@jupyter-widgets/controls",
     "model_name": "HTMLModel",
     "state": {
      "_dom_classes": [],
      "_model_module": "@jupyter-widgets/controls",
      "_model_module_version": "1.5.0",
      "_model_name": "HTMLModel",
      "_view_count": null,
      "_view_module": "@jupyter-widgets/controls",
      "_view_module_version": "1.5.0",
      "_view_name": "HTMLView",
      "description": "",
      "description_tooltip": null,
      "layout": "IPY_MODEL_d438c797fe3246c8b664f1857bf43224",
      "placeholder": "​",
      "style": "IPY_MODEL_ed199bc8c38a491aa898a3bbee64450d",
      "value": " 500/500 [02:40&lt;00:00,  3.11it/s]"
     }
    },
    "ae0c2849596e42a5860bde9427d602e0": {
     "model_module": "@jupyter-widgets/controls",
     "model_name": "HTMLModel",
     "state": {
      "_dom_classes": [],
      "_model_module": "@jupyter-widgets/controls",
      "_model_module_version": "1.5.0",
      "_model_name": "HTMLModel",
      "_view_count": null,
      "_view_module": "@jupyter-widgets/controls",
      "_view_module_version": "1.5.0",
      "_view_name": "HTMLView",
      "description": "",
      "description_tooltip": null,
      "layout": "IPY_MODEL_366e4ce04b7f4692a36f9be73609a8ae",
      "placeholder": "​",
      "style": "IPY_MODEL_7493ab05358945bc91bdd62e790c9471",
      "value": " 12500/12500 [00:07&lt;00:00, 1644.53it/s]"
     }
    },
    "af9961b166524d0cb1281063f7b5b7a0": {
     "model_module": "@jupyter-widgets/base",
     "model_name": "LayoutModel",
     "state": {
      "_model_module": "@jupyter-widgets/base",
      "_model_module_version": "1.2.0",
      "_model_name": "LayoutModel",
      "_view_count": null,
      "_view_module": "@jupyter-widgets/base",
      "_view_module_version": "1.2.0",
      "_view_name": "LayoutView",
      "align_content": null,
      "align_items": null,
      "align_self": null,
      "border": null,
      "bottom": null,
      "display": null,
      "flex": null,
      "flex_flow": null,
      "grid_area": null,
      "grid_auto_columns": null,
      "grid_auto_flow": null,
      "grid_auto_rows": null,
      "grid_column": null,
      "grid_gap": null,
      "grid_row": null,
      "grid_template_areas": null,
      "grid_template_columns": null,
      "grid_template_rows": null,
      "height": null,
      "justify_content": null,
      "justify_items": null,
      "left": null,
      "margin": null,
      "max_height": null,
      "max_width": null,
      "min_height": null,
      "min_width": null,
      "object_fit": null,
      "object_position": null,
      "order": null,
      "overflow": null,
      "overflow_x": null,
      "overflow_y": null,
      "padding": null,
      "right": null,
      "top": null,
      "visibility": null,
      "width": null
     }
    },
    "aff7bf54aef746a0aaa3cbd0d3d06ef5": {
     "model_module": "@jupyter-widgets/base",
     "model_name": "LayoutModel",
     "state": {
      "_model_module": "@jupyter-widgets/base",
      "_model_module_version": "1.2.0",
      "_model_name": "LayoutModel",
      "_view_count": null,
      "_view_module": "@jupyter-widgets/base",
      "_view_module_version": "1.2.0",
      "_view_name": "LayoutView",
      "align_content": null,
      "align_items": null,
      "align_self": null,
      "border": null,
      "bottom": null,
      "display": null,
      "flex": null,
      "flex_flow": null,
      "grid_area": null,
      "grid_auto_columns": null,
      "grid_auto_flow": null,
      "grid_auto_rows": null,
      "grid_column": null,
      "grid_gap": null,
      "grid_row": null,
      "grid_template_areas": null,
      "grid_template_columns": null,
      "grid_template_rows": null,
      "height": null,
      "justify_content": null,
      "justify_items": null,
      "left": null,
      "margin": null,
      "max_height": null,
      "max_width": null,
      "min_height": null,
      "min_width": null,
      "object_fit": null,
      "object_position": null,
      "order": null,
      "overflow": null,
      "overflow_x": null,
      "overflow_y": null,
      "padding": null,
      "right": null,
      "top": null,
      "visibility": null,
      "width": null
     }
    },
    "b360a4c51cb34b6e943205f11e1cf066": {
     "model_module": "@jupyter-widgets/controls",
     "model_name": "FloatProgressModel",
     "state": {
      "_dom_classes": [],
      "_model_module": "@jupyter-widgets/controls",
      "_model_module_version": "1.5.0",
      "_model_name": "FloatProgressModel",
      "_view_count": null,
      "_view_module": "@jupyter-widgets/controls",
      "_view_module_version": "1.5.0",
      "_view_name": "ProgressView",
      "bar_style": "success",
      "description": "100%",
      "description_tooltip": null,
      "layout": "IPY_MODEL_496ece1712fa4f4388a86ded70be94af",
      "max": 500,
      "min": 0,
      "orientation": "horizontal",
      "style": "IPY_MODEL_1ca28a4f28ef4ca68bb14ce24840b9de",
      "value": 500
     }
    },
    "b3b90d455aad487ea3ab44be25ed12bf": {
     "model_module": "@jupyter-widgets/controls",
     "model_name": "DescriptionStyleModel",
     "state": {
      "_model_module": "@jupyter-widgets/controls",
      "_model_module_version": "1.5.0",
      "_model_name": "DescriptionStyleModel",
      "_view_count": null,
      "_view_module": "@jupyter-widgets/base",
      "_view_module_version": "1.2.0",
      "_view_name": "StyleView",
      "description_width": ""
     }
    },
    "b3caaed0529e4ed081bd949268ad5885": {
     "model_module": "@jupyter-widgets/base",
     "model_name": "LayoutModel",
     "state": {
      "_model_module": "@jupyter-widgets/base",
      "_model_module_version": "1.2.0",
      "_model_name": "LayoutModel",
      "_view_count": null,
      "_view_module": "@jupyter-widgets/base",
      "_view_module_version": "1.2.0",
      "_view_name": "LayoutView",
      "align_content": null,
      "align_items": null,
      "align_self": null,
      "border": null,
      "bottom": null,
      "display": null,
      "flex": null,
      "flex_flow": null,
      "grid_area": null,
      "grid_auto_columns": null,
      "grid_auto_flow": null,
      "grid_auto_rows": null,
      "grid_column": null,
      "grid_gap": null,
      "grid_row": null,
      "grid_template_areas": null,
      "grid_template_columns": null,
      "grid_template_rows": null,
      "height": null,
      "justify_content": null,
      "justify_items": null,
      "left": null,
      "margin": null,
      "max_height": null,
      "max_width": null,
      "min_height": null,
      "min_width": null,
      "object_fit": null,
      "object_position": null,
      "order": null,
      "overflow": null,
      "overflow_x": null,
      "overflow_y": null,
      "padding": null,
      "right": null,
      "top": null,
      "visibility": null,
      "width": null
     }
    },
    "b84abe778aac4c8183d13c6eec68c81f": {
     "model_module": "@jupyter-widgets/base",
     "model_name": "LayoutModel",
     "state": {
      "_model_module": "@jupyter-widgets/base",
      "_model_module_version": "1.2.0",
      "_model_name": "LayoutModel",
      "_view_count": null,
      "_view_module": "@jupyter-widgets/base",
      "_view_module_version": "1.2.0",
      "_view_name": "LayoutView",
      "align_content": null,
      "align_items": null,
      "align_self": null,
      "border": null,
      "bottom": null,
      "display": null,
      "flex": null,
      "flex_flow": null,
      "grid_area": null,
      "grid_auto_columns": null,
      "grid_auto_flow": null,
      "grid_auto_rows": null,
      "grid_column": null,
      "grid_gap": null,
      "grid_row": null,
      "grid_template_areas": null,
      "grid_template_columns": null,
      "grid_template_rows": null,
      "height": null,
      "justify_content": null,
      "justify_items": null,
      "left": null,
      "margin": null,
      "max_height": null,
      "max_width": null,
      "min_height": null,
      "min_width": null,
      "object_fit": null,
      "object_position": null,
      "order": null,
      "overflow": null,
      "overflow_x": null,
      "overflow_y": null,
      "padding": null,
      "right": null,
      "top": null,
      "visibility": null,
      "width": null
     }
    },
    "b86fdd1a3c2344379ffff893163bc337": {
     "model_module": "@jupyter-widgets/controls",
     "model_name": "HBoxModel",
     "state": {
      "_dom_classes": [],
      "_model_module": "@jupyter-widgets/controls",
      "_model_module_version": "1.5.0",
      "_model_name": "HBoxModel",
      "_view_count": null,
      "_view_module": "@jupyter-widgets/controls",
      "_view_module_version": "1.5.0",
      "_view_name": "HBoxView",
      "box_style": "",
      "children": [
       "IPY_MODEL_f8666ab375bf4ca3a36cee6a938de939",
       "IPY_MODEL_ae0c2849596e42a5860bde9427d602e0"
      ],
      "layout": "IPY_MODEL_aab4cb6450b74d65aa5c79b875a23d54"
     }
    },
    "b981cd873c5448908cec41a55a670cf1": {
     "model_module": "@jupyter-widgets/base",
     "model_name": "LayoutModel",
     "state": {
      "_model_module": "@jupyter-widgets/base",
      "_model_module_version": "1.2.0",
      "_model_name": "LayoutModel",
      "_view_count": null,
      "_view_module": "@jupyter-widgets/base",
      "_view_module_version": "1.2.0",
      "_view_name": "LayoutView",
      "align_content": null,
      "align_items": null,
      "align_self": null,
      "border": null,
      "bottom": null,
      "display": null,
      "flex": null,
      "flex_flow": null,
      "grid_area": null,
      "grid_auto_columns": null,
      "grid_auto_flow": null,
      "grid_auto_rows": null,
      "grid_column": null,
      "grid_gap": null,
      "grid_row": null,
      "grid_template_areas": null,
      "grid_template_columns": null,
      "grid_template_rows": null,
      "height": null,
      "justify_content": null,
      "justify_items": null,
      "left": null,
      "margin": null,
      "max_height": null,
      "max_width": null,
      "min_height": null,
      "min_width": null,
      "object_fit": null,
      "object_position": null,
      "order": null,
      "overflow": null,
      "overflow_x": null,
      "overflow_y": null,
      "padding": null,
      "right": null,
      "top": null,
      "visibility": null,
      "width": null
     }
    },
    "bab8ab414a0a448f96d548cd4ded28a9": {
     "model_module": "@jupyter-widgets/base",
     "model_name": "LayoutModel",
     "state": {
      "_model_module": "@jupyter-widgets/base",
      "_model_module_version": "1.2.0",
      "_model_name": "LayoutModel",
      "_view_count": null,
      "_view_module": "@jupyter-widgets/base",
      "_view_module_version": "1.2.0",
      "_view_name": "LayoutView",
      "align_content": null,
      "align_items": null,
      "align_self": null,
      "border": null,
      "bottom": null,
      "display": null,
      "flex": null,
      "flex_flow": null,
      "grid_area": null,
      "grid_auto_columns": null,
      "grid_auto_flow": null,
      "grid_auto_rows": null,
      "grid_column": null,
      "grid_gap": null,
      "grid_row": null,
      "grid_template_areas": null,
      "grid_template_columns": null,
      "grid_template_rows": null,
      "height": null,
      "justify_content": null,
      "justify_items": null,
      "left": null,
      "margin": null,
      "max_height": null,
      "max_width": null,
      "min_height": null,
      "min_width": null,
      "object_fit": null,
      "object_position": null,
      "order": null,
      "overflow": null,
      "overflow_x": null,
      "overflow_y": null,
      "padding": null,
      "right": null,
      "top": null,
      "visibility": null,
      "width": null
     }
    },
    "beadc27e3a57498486c52a1e8049af9c": {
     "model_module": "@jupyter-widgets/base",
     "model_name": "LayoutModel",
     "state": {
      "_model_module": "@jupyter-widgets/base",
      "_model_module_version": "1.2.0",
      "_model_name": "LayoutModel",
      "_view_count": null,
      "_view_module": "@jupyter-widgets/base",
      "_view_module_version": "1.2.0",
      "_view_name": "LayoutView",
      "align_content": null,
      "align_items": null,
      "align_self": null,
      "border": null,
      "bottom": null,
      "display": null,
      "flex": null,
      "flex_flow": null,
      "grid_area": null,
      "grid_auto_columns": null,
      "grid_auto_flow": null,
      "grid_auto_rows": null,
      "grid_column": null,
      "grid_gap": null,
      "grid_row": null,
      "grid_template_areas": null,
      "grid_template_columns": null,
      "grid_template_rows": null,
      "height": null,
      "justify_content": null,
      "justify_items": null,
      "left": null,
      "margin": null,
      "max_height": null,
      "max_width": null,
      "min_height": null,
      "min_width": null,
      "object_fit": null,
      "object_position": null,
      "order": null,
      "overflow": null,
      "overflow_x": null,
      "overflow_y": null,
      "padding": null,
      "right": null,
      "top": null,
      "visibility": null,
      "width": null
     }
    },
    "bf8707a4ec9145c3969acc653c534a8f": {
     "model_module": "@jupyter-widgets/base",
     "model_name": "LayoutModel",
     "state": {
      "_model_module": "@jupyter-widgets/base",
      "_model_module_version": "1.2.0",
      "_model_name": "LayoutModel",
      "_view_count": null,
      "_view_module": "@jupyter-widgets/base",
      "_view_module_version": "1.2.0",
      "_view_name": "LayoutView",
      "align_content": null,
      "align_items": null,
      "align_self": null,
      "border": null,
      "bottom": null,
      "display": null,
      "flex": null,
      "flex_flow": null,
      "grid_area": null,
      "grid_auto_columns": null,
      "grid_auto_flow": null,
      "grid_auto_rows": null,
      "grid_column": null,
      "grid_gap": null,
      "grid_row": null,
      "grid_template_areas": null,
      "grid_template_columns": null,
      "grid_template_rows": null,
      "height": null,
      "justify_content": null,
      "justify_items": null,
      "left": null,
      "margin": null,
      "max_height": null,
      "max_width": null,
      "min_height": null,
      "min_width": null,
      "object_fit": null,
      "object_position": null,
      "order": null,
      "overflow": null,
      "overflow_x": null,
      "overflow_y": null,
      "padding": null,
      "right": null,
      "top": null,
      "visibility": null,
      "width": null
     }
    },
    "c7d4c4e276214935aa843e9f3aef814b": {
     "model_module": "@jupyter-widgets/base",
     "model_name": "LayoutModel",
     "state": {
      "_model_module": "@jupyter-widgets/base",
      "_model_module_version": "1.2.0",
      "_model_name": "LayoutModel",
      "_view_count": null,
      "_view_module": "@jupyter-widgets/base",
      "_view_module_version": "1.2.0",
      "_view_name": "LayoutView",
      "align_content": null,
      "align_items": null,
      "align_self": null,
      "border": null,
      "bottom": null,
      "display": null,
      "flex": null,
      "flex_flow": null,
      "grid_area": null,
      "grid_auto_columns": null,
      "grid_auto_flow": null,
      "grid_auto_rows": null,
      "grid_column": null,
      "grid_gap": null,
      "grid_row": null,
      "grid_template_areas": null,
      "grid_template_columns": null,
      "grid_template_rows": null,
      "height": null,
      "justify_content": null,
      "justify_items": null,
      "left": null,
      "margin": null,
      "max_height": null,
      "max_width": null,
      "min_height": null,
      "min_width": null,
      "object_fit": null,
      "object_position": null,
      "order": null,
      "overflow": null,
      "overflow_x": null,
      "overflow_y": null,
      "padding": null,
      "right": null,
      "top": null,
      "visibility": null,
      "width": null
     }
    },
    "cc9b146dc2dc4fc39d068548f5684578": {
     "model_module": "@jupyter-widgets/controls",
     "model_name": "HTMLModel",
     "state": {
      "_dom_classes": [],
      "_model_module": "@jupyter-widgets/controls",
      "_model_module_version": "1.5.0",
      "_model_name": "HTMLModel",
      "_view_count": null,
      "_view_module": "@jupyter-widgets/controls",
      "_view_module_version": "1.5.0",
      "_view_name": "HTMLView",
      "description": "",
      "description_tooltip": null,
      "layout": "IPY_MODEL_07f1144a123b43caa2bf0e796e110e72",
      "placeholder": "​",
      "style": "IPY_MODEL_a2b6cab304a948398c81206002b4bd4f",
      "value": " 500/500 [00:22&lt;00:00, 21.99it/s]"
     }
    },
    "d438c797fe3246c8b664f1857bf43224": {
     "model_module": "@jupyter-widgets/base",
     "model_name": "LayoutModel",
     "state": {
      "_model_module": "@jupyter-widgets/base",
      "_model_module_version": "1.2.0",
      "_model_name": "LayoutModel",
      "_view_count": null,
      "_view_module": "@jupyter-widgets/base",
      "_view_module_version": "1.2.0",
      "_view_name": "LayoutView",
      "align_content": null,
      "align_items": null,
      "align_self": null,
      "border": null,
      "bottom": null,
      "display": null,
      "flex": null,
      "flex_flow": null,
      "grid_area": null,
      "grid_auto_columns": null,
      "grid_auto_flow": null,
      "grid_auto_rows": null,
      "grid_column": null,
      "grid_gap": null,
      "grid_row": null,
      "grid_template_areas": null,
      "grid_template_columns": null,
      "grid_template_rows": null,
      "height": null,
      "justify_content": null,
      "justify_items": null,
      "left": null,
      "margin": null,
      "max_height": null,
      "max_width": null,
      "min_height": null,
      "min_width": null,
      "object_fit": null,
      "object_position": null,
      "order": null,
      "overflow": null,
      "overflow_x": null,
      "overflow_y": null,
      "padding": null,
      "right": null,
      "top": null,
      "visibility": null,
      "width": null
     }
    },
    "d68a9fe4861643759d7217c749a6389f": {
     "model_module": "@jupyter-widgets/controls",
     "model_name": "ProgressStyleModel",
     "state": {
      "_model_module": "@jupyter-widgets/controls",
      "_model_module_version": "1.5.0",
      "_model_name": "ProgressStyleModel",
      "_view_count": null,
      "_view_module": "@jupyter-widgets/base",
      "_view_module_version": "1.2.0",
      "_view_name": "StyleView",
      "bar_color": null,
      "description_width": "initial"
     }
    },
    "d99e45a60c7a405cb5173f7f8d988b7a": {
     "model_module": "@jupyter-widgets/controls",
     "model_name": "HTMLModel",
     "state": {
      "_dom_classes": [],
      "_model_module": "@jupyter-widgets/controls",
      "_model_module_version": "1.5.0",
      "_model_name": "HTMLModel",
      "_view_count": null,
      "_view_module": "@jupyter-widgets/controls",
      "_view_module_version": "1.5.0",
      "_view_name": "HTMLView",
      "description": "",
      "description_tooltip": null,
      "layout": "IPY_MODEL_dad8594b243841c085fe70ac2aebd807",
      "placeholder": "​",
      "style": "IPY_MODEL_5dd9fe24a71b4ce0ba7d6b949445e62e",
      "value": " 500/500 [00:54&lt;00:00,  9.20it/s]"
     }
    },
    "d9e7c0cab3554b92afd527dc8f1f16a6": {
     "model_module": "@jupyter-widgets/controls",
     "model_name": "ProgressStyleModel",
     "state": {
      "_model_module": "@jupyter-widgets/controls",
      "_model_module_version": "1.5.0",
      "_model_name": "ProgressStyleModel",
      "_view_count": null,
      "_view_module": "@jupyter-widgets/base",
      "_view_module_version": "1.2.0",
      "_view_name": "StyleView",
      "bar_color": null,
      "description_width": "initial"
     }
    },
    "dad8594b243841c085fe70ac2aebd807": {
     "model_module": "@jupyter-widgets/base",
     "model_name": "LayoutModel",
     "state": {
      "_model_module": "@jupyter-widgets/base",
      "_model_module_version": "1.2.0",
      "_model_name": "LayoutModel",
      "_view_count": null,
      "_view_module": "@jupyter-widgets/base",
      "_view_module_version": "1.2.0",
      "_view_name": "LayoutView",
      "align_content": null,
      "align_items": null,
      "align_self": null,
      "border": null,
      "bottom": null,
      "display": null,
      "flex": null,
      "flex_flow": null,
      "grid_area": null,
      "grid_auto_columns": null,
      "grid_auto_flow": null,
      "grid_auto_rows": null,
      "grid_column": null,
      "grid_gap": null,
      "grid_row": null,
      "grid_template_areas": null,
      "grid_template_columns": null,
      "grid_template_rows": null,
      "height": null,
      "justify_content": null,
      "justify_items": null,
      "left": null,
      "margin": null,
      "max_height": null,
      "max_width": null,
      "min_height": null,
      "min_width": null,
      "object_fit": null,
      "object_position": null,
      "order": null,
      "overflow": null,
      "overflow_x": null,
      "overflow_y": null,
      "padding": null,
      "right": null,
      "top": null,
      "visibility": null,
      "width": null
     }
    },
    "db696eb7bc3545638a1ff143ff896590": {
     "model_module": "@jupyter-widgets/controls",
     "model_name": "ProgressStyleModel",
     "state": {
      "_model_module": "@jupyter-widgets/controls",
      "_model_module_version": "1.5.0",
      "_model_name": "ProgressStyleModel",
      "_view_count": null,
      "_view_module": "@jupyter-widgets/base",
      "_view_module_version": "1.2.0",
      "_view_name": "StyleView",
      "bar_color": null,
      "description_width": "initial"
     }
    },
    "db8d778b53b24d8695e81294098e368c": {
     "model_module": "@jupyter-widgets/base",
     "model_name": "LayoutModel",
     "state": {
      "_model_module": "@jupyter-widgets/base",
      "_model_module_version": "1.2.0",
      "_model_name": "LayoutModel",
      "_view_count": null,
      "_view_module": "@jupyter-widgets/base",
      "_view_module_version": "1.2.0",
      "_view_name": "LayoutView",
      "align_content": null,
      "align_items": null,
      "align_self": null,
      "border": null,
      "bottom": null,
      "display": null,
      "flex": null,
      "flex_flow": null,
      "grid_area": null,
      "grid_auto_columns": null,
      "grid_auto_flow": null,
      "grid_auto_rows": null,
      "grid_column": null,
      "grid_gap": null,
      "grid_row": null,
      "grid_template_areas": null,
      "grid_template_columns": null,
      "grid_template_rows": null,
      "height": null,
      "justify_content": null,
      "justify_items": null,
      "left": null,
      "margin": null,
      "max_height": null,
      "max_width": null,
      "min_height": null,
      "min_width": null,
      "object_fit": null,
      "object_position": null,
      "order": null,
      "overflow": null,
      "overflow_x": null,
      "overflow_y": null,
      "padding": null,
      "right": null,
      "top": null,
      "visibility": null,
      "width": null
     }
    },
    "dffc4356f8e5457b9ba244117abbb22c": {
     "model_module": "@jupyter-widgets/controls",
     "model_name": "DescriptionStyleModel",
     "state": {
      "_model_module": "@jupyter-widgets/controls",
      "_model_module_version": "1.5.0",
      "_model_name": "DescriptionStyleModel",
      "_view_count": null,
      "_view_module": "@jupyter-widgets/base",
      "_view_module_version": "1.2.0",
      "_view_name": "StyleView",
      "description_width": ""
     }
    },
    "e032fc26e40d4a1392e214ba5c349527": {
     "model_module": "@jupyter-widgets/controls",
     "model_name": "ProgressStyleModel",
     "state": {
      "_model_module": "@jupyter-widgets/controls",
      "_model_module_version": "1.5.0",
      "_model_name": "ProgressStyleModel",
      "_view_count": null,
      "_view_module": "@jupyter-widgets/base",
      "_view_module_version": "1.2.0",
      "_view_name": "StyleView",
      "bar_color": null,
      "description_width": "initial"
     }
    },
    "e3271679a54b45aeb52c306a20126090": {
     "model_module": "@jupyter-widgets/controls",
     "model_name": "FloatProgressModel",
     "state": {
      "_dom_classes": [],
      "_model_module": "@jupyter-widgets/controls",
      "_model_module_version": "1.5.0",
      "_model_name": "FloatProgressModel",
      "_view_count": null,
      "_view_module": "@jupyter-widgets/controls",
      "_view_module_version": "1.5.0",
      "_view_name": "ProgressView",
      "bar_style": "success",
      "description": "100%",
      "description_tooltip": null,
      "layout": "IPY_MODEL_5dd1de551fb5476bbcab8e9072b4d072",
      "max": 500,
      "min": 0,
      "orientation": "horizontal",
      "style": "IPY_MODEL_e032fc26e40d4a1392e214ba5c349527",
      "value": 500
     }
    },
    "e3b14c527dda43f5aaaf3c0c6a2ad6ed": {
     "model_module": "@jupyter-widgets/controls",
     "model_name": "ProgressStyleModel",
     "state": {
      "_model_module": "@jupyter-widgets/controls",
      "_model_module_version": "1.5.0",
      "_model_name": "ProgressStyleModel",
      "_view_count": null,
      "_view_module": "@jupyter-widgets/base",
      "_view_module_version": "1.2.0",
      "_view_name": "StyleView",
      "bar_color": null,
      "description_width": "initial"
     }
    },
    "e5e9251b830b4ef6bfb51edae2672a5d": {
     "model_module": "@jupyter-widgets/controls",
     "model_name": "DescriptionStyleModel",
     "state": {
      "_model_module": "@jupyter-widgets/controls",
      "_model_module_version": "1.5.0",
      "_model_name": "DescriptionStyleModel",
      "_view_count": null,
      "_view_module": "@jupyter-widgets/base",
      "_view_module_version": "1.2.0",
      "_view_name": "StyleView",
      "description_width": ""
     }
    },
    "e79bdd7d02e04447a519f6a02627cd7e": {
     "model_module": "@jupyter-widgets/controls",
     "model_name": "DescriptionStyleModel",
     "state": {
      "_model_module": "@jupyter-widgets/controls",
      "_model_module_version": "1.5.0",
      "_model_name": "DescriptionStyleModel",
      "_view_count": null,
      "_view_module": "@jupyter-widgets/base",
      "_view_module_version": "1.2.0",
      "_view_name": "StyleView",
      "description_width": ""
     }
    },
    "e8bf8a870f3e48e293b80984eb25a3de": {
     "model_module": "@jupyter-widgets/controls",
     "model_name": "FloatProgressModel",
     "state": {
      "_dom_classes": [],
      "_model_module": "@jupyter-widgets/controls",
      "_model_module_version": "1.5.0",
      "_model_name": "FloatProgressModel",
      "_view_count": null,
      "_view_module": "@jupyter-widgets/controls",
      "_view_module_version": "1.5.0",
      "_view_name": "ProgressView",
      "bar_style": "success",
      "description": "100%",
      "description_tooltip": null,
      "layout": "IPY_MODEL_bf8707a4ec9145c3969acc653c534a8f",
      "max": 500,
      "min": 0,
      "orientation": "horizontal",
      "style": "IPY_MODEL_0600c4bb441549d091d59e5ec972fbda",
      "value": 500
     }
    },
    "eaa03699b0fd4a2fbce4b0d3a9be0d59": {
     "model_module": "@jupyter-widgets/controls",
     "model_name": "DescriptionStyleModel",
     "state": {
      "_model_module": "@jupyter-widgets/controls",
      "_model_module_version": "1.5.0",
      "_model_name": "DescriptionStyleModel",
      "_view_count": null,
      "_view_module": "@jupyter-widgets/base",
      "_view_module_version": "1.2.0",
      "_view_name": "StyleView",
      "description_width": ""
     }
    },
    "ed199bc8c38a491aa898a3bbee64450d": {
     "model_module": "@jupyter-widgets/controls",
     "model_name": "DescriptionStyleModel",
     "state": {
      "_model_module": "@jupyter-widgets/controls",
      "_model_module_version": "1.5.0",
      "_model_name": "DescriptionStyleModel",
      "_view_count": null,
      "_view_module": "@jupyter-widgets/base",
      "_view_module_version": "1.2.0",
      "_view_name": "StyleView",
      "description_width": ""
     }
    },
    "ed292969a4e94a24a7bdcfaba59b6d1f": {
     "model_module": "@jupyter-widgets/base",
     "model_name": "LayoutModel",
     "state": {
      "_model_module": "@jupyter-widgets/base",
      "_model_module_version": "1.2.0",
      "_model_name": "LayoutModel",
      "_view_count": null,
      "_view_module": "@jupyter-widgets/base",
      "_view_module_version": "1.2.0",
      "_view_name": "LayoutView",
      "align_content": null,
      "align_items": null,
      "align_self": null,
      "border": null,
      "bottom": null,
      "display": null,
      "flex": null,
      "flex_flow": null,
      "grid_area": null,
      "grid_auto_columns": null,
      "grid_auto_flow": null,
      "grid_auto_rows": null,
      "grid_column": null,
      "grid_gap": null,
      "grid_row": null,
      "grid_template_areas": null,
      "grid_template_columns": null,
      "grid_template_rows": null,
      "height": null,
      "justify_content": null,
      "justify_items": null,
      "left": null,
      "margin": null,
      "max_height": null,
      "max_width": null,
      "min_height": null,
      "min_width": null,
      "object_fit": null,
      "object_position": null,
      "order": null,
      "overflow": null,
      "overflow_x": null,
      "overflow_y": null,
      "padding": null,
      "right": null,
      "top": null,
      "visibility": null,
      "width": null
     }
    },
    "eec80c9117834e3ebc1ac0b3fc98c647": {
     "model_module": "@jupyter-widgets/controls",
     "model_name": "HTMLModel",
     "state": {
      "_dom_classes": [],
      "_model_module": "@jupyter-widgets/controls",
      "_model_module_version": "1.5.0",
      "_model_name": "HTMLModel",
      "_view_count": null,
      "_view_module": "@jupyter-widgets/controls",
      "_view_module_version": "1.5.0",
      "_view_name": "HTMLView",
      "description": "",
      "description_tooltip": null,
      "layout": "IPY_MODEL_bab8ab414a0a448f96d548cd4ded28a9",
      "placeholder": "​",
      "style": "IPY_MODEL_e79bdd7d02e04447a519f6a02627cd7e",
      "value": " 12500/12500 [00:08&lt;00:00, 1482.28it/s]"
     }
    },
    "f0edd11c39bb44259a578d0c54f985ea": {
     "model_module": "@jupyter-widgets/controls",
     "model_name": "DescriptionStyleModel",
     "state": {
      "_model_module": "@jupyter-widgets/controls",
      "_model_module_version": "1.5.0",
      "_model_name": "DescriptionStyleModel",
      "_view_count": null,
      "_view_module": "@jupyter-widgets/base",
      "_view_module_version": "1.2.0",
      "_view_name": "StyleView",
      "description_width": ""
     }
    },
    "f40ffb364ad240a0826f8e3c6f25d2b3": {
     "model_module": "@jupyter-widgets/controls",
     "model_name": "HTMLModel",
     "state": {
      "_dom_classes": [],
      "_model_module": "@jupyter-widgets/controls",
      "_model_module_version": "1.5.0",
      "_model_name": "HTMLModel",
      "_view_count": null,
      "_view_module": "@jupyter-widgets/controls",
      "_view_module_version": "1.5.0",
      "_view_name": "HTMLView",
      "description": "",
      "description_tooltip": null,
      "layout": "IPY_MODEL_0bf09ecccd584add8d9af0ce834a1367",
      "placeholder": "​",
      "style": "IPY_MODEL_f0edd11c39bb44259a578d0c54f985ea",
      "value": " 12500/12500 [00:08&lt;00:00, 1560.82it/s]"
     }
    },
    "f8666ab375bf4ca3a36cee6a938de939": {
     "model_module": "@jupyter-widgets/controls",
     "model_name": "FloatProgressModel",
     "state": {
      "_dom_classes": [],
      "_model_module": "@jupyter-widgets/controls",
      "_model_module_version": "1.5.0",
      "_model_name": "FloatProgressModel",
      "_view_count": null,
      "_view_module": "@jupyter-widgets/controls",
      "_view_module_version": "1.5.0",
      "_view_name": "ProgressView",
      "bar_style": "success",
      "description": "100%",
      "description_tooltip": null,
      "layout": "IPY_MODEL_465b78aa035849dc92378429195cbffa",
      "max": 12500,
      "min": 0,
      "orientation": "horizontal",
      "style": "IPY_MODEL_573e48604e494f7c8e07ff09e3f2358a",
      "value": 12500
     }
    },
    "f9c18715bfe646fe9eccd7653ce4f11e": {
     "model_module": "@jupyter-widgets/base",
     "model_name": "LayoutModel",
     "state": {
      "_model_module": "@jupyter-widgets/base",
      "_model_module_version": "1.2.0",
      "_model_name": "LayoutModel",
      "_view_count": null,
      "_view_module": "@jupyter-widgets/base",
      "_view_module_version": "1.2.0",
      "_view_name": "LayoutView",
      "align_content": null,
      "align_items": null,
      "align_self": null,
      "border": null,
      "bottom": null,
      "display": null,
      "flex": null,
      "flex_flow": null,
      "grid_area": null,
      "grid_auto_columns": null,
      "grid_auto_flow": null,
      "grid_auto_rows": null,
      "grid_column": null,
      "grid_gap": null,
      "grid_row": null,
      "grid_template_areas": null,
      "grid_template_columns": null,
      "grid_template_rows": null,
      "height": null,
      "justify_content": null,
      "justify_items": null,
      "left": null,
      "margin": null,
      "max_height": null,
      "max_width": null,
      "min_height": null,
      "min_width": null,
      "object_fit": null,
      "object_position": null,
      "order": null,
      "overflow": null,
      "overflow_x": null,
      "overflow_y": null,
      "padding": null,
      "right": null,
      "top": null,
      "visibility": null,
      "width": null
     }
    },
    "fcea9a3f7b2f40578964e4121a43c87c": {
     "model_module": "@jupyter-widgets/controls",
     "model_name": "HBoxModel",
     "state": {
      "_dom_classes": [],
      "_model_module": "@jupyter-widgets/controls",
      "_model_module_version": "1.5.0",
      "_model_name": "HBoxModel",
      "_view_count": null,
      "_view_module": "@jupyter-widgets/controls",
      "_view_module_version": "1.5.0",
      "_view_name": "HBoxView",
      "box_style": "",
      "children": [
       "IPY_MODEL_2b89185ce43e4905b85e6685cdbde5f7",
       "IPY_MODEL_58f7f13370ae4f85b012754d8ec1dd78"
      ],
      "layout": "IPY_MODEL_beadc27e3a57498486c52a1e8049af9c"
     }
    },
    "fd9b655634064f139b396992a0ebe392": {
     "model_module": "@jupyter-widgets/controls",
     "model_name": "ProgressStyleModel",
     "state": {
      "_model_module": "@jupyter-widgets/controls",
      "_model_module_version": "1.5.0",
      "_model_name": "ProgressStyleModel",
      "_view_count": null,
      "_view_module": "@jupyter-widgets/base",
      "_view_module_version": "1.2.0",
      "_view_name": "StyleView",
      "bar_color": null,
      "description_width": "initial"
     }
    }
   }
  }
 },
 "nbformat": 4,
 "nbformat_minor": 4
}
