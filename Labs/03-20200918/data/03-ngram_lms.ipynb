{
 "cells": [
  {
   "cell_type": "markdown",
   "metadata": {
    "colab_type": "text",
    "id": "Txr08HTBTBcc"
   },
   "source": [
    "# Fall 2020: DS-GA 1011 NLP with Representation Learning\n",
    "## Lab 3: 18-Sep-2020, Friday\n",
    "## N-Gram Language Models"
   ]
  },
  {
   "cell_type": "code",
   "execution_count": 1,
   "metadata": {},
   "outputs": [],
   "source": [
    "#!conda install -c conda-forge jsonlines"
   ]
  },
  {
   "cell_type": "code",
   "execution_count": 2,
   "metadata": {},
   "outputs": [],
   "source": [
    "# Import required packages\n",
    "import numpy as np\n",
    "import pandas as pd\n",
    "from tqdm import tqdm\n",
    "\n",
    "from collections import defaultdict\n",
    "from pprint import pprint\n",
    "import jsonlines\n",
    "import matplotlib.pyplot as plt\n",
    "from itertools import product\n",
    "\n",
    "# Set random seed\n",
    "np.random.seed(1011)"
   ]
  },
  {
   "cell_type": "markdown",
   "metadata": {},
   "source": [
    "cf.\n",
    "> `pprint` Prints (“pretty-print”) the formatted representation of object followed by a newline.\n",
    "\n",
    "> [`defaultdict`](https://docs.python.org/3.7/library/collections.html#collections.defaultdict) a subclass of the built-in `dict` class that makes it simpler and faster to create dictionary of iterables\n",
    "\n",
    "> [`jsonlines`](https://pypi.org/project/jsonlines/) library to simplify working with JSON Lines text (newline-delimited JSON) format\n",
    "\n",
    "> [`matplotlib`](https://matplotlib.org/3.3.1/index.html) visualization library for Python. `pyplot` provides simple interface for generating interactive plot programmaticaly\n",
    "\n",
    "> [`itertools`](https://docs.python.org/3.7/library/itertools.html) module for implementing objects representing stream of data ($\\texttt{iterator}$). `product` results in a cartesian product of input iterables."
   ]
  },
  {
   "cell_type": "markdown",
   "metadata": {},
   "source": [
    "---\n",
    "### N-gram Language Modeling\n",
    "\n",
    "Recall that we want to model the probability of variable length sequences, $$p(w_1,\\ldots,w_T)=\\prod_{t=1}^T p(w_t|w_{<t}).$$\n",
    "\n",
    "An **n-gram language model** assumes that each word $w_t$ only depends on the preceding $n-1$ words, $$p(w_1,\\ldots,w_T)=\\prod_{t=1}^T p(w_t|w_{t-n+1},\\ldots,w_{t-1}).$$\n",
    "\n",
    "We will abbreviate the preceding $n-1$ words as $w_{t-n+1}^{t-1}$. \n",
    "\n",
    "#### Example\n",
    "For instance, when modeling the sentence $$\\texttt{the cat sat on the mat .}$$ a 3-gram language model assumes that $$p(\\texttt{mat}|\\texttt{the cat sat on the}) \\approx p(\\texttt{mat}|\\texttt{on the}).$$\n",
    "\n",
    "The sub-sequence $(\\texttt{on the mat})$ is a *3-gram* or *trigram*.\n",
    "\n",
    "#### Estimation\n",
    "\n",
    "Given some dataset $D$ of sequences, we can estimate an n-gram model through counting, derived as follows:\n",
    "\n",
    "\\begin{align}\n",
    "p(w_t|w_{t-n+1},\\ldots,w_{t-1}) &= \\frac{p(w_{t-n+1},\\ldots,w_t)}{p(w_{t-n+1},\\ldots,w_{t-1})} & \\text{definition of conditional probability}\\\\\n",
    "                       &= \\frac{p(w_{t-n+1},\\ldots,w_t)}{\\sum_{w_{t'}}p(w_{t-n+1},\\ldots,w_{t-1},w_{t'})}\\\\\n",
    "                       &\\approx \\frac{\\frac{1}{N}\\text{count}(w_{t-n+1},\\ldots,w_t)}{\\frac{1}{N}\\sum_{w_{t'}}\\text{count}(w_{t-n+1},\\ldots,w_{t-1},w_{t'})}\\\\\n",
    "                       &= \\frac{\\text{count}(w_{t-n+1},\\ldots,w_t)}{\\sum_{w_{t'}}\\text{count}(w_{t-n+1},\\ldots,w_{t-1},w_{t'})}\\\\\n",
    "                       &= \\frac{\\text{count}(w_{t-n+1},\\ldots,w_t)}{\\text{count}(w_{t-n+1},\\ldots,w_{t-1})},\n",
    "\\end{align}\n",
    "\n",
    "where $N$ is the number of $n$-grams in the dataset.\n",
    "\n",
    "In Python, we can collect these counts into a dictionary mapping a prefix to a dictionary of counts:\n",
    "\n",
    "        count[(w_n+1,...,w_t-1)] = {wt1: count of (w_n+1,...,w_t1),\n",
    "                                    wt2: count of (w_n+1,...,w_t2),\n",
    "                                    ...\n",
    "                                   }\n",
    "                                   \n",
    "and for the denominator, maintain a dictionary of totals:\n",
    "\n",
    "        total[(w_n+1,...,w_t-1)] = count of w_n+1,...,w_t-1"
   ]
  },
  {
   "cell_type": "markdown",
   "metadata": {},
   "source": [
    "---\n",
    "### Simplified Language\n",
    "\n",
    "To get intuition, lets start by modeling a simple language called `ABC`. A word in this language is one of three tokens, $$w\\in \\{\\texttt{A, B, C}\\},$$\n",
    "and we'll denote a sentence as $\\textbf{s}=(w_1,\\ldots,w_{|\\textbf{w}|})$.\n",
    "\n",
    "\n",
    "Suppose we are given the following dataset, and want to estimate a **bigram model**: $$p(\\textbf{s})\\approx\\prod_{t=1}^{|\\textbf{w}|}p(w_t|w_{t-1})$$"
   ]
  },
  {
   "cell_type": "code",
   "execution_count": 3,
   "metadata": {},
   "outputs": [],
   "source": [
    "data_raw = [['A', 'A', 'B', 'B'],\n",
    "            ['A', 'A', 'B'],\n",
    "            ['A', 'A', 'B', 'C'],\n",
    "            ['A', 'A', 'A'],\n",
    "            ['A', 'A', 'A', 'A']]"
   ]
  },
  {
   "cell_type": "markdown",
   "metadata": {},
   "source": [
    "To make the model meaningful for $t = 1$ we pad the sentences with an additional **beginning token**, `<bos>`. \n",
    "\n",
    "Since our model is a probability distribution, the total probability of all possible strings in the language must sum to 1, i.e.: $$\\sum_{\\textbf{s}}p(\\textbf{s})=1.$$\n",
    "\n",
    "In order to satisfy this criterion we need an additional **end token**, `<eos>`."
   ]
  },
  {
   "cell_type": "code",
   "execution_count": 4,
   "metadata": {},
   "outputs": [
    {
     "data": {
      "text/plain": [
       "[['<bos>', 'A', 'A', 'B', 'B', '<eos>'],\n",
       " ['<bos>', 'A', 'A', 'B', '<eos>'],\n",
       " ['<bos>', 'A', 'A', 'B', 'C', '<eos>'],\n",
       " ['<bos>', 'A', 'A', 'A', '<eos>'],\n",
       " ['<bos>', 'A', 'A', 'A', 'A', '<eos>']]"
      ]
     },
     "execution_count": 4,
     "metadata": {},
     "output_type": "execute_result"
    }
   ],
   "source": [
    "data = [['<bos>'] + d + ['<eos>'] for d in data_raw]\n",
    "data"
   ]
  },
  {
   "cell_type": "markdown",
   "metadata": {},
   "source": [
    "Now let's estimate a bigram model:\n",
    "\n",
    "\\begin{align}\n",
    "p(w_t|w_{t-1}) &= \\frac{\\text{count}(w_{t-1}w_{t})}{\\sum_{w_{t'}}\\text{count}(w_{t-1}w_{t'})}\\\\\n",
    "               &= \\texttt{count[prefix][wt] / totals[prefix]}\n",
    "\\end{align} \n",
    "\n",
    "where $\\texttt{prefix}$ is $w_{t-1}$ in this case."
   ]
  },
  {
   "cell_type": "code",
   "execution_count": 5,
   "metadata": {},
   "outputs": [],
   "source": [
    "count = defaultdict(lambda: defaultdict(float))\n",
    "total = defaultdict(float)\n",
    "\n",
    "n = 2\n",
    "for sequence in data:\n",
    "    for i in range(len(sequence)-n+1):         # for each ngram\n",
    "        ngram = tuple(sequence[i:i+n])\n",
    "        prefix, word = ngram[:-1], ngram[-1]\n",
    "        count[prefix][word] += 1               # count(w_{t-n+1}...w_t)\n",
    "        total[prefix] += 1                     # count(w_{t-n+1}...w_{t-1})"
   ]
  },
  {
   "cell_type": "markdown",
   "metadata": {},
   "source": [
    "cf.\n",
    "> `lambda` lambda expressions (or forms) are used to create anonymous functions. The expression `lambda parameters: expression` yields a function object."
   ]
  },
  {
   "cell_type": "markdown",
   "metadata": {},
   "source": [
    "Let's see if the counts and totals make sense:\n",
    "\n",
    "- How many times did (A, B) occur? What about (B, B)?\n",
    "- How many times did (A) occur? What about (C)?"
   ]
  },
  {
   "cell_type": "code",
   "execution_count": 6,
   "metadata": {},
   "outputs": [
    {
     "name": "stdout",
     "output_type": "stream",
     "text": [
      "Counts:\n",
      "{('<bos>',): defaultdict(<class 'float'>, {'A': 5.0}),\n",
      " ('A',): defaultdict(<class 'float'>, {'A': 8.0, 'B': 3.0, '<eos>': 2.0}),\n",
      " ('B',): defaultdict(<class 'float'>, {'B': 1.0, '<eos>': 2.0, 'C': 1.0}),\n",
      " ('C',): defaultdict(<class 'float'>, {'<eos>': 1.0})}\n",
      "\n",
      "Totals:\n",
      "{('<bos>',): 5.0, ('A',): 13.0, ('B',): 4.0, ('C',): 1.0}\n"
     ]
    }
   ],
   "source": [
    "print(\"Counts:\")\n",
    "pprint(dict(count))\n",
    "print(\"\\nTotals:\")\n",
    "pprint(dict(total))"
   ]
  },
  {
   "cell_type": "markdown",
   "metadata": {},
   "source": [
    "#### Conditional probability queries\n",
    "\n",
    "We can now query a conditional probability:\n",
    "\n",
    "\\begin{align}\n",
    "\\texttt{p(word|prefix)} &= \\texttt{count[prefix][word] / totals[prefix]}\n",
    "\\end{align}"
   ]
  },
  {
   "cell_type": "code",
   "execution_count": 7,
   "metadata": {},
   "outputs": [
    {
     "name": "stdout",
     "output_type": "stream",
     "text": [
      "p( A | <bos>) = \t1.00000\n",
      "p( C | B) = \t0.25000\n"
     ]
    }
   ],
   "source": [
    "queries = [('<bos>', 'A'),\n",
    "           ('B', 'C')]\n",
    "\n",
    "for query in queries:\n",
    "    prefix, word = query[:-1], query[-1]\n",
    "    p = count[prefix][word] / total[prefix]  # We'll discuss the case when `total[prefix] = 0` below.\n",
    "    print(\"p( %s | %s) = \\t%.5f\" % (word, ', '.join(prefix), p))"
   ]
  },
  {
   "cell_type": "markdown",
   "metadata": {},
   "source": [
    "**Exercise**: Look at the training set and convince yourself that these conditional probabilities are correct according to the count-based estimation procedure."
   ]
  },
  {
   "cell_type": "markdown",
   "metadata": {},
   "source": [
    "#### Sequence Probability\n",
    "\n",
    "We can compute the probability of a sequence using the conditional probabilities along with the chain rule:\n",
    "\n",
    "\\begin{align}\n",
    "p(w_1,\\ldots,w_T)&\\approx\\prod_{t=1}^T p(w_t|w_{t-1})\n",
    "\\end{align}\n",
    "\n",
    "(Here $w_0$ is `<bos>` and $w_T$ is `<eos>`)"
   ]
  },
  {
   "cell_type": "code",
   "execution_count": 8,
   "metadata": {},
   "outputs": [
    {
     "name": "stdout",
     "output_type": "stream",
     "text": [
      "p(A | <bos>) =\t1.000\n",
      "p(A | A) =\t0.615\n",
      "p(B | A) =\t0.231\n",
      "p(<eos> | B) =\t0.500\n",
      "\n",
      "Product: p(AAB) = 0.071\n"
     ]
    }
   ],
   "source": [
    "sequence = ['<bos>', 'A', 'A', 'B', '<eos>']\n",
    "\n",
    "def sequence_p(sequence, log=False):\n",
    "    total_p = 1\n",
    "\n",
    "    for i in range(len(sequence)-n+1):\n",
    "        ngram = tuple(sequence[i:i+n])\n",
    "        prefix = ngram[:-1]\n",
    "        word = ngram[-1]\n",
    "        p = count[prefix][word] / max(total[prefix], 1)\n",
    "        if log:\n",
    "            print(\"p(%s | %s) =\\t%.3f\" % (word, ', '.join(prefix), p))\n",
    "\n",
    "        total_p *= p\n",
    "    return total_p\n",
    "    \n",
    "\n",
    "print(\"\\nProduct: p(%s) = %.3f\" % (''.join(sequence[1:-1]), sequence_p(sequence, log=True)))"
   ]
  },
  {
   "cell_type": "markdown",
   "metadata": {},
   "source": [
    "---\n",
    "### Real Example: Dialogue Utterances\n",
    "\n",
    "Now lets use the same ideas on a more realistic text corpus.\n",
    "\n",
    "We will use utterances from a dialogue dataset called **Persona-Chat**. This dataset is relatively small and centers on a single domain, but it is simple and interpretable for our purposes here."
   ]
  },
  {
   "cell_type": "markdown",
   "metadata": {},
   "source": [
    "#### Loading the dataset"
   ]
  },
  {
   "cell_type": "code",
   "execution_count": 9,
   "metadata": {},
   "outputs": [
    {
     "name": "stdout",
     "output_type": "stream",
     "text": [
      "Number of train examples: 133176\n",
      "Number of valid examples: 16181\n",
      "Vocab size: 19153\n",
      "\n",
      "Examples:\n",
      "[['i', 'am', 'doing', 'great', 'except', 'for', 'the', 'allergies', '.'],\n",
      " ['i', 'am', 'a', 'woman', 'what', 'about', 'you', '.'],\n",
      " ['i', 'thought', 'you', 'were', 'a', 'college', 'kid', '.']]\n"
     ]
    }
   ],
   "source": [
    "train = []\n",
    "val = []\n",
    "\n",
    "for ds, name in [(train, 'train'), (val, 'valid')]:\n",
    "    for line in jsonlines.Reader(open('data/personachat/personachat_all_sentences_%s.jsonl' % name, 'r')):\n",
    "        ds.append(line['tokens'])\n",
    "        \n",
    "vocab = list(set([t for ts in train for t in ts]))      \n",
    "print(\"Number of train examples: %d\" % (len(train)))\n",
    "print(\"Number of valid examples: %d\" % (len(val)))\n",
    "print(\"Vocab size: %d\" % (len(vocab)))\n",
    "\n",
    "print(\"\\nExamples:\")\n",
    "pprint(train[:3])"
   ]
  },
  {
   "cell_type": "markdown",
   "metadata": {},
   "source": [
    "#### Estimate a **3-gram** model\n",
    "\n",
    "We will use the same approach as in the `ABC` example, except for a 3-gram model.\n",
    "\n",
    "Notice that we now prepend 2 `<bos>` tokens, so that the first conditional probability is `p(first_word|<bos>, <bos>)`."
   ]
  },
  {
   "cell_type": "code",
   "execution_count": 10,
   "metadata": {},
   "outputs": [],
   "source": [
    "count = defaultdict(lambda: defaultdict(float))\n",
    "total = defaultdict(float)\n",
    "\n",
    "n = 3\n",
    "\n",
    "for sequence_raw in train:\n",
    "    sequence = ['<bos>']*(n-1) + sequence_raw + ['<eos>']\n",
    "    for i in range(len(sequence)-n+1):\n",
    "        ngram = tuple(sequence[i:i+n])\n",
    "        prefix, word = ngram[:-1], ngram[-1]\n",
    "\n",
    "        count[prefix][word] += 1\n",
    "        total[prefix] += 1"
   ]
  },
  {
   "cell_type": "markdown",
   "metadata": {},
   "source": [
    "#### Counts\n",
    "\n",
    "Let's check some of the counts for a few trigrams, by querying bigrams and finding the next-words with the highest counts:"
   ]
  },
  {
   "cell_type": "code",
   "execution_count": 11,
   "metadata": {},
   "outputs": [
    {
     "name": "stdout",
     "output_type": "stream",
     "text": [
      "(i, have, a) -> 2092.0\n",
      "(i, have, been) -> 740.0\n",
      "(i, have, to) -> 567.0\n",
      "(i, have, never) -> 531.0\n",
      "(i, have, not) -> 484.0\n",
      "(i, have, two) -> 335.0\n",
      "(i, have, no) -> 191.0\n",
      "(i, have, 2) -> 175.0\n",
      "(i, have, 3) -> 163.0\n",
      "(i, have, one) -> 161.0\n"
     ]
    }
   ],
   "source": [
    "bigram = ('i', 'have')\n",
    "limit = 10\n",
    "\n",
    "for w, c in sorted(count[bigram].items(), key=lambda x: -x[1])[:limit]:\n",
    "    print(\"(%s, %s, %s) -> %.1f\" % (bigram[0], bigram[1], w, c))"
   ]
  },
  {
   "cell_type": "markdown",
   "metadata": {},
   "source": [
    "**Exercise:** How many times does `my pet dog` occur in the training set? What about `my pet lion`?"
   ]
  },
  {
   "cell_type": "code",
   "execution_count": 12,
   "metadata": {},
   "outputs": [
    {
     "name": "stdout",
     "output_type": "stream",
     "text": [
      "(my, pet, lizard) -> 8.0\n",
      "(my, pet, iguana) -> 8.0\n",
      "(my, pet, snake) -> 7.0\n",
      "(my, pet, .) -> 6.0\n",
      "(my, pet, skunk) -> 5.0\n",
      "(my, pet, iguanas) -> 4.0\n",
      "(my, pet, panda) -> 3.0\n",
      "(my, pet, is) -> 3.0\n",
      "(my, pet, cat) -> 3.0\n",
      "(my, pet, dog) -> 2.0\n",
      "(my, pet, dogs) -> 2.0\n",
      "(my, pet, and) -> 2.0\n",
      "(my, pet, beta) -> 2.0\n",
      "(my, pet, on) -> 1.0\n",
      "(my, pet, like) -> 1.0\n"
     ]
    }
   ],
   "source": [
    "bigram = ('my', 'pet')\n",
    "limit = 15\n",
    "\n",
    "for w, c in sorted(count[bigram].items(), key=lambda x: -x[1])[:limit]:\n",
    "    print(\"(%s, %s, %s) -> %.1f\" % (bigram[0], bigram[1], w, c))"
   ]
  },
  {
   "cell_type": "markdown",
   "metadata": {},
   "source": [
    "#### Conditional probability queries\n",
    "We can now query the model for conditional probabilities:\n",
    "\n",
    "\\begin{align}\n",
    "p(w_t|w_{t-2},w_{t-1}) &= \\frac{\\text{count}(w_{t-2}w_{t-1}w_t)}{\\sum_{w_{t'}}\\text{count}(w_{t-2}w_{t-1}w_{t'})},\n",
    "\\end{align} "
   ]
  },
  {
   "cell_type": "code",
   "execution_count": 13,
   "metadata": {},
   "outputs": [
    {
     "name": "stdout",
     "output_type": "stream",
     "text": [
      "p( a | i, have) = \t0.23157\n",
      "p( no | i, have) = \t0.02114\n",
      "p( is | my, name) = \t0.93409\n",
      "p( dog | my, pet) = \t0.03030\n",
      "p( zebra | my, pet) = \t0.01515\n",
      "p( lion | my, pet) = \t0.00000\n"
     ]
    }
   ],
   "source": [
    "queries = [('i', 'have', 'a'),\n",
    "           ('i', 'have', 'no'),\n",
    "           ('my', 'name', 'is'),\n",
    "           ('my', 'pet', 'dog'),\n",
    "           ('my', 'pet', 'zebra'),\n",
    "           ('my', 'pet', 'lion')]\n",
    "\n",
    "for query in queries:\n",
    "    prefix, word = query[:-1], query[-1]\n",
    "    p = count[prefix][word] / max(total[prefix], 1)\n",
    "    print(\"p( %s | %s) = \\t%.5f\" % (word, ', '.join(prefix), p))"
   ]
  },
  {
   "cell_type": "markdown",
   "metadata": {},
   "source": [
    "#### Sequence probabilities:\n",
    "\\begin{align}\n",
    "p(w_1,\\ldots,w_T)&\\approx\\prod_{t=1}^T p(w_t|w_{t-2},w_{t-1})\\\\\n",
    "&=\\sum_{t=1}^T \\log p(w_t|w_{t-2},w_{t-1}).\n",
    "\\end{align}\n",
    "\n",
    "where we use log probabilities in practice to avoid a product of many small numbers."
   ]
  },
  {
   "cell_type": "code",
   "execution_count": 14,
   "metadata": {},
   "outputs": [
    {
     "name": "stdout",
     "output_type": "stream",
     "text": [
      "['<bos>', '<bos>', 'i', 'am', 'doing', 'great', 'except', 'for', 'the', 'allergies', '.', '<eos>']\n"
     ]
    }
   ],
   "source": [
    "padded_sequence = ['<bos>']*(n-1) + train[0] + ['<eos>']\n",
    "print(padded_sequence)"
   ]
  },
  {
   "cell_type": "code",
   "execution_count": 15,
   "metadata": {},
   "outputs": [
    {
     "name": "stdout",
     "output_type": "stream",
     "text": [
      "log p(i | <bos>, <bos>) =\t-1.631\n",
      "log p(am | <bos>, i) =\t-1.969\n",
      "log p(doing | i, am) =\t-4.455\n",
      "log p(great | am, doing) =\t-2.359\n",
      "log p(except | doing, great) =\t-8.205\n",
      "log p(for | great, except) =\t0.000\n",
      "log p(the | except, for) =\t-2.644\n",
      "log p(allergies | for, the) =\t-9.671\n",
      "log p(. | the, allergies) =\t-0.415\n",
      "log p(<eos> | allergies, .) =\t-0.363\n",
      "\n",
      "Total: -31.710\n"
     ]
    }
   ],
   "source": [
    "total_logp = 0\n",
    "\n",
    "for i in range(len(padded_sequence)-n+1):\n",
    "    ngram = tuple(padded_sequence[i:i+n])\n",
    "    prefix = ngram[:-1]\n",
    "    word = ngram[-1]\n",
    "    logp = np.log2(count[prefix][word] / max(total[prefix], 1))\n",
    "    print(\"log p(%s | %s) =\\t%.3f\" % (word, ', '.join(prefix), logp))\n",
    "    \n",
    "    total_logp += logp\n",
    "    \n",
    "print(\"\\nTotal: %.3f\" % total_logp)"
   ]
  },
  {
   "cell_type": "markdown",
   "metadata": {},
   "source": [
    "**Exercise**: Which conditional probability above has the highest probability?"
   ]
  },
  {
   "cell_type": "markdown",
   "metadata": {},
   "source": [
    "#### Generation\n",
    "\n",
    "Finally, we can generate sentences using the model's conditional distribution:\n",
    "\n",
    "            context = [<bos>, <bos>]\n",
    "            until <eos> is generated:\n",
    "                wt ~ p(wt | context)\n",
    "                context += [wt]\n",
    "                \n",
    "                \n",
    "Here, the `~` symbol stands for sampling from a categorical distribution. "
   ]
  },
  {
   "cell_type": "code",
   "execution_count": 16,
   "metadata": {},
   "outputs": [
    {
     "name": "stdout",
     "output_type": "stream",
     "text": [
      "<bos> <bos> my wife was in africa . now . t . have you tried using a racket and ball game . <eos>\n",
      "<bos> <bos> not sure yet . <eos>\n",
      "<bos> <bos> i am a nurse . <eos>\n",
      "<bos> <bos> i ride my bike , that feels . i am guessing you are not you take with me . <eos>\n",
      "<bos> <bos> i travelled the world . <eos>\n",
      "<bos> <bos> interesting ? <eos>\n",
      "<bos> <bos> it is a boy and girl . <eos>\n",
      "<bos> <bos> i like to play board games a lot mostly poems . <eos>\n",
      "<bos> <bos> i like rocks ? <eos>\n",
      "<bos> <bos> hey , good , i could , i wish i can see that from your mother ? that sounds nice but i do anymore . <eos>\n"
     ]
    }
   ],
   "source": [
    "for n_samples in range(10):\n",
    "    context = ('<bos>', '<bos>')\n",
    "\n",
    "    output = context\n",
    "    while output[-1] != '<eos>':\n",
    "        # Form conditional distribution to sample from\n",
    "        probs, tokens = [], []\n",
    "        for token in count[context]:\n",
    "            p = count[context][token] / total[context]\n",
    "            probs.append(p)\n",
    "            tokens.append(token)\n",
    "        # Sample\n",
    "        wt = np.random.choice(tokens, p=probs)\n",
    "        output = output + (wt,)\n",
    "        context = context[1:] + (wt,)\n",
    "    \n",
    "    print(' '.join(output))"
   ]
  },
  {
   "cell_type": "markdown",
   "metadata": {},
   "source": [
    "**Exercise:** Try different starting contexts.\n",
    "\n",
    "**Exercise:** Use **greedy** decoding, `wt = argmax p(wt | context)`, or another decoding method instead of the categorical sampling from above."
   ]
  },
  {
   "cell_type": "markdown",
   "metadata": {},
   "source": [
    "---\n",
    "### 🚨Issues: Data Sparsity & Generalization 🚨\n",
    "\n",
    "As you might have noticed, the model assigns zero probability to even some reasonable n-grams:"
   ]
  },
  {
   "cell_type": "code",
   "execution_count": 17,
   "metadata": {},
   "outputs": [
    {
     "name": "stdout",
     "output_type": "stream",
     "text": [
      "p( dog | my, pet) = \t0.03030\n",
      "p( zebra | my, pet) = \t0.01515\n",
      "p( lion | my, pet) = \t0.00000\n"
     ]
    }
   ],
   "source": [
    "queries = [('my', 'pet', 'dog'),\n",
    "           ('my', 'pet', 'zebra'),\n",
    "           ('my', 'pet', 'lion')]\n",
    "\n",
    "for query in queries:\n",
    "    prefix, word = query[:-1], query[-1]\n",
    "    p = count[prefix][word] / max(total[prefix], 1)\n",
    "    print(\"p( %s | %s) = \\t%.5f\" % (word, ', '.join(prefix), p))"
   ]
  },
  {
   "cell_type": "markdown",
   "metadata": {},
   "source": [
    "The tri-gram `my pet lion` never occurred in the corpus, corresponding to zero count and hence zero probability under the model.\n",
    "\n",
    "This is in part an issue of **data sparsity** (given infinite data we'd probably see `my pet lion`), but is also an instance of the **generalization** problem; intuitively, even though the model *has* seen `my pet dog` and `my pet zebra`, it does not form a general notion of `my pet {animal}`."
   ]
  },
  {
   "cell_type": "markdown",
   "metadata": {},
   "source": [
    "#### Additive smoothing\n",
    "\n",
    "N-gram language models address data sparsity through **smoothing** techniques which re-allocate probability mass, for instance to n-grams with zero counts.\n",
    "\n",
    "A simple (and naive, according to empirical performance) smoothing method is to add a *fixed* 'pseudo-count' $\\delta$ to *every* n-gram:\n",
    "\\begin{align}\n",
    "p(w_t|w_{t-n+1},\\ldots,w_{t-1}) &\\approx \\frac{\\text{count}(w_{t-n+1},\\ldots,w_{t})+ \\delta}{\\sum_{w_{t'}}\\left[\\text{count}(w_{t-n+1},\\ldots,w_{t-1},w_{t'})+\\delta\\right]}\\\\\n",
    "&= \\frac{\\text{count}(w_{t-n+1},\\ldots,w_{t})+ \\delta}{\\delta|V| + \\sum_{w_{t'}}\\text{count}(w_{t-n+1},\\ldots,w_{t-1},w_{t'})},\n",
    "\\end{align}\n",
    "\n",
    "where V is the vocabulary.\n",
    "\n",
    "Let's implement this below:"
   ]
  },
  {
   "cell_type": "code",
   "execution_count": 18,
   "metadata": {},
   "outputs": [
    {
     "name": "stdout",
     "output_type": "stream",
     "text": [
      "p( dog | my, pet) = \t0.00780\n",
      "p( zebra | my, pet) = \t0.00392\n",
      "p( lion | my, pet) = \t0.00004\n"
     ]
    }
   ],
   "source": [
    "delta = 0.01\n",
    "Vsize = len(vocab)\n",
    "\n",
    "queries = [('my', 'pet', 'dog'),\n",
    "           ('my', 'pet', 'zebra'),\n",
    "           ('my', 'pet', 'lion')]\n",
    "\n",
    "for query in queries:\n",
    "    prefix, word = query[:-1], query[-1]\n",
    "    \n",
    "    ### note the ADDITIVE SMOOTHING ↓\n",
    "    p = (delta + count[prefix][word]) / (total[prefix] + delta*Vsize)\n",
    "    \n",
    "    print(\"p( %s | %s) = \\t%.5f\" % (word, ', '.join(prefix), p))"
   ]
  },
  {
   "cell_type": "markdown",
   "metadata": {},
   "source": [
    "**Exercise:** How does `p(lion | my, pet)` change as $\\delta$ decreases/increases? What about `p(dog | my, pet)`?"
   ]
  },
  {
   "cell_type": "markdown",
   "metadata": {},
   "source": [
    "---\n",
    "### Evaluation\n",
    "\n",
    "#### Perplexity\n",
    "\n",
    "Intuitively, a good model should assign high probabilities to sequences from the 'true' distribution that it is modeling.\n",
    "\n",
    "A common way of quantifying this is with **perplexity**, a metric inversely-proportional to the probability that the model assigns to a set of sequences, e.g. a 'test set':\n",
    "\n",
    "\\begin{align}\n",
    "\\huge \\text{ppl}(p, D) &\\huge = -\\frac{1}{N_{total}}\\log p(D)\n",
    "\\end{align}\n",
    "\n",
    "where $D=\\{(w_1,\\ldots,w_{N_i})_i\\}_{i=1}^M$ is a dataset of $M$ sequences with total length $N_{\\text{total}}=\\sum_{i}N_i$.\n",
    "\n",
    "Intuitively, when measured in exponential form, **_perplexity measures the average rank of the true next-token, when tokens are ordered by the model's conditional probabilities_**. It is defined on $[1,\\infty)$, with 1 being a perfect model (assigning probability 1 to $D$), and a 'worse' model as perplexity increases."
   ]
  },
  {
   "cell_type": "markdown",
   "metadata": {},
   "source": [
    "#### Evaluating our model (and variations)\n",
    "\n",
    "To allow for adjusting $n$ and $\\delta$, let's first put the n-gram model estimation and querying from above into a python class:"
   ]
  },
  {
   "cell_type": "code",
   "execution_count": 19,
   "metadata": {},
   "outputs": [],
   "source": [
    "class NGramLM(object):\n",
    "    def __init__(self, n, delta, vocab):\n",
    "        self.n = n\n",
    "        self.delta = delta\n",
    "        self.count = defaultdict(lambda: defaultdict(float))\n",
    "        self.total = defaultdict(float)\n",
    "        self.vocab = vocab\n",
    "        if '<eos>' not in self.vocab:\n",
    "            self.vocab.append('<eos>')\n",
    "        self.vsize = len(vocab)\n",
    "    \n",
    "    def estimate(self, sequences):\n",
    "        for sequence_raw in sequences:\n",
    "            sequence = ['<bos>']*(self.n-1) + sequence_raw + ['<eos>']\n",
    "            for i in range(len(sequence)-self.n+1):\n",
    "                ngram = tuple(sequence[i:i+self.n])\n",
    "                prefix, word = ngram[:-1], ngram[-1]\n",
    "                self.count[prefix][word] += 1\n",
    "                self.total[prefix] += 1\n",
    "                \n",
    "    def sequence_logp(self, sequence_raw):\n",
    "        sequence = ['<bos>']*(self.n-1) + sequence_raw + ['<eos>']\n",
    "        total_logp = 0\n",
    "        for i in range(len(sequence)-self.n+1):\n",
    "            ngram = tuple(sequence[i:i+self.n])\n",
    "            prefix = ngram[:-1]\n",
    "            word = ngram[-1]\n",
    "            logp = np.log2((self.delta + self.count[prefix][word]) / \n",
    "                           (self.total[prefix] + self.delta*self.vsize))\n",
    "            total_logp += logp\n",
    "        return total_logp"
   ]
  },
  {
   "cell_type": "code",
   "execution_count": 20,
   "metadata": {},
   "outputs": [
    {
     "name": "stdout",
     "output_type": "stream",
     "text": [
      "-33.158200479259946\n"
     ]
    }
   ],
   "source": [
    "lm = NGramLM(n=3, delta=0.0001, vocab=vocab)\n",
    "lm.estimate(train)\n",
    "print(lm.sequence_logp(train[0]))"
   ]
  },
  {
   "cell_type": "markdown",
   "metadata": {},
   "source": [
    "Next we'll define a `perplexity` function:"
   ]
  },
  {
   "cell_type": "code",
   "execution_count": 21,
   "metadata": {},
   "outputs": [],
   "source": [
    "def perplexity(model, sequences):\n",
    "    n_total = 0\n",
    "    logp_total = 0\n",
    "    for sequence in sequences:\n",
    "        logp_total += model.sequence_logp(sequence)\n",
    "        n_total += len(sequence) + 1             # add 1 for <eos>\n",
    "    ppl = - (1.0 / n_total) * logp_total\n",
    "#     ppl = 2 ** (- (1.0 / n_total) * logp_total)  # the log needs to be in base 2!\n",
    "    return ppl"
   ]
  },
  {
   "cell_type": "code",
   "execution_count": 22,
   "metadata": {},
   "outputs": [
    {
     "name": "stdout",
     "output_type": "stream",
     "text": [
      "2.3693891135786953\n",
      "3.8386896819012097\n",
      "5.7627239027296415\n"
     ]
    }
   ],
   "source": [
    "print(perplexity(lm, [['i', 'have', 'a', 'dog', '.']]))\n",
    "\n",
    "print(perplexity(lm, [['i', 'have', 'a', 'zebra', '.']]))\n",
    "\n",
    "print(perplexity(lm, [['i', 'have', 'a', 'lion', '.']]))"
   ]
  },
  {
   "cell_type": "markdown",
   "metadata": {},
   "source": [
    "#### Evaluation\n",
    "\n",
    "Let's evaluate `train` and `val` perplexity for a range of `n` at a fixed `delta`:"
   ]
  },
  {
   "cell_type": "code",
   "execution_count": 23,
   "metadata": {},
   "outputs": [
    {
     "name": "stderr",
     "output_type": "stream",
     "text": [
      "100%|██████████| 3/3 [00:21<00:00,  7.10s/it]\n"
     ]
    }
   ],
   "source": [
    "ns = [2, 3, 4]\n",
    "deltas = [0.0001]\n",
    "\n",
    "train_results = {}\n",
    "val_results = {}\n",
    "lms = {}\n",
    "combos = list(product(ns, deltas))\n",
    "for n, d in tqdm(combos, total=len(combos)):\n",
    "    lm = NGramLM(n=n, delta=d, vocab=vocab)\n",
    "    lm.estimate(train)\n",
    "    \n",
    "    lms[n, d] = lm\n",
    "    train_results[n, d] = perplexity(lm, train)\n",
    "    val_results[n, d] = perplexity(lm, val)"
   ]
  },
  {
   "cell_type": "code",
   "execution_count": 24,
   "metadata": {},
   "outputs": [
    {
     "data": {
      "text/plain": [
       "[(2, 0.0001), (3, 0.0001), (4, 0.0001)]"
      ]
     },
     "execution_count": 24,
     "metadata": {},
     "output_type": "execute_result"
    }
   ],
   "source": [
    "ns = [2, 3, 4]\n",
    "deltas = [0.0001]\n",
    "list(product(ns, deltas))"
   ]
  },
  {
   "cell_type": "code",
   "execution_count": 25,
   "metadata": {},
   "outputs": [
    {
     "name": "stdout",
     "output_type": "stream",
     "text": [
      "=== Train ===\n"
     ]
    },
    {
     "data": {
      "text/html": [
       "<style  type=\"text/css\" >\n",
       "</style><table id=\"T_745b4872_f99e_11ea_a285_acde48001122\" ><thead>    <tr>        <th class=\"col_heading level0 col0\" >n</th>        <th class=\"col_heading level0 col1\" >delta</th>        <th class=\"col_heading level0 col2\" >ppl</th>    </tr></thead><tbody>\n",
       "                <tr>\n",
       "                                <td id=\"T_745b4872_f99e_11ea_a285_acde48001122row0_col0\" class=\"data row0 col0\" >2</td>\n",
       "                        <td id=\"T_745b4872_f99e_11ea_a285_acde48001122row0_col1\" class=\"data row0 col1\" >0.000100</td>\n",
       "                        <td id=\"T_745b4872_f99e_11ea_a285_acde48001122row0_col2\" class=\"data row0 col2\" >5.148880</td>\n",
       "            </tr>\n",
       "            <tr>\n",
       "                                <td id=\"T_745b4872_f99e_11ea_a285_acde48001122row1_col0\" class=\"data row1 col0\" >3</td>\n",
       "                        <td id=\"T_745b4872_f99e_11ea_a285_acde48001122row1_col1\" class=\"data row1 col1\" >0.000100</td>\n",
       "                        <td id=\"T_745b4872_f99e_11ea_a285_acde48001122row1_col2\" class=\"data row1 col2\" >3.607601</td>\n",
       "            </tr>\n",
       "            <tr>\n",
       "                                <td id=\"T_745b4872_f99e_11ea_a285_acde48001122row2_col0\" class=\"data row2 col0\" >4</td>\n",
       "                        <td id=\"T_745b4872_f99e_11ea_a285_acde48001122row2_col1\" class=\"data row2 col1\" >0.000100</td>\n",
       "                        <td id=\"T_745b4872_f99e_11ea_a285_acde48001122row2_col2\" class=\"data row2 col2\" >2.821930</td>\n",
       "            </tr>\n",
       "    </tbody></table>"
      ],
      "text/plain": [
       "<pandas.io.formats.style.Styler at 0x14c8cc8b0>"
      ]
     },
     "execution_count": 25,
     "metadata": {},
     "output_type": "execute_result"
    }
   ],
   "source": [
    "print(\"=== Train ===\")\n",
    "df = pd.DataFrame([(k[0], k[1], v) for k, v in train_results.items()], columns=['n', 'delta', 'ppl'])\n",
    "df[df.delta == 0.0001].style.hide_index()"
   ]
  },
  {
   "cell_type": "markdown",
   "metadata": {},
   "source": [
    "On the **training set**, perplexity **decreased** as n-gram order increased (at a fixed `delta` value).\n",
    "\n",
    "\n",
    "Now, on the validation set:"
   ]
  },
  {
   "cell_type": "code",
   "execution_count": 26,
   "metadata": {},
   "outputs": [
    {
     "name": "stdout",
     "output_type": "stream",
     "text": [
      "=== Valid ===\n"
     ]
    },
    {
     "data": {
      "text/html": [
       "<style  type=\"text/css\" >\n",
       "</style><table id=\"T_745cdf2a_f99e_11ea_a285_acde48001122\" ><thead>    <tr>        <th class=\"col_heading level0 col0\" >n</th>        <th class=\"col_heading level0 col1\" >d</th>        <th class=\"col_heading level0 col2\" >ppl</th>    </tr></thead><tbody>\n",
       "                <tr>\n",
       "                                <td id=\"T_745cdf2a_f99e_11ea_a285_acde48001122row0_col0\" class=\"data row0 col0\" >2</td>\n",
       "                        <td id=\"T_745cdf2a_f99e_11ea_a285_acde48001122row0_col1\" class=\"data row0 col1\" >0.000100</td>\n",
       "                        <td id=\"T_745cdf2a_f99e_11ea_a285_acde48001122row0_col2\" class=\"data row0 col2\" >6.558441</td>\n",
       "            </tr>\n",
       "            <tr>\n",
       "                                <td id=\"T_745cdf2a_f99e_11ea_a285_acde48001122row1_col0\" class=\"data row1 col0\" >3</td>\n",
       "                        <td id=\"T_745cdf2a_f99e_11ea_a285_acde48001122row1_col1\" class=\"data row1 col1\" >0.000100</td>\n",
       "                        <td id=\"T_745cdf2a_f99e_11ea_a285_acde48001122row1_col2\" class=\"data row1 col2\" >7.621886</td>\n",
       "            </tr>\n",
       "            <tr>\n",
       "                                <td id=\"T_745cdf2a_f99e_11ea_a285_acde48001122row2_col0\" class=\"data row2 col0\" >4</td>\n",
       "                        <td id=\"T_745cdf2a_f99e_11ea_a285_acde48001122row2_col1\" class=\"data row2 col1\" >0.000100</td>\n",
       "                        <td id=\"T_745cdf2a_f99e_11ea_a285_acde48001122row2_col2\" class=\"data row2 col2\" >9.233583</td>\n",
       "            </tr>\n",
       "    </tbody></table>"
      ],
      "text/plain": [
       "<pandas.io.formats.style.Styler at 0x14c8cca90>"
      ]
     },
     "execution_count": 26,
     "metadata": {},
     "output_type": "execute_result"
    }
   ],
   "source": [
    "print(\"=== Valid ===\")\n",
    "df = pd.DataFrame([(k[0], k[1], v) for k, v in val_results.items()], columns=['n', 'd', 'ppl'])\n",
    "df[df.d == 0.0001].style.hide_index()"
   ]
  },
  {
   "cell_type": "markdown",
   "metadata": {},
   "source": [
    "Next we can plot **performance as `delta` varies**.\n",
    "\n",
    "(for efficiency we'll simply modify the `.delta` parameter instead of creating a new model)"
   ]
  },
  {
   "cell_type": "code",
   "execution_count": 27,
   "metadata": {},
   "outputs": [
    {
     "name": "stderr",
     "output_type": "stream",
     "text": [
      "100%|██████████| 3/3 [03:14<00:00, 65.00s/it]\n"
     ]
    }
   ],
   "source": [
    "ns = [2, 3, 4]\n",
    "deltas = np.linspace(0.00001, 0.01, 10)\n",
    "\n",
    "T = np.zeros((len(ns), len(deltas)))\n",
    "V = np.zeros((len(ns), len(deltas)))\n",
    "\n",
    "for i, n in tqdm(enumerate(ns), total=len(ns)):\n",
    "    lm = lms[n, 0.0001]\n",
    "    for j, delta in enumerate(deltas):\n",
    "        lm.delta = delta\n",
    "        \n",
    "        T[i, j] = perplexity(lm, train)\n",
    "        V[i, j] = perplexity(lm, val)"
   ]
  },
  {
   "cell_type": "code",
   "execution_count": 28,
   "metadata": {},
   "outputs": [
    {
     "data": {
      "image/png": "[encoded data removed]",
      "text/plain": [
       "<Figure size 720x288 with 2 Axes>"
      ]
     },
     "metadata": {
      "needs_background": "light"
     },
     "output_type": "display_data"
    }
   ],
   "source": [
    "fig, axs = plt.subplots(1, 2, figsize=(10, 4))\n",
    "for i in range(len(ns)):\n",
    "    axs[0].plot(T[i])\n",
    "    axs[1].plot(V[i])\n",
    "    \n",
    "axs[0].set_title(\"Train Perplexity\", fontsize=15)\n",
    "axs[1].set_title(\"Val Perplexity\", fontsize=15)\n",
    "\n",
    "axs[0].set_xticks(np.arange(len(deltas)))\n",
    "axs[1].set_xticks(np.arange(len(deltas)))\n",
    "\n",
    "axs[0].set_xticklabels(['{:.1e}'.format(x) for x in deltas], rotation=90)\n",
    "axs[1].set_xticklabels(['{:.1e}'.format(x) for x in deltas], rotation=90)\n",
    "\n",
    "axs[0].set_xlabel('delta', fontsize=15)\n",
    "axs[1].set_xlabel('delta', fontsize=15)\n",
    "\n",
    "axs[0].set_ylabel('ppl', fontsize=15)\n",
    "axs[1].set_ylabel('ppl', fontsize=15)\n",
    "\n",
    "plt.legend(ns, fontsize=15);"
   ]
  },
  {
   "cell_type": "markdown",
   "metadata": {},
   "source": [
    "### Scoring Sentences"
   ]
  },
  {
   "cell_type": "code",
   "execution_count": 29,
   "metadata": {},
   "outputs": [
    {
     "name": "stdout",
     "output_type": "stream",
     "text": [
      "i like my pet dog .\n",
      "n: 2\t logp: -29.697\n",
      "n: 3\t logp: -35.726\n",
      "n: 4\t logp: -54.898\n",
      "\n",
      "i like my pet zebra .\n",
      "n: 2\t logp: -34.919\n",
      "n: 3\t logp: -42.678\n",
      "n: 4\t logp: -63.110\n",
      "\n",
      "i like my pet lion .\n",
      "n: 2\t logp: -40.617\n",
      "n: 3\t logp: -54.717\n",
      "n: 4\t logp: -69.753\n",
      "\n",
      "i live in the united states .\n",
      "n: 2\t logp: -26.129\n",
      "n: 3\t logp: -27.717\n",
      "n: 4\t logp: -29.649\n",
      "\n",
      "i live in the united states of america .\n",
      "n: 2\t logp: -44.935\n",
      "n: 3\t logp: -43.757\n",
      "n: 4\t logp: -49.340\n",
      "\n"
     ]
    }
   ],
   "source": [
    "sentences = [\n",
    "    'i like my pet dog .',\n",
    "    'i like my pet zebra .',\n",
    "    'i like my pet lion .',\n",
    "    'i live in the united states .',\n",
    "    'i live in the united states of america .'\n",
    "]\n",
    "\n",
    "for sentence in sentences:\n",
    "    print(sentence)\n",
    "    for n in [2, 3, 4]:\n",
    "        logp = lms[n, 0.0001].sequence_logp(sentence.split())\n",
    "        print(\"n: %d\\t logp: %.3f\" % (n, logp))\n",
    "    print()"
   ]
  },
  {
   "cell_type": "markdown",
   "metadata": {},
   "source": [
    "---\n",
    "## References\n",
    "DS-GA 1011 NLP with Representation Learning Fall 2019"
   ]
  }
 ],
 "metadata": {
  "kernelspec": {
   "display_name": "base",
   "language": "python",
   "name": "base"
  },
  "language_info": {
   "codemirror_mode": {
    "name": "ipython",
    "version": 3
   },
   "file_extension": ".py",
   "mimetype": "text/x-python",
   "name": "python",
   "nbconvert_exporter": "python",
   "pygments_lexer": "ipython3",
   "version": "3.8.3"
  }
 },
 "nbformat": 4,
 "nbformat_minor": 4
}
