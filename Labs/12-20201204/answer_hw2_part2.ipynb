{
  "nbformat": 4,
  "nbformat_minor": 0,
  "metadata": {
    "accelerator": "GPU",
    "colab": {
      "name": "answer_hw2_part2.ipynb",
      "provenance": [],
      "collapsed_sections": []
    },
    "kernelspec": {
      "name": "python3",
      "display_name": "Python 3"
    },
    "language_info": {
      "codemirror_mode": {
        "name": "ipython",
        "version": 3
      },
      "file_extension": ".py",
      "mimetype": "text/x-python",
      "name": "python",
      "nbconvert_exporter": "python",
      "pygments_lexer": "ipython3",
      "version": "3.6.9"
    },
    "widgets": {
      "application/vnd.jupyter.widget-state+json": {
        "57f380016c1248f2bc19b42fa1ee3038": {
          "model_module": "@jupyter-widgets/controls",
          "model_name": "HBoxModel",
          "state": {
            "_view_name": "HBoxView",
            "_dom_classes": [],
            "_model_name": "HBoxModel",
            "_view_module": "@jupyter-widgets/controls",
            "_model_module_version": "1.5.0",
            "_view_count": null,
            "_view_module_version": "1.5.0",
            "box_style": "",
            "layout": "IPY_MODEL_8a20ec316066406b89679c75aae7ec51",
            "_model_module": "@jupyter-widgets/controls",
            "children": [
              "IPY_MODEL_6b28ee3ff44c4dc0b511154fabf8ffd0",
              "IPY_MODEL_ccd7e801f4d348299a4e8d1b2f58d6f0"
            ]
          }
        },
        "8a20ec316066406b89679c75aae7ec51": {
          "model_module": "@jupyter-widgets/base",
          "model_name": "LayoutModel",
          "state": {
            "_view_name": "LayoutView",
            "grid_template_rows": null,
            "right": null,
            "justify_content": null,
            "_view_module": "@jupyter-widgets/base",
            "overflow": null,
            "_model_module_version": "1.2.0",
            "_view_count": null,
            "flex_flow": null,
            "width": null,
            "min_width": null,
            "border": null,
            "align_items": null,
            "bottom": null,
            "_model_module": "@jupyter-widgets/base",
            "top": null,
            "grid_column": null,
            "overflow_y": null,
            "overflow_x": null,
            "grid_auto_flow": null,
            "grid_area": null,
            "grid_template_columns": null,
            "flex": null,
            "_model_name": "LayoutModel",
            "justify_items": null,
            "grid_row": null,
            "max_height": null,
            "align_content": null,
            "visibility": null,
            "align_self": null,
            "height": null,
            "min_height": null,
            "padding": null,
            "grid_auto_rows": null,
            "grid_gap": null,
            "max_width": null,
            "order": null,
            "_view_module_version": "1.2.0",
            "grid_template_areas": null,
            "object_position": null,
            "object_fit": null,
            "grid_auto_columns": null,
            "margin": null,
            "display": null,
            "left": null
          }
        },
        "6b28ee3ff44c4dc0b511154fabf8ffd0": {
          "model_module": "@jupyter-widgets/controls",
          "model_name": "FloatProgressModel",
          "state": {
            "_view_name": "ProgressView",
            "style": "IPY_MODEL_c4608dd851e0412d8ab692528104a038",
            "_dom_classes": [],
            "description": "100%",
            "_model_name": "FloatProgressModel",
            "bar_style": "success",
            "max": 33186,
            "_view_module": "@jupyter-widgets/controls",
            "_model_module_version": "1.5.0",
            "value": 33186,
            "_view_count": null,
            "_view_module_version": "1.5.0",
            "orientation": "horizontal",
            "min": 0,
            "description_tooltip": null,
            "_model_module": "@jupyter-widgets/controls",
            "layout": "IPY_MODEL_f35cf8964b174caa860b5eae8d4fc704"
          }
        },
        "ccd7e801f4d348299a4e8d1b2f58d6f0": {
          "model_module": "@jupyter-widgets/controls",
          "model_name": "HTMLModel",
          "state": {
            "_view_name": "HTMLView",
            "style": "IPY_MODEL_993d26f41e414add9882037766edae76",
            "_dom_classes": [],
            "description": "",
            "_model_name": "HTMLModel",
            "placeholder": "​",
            "_view_module": "@jupyter-widgets/controls",
            "_model_module_version": "1.5.0",
            "value": " 33186/33186 [07:06&lt;00:00, 77.77it/s]",
            "_view_count": null,
            "_view_module_version": "1.5.0",
            "description_tooltip": null,
            "_model_module": "@jupyter-widgets/controls",
            "layout": "IPY_MODEL_ebcc5b18e33a41baaa1a7ef11ad90774"
          }
        },
        "c4608dd851e0412d8ab692528104a038": {
          "model_module": "@jupyter-widgets/controls",
          "model_name": "ProgressStyleModel",
          "state": {
            "_view_name": "StyleView",
            "_model_name": "ProgressStyleModel",
            "description_width": "initial",
            "_view_module": "@jupyter-widgets/base",
            "_model_module_version": "1.5.0",
            "_view_count": null,
            "_view_module_version": "1.2.0",
            "bar_color": null,
            "_model_module": "@jupyter-widgets/controls"
          }
        },
        "f35cf8964b174caa860b5eae8d4fc704": {
          "model_module": "@jupyter-widgets/base",
          "model_name": "LayoutModel",
          "state": {
            "_view_name": "LayoutView",
            "grid_template_rows": null,
            "right": null,
            "justify_content": null,
            "_view_module": "@jupyter-widgets/base",
            "overflow": null,
            "_model_module_version": "1.2.0",
            "_view_count": null,
            "flex_flow": null,
            "width": null,
            "min_width": null,
            "border": null,
            "align_items": null,
            "bottom": null,
            "_model_module": "@jupyter-widgets/base",
            "top": null,
            "grid_column": null,
            "overflow_y": null,
            "overflow_x": null,
            "grid_auto_flow": null,
            "grid_area": null,
            "grid_template_columns": null,
            "flex": null,
            "_model_name": "LayoutModel",
            "justify_items": null,
            "grid_row": null,
            "max_height": null,
            "align_content": null,
            "visibility": null,
            "align_self": null,
            "height": null,
            "min_height": null,
            "padding": null,
            "grid_auto_rows": null,
            "grid_gap": null,
            "max_width": null,
            "order": null,
            "_view_module_version": "1.2.0",
            "grid_template_areas": null,
            "object_position": null,
            "object_fit": null,
            "grid_auto_columns": null,
            "margin": null,
            "display": null,
            "left": null
          }
        },
        "993d26f41e414add9882037766edae76": {
          "model_module": "@jupyter-widgets/controls",
          "model_name": "DescriptionStyleModel",
          "state": {
            "_view_name": "StyleView",
            "_model_name": "DescriptionStyleModel",
            "description_width": "",
            "_view_module": "@jupyter-widgets/base",
            "_model_module_version": "1.5.0",
            "_view_count": null,
            "_view_module_version": "1.2.0",
            "_model_module": "@jupyter-widgets/controls"
          }
        },
        "ebcc5b18e33a41baaa1a7ef11ad90774": {
          "model_module": "@jupyter-widgets/base",
          "model_name": "LayoutModel",
          "state": {
            "_view_name": "LayoutView",
            "grid_template_rows": null,
            "right": null,
            "justify_content": null,
            "_view_module": "@jupyter-widgets/base",
            "overflow": null,
            "_model_module_version": "1.2.0",
            "_view_count": null,
            "flex_flow": null,
            "width": null,
            "min_width": null,
            "border": null,
            "align_items": null,
            "bottom": null,
            "_model_module": "@jupyter-widgets/base",
            "top": null,
            "grid_column": null,
            "overflow_y": null,
            "overflow_x": null,
            "grid_auto_flow": null,
            "grid_area": null,
            "grid_template_columns": null,
            "flex": null,
            "_model_name": "LayoutModel",
            "justify_items": null,
            "grid_row": null,
            "max_height": null,
            "align_content": null,
            "visibility": null,
            "align_self": null,
            "height": null,
            "min_height": null,
            "padding": null,
            "grid_auto_rows": null,
            "grid_gap": null,
            "max_width": null,
            "order": null,
            "_view_module_version": "1.2.0",
            "grid_template_areas": null,
            "object_position": null,
            "object_fit": null,
            "grid_auto_columns": null,
            "margin": null,
            "display": null,
            "left": null
          }
        },
        "449bcdce0a964355a67ed3a3a97396f1": {
          "model_module": "@jupyter-widgets/controls",
          "model_name": "HBoxModel",
          "state": {
            "_view_name": "HBoxView",
            "_dom_classes": [],
            "_model_name": "HBoxModel",
            "_view_module": "@jupyter-widgets/controls",
            "_model_module_version": "1.5.0",
            "_view_count": null,
            "_view_module_version": "1.5.0",
            "box_style": "",
            "layout": "IPY_MODEL_643bd3e1309d495bba73ed86b1faa571",
            "_model_module": "@jupyter-widgets/controls",
            "children": [
              "IPY_MODEL_e1c9cc725ab54c10a180722ae30a4fca",
              "IPY_MODEL_977a0f527c2349ef923d1455109b8be2"
            ]
          }
        },
        "643bd3e1309d495bba73ed86b1faa571": {
          "model_module": "@jupyter-widgets/base",
          "model_name": "LayoutModel",
          "state": {
            "_view_name": "LayoutView",
            "grid_template_rows": null,
            "right": null,
            "justify_content": null,
            "_view_module": "@jupyter-widgets/base",
            "overflow": null,
            "_model_module_version": "1.2.0",
            "_view_count": null,
            "flex_flow": null,
            "width": null,
            "min_width": null,
            "border": null,
            "align_items": null,
            "bottom": null,
            "_model_module": "@jupyter-widgets/base",
            "top": null,
            "grid_column": null,
            "overflow_y": null,
            "overflow_x": null,
            "grid_auto_flow": null,
            "grid_area": null,
            "grid_template_columns": null,
            "flex": null,
            "_model_name": "LayoutModel",
            "justify_items": null,
            "grid_row": null,
            "max_height": null,
            "align_content": null,
            "visibility": null,
            "align_self": null,
            "height": null,
            "min_height": null,
            "padding": null,
            "grid_auto_rows": null,
            "grid_gap": null,
            "max_width": null,
            "order": null,
            "_view_module_version": "1.2.0",
            "grid_template_areas": null,
            "object_position": null,
            "object_fit": null,
            "grid_auto_columns": null,
            "margin": null,
            "display": null,
            "left": null
          }
        },
        "e1c9cc725ab54c10a180722ae30a4fca": {
          "model_module": "@jupyter-widgets/controls",
          "model_name": "FloatProgressModel",
          "state": {
            "_view_name": "ProgressView",
            "style": "IPY_MODEL_4c0659ec4ed344ab985e93ca0c72902c",
            "_dom_classes": [],
            "description": "100%",
            "_model_name": "FloatProgressModel",
            "bar_style": "success",
            "max": 33186,
            "_view_module": "@jupyter-widgets/controls",
            "_model_module_version": "1.5.0",
            "value": 33186,
            "_view_count": null,
            "_view_module_version": "1.5.0",
            "orientation": "horizontal",
            "min": 0,
            "description_tooltip": null,
            "_model_module": "@jupyter-widgets/controls",
            "layout": "IPY_MODEL_5440efa890844ebb8d0ed4a8a426448b"
          }
        },
        "977a0f527c2349ef923d1455109b8be2": {
          "model_module": "@jupyter-widgets/controls",
          "model_name": "HTMLModel",
          "state": {
            "_view_name": "HTMLView",
            "style": "IPY_MODEL_86c492aaf8ad45ca9519851752f99249",
            "_dom_classes": [],
            "description": "",
            "_model_name": "HTMLModel",
            "placeholder": "​",
            "_view_module": "@jupyter-widgets/controls",
            "_model_module_version": "1.5.0",
            "value": " 33186/33186 [05:45&lt;00:00, 95.96it/s]",
            "_view_count": null,
            "_view_module_version": "1.5.0",
            "description_tooltip": null,
            "_model_module": "@jupyter-widgets/controls",
            "layout": "IPY_MODEL_e68cc56958dd440b996d4817f2fcc4e6"
          }
        },
        "4c0659ec4ed344ab985e93ca0c72902c": {
          "model_module": "@jupyter-widgets/controls",
          "model_name": "ProgressStyleModel",
          "state": {
            "_view_name": "StyleView",
            "_model_name": "ProgressStyleModel",
            "description_width": "initial",
            "_view_module": "@jupyter-widgets/base",
            "_model_module_version": "1.5.0",
            "_view_count": null,
            "_view_module_version": "1.2.0",
            "bar_color": null,
            "_model_module": "@jupyter-widgets/controls"
          }
        },
        "5440efa890844ebb8d0ed4a8a426448b": {
          "model_module": "@jupyter-widgets/base",
          "model_name": "LayoutModel",
          "state": {
            "_view_name": "LayoutView",
            "grid_template_rows": null,
            "right": null,
            "justify_content": null,
            "_view_module": "@jupyter-widgets/base",
            "overflow": null,
            "_model_module_version": "1.2.0",
            "_view_count": null,
            "flex_flow": null,
            "width": null,
            "min_width": null,
            "border": null,
            "align_items": null,
            "bottom": null,
            "_model_module": "@jupyter-widgets/base",
            "top": null,
            "grid_column": null,
            "overflow_y": null,
            "overflow_x": null,
            "grid_auto_flow": null,
            "grid_area": null,
            "grid_template_columns": null,
            "flex": null,
            "_model_name": "LayoutModel",
            "justify_items": null,
            "grid_row": null,
            "max_height": null,
            "align_content": null,
            "visibility": null,
            "align_self": null,
            "height": null,
            "min_height": null,
            "padding": null,
            "grid_auto_rows": null,
            "grid_gap": null,
            "max_width": null,
            "order": null,
            "_view_module_version": "1.2.0",
            "grid_template_areas": null,
            "object_position": null,
            "object_fit": null,
            "grid_auto_columns": null,
            "margin": null,
            "display": null,
            "left": null
          }
        },
        "86c492aaf8ad45ca9519851752f99249": {
          "model_module": "@jupyter-widgets/controls",
          "model_name": "DescriptionStyleModel",
          "state": {
            "_view_name": "StyleView",
            "_model_name": "DescriptionStyleModel",
            "description_width": "",
            "_view_module": "@jupyter-widgets/base",
            "_model_module_version": "1.5.0",
            "_view_count": null,
            "_view_module_version": "1.2.0",
            "_model_module": "@jupyter-widgets/controls"
          }
        },
        "e68cc56958dd440b996d4817f2fcc4e6": {
          "model_module": "@jupyter-widgets/base",
          "model_name": "LayoutModel",
          "state": {
            "_view_name": "LayoutView",
            "grid_template_rows": null,
            "right": null,
            "justify_content": null,
            "_view_module": "@jupyter-widgets/base",
            "overflow": null,
            "_model_module_version": "1.2.0",
            "_view_count": null,
            "flex_flow": null,
            "width": null,
            "min_width": null,
            "border": null,
            "align_items": null,
            "bottom": null,
            "_model_module": "@jupyter-widgets/base",
            "top": null,
            "grid_column": null,
            "overflow_y": null,
            "overflow_x": null,
            "grid_auto_flow": null,
            "grid_area": null,
            "grid_template_columns": null,
            "flex": null,
            "_model_name": "LayoutModel",
            "justify_items": null,
            "grid_row": null,
            "max_height": null,
            "align_content": null,
            "visibility": null,
            "align_self": null,
            "height": null,
            "min_height": null,
            "padding": null,
            "grid_auto_rows": null,
            "grid_gap": null,
            "max_width": null,
            "order": null,
            "_view_module_version": "1.2.0",
            "grid_template_areas": null,
            "object_position": null,
            "object_fit": null,
            "grid_auto_columns": null,
            "margin": null,
            "display": null,
            "left": null
          }
        },
        "05dd1b57db184b1a93d8174b041968ce": {
          "model_module": "@jupyter-widgets/controls",
          "model_name": "HBoxModel",
          "state": {
            "_view_name": "HBoxView",
            "_dom_classes": [],
            "_model_name": "HBoxModel",
            "_view_module": "@jupyter-widgets/controls",
            "_model_module_version": "1.5.0",
            "_view_count": null,
            "_view_module_version": "1.5.0",
            "box_style": "",
            "layout": "IPY_MODEL_c371f8f7074d4ceabd7a68a0c49fc076",
            "_model_module": "@jupyter-widgets/controls",
            "children": [
              "IPY_MODEL_7954a53eb9b540c8873e78869783f6c9",
              "IPY_MODEL_08dda33b1cf343cc861d1698cb8071f6"
            ]
          }
        },
        "c371f8f7074d4ceabd7a68a0c49fc076": {
          "model_module": "@jupyter-widgets/base",
          "model_name": "LayoutModel",
          "state": {
            "_view_name": "LayoutView",
            "grid_template_rows": null,
            "right": null,
            "justify_content": null,
            "_view_module": "@jupyter-widgets/base",
            "overflow": null,
            "_model_module_version": "1.2.0",
            "_view_count": null,
            "flex_flow": null,
            "width": null,
            "min_width": null,
            "border": null,
            "align_items": null,
            "bottom": null,
            "_model_module": "@jupyter-widgets/base",
            "top": null,
            "grid_column": null,
            "overflow_y": null,
            "overflow_x": null,
            "grid_auto_flow": null,
            "grid_area": null,
            "grid_template_columns": null,
            "flex": null,
            "_model_name": "LayoutModel",
            "justify_items": null,
            "grid_row": null,
            "max_height": null,
            "align_content": null,
            "visibility": null,
            "align_self": null,
            "height": null,
            "min_height": null,
            "padding": null,
            "grid_auto_rows": null,
            "grid_gap": null,
            "max_width": null,
            "order": null,
            "_view_module_version": "1.2.0",
            "grid_template_areas": null,
            "object_position": null,
            "object_fit": null,
            "grid_auto_columns": null,
            "margin": null,
            "display": null,
            "left": null
          }
        },
        "7954a53eb9b540c8873e78869783f6c9": {
          "model_module": "@jupyter-widgets/controls",
          "model_name": "FloatProgressModel",
          "state": {
            "_view_name": "ProgressView",
            "style": "IPY_MODEL_963e176a14a647bb960525148db875ab",
            "_dom_classes": [],
            "description": "100%",
            "_model_name": "FloatProgressModel",
            "bar_style": "success",
            "max": 33186,
            "_view_module": "@jupyter-widgets/controls",
            "_model_module_version": "1.5.0",
            "value": 33186,
            "_view_count": null,
            "_view_module_version": "1.5.0",
            "orientation": "horizontal",
            "min": 0,
            "description_tooltip": null,
            "_model_module": "@jupyter-widgets/controls",
            "layout": "IPY_MODEL_ac282319babc42ab99f7de7e2d009131"
          }
        },
        "08dda33b1cf343cc861d1698cb8071f6": {
          "model_module": "@jupyter-widgets/controls",
          "model_name": "HTMLModel",
          "state": {
            "_view_name": "HTMLView",
            "style": "IPY_MODEL_7e037647b3f14a7893892222566aef1f",
            "_dom_classes": [],
            "description": "",
            "_model_name": "HTMLModel",
            "placeholder": "​",
            "_view_module": "@jupyter-widgets/controls",
            "_model_module_version": "1.5.0",
            "value": " 33186/33186 [04:25&lt;00:00, 124.78it/s]",
            "_view_count": null,
            "_view_module_version": "1.5.0",
            "description_tooltip": null,
            "_model_module": "@jupyter-widgets/controls",
            "layout": "IPY_MODEL_67ec5d9bd5cf48fba46eeb1adaac1411"
          }
        },
        "963e176a14a647bb960525148db875ab": {
          "model_module": "@jupyter-widgets/controls",
          "model_name": "ProgressStyleModel",
          "state": {
            "_view_name": "StyleView",
            "_model_name": "ProgressStyleModel",
            "description_width": "initial",
            "_view_module": "@jupyter-widgets/base",
            "_model_module_version": "1.5.0",
            "_view_count": null,
            "_view_module_version": "1.2.0",
            "bar_color": null,
            "_model_module": "@jupyter-widgets/controls"
          }
        },
        "ac282319babc42ab99f7de7e2d009131": {
          "model_module": "@jupyter-widgets/base",
          "model_name": "LayoutModel",
          "state": {
            "_view_name": "LayoutView",
            "grid_template_rows": null,
            "right": null,
            "justify_content": null,
            "_view_module": "@jupyter-widgets/base",
            "overflow": null,
            "_model_module_version": "1.2.0",
            "_view_count": null,
            "flex_flow": null,
            "width": null,
            "min_width": null,
            "border": null,
            "align_items": null,
            "bottom": null,
            "_model_module": "@jupyter-widgets/base",
            "top": null,
            "grid_column": null,
            "overflow_y": null,
            "overflow_x": null,
            "grid_auto_flow": null,
            "grid_area": null,
            "grid_template_columns": null,
            "flex": null,
            "_model_name": "LayoutModel",
            "justify_items": null,
            "grid_row": null,
            "max_height": null,
            "align_content": null,
            "visibility": null,
            "align_self": null,
            "height": null,
            "min_height": null,
            "padding": null,
            "grid_auto_rows": null,
            "grid_gap": null,
            "max_width": null,
            "order": null,
            "_view_module_version": "1.2.0",
            "grid_template_areas": null,
            "object_position": null,
            "object_fit": null,
            "grid_auto_columns": null,
            "margin": null,
            "display": null,
            "left": null
          }
        },
        "7e037647b3f14a7893892222566aef1f": {
          "model_module": "@jupyter-widgets/controls",
          "model_name": "DescriptionStyleModel",
          "state": {
            "_view_name": "StyleView",
            "_model_name": "DescriptionStyleModel",
            "description_width": "",
            "_view_module": "@jupyter-widgets/base",
            "_model_module_version": "1.5.0",
            "_view_count": null,
            "_view_module_version": "1.2.0",
            "_model_module": "@jupyter-widgets/controls"
          }
        },
        "67ec5d9bd5cf48fba46eeb1adaac1411": {
          "model_module": "@jupyter-widgets/base",
          "model_name": "LayoutModel",
          "state": {
            "_view_name": "LayoutView",
            "grid_template_rows": null,
            "right": null,
            "justify_content": null,
            "_view_module": "@jupyter-widgets/base",
            "overflow": null,
            "_model_module_version": "1.2.0",
            "_view_count": null,
            "flex_flow": null,
            "width": null,
            "min_width": null,
            "border": null,
            "align_items": null,
            "bottom": null,
            "_model_module": "@jupyter-widgets/base",
            "top": null,
            "grid_column": null,
            "overflow_y": null,
            "overflow_x": null,
            "grid_auto_flow": null,
            "grid_area": null,
            "grid_template_columns": null,
            "flex": null,
            "_model_name": "LayoutModel",
            "justify_items": null,
            "grid_row": null,
            "max_height": null,
            "align_content": null,
            "visibility": null,
            "align_self": null,
            "height": null,
            "min_height": null,
            "padding": null,
            "grid_auto_rows": null,
            "grid_gap": null,
            "max_width": null,
            "order": null,
            "_view_module_version": "1.2.0",
            "grid_template_areas": null,
            "object_position": null,
            "object_fit": null,
            "grid_auto_columns": null,
            "margin": null,
            "display": null,
            "left": null
          }
        },
        "e854b5200bb540eea990a6492fd3169e": {
          "model_module": "@jupyter-widgets/controls",
          "model_name": "HBoxModel",
          "state": {
            "_view_name": "HBoxView",
            "_dom_classes": [],
            "_model_name": "HBoxModel",
            "_view_module": "@jupyter-widgets/controls",
            "_model_module_version": "1.5.0",
            "_view_count": null,
            "_view_module_version": "1.5.0",
            "box_style": "",
            "layout": "IPY_MODEL_6ec6774a4b2043e69cbe45684a18b574",
            "_model_module": "@jupyter-widgets/controls",
            "children": [
              "IPY_MODEL_68897c3ecdfa479aae920dba0ce16d61",
              "IPY_MODEL_4d485fe3ceed4df0b34f001b9e39760d"
            ]
          }
        },
        "6ec6774a4b2043e69cbe45684a18b574": {
          "model_module": "@jupyter-widgets/base",
          "model_name": "LayoutModel",
          "state": {
            "_view_name": "LayoutView",
            "grid_template_rows": null,
            "right": null,
            "justify_content": null,
            "_view_module": "@jupyter-widgets/base",
            "overflow": null,
            "_model_module_version": "1.2.0",
            "_view_count": null,
            "flex_flow": null,
            "width": null,
            "min_width": null,
            "border": null,
            "align_items": null,
            "bottom": null,
            "_model_module": "@jupyter-widgets/base",
            "top": null,
            "grid_column": null,
            "overflow_y": null,
            "overflow_x": null,
            "grid_auto_flow": null,
            "grid_area": null,
            "grid_template_columns": null,
            "flex": null,
            "_model_name": "LayoutModel",
            "justify_items": null,
            "grid_row": null,
            "max_height": null,
            "align_content": null,
            "visibility": null,
            "align_self": null,
            "height": null,
            "min_height": null,
            "padding": null,
            "grid_auto_rows": null,
            "grid_gap": null,
            "max_width": null,
            "order": null,
            "_view_module_version": "1.2.0",
            "grid_template_areas": null,
            "object_position": null,
            "object_fit": null,
            "grid_auto_columns": null,
            "margin": null,
            "display": null,
            "left": null
          }
        },
        "68897c3ecdfa479aae920dba0ce16d61": {
          "model_module": "@jupyter-widgets/controls",
          "model_name": "FloatProgressModel",
          "state": {
            "_view_name": "ProgressView",
            "style": "IPY_MODEL_d5434b4f8f844b95aa6d38aa139ab116",
            "_dom_classes": [],
            "description": "100%",
            "_model_name": "FloatProgressModel",
            "bar_style": "success",
            "max": 33186,
            "_view_module": "@jupyter-widgets/controls",
            "_model_module_version": "1.5.0",
            "value": 33186,
            "_view_count": null,
            "_view_module_version": "1.5.0",
            "orientation": "horizontal",
            "min": 0,
            "description_tooltip": null,
            "_model_module": "@jupyter-widgets/controls",
            "layout": "IPY_MODEL_e384d096174549d186db0588e76e0f06"
          }
        },
        "4d485fe3ceed4df0b34f001b9e39760d": {
          "model_module": "@jupyter-widgets/controls",
          "model_name": "HTMLModel",
          "state": {
            "_view_name": "HTMLView",
            "style": "IPY_MODEL_e192ec664b2c42b79b453b4790eab3f8",
            "_dom_classes": [],
            "description": "",
            "_model_name": "HTMLModel",
            "placeholder": "​",
            "_view_module": "@jupyter-widgets/controls",
            "_model_module_version": "1.5.0",
            "value": " 33186/33186 [03:05&lt;00:00, 178.62it/s]",
            "_view_count": null,
            "_view_module_version": "1.5.0",
            "description_tooltip": null,
            "_model_module": "@jupyter-widgets/controls",
            "layout": "IPY_MODEL_d437da8ec4f64946bf507b5073e1dca6"
          }
        },
        "d5434b4f8f844b95aa6d38aa139ab116": {
          "model_module": "@jupyter-widgets/controls",
          "model_name": "ProgressStyleModel",
          "state": {
            "_view_name": "StyleView",
            "_model_name": "ProgressStyleModel",
            "description_width": "initial",
            "_view_module": "@jupyter-widgets/base",
            "_model_module_version": "1.5.0",
            "_view_count": null,
            "_view_module_version": "1.2.0",
            "bar_color": null,
            "_model_module": "@jupyter-widgets/controls"
          }
        },
        "e384d096174549d186db0588e76e0f06": {
          "model_module": "@jupyter-widgets/base",
          "model_name": "LayoutModel",
          "state": {
            "_view_name": "LayoutView",
            "grid_template_rows": null,
            "right": null,
            "justify_content": null,
            "_view_module": "@jupyter-widgets/base",
            "overflow": null,
            "_model_module_version": "1.2.0",
            "_view_count": null,
            "flex_flow": null,
            "width": null,
            "min_width": null,
            "border": null,
            "align_items": null,
            "bottom": null,
            "_model_module": "@jupyter-widgets/base",
            "top": null,
            "grid_column": null,
            "overflow_y": null,
            "overflow_x": null,
            "grid_auto_flow": null,
            "grid_area": null,
            "grid_template_columns": null,
            "flex": null,
            "_model_name": "LayoutModel",
            "justify_items": null,
            "grid_row": null,
            "max_height": null,
            "align_content": null,
            "visibility": null,
            "align_self": null,
            "height": null,
            "min_height": null,
            "padding": null,
            "grid_auto_rows": null,
            "grid_gap": null,
            "max_width": null,
            "order": null,
            "_view_module_version": "1.2.0",
            "grid_template_areas": null,
            "object_position": null,
            "object_fit": null,
            "grid_auto_columns": null,
            "margin": null,
            "display": null,
            "left": null
          }
        },
        "e192ec664b2c42b79b453b4790eab3f8": {
          "model_module": "@jupyter-widgets/controls",
          "model_name": "DescriptionStyleModel",
          "state": {
            "_view_name": "StyleView",
            "_model_name": "DescriptionStyleModel",
            "description_width": "",
            "_view_module": "@jupyter-widgets/base",
            "_model_module_version": "1.5.0",
            "_view_count": null,
            "_view_module_version": "1.2.0",
            "_model_module": "@jupyter-widgets/controls"
          }
        },
        "d437da8ec4f64946bf507b5073e1dca6": {
          "model_module": "@jupyter-widgets/base",
          "model_name": "LayoutModel",
          "state": {
            "_view_name": "LayoutView",
            "grid_template_rows": null,
            "right": null,
            "justify_content": null,
            "_view_module": "@jupyter-widgets/base",
            "overflow": null,
            "_model_module_version": "1.2.0",
            "_view_count": null,
            "flex_flow": null,
            "width": null,
            "min_width": null,
            "border": null,
            "align_items": null,
            "bottom": null,
            "_model_module": "@jupyter-widgets/base",
            "top": null,
            "grid_column": null,
            "overflow_y": null,
            "overflow_x": null,
            "grid_auto_flow": null,
            "grid_area": null,
            "grid_template_columns": null,
            "flex": null,
            "_model_name": "LayoutModel",
            "justify_items": null,
            "grid_row": null,
            "max_height": null,
            "align_content": null,
            "visibility": null,
            "align_self": null,
            "height": null,
            "min_height": null,
            "padding": null,
            "grid_auto_rows": null,
            "grid_gap": null,
            "max_width": null,
            "order": null,
            "_view_module_version": "1.2.0",
            "grid_template_areas": null,
            "object_position": null,
            "object_fit": null,
            "grid_auto_columns": null,
            "margin": null,
            "display": null,
            "left": null
          }
        },
        "03aee149f8aa4310bc95e8b7ca7b784f": {
          "model_module": "@jupyter-widgets/controls",
          "model_name": "HBoxModel",
          "state": {
            "_view_name": "HBoxView",
            "_dom_classes": [],
            "_model_name": "HBoxModel",
            "_view_module": "@jupyter-widgets/controls",
            "_model_module_version": "1.5.0",
            "_view_count": null,
            "_view_module_version": "1.5.0",
            "box_style": "",
            "layout": "IPY_MODEL_d043bfb392184ef0a8305d615fab233a",
            "_model_module": "@jupyter-widgets/controls",
            "children": [
              "IPY_MODEL_7d19c00b4f3f440a8d61181beb7bb7db",
              "IPY_MODEL_b89ceefe84754e04aac43d9ac31b9bad"
            ]
          }
        },
        "d043bfb392184ef0a8305d615fab233a": {
          "model_module": "@jupyter-widgets/base",
          "model_name": "LayoutModel",
          "state": {
            "_view_name": "LayoutView",
            "grid_template_rows": null,
            "right": null,
            "justify_content": null,
            "_view_module": "@jupyter-widgets/base",
            "overflow": null,
            "_model_module_version": "1.2.0",
            "_view_count": null,
            "flex_flow": null,
            "width": null,
            "min_width": null,
            "border": null,
            "align_items": null,
            "bottom": null,
            "_model_module": "@jupyter-widgets/base",
            "top": null,
            "grid_column": null,
            "overflow_y": null,
            "overflow_x": null,
            "grid_auto_flow": null,
            "grid_area": null,
            "grid_template_columns": null,
            "flex": null,
            "_model_name": "LayoutModel",
            "justify_items": null,
            "grid_row": null,
            "max_height": null,
            "align_content": null,
            "visibility": null,
            "align_self": null,
            "height": null,
            "min_height": null,
            "padding": null,
            "grid_auto_rows": null,
            "grid_gap": null,
            "max_width": null,
            "order": null,
            "_view_module_version": "1.2.0",
            "grid_template_areas": null,
            "object_position": null,
            "object_fit": null,
            "grid_auto_columns": null,
            "margin": null,
            "display": null,
            "left": null
          }
        },
        "7d19c00b4f3f440a8d61181beb7bb7db": {
          "model_module": "@jupyter-widgets/controls",
          "model_name": "FloatProgressModel",
          "state": {
            "_view_name": "ProgressView",
            "style": "IPY_MODEL_4cc3b8aa6a88467c97e6dd91424477b6",
            "_dom_classes": [],
            "description": "100%",
            "_model_name": "FloatProgressModel",
            "bar_style": "success",
            "max": 33186,
            "_view_module": "@jupyter-widgets/controls",
            "_model_module_version": "1.5.0",
            "value": 33186,
            "_view_count": null,
            "_view_module_version": "1.5.0",
            "orientation": "horizontal",
            "min": 0,
            "description_tooltip": null,
            "_model_module": "@jupyter-widgets/controls",
            "layout": "IPY_MODEL_697d919455f94ccabc2fd585c2f877d2"
          }
        },
        "b89ceefe84754e04aac43d9ac31b9bad": {
          "model_module": "@jupyter-widgets/controls",
          "model_name": "HTMLModel",
          "state": {
            "_view_name": "HTMLView",
            "style": "IPY_MODEL_ceb864cdf6fe4895972cb64d824bf300",
            "_dom_classes": [],
            "description": "",
            "_model_name": "HTMLModel",
            "placeholder": "​",
            "_view_module": "@jupyter-widgets/controls",
            "_model_module_version": "1.5.0",
            "value": " 33186/33186 [01:45&lt;00:00, 315.66it/s]",
            "_view_count": null,
            "_view_module_version": "1.5.0",
            "description_tooltip": null,
            "_model_module": "@jupyter-widgets/controls",
            "layout": "IPY_MODEL_2303a2da54fe4f65b9b962070bf90dfb"
          }
        },
        "4cc3b8aa6a88467c97e6dd91424477b6": {
          "model_module": "@jupyter-widgets/controls",
          "model_name": "ProgressStyleModel",
          "state": {
            "_view_name": "StyleView",
            "_model_name": "ProgressStyleModel",
            "description_width": "initial",
            "_view_module": "@jupyter-widgets/base",
            "_model_module_version": "1.5.0",
            "_view_count": null,
            "_view_module_version": "1.2.0",
            "bar_color": null,
            "_model_module": "@jupyter-widgets/controls"
          }
        },
        "697d919455f94ccabc2fd585c2f877d2": {
          "model_module": "@jupyter-widgets/base",
          "model_name": "LayoutModel",
          "state": {
            "_view_name": "LayoutView",
            "grid_template_rows": null,
            "right": null,
            "justify_content": null,
            "_view_module": "@jupyter-widgets/base",
            "overflow": null,
            "_model_module_version": "1.2.0",
            "_view_count": null,
            "flex_flow": null,
            "width": null,
            "min_width": null,
            "border": null,
            "align_items": null,
            "bottom": null,
            "_model_module": "@jupyter-widgets/base",
            "top": null,
            "grid_column": null,
            "overflow_y": null,
            "overflow_x": null,
            "grid_auto_flow": null,
            "grid_area": null,
            "grid_template_columns": null,
            "flex": null,
            "_model_name": "LayoutModel",
            "justify_items": null,
            "grid_row": null,
            "max_height": null,
            "align_content": null,
            "visibility": null,
            "align_self": null,
            "height": null,
            "min_height": null,
            "padding": null,
            "grid_auto_rows": null,
            "grid_gap": null,
            "max_width": null,
            "order": null,
            "_view_module_version": "1.2.0",
            "grid_template_areas": null,
            "object_position": null,
            "object_fit": null,
            "grid_auto_columns": null,
            "margin": null,
            "display": null,
            "left": null
          }
        },
        "ceb864cdf6fe4895972cb64d824bf300": {
          "model_module": "@jupyter-widgets/controls",
          "model_name": "DescriptionStyleModel",
          "state": {
            "_view_name": "StyleView",
            "_model_name": "DescriptionStyleModel",
            "description_width": "",
            "_view_module": "@jupyter-widgets/base",
            "_model_module_version": "1.5.0",
            "_view_count": null,
            "_view_module_version": "1.2.0",
            "_model_module": "@jupyter-widgets/controls"
          }
        },
        "2303a2da54fe4f65b9b962070bf90dfb": {
          "model_module": "@jupyter-widgets/base",
          "model_name": "LayoutModel",
          "state": {
            "_view_name": "LayoutView",
            "grid_template_rows": null,
            "right": null,
            "justify_content": null,
            "_view_module": "@jupyter-widgets/base",
            "overflow": null,
            "_model_module_version": "1.2.0",
            "_view_count": null,
            "flex_flow": null,
            "width": null,
            "min_width": null,
            "border": null,
            "align_items": null,
            "bottom": null,
            "_model_module": "@jupyter-widgets/base",
            "top": null,
            "grid_column": null,
            "overflow_y": null,
            "overflow_x": null,
            "grid_auto_flow": null,
            "grid_area": null,
            "grid_template_columns": null,
            "flex": null,
            "_model_name": "LayoutModel",
            "justify_items": null,
            "grid_row": null,
            "max_height": null,
            "align_content": null,
            "visibility": null,
            "align_self": null,
            "height": null,
            "min_height": null,
            "padding": null,
            "grid_auto_rows": null,
            "grid_gap": null,
            "max_width": null,
            "order": null,
            "_view_module_version": "1.2.0",
            "grid_template_areas": null,
            "object_position": null,
            "object_fit": null,
            "grid_auto_columns": null,
            "margin": null,
            "display": null,
            "left": null
          }
        },
        "64964355b9534a8ba1f8488f2c2f18ca": {
          "model_module": "@jupyter-widgets/controls",
          "model_name": "HBoxModel",
          "state": {
            "_view_name": "HBoxView",
            "_dom_classes": [],
            "_model_name": "HBoxModel",
            "_view_module": "@jupyter-widgets/controls",
            "_model_module_version": "1.5.0",
            "_view_count": null,
            "_view_module_version": "1.5.0",
            "box_style": "",
            "layout": "IPY_MODEL_c072ba5c8ef640939351cc15be9c15b6",
            "_model_module": "@jupyter-widgets/controls",
            "children": [
              "IPY_MODEL_f55c32f711c449d19411c73045efa39e",
              "IPY_MODEL_d572b0b907404b20af56387a6b783dcf"
            ]
          }
        },
        "c072ba5c8ef640939351cc15be9c15b6": {
          "model_module": "@jupyter-widgets/base",
          "model_name": "LayoutModel",
          "state": {
            "_view_name": "LayoutView",
            "grid_template_rows": null,
            "right": null,
            "justify_content": null,
            "_view_module": "@jupyter-widgets/base",
            "overflow": null,
            "_model_module_version": "1.2.0",
            "_view_count": null,
            "flex_flow": null,
            "width": null,
            "min_width": null,
            "border": null,
            "align_items": null,
            "bottom": null,
            "_model_module": "@jupyter-widgets/base",
            "top": null,
            "grid_column": null,
            "overflow_y": null,
            "overflow_x": null,
            "grid_auto_flow": null,
            "grid_area": null,
            "grid_template_columns": null,
            "flex": null,
            "_model_name": "LayoutModel",
            "justify_items": null,
            "grid_row": null,
            "max_height": null,
            "align_content": null,
            "visibility": null,
            "align_self": null,
            "height": null,
            "min_height": null,
            "padding": null,
            "grid_auto_rows": null,
            "grid_gap": null,
            "max_width": null,
            "order": null,
            "_view_module_version": "1.2.0",
            "grid_template_areas": null,
            "object_position": null,
            "object_fit": null,
            "grid_auto_columns": null,
            "margin": null,
            "display": null,
            "left": null
          }
        },
        "f55c32f711c449d19411c73045efa39e": {
          "model_module": "@jupyter-widgets/controls",
          "model_name": "FloatProgressModel",
          "state": {
            "_view_name": "ProgressView",
            "style": "IPY_MODEL_784d182aa62c47bab0c28d731b41936b",
            "_dom_classes": [],
            "description": "100%",
            "_model_name": "FloatProgressModel",
            "bar_style": "success",
            "max": 1000,
            "_view_module": "@jupyter-widgets/controls",
            "_model_module_version": "1.5.0",
            "value": 1000,
            "_view_count": null,
            "_view_module_version": "1.5.0",
            "orientation": "horizontal",
            "min": 0,
            "description_tooltip": null,
            "_model_module": "@jupyter-widgets/controls",
            "layout": "IPY_MODEL_1446e1c999dc4cfc880418385f705a93"
          }
        },
        "d572b0b907404b20af56387a6b783dcf": {
          "model_module": "@jupyter-widgets/controls",
          "model_name": "HTMLModel",
          "state": {
            "_view_name": "HTMLView",
            "style": "IPY_MODEL_2804fd78a2784c74bf528948e51ea06a",
            "_dom_classes": [],
            "description": "",
            "_model_name": "HTMLModel",
            "placeholder": "​",
            "_view_module": "@jupyter-widgets/controls",
            "_model_module_version": "1.5.0",
            "value": " 1000/1000 [00:28&lt;00:00, 35.23it/s]",
            "_view_count": null,
            "_view_module_version": "1.5.0",
            "description_tooltip": null,
            "_model_module": "@jupyter-widgets/controls",
            "layout": "IPY_MODEL_d5a95c67a5bd4f2f83def5f69d065ef1"
          }
        },
        "784d182aa62c47bab0c28d731b41936b": {
          "model_module": "@jupyter-widgets/controls",
          "model_name": "ProgressStyleModel",
          "state": {
            "_view_name": "StyleView",
            "_model_name": "ProgressStyleModel",
            "description_width": "initial",
            "_view_module": "@jupyter-widgets/base",
            "_model_module_version": "1.5.0",
            "_view_count": null,
            "_view_module_version": "1.2.0",
            "bar_color": null,
            "_model_module": "@jupyter-widgets/controls"
          }
        },
        "1446e1c999dc4cfc880418385f705a93": {
          "model_module": "@jupyter-widgets/base",
          "model_name": "LayoutModel",
          "state": {
            "_view_name": "LayoutView",
            "grid_template_rows": null,
            "right": null,
            "justify_content": null,
            "_view_module": "@jupyter-widgets/base",
            "overflow": null,
            "_model_module_version": "1.2.0",
            "_view_count": null,
            "flex_flow": null,
            "width": null,
            "min_width": null,
            "border": null,
            "align_items": null,
            "bottom": null,
            "_model_module": "@jupyter-widgets/base",
            "top": null,
            "grid_column": null,
            "overflow_y": null,
            "overflow_x": null,
            "grid_auto_flow": null,
            "grid_area": null,
            "grid_template_columns": null,
            "flex": null,
            "_model_name": "LayoutModel",
            "justify_items": null,
            "grid_row": null,
            "max_height": null,
            "align_content": null,
            "visibility": null,
            "align_self": null,
            "height": null,
            "min_height": null,
            "padding": null,
            "grid_auto_rows": null,
            "grid_gap": null,
            "max_width": null,
            "order": null,
            "_view_module_version": "1.2.0",
            "grid_template_areas": null,
            "object_position": null,
            "object_fit": null,
            "grid_auto_columns": null,
            "margin": null,
            "display": null,
            "left": null
          }
        },
        "2804fd78a2784c74bf528948e51ea06a": {
          "model_module": "@jupyter-widgets/controls",
          "model_name": "DescriptionStyleModel",
          "state": {
            "_view_name": "StyleView",
            "_model_name": "DescriptionStyleModel",
            "description_width": "",
            "_view_module": "@jupyter-widgets/base",
            "_model_module_version": "1.5.0",
            "_view_count": null,
            "_view_module_version": "1.2.0",
            "_model_module": "@jupyter-widgets/controls"
          }
        },
        "d5a95c67a5bd4f2f83def5f69d065ef1": {
          "model_module": "@jupyter-widgets/base",
          "model_name": "LayoutModel",
          "state": {
            "_view_name": "LayoutView",
            "grid_template_rows": null,
            "right": null,
            "justify_content": null,
            "_view_module": "@jupyter-widgets/base",
            "overflow": null,
            "_model_module_version": "1.2.0",
            "_view_count": null,
            "flex_flow": null,
            "width": null,
            "min_width": null,
            "border": null,
            "align_items": null,
            "bottom": null,
            "_model_module": "@jupyter-widgets/base",
            "top": null,
            "grid_column": null,
            "overflow_y": null,
            "overflow_x": null,
            "grid_auto_flow": null,
            "grid_area": null,
            "grid_template_columns": null,
            "flex": null,
            "_model_name": "LayoutModel",
            "justify_items": null,
            "grid_row": null,
            "max_height": null,
            "align_content": null,
            "visibility": null,
            "align_self": null,
            "height": null,
            "min_height": null,
            "padding": null,
            "grid_auto_rows": null,
            "grid_gap": null,
            "max_width": null,
            "order": null,
            "_view_module_version": "1.2.0",
            "grid_template_areas": null,
            "object_position": null,
            "object_fit": null,
            "grid_auto_columns": null,
            "margin": null,
            "display": null,
            "left": null
          }
        },
        "e78d4f35fd0143878e37ccf0d045ea01": {
          "model_module": "@jupyter-widgets/controls",
          "model_name": "HBoxModel",
          "state": {
            "_view_name": "HBoxView",
            "_dom_classes": [],
            "_model_name": "HBoxModel",
            "_view_module": "@jupyter-widgets/controls",
            "_model_module_version": "1.5.0",
            "_view_count": null,
            "_view_module_version": "1.5.0",
            "box_style": "",
            "layout": "IPY_MODEL_6cfe71f61c3c4f39a2494680340275a4",
            "_model_module": "@jupyter-widgets/controls",
            "children": [
              "IPY_MODEL_f9179bdacfb74ddf95a7dd4f7b90d121",
              "IPY_MODEL_7e75318e4b2f4fe794568e83af1e895b"
            ]
          }
        },
        "6cfe71f61c3c4f39a2494680340275a4": {
          "model_module": "@jupyter-widgets/base",
          "model_name": "LayoutModel",
          "state": {
            "_view_name": "LayoutView",
            "grid_template_rows": null,
            "right": null,
            "justify_content": null,
            "_view_module": "@jupyter-widgets/base",
            "overflow": null,
            "_model_module_version": "1.2.0",
            "_view_count": null,
            "flex_flow": null,
            "width": null,
            "min_width": null,
            "border": null,
            "align_items": null,
            "bottom": null,
            "_model_module": "@jupyter-widgets/base",
            "top": null,
            "grid_column": null,
            "overflow_y": null,
            "overflow_x": null,
            "grid_auto_flow": null,
            "grid_area": null,
            "grid_template_columns": null,
            "flex": null,
            "_model_name": "LayoutModel",
            "justify_items": null,
            "grid_row": null,
            "max_height": null,
            "align_content": null,
            "visibility": null,
            "align_self": null,
            "height": null,
            "min_height": null,
            "padding": null,
            "grid_auto_rows": null,
            "grid_gap": null,
            "max_width": null,
            "order": null,
            "_view_module_version": "1.2.0",
            "grid_template_areas": null,
            "object_position": null,
            "object_fit": null,
            "grid_auto_columns": null,
            "margin": null,
            "display": null,
            "left": null
          }
        },
        "f9179bdacfb74ddf95a7dd4f7b90d121": {
          "model_module": "@jupyter-widgets/controls",
          "model_name": "FloatProgressModel",
          "state": {
            "_view_name": "ProgressView",
            "style": "IPY_MODEL_2a157e3f699e494384b509e44e5d3346",
            "_dom_classes": [],
            "description": "100%",
            "_model_name": "FloatProgressModel",
            "bar_style": "success",
            "max": 1000,
            "_view_module": "@jupyter-widgets/controls",
            "_model_module_version": "1.5.0",
            "value": 1000,
            "_view_count": null,
            "_view_module_version": "1.5.0",
            "orientation": "horizontal",
            "min": 0,
            "description_tooltip": null,
            "_model_module": "@jupyter-widgets/controls",
            "layout": "IPY_MODEL_95cddba4f09f466a98c22550afe40b3c"
          }
        },
        "7e75318e4b2f4fe794568e83af1e895b": {
          "model_module": "@jupyter-widgets/controls",
          "model_name": "HTMLModel",
          "state": {
            "_view_name": "HTMLView",
            "style": "IPY_MODEL_30b1482409e04a77a784e79ca1d60147",
            "_dom_classes": [],
            "description": "",
            "_model_name": "HTMLModel",
            "placeholder": "​",
            "_view_module": "@jupyter-widgets/controls",
            "_model_module_version": "1.5.0",
            "value": " 1000/1000 [01:00&lt;00:00, 16.59it/s]",
            "_view_count": null,
            "_view_module_version": "1.5.0",
            "description_tooltip": null,
            "_model_module": "@jupyter-widgets/controls",
            "layout": "IPY_MODEL_8039c41baaed42558c4e3d8994371145"
          }
        },
        "2a157e3f699e494384b509e44e5d3346": {
          "model_module": "@jupyter-widgets/controls",
          "model_name": "ProgressStyleModel",
          "state": {
            "_view_name": "StyleView",
            "_model_name": "ProgressStyleModel",
            "description_width": "initial",
            "_view_module": "@jupyter-widgets/base",
            "_model_module_version": "1.5.0",
            "_view_count": null,
            "_view_module_version": "1.2.0",
            "bar_color": null,
            "_model_module": "@jupyter-widgets/controls"
          }
        },
        "95cddba4f09f466a98c22550afe40b3c": {
          "model_module": "@jupyter-widgets/base",
          "model_name": "LayoutModel",
          "state": {
            "_view_name": "LayoutView",
            "grid_template_rows": null,
            "right": null,
            "justify_content": null,
            "_view_module": "@jupyter-widgets/base",
            "overflow": null,
            "_model_module_version": "1.2.0",
            "_view_count": null,
            "flex_flow": null,
            "width": null,
            "min_width": null,
            "border": null,
            "align_items": null,
            "bottom": null,
            "_model_module": "@jupyter-widgets/base",
            "top": null,
            "grid_column": null,
            "overflow_y": null,
            "overflow_x": null,
            "grid_auto_flow": null,
            "grid_area": null,
            "grid_template_columns": null,
            "flex": null,
            "_model_name": "LayoutModel",
            "justify_items": null,
            "grid_row": null,
            "max_height": null,
            "align_content": null,
            "visibility": null,
            "align_self": null,
            "height": null,
            "min_height": null,
            "padding": null,
            "grid_auto_rows": null,
            "grid_gap": null,
            "max_width": null,
            "order": null,
            "_view_module_version": "1.2.0",
            "grid_template_areas": null,
            "object_position": null,
            "object_fit": null,
            "grid_auto_columns": null,
            "margin": null,
            "display": null,
            "left": null
          }
        },
        "30b1482409e04a77a784e79ca1d60147": {
          "model_module": "@jupyter-widgets/controls",
          "model_name": "DescriptionStyleModel",
          "state": {
            "_view_name": "StyleView",
            "_model_name": "DescriptionStyleModel",
            "description_width": "",
            "_view_module": "@jupyter-widgets/base",
            "_model_module_version": "1.5.0",
            "_view_count": null,
            "_view_module_version": "1.2.0",
            "_model_module": "@jupyter-widgets/controls"
          }
        },
        "8039c41baaed42558c4e3d8994371145": {
          "model_module": "@jupyter-widgets/base",
          "model_name": "LayoutModel",
          "state": {
            "_view_name": "LayoutView",
            "grid_template_rows": null,
            "right": null,
            "justify_content": null,
            "_view_module": "@jupyter-widgets/base",
            "overflow": null,
            "_model_module_version": "1.2.0",
            "_view_count": null,
            "flex_flow": null,
            "width": null,
            "min_width": null,
            "border": null,
            "align_items": null,
            "bottom": null,
            "_model_module": "@jupyter-widgets/base",
            "top": null,
            "grid_column": null,
            "overflow_y": null,
            "overflow_x": null,
            "grid_auto_flow": null,
            "grid_area": null,
            "grid_template_columns": null,
            "flex": null,
            "_model_name": "LayoutModel",
            "justify_items": null,
            "grid_row": null,
            "max_height": null,
            "align_content": null,
            "visibility": null,
            "align_self": null,
            "height": null,
            "min_height": null,
            "padding": null,
            "grid_auto_rows": null,
            "grid_gap": null,
            "max_width": null,
            "order": null,
            "_view_module_version": "1.2.0",
            "grid_template_areas": null,
            "object_position": null,
            "object_fit": null,
            "grid_auto_columns": null,
            "margin": null,
            "display": null,
            "left": null
          }
        },
        "791ccee2ac404f30b83da3b257045df5": {
          "model_module": "@jupyter-widgets/controls",
          "model_name": "HBoxModel",
          "state": {
            "_view_name": "HBoxView",
            "_dom_classes": [],
            "_model_name": "HBoxModel",
            "_view_module": "@jupyter-widgets/controls",
            "_model_module_version": "1.5.0",
            "_view_count": null,
            "_view_module_version": "1.5.0",
            "box_style": "",
            "layout": "IPY_MODEL_835207ee72bb49928b0627ad4df8a0df",
            "_model_module": "@jupyter-widgets/controls",
            "children": [
              "IPY_MODEL_a4f2eb2b7d69486a9a9f0eba14a08c43",
              "IPY_MODEL_ba3ec73fb0ff434896490b3902705e70"
            ]
          }
        },
        "835207ee72bb49928b0627ad4df8a0df": {
          "model_module": "@jupyter-widgets/base",
          "model_name": "LayoutModel",
          "state": {
            "_view_name": "LayoutView",
            "grid_template_rows": null,
            "right": null,
            "justify_content": null,
            "_view_module": "@jupyter-widgets/base",
            "overflow": null,
            "_model_module_version": "1.2.0",
            "_view_count": null,
            "flex_flow": null,
            "width": null,
            "min_width": null,
            "border": null,
            "align_items": null,
            "bottom": null,
            "_model_module": "@jupyter-widgets/base",
            "top": null,
            "grid_column": null,
            "overflow_y": null,
            "overflow_x": null,
            "grid_auto_flow": null,
            "grid_area": null,
            "grid_template_columns": null,
            "flex": null,
            "_model_name": "LayoutModel",
            "justify_items": null,
            "grid_row": null,
            "max_height": null,
            "align_content": null,
            "visibility": null,
            "align_self": null,
            "height": null,
            "min_height": null,
            "padding": null,
            "grid_auto_rows": null,
            "grid_gap": null,
            "max_width": null,
            "order": null,
            "_view_module_version": "1.2.0",
            "grid_template_areas": null,
            "object_position": null,
            "object_fit": null,
            "grid_auto_columns": null,
            "margin": null,
            "display": null,
            "left": null
          }
        },
        "a4f2eb2b7d69486a9a9f0eba14a08c43": {
          "model_module": "@jupyter-widgets/controls",
          "model_name": "FloatProgressModel",
          "state": {
            "_view_name": "ProgressView",
            "style": "IPY_MODEL_8b92732c7e104159adcbf883fcf3d929",
            "_dom_classes": [],
            "description": "100%",
            "_model_name": "FloatProgressModel",
            "bar_style": "success",
            "max": 1000,
            "_view_module": "@jupyter-widgets/controls",
            "_model_module_version": "1.5.0",
            "value": 1000,
            "_view_count": null,
            "_view_module_version": "1.5.0",
            "orientation": "horizontal",
            "min": 0,
            "description_tooltip": null,
            "_model_module": "@jupyter-widgets/controls",
            "layout": "IPY_MODEL_1072bdd606e54ae1bc14971620dc4199"
          }
        },
        "ba3ec73fb0ff434896490b3902705e70": {
          "model_module": "@jupyter-widgets/controls",
          "model_name": "HTMLModel",
          "state": {
            "_view_name": "HTMLView",
            "style": "IPY_MODEL_f820fb11eb2d40329a5f2fdad6ce2879",
            "_dom_classes": [],
            "description": "",
            "_model_name": "HTMLModel",
            "placeholder": "​",
            "_view_module": "@jupyter-widgets/controls",
            "_model_module_version": "1.5.0",
            "value": " 1000/1000 [00:08&lt;00:00, 122.56it/s]",
            "_view_count": null,
            "_view_module_version": "1.5.0",
            "description_tooltip": null,
            "_model_module": "@jupyter-widgets/controls",
            "layout": "IPY_MODEL_6851f8c93b894c37acd773c32a3b43c6"
          }
        },
        "8b92732c7e104159adcbf883fcf3d929": {
          "model_module": "@jupyter-widgets/controls",
          "model_name": "ProgressStyleModel",
          "state": {
            "_view_name": "StyleView",
            "_model_name": "ProgressStyleModel",
            "description_width": "initial",
            "_view_module": "@jupyter-widgets/base",
            "_model_module_version": "1.5.0",
            "_view_count": null,
            "_view_module_version": "1.2.0",
            "bar_color": null,
            "_model_module": "@jupyter-widgets/controls"
          }
        },
        "1072bdd606e54ae1bc14971620dc4199": {
          "model_module": "@jupyter-widgets/base",
          "model_name": "LayoutModel",
          "state": {
            "_view_name": "LayoutView",
            "grid_template_rows": null,
            "right": null,
            "justify_content": null,
            "_view_module": "@jupyter-widgets/base",
            "overflow": null,
            "_model_module_version": "1.2.0",
            "_view_count": null,
            "flex_flow": null,
            "width": null,
            "min_width": null,
            "border": null,
            "align_items": null,
            "bottom": null,
            "_model_module": "@jupyter-widgets/base",
            "top": null,
            "grid_column": null,
            "overflow_y": null,
            "overflow_x": null,
            "grid_auto_flow": null,
            "grid_area": null,
            "grid_template_columns": null,
            "flex": null,
            "_model_name": "LayoutModel",
            "justify_items": null,
            "grid_row": null,
            "max_height": null,
            "align_content": null,
            "visibility": null,
            "align_self": null,
            "height": null,
            "min_height": null,
            "padding": null,
            "grid_auto_rows": null,
            "grid_gap": null,
            "max_width": null,
            "order": null,
            "_view_module_version": "1.2.0",
            "grid_template_areas": null,
            "object_position": null,
            "object_fit": null,
            "grid_auto_columns": null,
            "margin": null,
            "display": null,
            "left": null
          }
        },
        "f820fb11eb2d40329a5f2fdad6ce2879": {
          "model_module": "@jupyter-widgets/controls",
          "model_name": "DescriptionStyleModel",
          "state": {
            "_view_name": "StyleView",
            "_model_name": "DescriptionStyleModel",
            "description_width": "",
            "_view_module": "@jupyter-widgets/base",
            "_model_module_version": "1.5.0",
            "_view_count": null,
            "_view_module_version": "1.2.0",
            "_model_module": "@jupyter-widgets/controls"
          }
        },
        "6851f8c93b894c37acd773c32a3b43c6": {
          "model_module": "@jupyter-widgets/base",
          "model_name": "LayoutModel",
          "state": {
            "_view_name": "LayoutView",
            "grid_template_rows": null,
            "right": null,
            "justify_content": null,
            "_view_module": "@jupyter-widgets/base",
            "overflow": null,
            "_model_module_version": "1.2.0",
            "_view_count": null,
            "flex_flow": null,
            "width": null,
            "min_width": null,
            "border": null,
            "align_items": null,
            "bottom": null,
            "_model_module": "@jupyter-widgets/base",
            "top": null,
            "grid_column": null,
            "overflow_y": null,
            "overflow_x": null,
            "grid_auto_flow": null,
            "grid_area": null,
            "grid_template_columns": null,
            "flex": null,
            "_model_name": "LayoutModel",
            "justify_items": null,
            "grid_row": null,
            "max_height": null,
            "align_content": null,
            "visibility": null,
            "align_self": null,
            "height": null,
            "min_height": null,
            "padding": null,
            "grid_auto_rows": null,
            "grid_gap": null,
            "max_width": null,
            "order": null,
            "_view_module_version": "1.2.0",
            "grid_template_areas": null,
            "object_position": null,
            "object_fit": null,
            "grid_auto_columns": null,
            "margin": null,
            "display": null,
            "left": null
          }
        }
      }
    }
  },
  "cells": [
    {
      "cell_type": "markdown",
      "metadata": {
        "id": "lLEKL6pjYXUu"
      },
      "source": [
        "# Fall 2020: DS-GA 1011 NLP with Representation Learning\n",
        "## Homework 2\n",
        "## Part 2: Neural Language Modeling (30 pts)\n",
        "In this assignment, you will build and analyze a neural language model with a recurrent neural network."
      ]
    },
    {
      "cell_type": "code",
      "metadata": {
        "id": "agRgiCqm6Tbp",
        "colab": {
          "base_uri": "https://localhost:8080/"
        },
        "outputId": "164061d6-c26c-4f41-f956-87db853dbf20"
      },
      "source": [
        "!pip install jsonlines\n",
        "import os\n",
        "import json\n",
        "import jsonlines\n",
        "import numpy as np\n",
        "from tqdm import tqdm, notebook\n",
        "from collections import defaultdict\n",
        "import matplotlib.pyplot as plt\n",
        "import pickle\n",
        "\n",
        "import torch\n",
        "import torch.nn as nn\n",
        "import torch.nn.functional as F\n",
        "import torch.optim as optim"
      ],
      "execution_count": null,
      "outputs": [
        {
          "output_type": "stream",
          "text": [
            "Collecting jsonlines\n",
            "  Downloading https://files.pythonhosted.org/packages/4f/9a/ab96291470e305504aa4b7a2e0ec132e930da89eb3ca7a82fbe03167c131/jsonlines-1.2.0-py2.py3-none-any.whl\n",
            "Requirement already satisfied: six in /usr/local/lib/python3.6/dist-packages (from jsonlines) (1.15.0)\n",
            "Installing collected packages: jsonlines\n",
            "Successfully installed jsonlines-1.2.0\n"
          ],
          "name": "stdout"
        }
      ]
    },
    {
      "cell_type": "code",
      "metadata": {
        "colab": {
          "base_uri": "https://localhost:8080/"
        },
        "id": "H51gQqMDVS5H",
        "outputId": "318fa597-d79e-4806-e91b-9360c02880fb"
      },
      "source": [
        "# For colab users\n",
        "from google.colab import drive\n",
        "drive.mount('/content/drive')"
      ],
      "execution_count": null,
      "outputs": [
        {
          "output_type": "stream",
          "text": [
            "Mounted at /content/drive\n"
          ],
          "name": "stdout"
        }
      ]
    },
    {
      "cell_type": "code",
      "metadata": {
        "colab": {
          "base_uri": "https://localhost:8080/"
        },
        "id": "Q0958sRMVUFm",
        "outputId": "238c27ed-3dbb-4fee-984b-3471cfd44364"
      },
      "source": [
        "cd /content/drive/MyDrive/2020.1011/HW/HW2/Answer/answer-part2/"
      ],
      "execution_count": null,
      "outputs": [
        {
          "output_type": "stream",
          "text": [
            "/content/drive/.shortcut-targets-by-id/1lw8YIdTE5p10TT6vMJ--f5lc1ycU0hJv/2020.1011/HW/HW2/Answer/answer-part2\n"
          ],
          "name": "stdout"
        }
      ]
    },
    {
      "cell_type": "markdown",
      "metadata": {
        "id": "XGHJDWJAYbhy"
      },
      "source": [
        "---\n",
        "### 1 LSTM and Hyper-parameters (10 pts)\n",
        "Your first task is to train a neural recurrent language model on Wikitext-2.\n",
        "\n",
        "#### Load data & Utilities\n",
        "\n",
        "(Hint: you can adopt the `Dictionary`, dataset loading, `Dataloader`, `pad_collate_fn`, and training code from the lab: [**07-rnn_lm.ipynb**](https://drive.google.com/file/d/1scqLM26Njy4ACL9zyIQEVcoP32eTN77i/view?usp=sharing) for use here)"
      ]
    },
    {
      "cell_type": "code",
      "metadata": {
        "id": "kqqazbJzBKQh",
        "colab": {
          "base_uri": "https://localhost:8080/"
        },
        "outputId": "7fa4a4c7-71c9-4ac4-e570-9a72561837b1"
      },
      "source": [
        "def load_wikitext(filename='wikitext2-sentencized.json'):\n",
        "    if not os.path.exists(filename):\n",
        "        !wget \"https://nyu.box.com/shared/static/9kb7l7ci30hb6uahhbssjlq0kctr5ii4.json\" -O $filename\n",
        "    \n",
        "    datasets = json.load(open(filename, 'r'))\n",
        "    for name in datasets:\n",
        "        datasets[name] = [x.split() for x in datasets[name]]\n",
        "    vocab = list(set([t for ts in datasets['train'] for t in ts]))      \n",
        "    print(\"Vocab size: %d\" % (len(vocab)))\n",
        "    return datasets, vocab\n",
        "\n",
        "datasets,vocab = load_wikitext()"
      ],
      "execution_count": null,
      "outputs": [
        {
          "output_type": "stream",
          "text": [
            "--2020-12-04 01:22:06--  https://nyu.box.com/shared/static/9kb7l7ci30hb6uahhbssjlq0kctr5ii4.json\n",
            "Resolving nyu.box.com (nyu.box.com)... 107.152.24.197\n",
            "Connecting to nyu.box.com (nyu.box.com)|107.152.24.197|:443... connected.\n",
            "HTTP request sent, awaiting response... 301 Moved Permanently\n",
            "Location: /public/static/9kb7l7ci30hb6uahhbssjlq0kctr5ii4.json [following]\n",
            "--2020-12-04 01:22:06--  https://nyu.box.com/public/static/9kb7l7ci30hb6uahhbssjlq0kctr5ii4.json\n",
            "Reusing existing connection to nyu.box.com:443.\n",
            "HTTP request sent, awaiting response... 301 Moved Permanently\n",
            "Location: https://nyu.app.box.com/public/static/9kb7l7ci30hb6uahhbssjlq0kctr5ii4.json [following]\n",
            "--2020-12-04 01:22:06--  https://nyu.app.box.com/public/static/9kb7l7ci30hb6uahhbssjlq0kctr5ii4.json\n",
            "Resolving nyu.app.box.com (nyu.app.box.com)... 107.152.24.201\n",
            "Connecting to nyu.app.box.com (nyu.app.box.com)|107.152.24.201|:443... connected.\n",
            "HTTP request sent, awaiting response... 302 Found\n",
            "Location: https://public.boxcloud.com/d/1/b1!rBQ2583ztoXpRV6go0gjBFSuO3cFAGmQpSKSdL3Reqg0dJJzpM6-L2uodkQdBJS0rpXOWBLXr33kOJQ3HWmx0hpcjY5NGlm-donmDW1nckjnJND_N_cV6VZzcxV3bqZ89MraMdXzmhAGE39CB5boluRKBcyZadSCbuxbUh3tDBpjXqcFObkJJn2HuIVKHL29RvLdnvuTqO10c0Qq1jszVNzdrqf2O9aaVcgo6j9ZoDCB023zwchc5aCoOcc8DguSkdYF3eJOMdyEh7WTjyy42unzoVCuM7k9SUoHAt4D8BgDZXqTaM7zp4dekiRCOnYMaksEyfOagnFL8gmP9aJcw1VoxC-RRQZmzP0pOSPXF810lUpl14Xj9J-4sx2_nhmLSKTglfYox_fQUUC0o3f51KfIkuLvoyr0FRF9-2n6WdixvDXL9nbW2muEfIuEofhhOjHfWmUSIsH2dFxA97UMbLHA3VTPLv5kEO_UfSTCgFI6WaVm3p1SHxOrAvQ_-D7nT7XTA2Ig2guS2cG6TNqtxhy25xx-BynPZ1uNmMcHURRsMJmu9iurQbmoyu-XI6K50JF3mUeZDW_qcnMELU3SEL3T1kMIjQP2aSWKeXJkTkzgGFXRGfrY5FDgGTzg6AUvrMjMTSnwVQZOx2CUGvodlNR8o-7jprRaNgFC9-4LFaiQaOEdxEohWtCjKnZDS48aDWh_qwJGCYAprwyCEYWwvqON2g1IuFfF1dKQSVBC4wnNfMX7LfMlZk00w4l6X1lr_DXHFl7xpQaD5SuC5jLNXPhsWJsZIaAEoMJ0a9I0JJjwiWTWX6NBhNYZGvyK_dPsM1WDA6aKcVg-NZL-hHrwne6ggYKNlzfWtxdNweqqNEknKIDzbNO-UzV_Ey6ocdGMws5uAUAD3f7vlK4pcsTsrRmDkJcW-NUno6cCPEPzTtkoV53_kfLhN2nUKSH3_ORwrlY1JmC7VLwEC-_U0h-KpRL6BjoitZK1I6Qc3_EJhVng-kc3w71ReNQ8WJpO7wvcOzdD94MwcfrWzItXE8fZo3oWoMdMWIDLCRfGunva9pi0QmXpHONKvof7szQ2Dj2XE0KVUEi6DkBlpxLIZko1TVpgWHuy7zbgaBtRmG_69exR-5QeVuSoxbGWPG8YSLyC6caXblXMM2y3cXFpF9Q2k-onq4uDtV99JhXYyrBZKn3SnkZSxt0oQv0ZTNAs6NNgAkxzforJ02rVP9-rU4-6zZwAE0H7qGnk2OlbMZ37SDI2nXMVhLFWxJZPwTS7s7LdULFLFwDNlEIQJ28D1ZgyzEWeOaPZxPZjiHMq9wtcr2uQ9HQUima_R__JZs-6GYCj3G40zoJvNGHOM0wpIaFRoCechMghvPK7lBo3Uv6SOlyBp69BT796lc_CUpFGbN1SCW9Uz3xnrfkTw0RA0sA0KYzzJdawa2Al4xRe23e3tVcEgmaXtSZuZTA./download [following]\n",
            "--2020-12-04 01:22:06--  https://public.boxcloud.com/d/1/b1!rBQ2583ztoXpRV6go0gjBFSuO3cFAGmQpSKSdL3Reqg0dJJzpM6-L2uodkQdBJS0rpXOWBLXr33kOJQ3HWmx0hpcjY5NGlm-donmDW1nckjnJND_N_cV6VZzcxV3bqZ89MraMdXzmhAGE39CB5boluRKBcyZadSCbuxbUh3tDBpjXqcFObkJJn2HuIVKHL29RvLdnvuTqO10c0Qq1jszVNzdrqf2O9aaVcgo6j9ZoDCB023zwchc5aCoOcc8DguSkdYF3eJOMdyEh7WTjyy42unzoVCuM7k9SUoHAt4D8BgDZXqTaM7zp4dekiRCOnYMaksEyfOagnFL8gmP9aJcw1VoxC-RRQZmzP0pOSPXF810lUpl14Xj9J-4sx2_nhmLSKTglfYox_fQUUC0o3f51KfIkuLvoyr0FRF9-2n6WdixvDXL9nbW2muEfIuEofhhOjHfWmUSIsH2dFxA97UMbLHA3VTPLv5kEO_UfSTCgFI6WaVm3p1SHxOrAvQ_-D7nT7XTA2Ig2guS2cG6TNqtxhy25xx-BynPZ1uNmMcHURRsMJmu9iurQbmoyu-XI6K50JF3mUeZDW_qcnMELU3SEL3T1kMIjQP2aSWKeXJkTkzgGFXRGfrY5FDgGTzg6AUvrMjMTSnwVQZOx2CUGvodlNR8o-7jprRaNgFC9-4LFaiQaOEdxEohWtCjKnZDS48aDWh_qwJGCYAprwyCEYWwvqON2g1IuFfF1dKQSVBC4wnNfMX7LfMlZk00w4l6X1lr_DXHFl7xpQaD5SuC5jLNXPhsWJsZIaAEoMJ0a9I0JJjwiWTWX6NBhNYZGvyK_dPsM1WDA6aKcVg-NZL-hHrwne6ggYKNlzfWtxdNweqqNEknKIDzbNO-UzV_Ey6ocdGMws5uAUAD3f7vlK4pcsTsrRmDkJcW-NUno6cCPEPzTtkoV53_kfLhN2nUKSH3_ORwrlY1JmC7VLwEC-_U0h-KpRL6BjoitZK1I6Qc3_EJhVng-kc3w71ReNQ8WJpO7wvcOzdD94MwcfrWzItXE8fZo3oWoMdMWIDLCRfGunva9pi0QmXpHONKvof7szQ2Dj2XE0KVUEi6DkBlpxLIZko1TVpgWHuy7zbgaBtRmG_69exR-5QeVuSoxbGWPG8YSLyC6caXblXMM2y3cXFpF9Q2k-onq4uDtV99JhXYyrBZKn3SnkZSxt0oQv0ZTNAs6NNgAkxzforJ02rVP9-rU4-6zZwAE0H7qGnk2OlbMZ37SDI2nXMVhLFWxJZPwTS7s7LdULFLFwDNlEIQJ28D1ZgyzEWeOaPZxPZjiHMq9wtcr2uQ9HQUima_R__JZs-6GYCj3G40zoJvNGHOM0wpIaFRoCechMghvPK7lBo3Uv6SOlyBp69BT796lc_CUpFGbN1SCW9Uz3xnrfkTw0RA0sA0KYzzJdawa2Al4xRe23e3tVcEgmaXtSZuZTA./download\n",
            "Resolving public.boxcloud.com (public.boxcloud.com)... 107.152.24.200\n",
            "Connecting to public.boxcloud.com (public.boxcloud.com)|107.152.24.200|:443... connected.\n",
            "HTTP request sent, awaiting response... 200 OK\n",
            "Length: 12714601 (12M) [application/octet-stream]\n",
            "Saving to: ‘wikitext2-sentencized.json’\n",
            "\n",
            "wikitext2-sentenciz 100%[===================>]  12.12M  31.8MB/s    in 0.4s    \n",
            "\n",
            "2020-12-04 01:22:07 (31.8 MB/s) - ‘wikitext2-sentencized.json’ saved [12714601/12714601]\n",
            "\n",
            "Vocab size: 33175\n"
          ],
          "name": "stdout"
        }
      ]
    },
    {
      "cell_type": "code",
      "metadata": {
        "id": "H5AVeuYsBKSr"
      },
      "source": [
        "class Dictionary(object):\n",
        "    def __init__(self, datasets, include_valid=False):\n",
        "        self.tokens = []\n",
        "        self.ids = {}\n",
        "        self.counts = {}\n",
        "        \n",
        "        # add special tokens\n",
        "        self.add_token('<bos>')\n",
        "        self.add_token('<eos>')\n",
        "        self.add_token('<pad>')\n",
        "        self.add_token('<unk>')\n",
        "        \n",
        "        for line in tqdm(datasets['train']):\n",
        "            for w in line:\n",
        "                self.add_token(w)\n",
        "                    \n",
        "        if include_valid is True:\n",
        "            for line in tqdm(datasets['valid']):\n",
        "                for w in line:\n",
        "                    self.add_token(w)\n",
        "        # include test\n",
        "        for line in tqdm(datasets['test']):\n",
        "            for w in line:\n",
        "                self.add_token(w)\n",
        "        \n",
        "        \n",
        "    def add_token(self, w):\n",
        "        if w not in self.tokens:\n",
        "            self.tokens.append(w)\n",
        "            _w_id = len(self.tokens) - 1\n",
        "            self.ids[w] = _w_id\n",
        "            self.counts[w] = 1\n",
        "        else:\n",
        "            self.counts[w] += 1\n",
        "\n",
        "    def get_id(self, w):\n",
        "        return self.ids[w]\n",
        "    \n",
        "    def get_token(self, idx):\n",
        "        return self.tokens[idx]\n",
        "    \n",
        "    def decode_idx_seq(self, l):\n",
        "        return [self.tokens[i] for i in l]\n",
        "    \n",
        "    def encode_token_seq(self, l):\n",
        "        return [self.ids[i] if i in self.ids else self.ids['<unk>'] for i in l]\n",
        "    \n",
        "    def __len__(self):\n",
        "        return len(self.tokens)"
      ],
      "execution_count": null,
      "outputs": []
    },
    {
      "cell_type": "code",
      "metadata": {
        "id": "xAc86PIcBKU9"
      },
      "source": [
        "def tokenize_dataset(datasets, dictionary, ngram_order=2):\n",
        "    tokenized_datasets = {}\n",
        "    for split, dataset in datasets.items():\n",
        "        _current_dictified = []\n",
        "        for l in tqdm(dataset):\n",
        "            l = ['<bos>']*(ngram_order-1) + l + ['<eos>']\n",
        "            encoded_l = dictionary.encode_token_seq(l)\n",
        "            _current_dictified.append(encoded_l)\n",
        "        tokenized_datasets[split] = _current_dictified\n",
        "        \n",
        "    return tokenized_datasets"
      ],
      "execution_count": null,
      "outputs": []
    },
    {
      "cell_type": "code",
      "metadata": {
        "id": "HyVRHW-HBKXW",
        "colab": {
          "base_uri": "https://localhost:8080/"
        },
        "outputId": "5f7bb332-931b-480d-cd07-63657ef79327"
      },
      "source": [
        "with open('wikitext_dict.pickle', 'rb') as handle:\n",
        "    wikitext_dict = pickle.load(handle)\n",
        "\n",
        "# checking some example\n",
        "print(' '.join(datasets['train'][231]))\n",
        "\n",
        "encoded = wikitext_dict.encode_token_seq(datasets['train'][231])\n",
        "print(f'\\n encoded - {encoded}')\n",
        "decoded = wikitext_dict.decode_idx_seq(encoded)\n",
        "print(f'\\n decoded - {decoded}')"
      ],
      "execution_count": null,
      "outputs": [
        {
          "output_type": "stream",
          "text": [
            "26 laborers in the ammunition laboratory , and a carpenter for making packing boxes .\n",
            "\n",
            " encoded - [1580, 1574, 33, 6, 1128, 1463, 10, 30, 20, 1581, 98, 96, 1582, 1583, 39]\n",
            "\n",
            " decoded - ['26', 'laborers', 'in', 'the', 'ammunition', 'laboratory', ',', 'and', 'a', 'carpenter', 'for', 'making', 'packing', 'boxes', '.']\n"
          ],
          "name": "stdout"
        }
      ]
    },
    {
      "cell_type": "code",
      "metadata": {
        "id": "wDfgm-LeMwG9"
      },
      "source": [
        "## tokenize the dataset given a dictionary \n",
        "from torch.utils.data import Dataset, DataLoader\n",
        "def tokenize_dataset(datasets, dictionary, ngram_order=2): #substitute words with numbers. Sometimes can include splitting strings, dealing with punctuation and symbols.\n",
        "    tokenized_datasets = {}\n",
        "    for split, dataset in datasets.items():\n",
        "        _current_dictified = []\n",
        "        for l in tqdm(dataset):\n",
        "            l = ['<bos>']*(ngram_order-1) + l + ['<eos>']\n",
        "            encoded_l = dictionary.encode_token_seq(l)\n",
        "            _current_dictified.append(encoded_l)\n",
        "        tokenized_datasets[split] = _current_dictified\n",
        "        \n",
        "    return tokenized_datasets\n",
        "\n",
        "## generate the input and target\n",
        "class TensoredDataset(Dataset):\n",
        "    def __init__(self, list_of_lists_of_tokens):\n",
        "        self.input_tensors = []\n",
        "        self.target_tensors = []\n",
        "\n",
        "        for sample in list_of_lists_of_tokens:\n",
        "            self.input_tensors.append(torch.tensor([sample[:-1]], dtype=torch.long))  ## input tensor list. \n",
        "            self.target_tensors.append(torch.tensor([sample[1:]], dtype=torch.long))  ## output tensor list\n",
        "    \n",
        "    def __len__(self):\n",
        "        return len(self.input_tensors)\n",
        "    \n",
        "    def __getitem__(self, idx):\n",
        "        # return a (input, target) tuple\n",
        "        return (self.input_tensors[idx], self.target_tensors[idx])\n"
      ],
      "execution_count": null,
      "outputs": []
    },
    {
      "cell_type": "code",
      "metadata": {
        "colab": {
          "base_uri": "https://localhost:8080/"
        },
        "id": "-5n1O77qMyDc",
        "outputId": "c1463a92-8987-4902-8cf2-7117e59ae0ab"
      },
      "source": [
        "wikitext_tokenized_datasets = tokenize_dataset(datasets, wikitext_dict)  ## tokenize dataset to numbers\n",
        "wikitext_tensor_dataset = {}  \n",
        "\n",
        "for split, listoflists in wikitext_tokenized_datasets.items():  \n",
        "    wikitext_tensor_dataset[split] = TensoredDataset(listoflists)  \n",
        "    \n",
        "# check the first example\n",
        "wikitext_tensor_dataset['train'][0]"
      ],
      "execution_count": null,
      "outputs": [
        {
          "output_type": "stream",
          "text": [
            "100%|██████████| 78274/78274 [00:00<00:00, 118531.53it/s]\n",
            "100%|██████████| 8464/8464 [00:00<00:00, 148998.12it/s]\n",
            "100%|██████████| 9708/9708 [00:00<00:00, 148361.12it/s]\n"
          ],
          "name": "stderr"
        },
        {
          "output_type": "execute_result",
          "data": {
            "text/plain": [
              "(tensor([[ 0,  4,  5,  6,  7,  8,  9, 10, 11, 12, 13, 14,  4, 15, 16, 17, 18, 10,\n",
              "          19, 20, 21, 22, 23, 24, 25, 26, 27, 28, 29, 30, 31]]),\n",
              " tensor([[ 4,  5,  6,  7,  8,  9, 10, 11, 12, 13, 14,  4, 15, 16, 17, 18, 10, 19,\n",
              "          20, 21, 22, 23, 24, 25, 26, 27, 28, 29, 30, 31,  1]]))"
            ]
          },
          "metadata": {
            "tags": []
          },
          "execution_count": 11
        }
      ]
    },
    {
      "cell_type": "code",
      "metadata": {
        "id": "9WVRrtRWNBCu"
      },
      "source": [
        "def pad_list_of_tensors(list_of_tensors, pad_token):\n",
        "    max_length = max([t.size(-1) for t in list_of_tensors])   ## get the max length\n",
        "    padded_list = []\n",
        "    \n",
        "    for t in list_of_tensors:  \n",
        "        ## concatenate each sample with pad_tokens\n",
        "        padded_tensor = torch.cat([t, torch.tensor([[pad_token]*(max_length - t.size(-1))], dtype=torch.long)], dim = -1)\n",
        "        padded_list.append(padded_tensor)  \n",
        "        \n",
        "    padded_tensor = torch.cat(padded_list, dim=0)  \n",
        "    \n",
        "    return padded_tensor\n",
        "\n",
        "def pad_collate_fn(batch):\n",
        "    # batch is a list of sample tuples\n",
        "    input_list = [s[0] for s in batch]   ## get inputs in the batch\n",
        "    target_list = [s[1] for s in batch]  ## get the target in the batch\n",
        "    \n",
        "    pad_token = wikitext_dict.get_id('<pad>')\n",
        "    #pad_token = 2\n",
        "    \n",
        "    input_tensor = pad_list_of_tensors(input_list, pad_token)\n",
        "    target_tensor = pad_list_of_tensors(target_list, pad_token)\n",
        "    \n",
        "    return input_tensor, target_tensor "
      ],
      "execution_count": null,
      "outputs": []
    },
    {
      "cell_type": "code",
      "metadata": {
        "id": "y7YYNzwnNDWT"
      },
      "source": [
        "wikitext_loaders = {}\n",
        "\n",
        "batch_size = 64\n",
        "\n",
        "for split, wikitext_dataset in wikitext_tensor_dataset.items():  ## split(train, valid and test)\n",
        "    wikitext_loaders[split] = DataLoader(wikitext_dataset, batch_size=batch_size, shuffle=True, collate_fn=pad_collate_fn)"
      ],
      "execution_count": null,
      "outputs": []
    },
    {
      "cell_type": "code",
      "metadata": {
        "colab": {
          "base_uri": "https://localhost:8080/"
        },
        "id": "nxitvp9lNDYS",
        "outputId": "36ea1c4d-806e-472b-98f8-c83bd2cc7efc"
      },
      "source": [
        "next(iter(wikitext_loaders['train']))"
      ],
      "execution_count": null,
      "outputs": [
        {
          "output_type": "execute_result",
          "data": {
            "text/plain": [
              "(tensor([[    0,    75,  2160,  ...,     2,     2,     2],\n",
              "         [    0, 16522,     6,  ...,     2,     2,     2],\n",
              "         [    0,    75, 22515,  ...,     2,     2,     2],\n",
              "         ...,\n",
              "         [    0,   130,  3576,  ...,     2,     2,     2],\n",
              "         [    0, 23706,    10,  ...,     2,     2,     2],\n",
              "         [    0,    75,  1056,  ...,     2,     2,     2]]),\n",
              " tensor([[   75,  2160,   645,  ...,     2,     2,     2],\n",
              "         [16522,     6, 15938,  ...,     2,     2,     2],\n",
              "         [   75, 22515,   115,  ...,     2,     2,     2],\n",
              "         ...,\n",
              "         [  130,  3576,    10,  ...,     2,     2,     2],\n",
              "         [23706,    10,   234,  ...,     2,     2,     2],\n",
              "         [   75,  1056,   457,  ...,     2,     2,     2]]))"
            ]
          },
          "metadata": {
            "tags": []
          },
          "execution_count": 14
        }
      ]
    },
    {
      "cell_type": "markdown",
      "metadata": {
        "id": "iNgC2ndLYk5F"
      },
      "source": [
        "#### Model + Training (5 pts)"
      ]
    },
    {
      "cell_type": "code",
      "metadata": {
        "id": "A2kqFqsJCAhz"
      },
      "source": [
        "num_gpus = torch.cuda.device_count()\n",
        "if num_gpus > 0:\n",
        "    current_device = 'cuda'\n",
        "else:\n",
        "    current_device = 'cpu'\n",
        "\n",
        "load_pretrained = True"
      ],
      "execution_count": null,
      "outputs": []
    },
    {
      "cell_type": "code",
      "metadata": {
        "id": "H95GRFIgDxwY"
      },
      "source": [
        "class LSTMLanguageModel(nn.Module):\n",
        "    \"\"\"\n",
        "    This model combines embedding, rnn and projection layer into a single model\n",
        "    \"\"\"\n",
        "    def __init__(self, options):\n",
        "        super().__init__()\n",
        "        \n",
        "        # create each LM part here \n",
        "        self.lookup = nn.Embedding(num_embeddings=options['num_embeddings'], embedding_dim=options['embedding_dim'], padding_idx=options['padding_idx'])\n",
        "        self.lstm = nn.LSTM(options['input_size'], options['hidden_size'], options['num_layers'], dropout=options['lstm_dropout'], batch_first=True)\n",
        "        self.projection = nn.Linear(options['hidden_size'], options['num_embeddings'])\n",
        "        \n",
        "    def forward(self, encoded_input_sequence):\n",
        "        \"\"\"\n",
        "        Forward method process the input from token ids to logits\n",
        "        \"\"\"\n",
        "        # |V| -> emb_dim\n",
        "        embeddings = self.lookup(encoded_input_sequence)\n",
        "        # emb_dim, hidden -> output, (h_n,c_n)     (hidden,hidden*num_layers)\n",
        "        output, (h_n, c_n) = self.lstm(embeddings)\n",
        "        logits = self.projection(output)\n",
        "        \n",
        "        return logits"
      ],
      "execution_count": null,
      "outputs": []
    },
    {
      "cell_type": "code",
      "metadata": {
        "id": "ZCNUtd9MbZFy"
      },
      "source": [
        "if load_pretrained == True:\n",
        "    hidden_size = 512\n",
        "    embedding_size = 256\n",
        "    model_dict = torch.load(\"model.pt\")\n",
        "    options = model_dict['options']\n",
        "    model = LSTMLanguageModel(options).to(current_device)\n",
        "    model.load_state_dict(model_dict[\"state_dict\"])\n",
        "else:\n",
        "    options = {\n",
        "        'num_embeddings': len(wikitext_dict),\n",
        "        'embedding_dim': 256,\n",
        "        'padding_idx': wikitext_dict.get_id('<pad>'),\n",
        "        'input_size': 256,\n",
        "        'hidden_size': 512,\n",
        "        'num_layers': 3,\n",
        "        'lstm_dropout': 0.1,\n",
        "      }\n",
        "    model = LSTMLanguageModel(options).to(current_device)\n",
        "\n",
        "    criterion = nn.CrossEntropyLoss(ignore_index=wikitext_dict.get_id('<pad>'))\n",
        "    model_parameters = [p for p in model.parameters() if p.requires_grad]\n",
        "    optimizer = optim.Adam(model_parameters)\n",
        "\n",
        "    plot_cache = {\"train\":[], \"valid\":[]}\n",
        "\n",
        "    PATIENCE = 3\n",
        "    PATIENCE_COUNT = 0\n",
        "    best_val_loss = 1e6\n",
        "\n",
        "    for epoch in notebook.tqdm(range(5), desc='Epoch'):\n",
        "        # do train\n",
        "        train_log_cache = []\n",
        "        model.train()\n",
        "  \n",
        "        epoch_iterator = notebook.tqdm(wikitext_loaders['train'], desc='Iteration')\n",
        "        for i, (inp, target) in enumerate(epoch_iterator):\n",
        "            optimizer.zero_grad()\n",
        "            inp = inp.to(current_device)\n",
        "            target = target.to(current_device)\n",
        "            logits = model(inp)\n",
        "            \n",
        "            loss = criterion(logits.view(-1, logits.size(-1)), target.view(-1))\n",
        "            \n",
        "            loss.backward()\n",
        "            optimizer.step()\n",
        "\n",
        "            train_log_cache.append(loss.item())\n",
        "\n",
        "        avg_loss = sum(train_log_cache) / len(train_log_cache)\n",
        "        print(\"epoch {} training loss: {}\".format(epoch, avg_loss))\n",
        "        plot_cache[\"train\"].append(avg_loss)\n",
        "        \n",
        "        #do valid\n",
        "        valid_losses = []\n",
        "        model.eval()\n",
        "        with torch.no_grad():\n",
        "            for i, (inp, target) in enumerate(wikitext_loaders['valid']):\n",
        "                inp = inp.to(current_device)\n",
        "                target = target.to(current_device)\n",
        "                logits = model(inp)\n",
        "\n",
        "                loss = criterion(logits.view(-1, logits.size(-1)), target.view(-1))\n",
        "                \n",
        "                valid_losses.append(loss.item())\n",
        "            \n",
        "            avg_val_loss = sum(valid_losses) / len(valid_losses)\n",
        "            print('epoch {} validation loss: {:.{prec}f}'.format(epoch, avg_val_loss, prec=4))\n",
        "            \n",
        "        plot_cache[\"valid\"].append(avg_val_loss)\n",
        "\n",
        "        # early stopping implementation\n",
        "        if avg_val_loss < best_val_loss: # improvement\n",
        "          PATIENCE_COUNT = 0  # reset the counter\n",
        "          best_val_loss = avg_val_loss\n",
        "          torch.save(\n",
        "              {\n",
        "              \"state_dict\": model.state_dict(),   \n",
        "                \"plot\": plot_cache,\n",
        "                \"options\": options\n",
        "              }\n",
        "              , \"model.pt\"\n",
        "          )\n",
        "        else: # no improvement\n",
        "          PATIENCE_COUNT += 1\n",
        "          print(\"have not improved in {} epoch(s)\".format(PATIENCE_COUNT))\n",
        "          if PATIENCE_COUNT == PATIENCE:\n",
        "            print(\"max patience reached\")\n",
        "            break"
      ],
      "execution_count": null,
      "outputs": []
    },
    {
      "cell_type": "markdown",
      "metadata": {
        "id": "YQ3AwIz9YpyB"
      },
      "source": [
        "#### Performance variation based on hyper-parameter values (5 pts)"
      ]
    },
    {
      "cell_type": "code",
      "metadata": {
        "id": "N-u4qwprnRS0"
      },
      "source": [
        "def plot_train_val_loss(model):\n",
        "    plot_cache = model_dict['plot']\n",
        "    epochs = np.array(list(range(len(plot_cache['train']))))\n",
        "    plt.figure(figsize=(10,5))\n",
        "    plt.plot(epochs, plot_cache['train'], label='Train loss')\n",
        "    plt.plot(epochs, plot_cache['valid'], label='Valid_loss')\n",
        "    plt.xlabel(\"epochs\")\n",
        "    plt.ylabel(\"loss\")\n",
        "    plt.title(\"Training and Validation Loss (hidden_dim = 512, embedding_size = 256)\")\n",
        "    plt.legend()\n",
        "    plt.show()"
      ],
      "execution_count": null,
      "outputs": []
    },
    {
      "cell_type": "code",
      "metadata": {
        "colab": {
          "base_uri": "https://localhost:8080/",
          "height": 350
        },
        "id": "OKQi9QibnWQg",
        "outputId": "ee647de1-f7d8-4654-9bcb-034e67e42b10"
      },
      "source": [
        "plot_train_val_loss(model)"
      ],
      "execution_count": null,
      "outputs": [
        {
          "output_type": "display_data",
          "data": {
            "image/png": "[encoded data removed]",
            "text/plain": [
              "<Figure size 720x360 with 1 Axes>"
            ]
          },
          "metadata": {
            "tags": [],
            "needs_background": "light"
          }
        }
      ]
    },
    {
      "cell_type": "markdown",
      "metadata": {
        "id": "8fchTT11HKF1"
      },
      "source": [
        "---\n",
        "### 2 Learned embeddings (6 pts)\n",
        "Next you will analyze the word embeddings that the model learns."
      ]
    },
    {
      "cell_type": "markdown",
      "metadata": {
        "id": "VGIOzUWcrTdT"
      },
      "source": [
        "#### 2.1 Word similarity (3 pts)"
      ]
    },
    {
      "cell_type": "code",
      "metadata": {
        "id": "PHTve4iTESZE"
      },
      "source": [
        "def cosine_similarity(x1, x2, dim=0, eps=1e-8):\n",
        "    w12 = torch.sum(x1 * x2, dim)\n",
        "    w1 = torch.norm(x1, 2, dim)\n",
        "    w2 = torch.norm(x2, 2, dim)\n",
        "    return (w12 / (w1 * w2).clamp(min=eps)).squeeze()"
      ],
      "execution_count": null,
      "outputs": []
    },
    {
      "cell_type": "code",
      "metadata": {
        "id": "J6ApOJfLodEh"
      },
      "source": [
        "def find_neighbors(model, number_neighbors, word_list):\n",
        "    closest_dict_projection = {}\n",
        "    farthest_dict_projection = {}\n",
        "\n",
        "    lsts_projection = {}\n",
        "    weight_matrix_projection = model.projection.weight\n",
        "\n",
        "    for word in word_list:\n",
        "        lst_projection = []\n",
        "        word_id = wikitext_dict.get_id(word)\n",
        "        for i in notebook.tqdm(range(weight_matrix_projection.size(0))):\n",
        "            if i not in [wikitext_dict.get_id(\"<unk>\"), wikitext_dict.get_id(\"<pad>\"), word_id]:\n",
        "                cos_sim = cosine_similarity(weight_matrix_projection[word_id],weight_matrix_projection[i])\n",
        "                lst_projection.append((cos_sim.item(), i))\n",
        "            lst_projection = sorted(lst_projection, key=lambda x: x[0], reverse=True)\n",
        "            lsts_projection[word] = lst_projection\n",
        "            closest_dict_projection[word] = [l[1] for l in lst_projection[:number_neighbors]]\n",
        "            farthest_dict_projection[word] = [l[1] for l in lst_projection[-number_neighbors:]]\n",
        "    return closest_dict_projection, farthest_dict_projection, lsts_projection"
      ],
      "execution_count": null,
      "outputs": []
    },
    {
      "cell_type": "code",
      "metadata": {
        "colab": {
          "base_uri": "https://localhost:8080/",
          "height": 267,
          "referenced_widgets": [
            "57f380016c1248f2bc19b42fa1ee3038",
            "8a20ec316066406b89679c75aae7ec51",
            "6b28ee3ff44c4dc0b511154fabf8ffd0",
            "ccd7e801f4d348299a4e8d1b2f58d6f0",
            "c4608dd851e0412d8ab692528104a038",
            "f35cf8964b174caa860b5eae8d4fc704",
            "993d26f41e414add9882037766edae76",
            "ebcc5b18e33a41baaa1a7ef11ad90774",
            "449bcdce0a964355a67ed3a3a97396f1",
            "643bd3e1309d495bba73ed86b1faa571",
            "e1c9cc725ab54c10a180722ae30a4fca",
            "977a0f527c2349ef923d1455109b8be2",
            "4c0659ec4ed344ab985e93ca0c72902c",
            "5440efa890844ebb8d0ed4a8a426448b",
            "86c492aaf8ad45ca9519851752f99249",
            "e68cc56958dd440b996d4817f2fcc4e6",
            "05dd1b57db184b1a93d8174b041968ce",
            "c371f8f7074d4ceabd7a68a0c49fc076",
            "7954a53eb9b540c8873e78869783f6c9",
            "08dda33b1cf343cc861d1698cb8071f6",
            "963e176a14a647bb960525148db875ab",
            "ac282319babc42ab99f7de7e2d009131",
            "7e037647b3f14a7893892222566aef1f",
            "67ec5d9bd5cf48fba46eeb1adaac1411",
            "e854b5200bb540eea990a6492fd3169e",
            "6ec6774a4b2043e69cbe45684a18b574",
            "68897c3ecdfa479aae920dba0ce16d61",
            "4d485fe3ceed4df0b34f001b9e39760d",
            "d5434b4f8f844b95aa6d38aa139ab116",
            "e384d096174549d186db0588e76e0f06",
            "e192ec664b2c42b79b453b4790eab3f8",
            "d437da8ec4f64946bf507b5073e1dca6",
            "03aee149f8aa4310bc95e8b7ca7b784f",
            "d043bfb392184ef0a8305d615fab233a",
            "7d19c00b4f3f440a8d61181beb7bb7db",
            "b89ceefe84754e04aac43d9ac31b9bad",
            "4cc3b8aa6a88467c97e6dd91424477b6",
            "697d919455f94ccabc2fd585c2f877d2",
            "ceb864cdf6fe4895972cb64d824bf300",
            "2303a2da54fe4f65b9b962070bf90dfb"
          ]
        },
        "id": "xycwxWUJoySi",
        "outputId": "7d010d52-87df-4710-9a28-7270506999f9"
      },
      "source": [
        "word_list = ['the', 'good', 'bad', 'where', 'fun']\n",
        "\n",
        "closest, farthest, all = find_neighbors(model, 10, word_list)"
      ],
      "execution_count": null,
      "outputs": [
        {
          "output_type": "display_data",
          "data": {
            "application/vnd.jupyter.widget-view+json": {
              "model_id": "57f380016c1248f2bc19b42fa1ee3038",
              "version_minor": 0,
              "version_major": 2
            },
            "text/plain": [
              "HBox(children=(FloatProgress(value=0.0, max=33186.0), HTML(value='')))"
            ]
          },
          "metadata": {
            "tags": []
          }
        },
        {
          "output_type": "stream",
          "text": [
            "\n"
          ],
          "name": "stdout"
        },
        {
          "output_type": "display_data",
          "data": {
            "application/vnd.jupyter.widget-view+json": {
              "model_id": "449bcdce0a964355a67ed3a3a97396f1",
              "version_minor": 0,
              "version_major": 2
            },
            "text/plain": [
              "HBox(children=(FloatProgress(value=0.0, max=33186.0), HTML(value='')))"
            ]
          },
          "metadata": {
            "tags": []
          }
        },
        {
          "output_type": "stream",
          "text": [
            "\n"
          ],
          "name": "stdout"
        },
        {
          "output_type": "display_data",
          "data": {
            "application/vnd.jupyter.widget-view+json": {
              "model_id": "05dd1b57db184b1a93d8174b041968ce",
              "version_minor": 0,
              "version_major": 2
            },
            "text/plain": [
              "HBox(children=(FloatProgress(value=0.0, max=33186.0), HTML(value='')))"
            ]
          },
          "metadata": {
            "tags": []
          }
        },
        {
          "output_type": "stream",
          "text": [
            "\n"
          ],
          "name": "stdout"
        },
        {
          "output_type": "display_data",
          "data": {
            "application/vnd.jupyter.widget-view+json": {
              "model_id": "e854b5200bb540eea990a6492fd3169e",
              "version_minor": 0,
              "version_major": 2
            },
            "text/plain": [
              "HBox(children=(FloatProgress(value=0.0, max=33186.0), HTML(value='')))"
            ]
          },
          "metadata": {
            "tags": []
          }
        },
        {
          "output_type": "stream",
          "text": [
            "\n"
          ],
          "name": "stdout"
        },
        {
          "output_type": "display_data",
          "data": {
            "application/vnd.jupyter.widget-view+json": {
              "model_id": "03aee149f8aa4310bc95e8b7ca7b784f",
              "version_minor": 0,
              "version_major": 2
            },
            "text/plain": [
              "HBox(children=(FloatProgress(value=0.0, max=33186.0), HTML(value='')))"
            ]
          },
          "metadata": {
            "tags": []
          }
        },
        {
          "output_type": "stream",
          "text": [
            "\n"
          ],
          "name": "stdout"
        }
      ]
    },
    {
      "cell_type": "code",
      "metadata": {
        "colab": {
          "base_uri": "https://localhost:8080/"
        },
        "id": "cfF96qoveXvE",
        "outputId": "f7a1d4b6-ff41-48de-9648-6e1723bcca80"
      },
      "source": [
        "closest"
      ],
      "execution_count": null,
      "outputs": [
        {
          "output_type": "execute_result",
          "data": {
            "text/plain": [
              "{'bad': [14980, 14982, 483, 4879, 25192, 5305, 5351, 10505, 855, 8941],\n",
              " 'fun': [8502, 19351, 7745, 13041, 15773, 9234, 8575, 14467, 2151, 15777],\n",
              " 'good': [470, 885, 4441, 304, 1522, 4233, 5155, 1312, 6242, 2481],\n",
              " 'the': [20, 345, 135, 46, 280, 460, 349, 105, 232, 438],\n",
              " 'where': [396, 150, 207, 65, 1619, 309, 2504, 110, 5014, 25233]}"
            ]
          },
          "metadata": {
            "tags": []
          },
          "execution_count": 25
        }
      ]
    },
    {
      "cell_type": "code",
      "metadata": {
        "id": "2H90Xd7OOEyg",
        "colab": {
          "base_uri": "https://localhost:8080/"
        },
        "outputId": "9150d421-8344-44ce-fcb8-39251acfdf74"
      },
      "source": [
        "for word in word_list:\n",
        "  print('Word: ' + word +'\\n')\n",
        "  print(\"The closest 10 words are\", \":\", [wikitext_dict.get_token(i) for i in closest[word]])\n",
        "  print(\"The farthest 10 words are\", \":\",[wikitext_dict.get_token(i) for i in farthest[word]])\n",
        "  close = wikitext_dict.get_token(all[word][0][1])\n",
        "  far = wikitext_dict.get_token(all[word][-1][1])\n",
        "  print(\"The highest cosine similarity is %f, the similarity between %s and %s\" %(all[word][0][0], word, close))\n",
        "  print(\"The lowest cosine similarity is %f, the similarity between %s and %s\" %(all[word][-1][0], word, far))\n",
        "  print('-'*150)"
      ],
      "execution_count": null,
      "outputs": [
        {
          "output_type": "stream",
          "text": [
            "Word: the\n",
            "\n",
            "The closest 10 words are : ['a', 'his', 'an', 'its', 'their', 'this', 'her', 'both', 'some', 'these']\n",
            "The farthest 10 words are : ['Nene', 'Book', 'Cathedral', 'Tribunal', 'repertoire', 'Institute', 'Preparations', 'interchange', 'Press', 'Trophy']\n",
            "The highest cosine similarity is 0.605633, the similarity between the and a\n",
            "The lowest cosine similarity is -0.392587, the similarity between the and Trophy\n",
            "------------------------------------------------------------------------------------------------------------------------------------------------------\n",
            "Word: good\n",
            "\n",
            "The closest 10 words are : ['great', 'serious', 'superior', 'unique', 'strong', 'happy', 'false', 'safe', 'effective', 'dark']\n",
            "The farthest 10 words are : ['The', 'is', '=', ';', 'A', '–', 'was', '(', 'and', ',']\n",
            "The highest cosine similarity is 0.684519, the similarity between good and great\n",
            "The lowest cosine similarity is -0.283271, the similarity between good and ,\n",
            "------------------------------------------------------------------------------------------------------------------------------------------------------\n",
            "Word: bad\n",
            "\n",
            "The closest 10 words are : ['pretty', 'strange', 'ideal', 'primitive', 'witch', 'complicated', 'arguments', 'neutral', 'profound', 'promise']\n",
            "The farthest 10 words are : ['the', ':', 'was', '\"', 'In', 'A', '(', 'The', 'and', ',']\n",
            "The highest cosine similarity is 0.756238, the similarity between bad and pretty\n",
            "The lowest cosine similarity is -0.273034, the similarity between bad and ,\n",
            "------------------------------------------------------------------------------------------------------------------------------------------------------\n",
            "Word: where\n",
            "\n",
            "The closest 10 words are : ['whose', 'but', 'when', 'who', 'indicating', 'which', 'via', 'along', 'causing', 'permitting']\n",
            "The farthest 10 words are : ['tracks', 'album', 'day', 'song', '\"', 'two', 'second', 'year', 'same', 'series']\n",
            "The highest cosine similarity is 0.509909, the similarity between where and whose\n",
            "The lowest cosine similarity is -0.127784, the similarity between where and series\n",
            "------------------------------------------------------------------------------------------------------------------------------------------------------\n",
            "Word: fun\n",
            "\n",
            "The closest 10 words are : ['brilliant', 'attractive', 'surprising', 'sexy', 'nice', 'absolutely', 'someone', 'exciting', 'interesting', 'charming']\n",
            "The farthest 10 words are : ['first', '2', '–', 'later', 'was', 'in', '(', '\"', 'and', ',']\n",
            "The highest cosine similarity is 0.657161, the similarity between fun and brilliant\n",
            "The lowest cosine similarity is -0.178012, the similarity between fun and ,\n",
            "------------------------------------------------------------------------------------------------------------------------------------------------------\n"
          ],
          "name": "stdout"
        }
      ]
    },
    {
      "cell_type": "markdown",
      "metadata": {
        "id": "ZEzVVZnbraaq"
      },
      "source": [
        "#### 2.2 UMAP (3 pts)\n",
        "\n",
        "Below is code to use [UMAP](https://umap-learn.readthedocs.io/en/latest/) to find a 2-dimensional representation of a weight matrix, and plot the resulting 2-dimensional points that correspond to certain words.\n",
        "\n",
        "Use `!pip install umap-learn` to install UMAP."
      ]
    },
    {
      "cell_type": "code",
      "metadata": {
        "id": "BHKZ6YlDHICg",
        "colab": {
          "base_uri": "https://localhost:8080/"
        },
        "outputId": "f1e7a665-0845-43bb-f577-2b7f58017823"
      },
      "source": [
        "!pip install umap-learn"
      ],
      "execution_count": null,
      "outputs": [
        {
          "output_type": "stream",
          "text": [
            "Requirement already satisfied: umap-learn in /usr/local/lib/python3.6/dist-packages (0.4.6)\n",
            "Requirement already satisfied: scipy>=1.3.1 in /usr/local/lib/python3.6/dist-packages (from umap-learn) (1.4.1)\n",
            "Requirement already satisfied: scikit-learn>=0.20 in /usr/local/lib/python3.6/dist-packages (from umap-learn) (0.22.2.post1)\n",
            "Requirement already satisfied: numpy>=1.17 in /usr/local/lib/python3.6/dist-packages (from umap-learn) (1.18.5)\n",
            "Requirement already satisfied: numba!=0.47,>=0.46 in /usr/local/lib/python3.6/dist-packages (from umap-learn) (0.48.0)\n",
            "Requirement already satisfied: joblib>=0.11 in /usr/local/lib/python3.6/dist-packages (from scikit-learn>=0.20->umap-learn) (0.17.0)\n",
            "Requirement already satisfied: setuptools in /usr/local/lib/python3.6/dist-packages (from numba!=0.47,>=0.46->umap-learn) (50.3.2)\n",
            "Requirement already satisfied: llvmlite<0.32.0,>=0.31.0dev0 in /usr/local/lib/python3.6/dist-packages (from numba!=0.47,>=0.46->umap-learn) (0.31.0)\n"
          ],
          "name": "stdout"
        }
      ]
    },
    {
      "cell_type": "code",
      "metadata": {
        "id": "vwEjoKU2ESW4",
        "colab": {
          "base_uri": "https://localhost:8080/"
        },
        "outputId": "e2c4bb0a-21ec-44c3-a806-f5fa7f9c3b32"
      },
      "source": [
        "word_list_id = [wikitext_dict.get_id(word) for word in word_list]\n",
        "word_list_id"
      ],
      "execution_count": null,
      "outputs": [
        {
          "output_type": "execute_result",
          "data": {
            "text/plain": [
              "[6, 894, 6882, 163, 3538]"
            ]
          },
          "metadata": {
            "tags": []
          },
          "execution_count": 28
        }
      ]
    },
    {
      "cell_type": "code",
      "metadata": {
        "id": "RuRJHkgcESe4",
        "colab": {
          "base_uri": "https://localhost:8080/"
        },
        "outputId": "e9198789-e495-4c17-97a3-10d8f1b7ff54"
      },
      "source": [
        "%pylab inline \n",
        "import umap\n",
        "\n",
        "def umap_plot(weight_matrix, word_ids, words):\n",
        "    \"\"\"Run UMAP on the entire Vxd `weight_matrix` (e.g. model.lookup.weight or model.projection.weight),\n",
        "    And plot the points corresponding to the given `word_ids`. \"\"\"\n",
        "    reduced = umap.UMAP(min_dist=0.0001, low_memory=True).fit_transform(weight_matrix.detach().cpu().numpy())\n",
        "    plt.figure(figsize=(15,15))\n",
        "\n",
        "    to_plot = reduced[word_ids, :]\n",
        "    plt.scatter(to_plot[:, 0], to_plot[:, 1])\n",
        "    for i, word_id in enumerate(word_ids):\n",
        "        current_point = to_plot[i]\n",
        "        plt.annotate(words[i], (current_point[0], current_point[1]))\n",
        "\n",
        "    plt.grid()\n",
        "    plt.show()"
      ],
      "execution_count": null,
      "outputs": [
        {
          "output_type": "stream",
          "text": [
            "Populating the interactive namespace from numpy and matplotlib\n"
          ],
          "name": "stdout"
        },
        {
          "output_type": "stream",
          "text": [
            "/usr/local/lib/python3.6/dist-packages/IPython/core/magics/pylab.py:161: UserWarning: pylab import has clobbered these variables: ['split', 'close']\n",
            "`%matplotlib` prevents importing * from pylab and numpy\n",
            "  \"\\n`%matplotlib` prevents importing * from pylab and numpy\"\n"
          ],
          "name": "stderr"
        }
      ]
    },
    {
      "cell_type": "code",
      "metadata": {
        "id": "Rb5JT87hOE0z"
      },
      "source": [
        "total_idx_projection = [closest[w] for w in word_list] + [farthest[w] for w in word_list]\n",
        "import itertools\n",
        "total_idx_projection = list(itertools.chain(*total_idx_projection))\n",
        "total_words_projection = word_list + [wikitext_dict.get_token(i) for i in total_idx_projection]\n",
        "total_idx_projection = [wikitext_dict.get_id(w) for w in word_list] + total_idx_projection"
      ],
      "execution_count": null,
      "outputs": []
    },
    {
      "cell_type": "code",
      "metadata": {
        "id": "HaGxTb4cOE28",
        "colab": {
          "base_uri": "https://localhost:8080/",
          "height": 863
        },
        "outputId": "67eb05ff-a5de-420b-c039-8b97de3fa765"
      },
      "source": [
        "weight_matrix_projection = model.projection.weight\n",
        "umap_plot(weight_matrix_projection, total_idx_projection, total_words_projection)"
      ],
      "execution_count": null,
      "outputs": [
        {
          "output_type": "display_data",
          "data": {
            "image/png": "[encoded data removed]",
            "text/plain": [
              "<Figure size 1080x1080 with 1 Axes>"
            ]
          },
          "metadata": {
            "tags": [],
            "needs_background": "light"
          }
        }
      ]
    },
    {
      "cell_type": "markdown",
      "metadata": {
        "id": "X6bIu1iEZVxI"
      },
      "source": [
        "---\n",
        "### 3 Sampling (14 pts)\n"
      ]
    },
    {
      "cell_type": "code",
      "metadata": {
        "id": "YvvkqOgdZYTH"
      },
      "source": [
        "import random\n",
        "ids = random.sample(range(len(wikitext_tensor_dataset[\"valid\"])), 1000)\n",
        "samples_val = []\n",
        "wikitext_tokenized_datasets[\"valid\"][0]\n",
        "\n",
        "for i in ids:\n",
        "  sent = wikitext_tokenized_datasets[\"valid\"][i]\n",
        "  sent = [wikitext_dict.get_token(idx) for idx in sent]\n",
        "  samples_val.append(\" \".join(sent))"
      ],
      "execution_count": null,
      "outputs": []
    },
    {
      "cell_type": "markdown",
      "metadata": {
        "id": "6gDugR3URoZ7"
      },
      "source": [
        "#### 3.1 Sampling implementation (4 pts)\n",
        "For the sampling implementation, we have 2 solutions:\n",
        "- Following the pseudo-code, we are feeding into the model one token at a time, so we will have to break the model into 3 layers and manually feed the hidden state $h_{t-1}$ to the LSTM at each time-step. The reason here is that, to generate a new token $x_t$, we need to sample from probability distribution $P(x_t|x_{<t}) = \\text{softmax}(\\text{projection}(h_t))$. However, $h_t = f(x_t,h_{t-1})$ is a function of both the current token $x_t$ and the previous hidden state $h_{t-1}$, which encodes information from all previous tokens $x_{<t}$. Thus, in the implementation we have to make the LSTM layer return the hidden states as we will feed them back into the LSTM at the next time-step. Because the way our model forward method is set up, $\\text{model}(x_t)$ returns the logits for $P(x_{t+1}|x_{t})$, instead of $P(x_{t+1}|x_{<t})$. This is a very important distinction to notice.\n",
        "- Alternatively, if we insist on using the model forward method instead of breaking the model into 3 layers, we can simply forward all previous tokens together at each time-step: $\\text{softmax}(\\text{model}(x_1,...,x_{t-1})) = P(x_t|x_{<t}).$\n"
      ]
    },
    {
      "cell_type": "markdown",
      "metadata": {
        "id": "M7LwIJGz-D79"
      },
      "source": [
        "**solution 1: following the pseudo-code**"
      ]
    },
    {
      "cell_type": "code",
      "metadata": {
        "id": "lqUpx1nVUON2",
        "colab": {
          "base_uri": "https://localhost:8080/",
          "height": 67,
          "referenced_widgets": [
            "64964355b9534a8ba1f8488f2c2f18ca",
            "c072ba5c8ef640939351cc15be9c15b6",
            "f55c32f711c449d19411c73045efa39e",
            "d572b0b907404b20af56387a6b783dcf",
            "784d182aa62c47bab0c28d731b41936b",
            "1446e1c999dc4cfc880418385f705a93",
            "2804fd78a2784c74bf528948e51ea06a",
            "d5a95c67a5bd4f2f83def5f69d065ef1"
          ]
        },
        "outputId": "5de2aad0-29cd-4ec2-aab2-354341993e45"
      },
      "source": [
        "samples = []\n",
        "for i in notebook.tqdm(range(1000)):\n",
        "    start_index = torch.tensor([wikitext_dict.get_id(\"<bos>\")]).view(1,-1)\n",
        "    inp = start_index\n",
        "    sample = [\"<bos>\"]\n",
        "    model.eval()\n",
        "    h_t = torch.zeros(options[\"num_layers\"], 1, options[\"hidden_size\"]).to(current_device)\n",
        "    c_t = torch.zeros(options[\"num_layers\"], 1, options[\"hidden_size\"]).to(current_device)\n",
        "    while inp.item() != wikitext_dict.get_id(\"<eos>\"):\n",
        "        out = model.lookup(inp.to(current_device))\n",
        "        out = out.view(1, 1, -1)\n",
        "        out, (h_t, c_t) = model.lstm(out, (h_t, c_t))\n",
        "        out = model.projection(out)\n",
        "        prob_distr = torch.softmax(out[0, -1], dim=-1)\n",
        "        sample_id = torch.multinomial(prob_distr, 1).item()\n",
        "        sample_token = wikitext_dict.get_token(sample_id)\n",
        "        sample.append(sample_token)\n",
        "        inp = torch.tensor([wikitext_dict.get_id(sample_token)])\n",
        "    samples.append(\" \".join(sample))"
      ],
      "execution_count": null,
      "outputs": [
        {
          "output_type": "display_data",
          "data": {
            "application/vnd.jupyter.widget-view+json": {
              "model_id": "64964355b9534a8ba1f8488f2c2f18ca",
              "version_minor": 0,
              "version_major": 2
            },
            "text/plain": [
              "HBox(children=(FloatProgress(value=0.0, max=1000.0), HTML(value='')))"
            ]
          },
          "metadata": {
            "tags": []
          }
        },
        {
          "output_type": "stream",
          "text": [
            "\n"
          ],
          "name": "stdout"
        }
      ]
    },
    {
      "cell_type": "markdown",
      "metadata": {
        "id": "idDZd8ys-Haa"
      },
      "source": [
        "**solution 2: alternative solution**"
      ]
    },
    {
      "cell_type": "code",
      "metadata": {
        "id": "CCsA5ppN-JVv",
        "colab": {
          "base_uri": "https://localhost:8080/",
          "height": 67,
          "referenced_widgets": [
            "e78d4f35fd0143878e37ccf0d045ea01",
            "6cfe71f61c3c4f39a2494680340275a4",
            "f9179bdacfb74ddf95a7dd4f7b90d121",
            "7e75318e4b2f4fe794568e83af1e895b",
            "2a157e3f699e494384b509e44e5d3346",
            "95cddba4f09f466a98c22550afe40b3c",
            "30b1482409e04a77a784e79ca1d60147",
            "8039c41baaed42558c4e3d8994371145"
          ]
        },
        "outputId": "4095c092-2ee9-44f2-b162-ac5726d4fe8a"
      },
      "source": [
        "samples2 = []\n",
        "for i in notebook.tqdm(range(1000)):\n",
        "  sample = [\"<bos>\"]\n",
        "  while sample[-1] != \"<eos>\":\n",
        "    inp = wikitext_dict.encode_token_seq(sample)\n",
        "    model.eval()\n",
        "    logits = model(torch.tensor([inp], dtype=torch.long).to(current_device)).to(current_device)\n",
        "    prob_distr = torch.softmax(logits[0, -1], dim=-1)\n",
        "    sample_id = torch.multinomial(prob_distr, 1)\n",
        "    word = wikitext_dict.get_token(sample_id)\n",
        "    sample.append(word)\n",
        "  samples2.append(\" \".join(sample))"
      ],
      "execution_count": null,
      "outputs": [
        {
          "output_type": "display_data",
          "data": {
            "application/vnd.jupyter.widget-view+json": {
              "model_id": "e78d4f35fd0143878e37ccf0d045ea01",
              "version_minor": 0,
              "version_major": 2
            },
            "text/plain": [
              "HBox(children=(FloatProgress(value=0.0, max=1000.0), HTML(value='')))"
            ]
          },
          "metadata": {
            "tags": []
          }
        },
        {
          "output_type": "stream",
          "text": [
            "\n"
          ],
          "name": "stdout"
        }
      ]
    },
    {
      "cell_type": "code",
      "metadata": {
        "colab": {
          "base_uri": "https://localhost:8080/"
        },
        "id": "Ym2_QoUvZDAv",
        "outputId": "cd7d1f28-d2e2-496f-81d2-440e1843d8b6"
      },
      "source": [
        "samples[-10:]"
      ],
      "execution_count": null,
      "outputs": [
        {
          "output_type": "execute_result",
          "data": {
            "text/plain": [
              "['<bos> The Wolfpack of only a presbyterian ruler through the common size was <unk> ( <unk> III ) , they < <eos>',\n",
              " '<bos> Earlier on St Nazaire , not a wide amount farcical centered line . <eos>',\n",
              " '<bos> The genus continues from a so Isesi noticed to create the name creature at < <eos>',\n",
              " '<bos> In 1962 to 9 @,@ 1965 at the bottom of this time B Cove became established in Canada . <eos>',\n",
              " '<bos> Language theorists , a single review of the crown erected . <eos>',\n",
              " '<bos> Director Eliot grew # 10 as the Australian book in 1994 – 2008 . <eos>',\n",
              " \"<bos> In the DAG of Baltimore 's tenure , Splitsider began his article novel and appealed that he was moved to favor by his words : <eos>\",\n",
              " \"<bos> Star Charles , Churchill of GameSpot 's Simpson session , was found , but Upon he sleeps . <eos>\",\n",
              " '<bos> In 2009 Mosley agreed to showcase Poesy Ross and soldiers as \" crumbling their concern with Taylor who reminds fans for the Planet of Physics , hip @-@ eyed nature of James Ball , Grace , the prose . <eos>',\n",
              " '<bos> Cole warned indolence such as $ more than four countries ; there is no no arc of high @-@ professional but compete for constellations from 1648 to Jejuri . <eos>']"
            ]
          },
          "metadata": {
            "tags": []
          },
          "execution_count": 35
        }
      ]
    },
    {
      "cell_type": "code",
      "metadata": {
        "colab": {
          "base_uri": "https://localhost:8080/"
        },
        "id": "nG0Gg9Pvx4F4",
        "outputId": "8a655b95-eca4-48c4-b79f-5a55bf735ae5"
      },
      "source": [
        "samples2[-10:]"
      ],
      "execution_count": null,
      "outputs": [
        {
          "output_type": "execute_result",
          "data": {
            "text/plain": [
              "['<bos> With World <unk> ( <unk> $ <unk> ° F ) for 4 @,@ <unk> gun that would migrate more concrete , it was heavier , with 2 @,@ 020 <unk> and <eos>',\n",
              " '<bos> Despite as he had only been rebuilt on the <unk> in Theodore <unk> . <eos>',\n",
              " '<bos> 354 originally praised the land in some languages lie , and he <unk> by Caged to hold between 1 and in enormous occasions . <eos>',\n",
              " '<bos> It does not Jamaica the pipes , including searching that remain highly vibrant sluggish . <eos>',\n",
              " '<bos> <unk> , also <unk> from the city , restored in Assyrian water . <eos>',\n",
              " '<bos> In Connecticut , <unk> rejected of Little Area Department drew 39 in the year – <unk> <eos>',\n",
              " '<bos> In <unk> <unk> , the <unk> <unk> formed the Irish community <eos>',\n",
              " '<bos> You guess involved 240 that a band is contemplating a really surgeon ... <eos>',\n",
              " '<bos> unk> , and <unk> , the daughter Howard Henry \" , which were decided for representatives of the church when he told the label . <eos>',\n",
              " '<bos> The concept is a popular dubium , with a layer of Michel <unk> , using Dr. <unk> meic leaf , a Taiwanese descriptions of different interrelated if she did possesses tourism , along with trouble ( short compilations ) , < <eos>']"
            ]
          },
          "metadata": {
            "tags": []
          },
          "execution_count": 36
        }
      ]
    },
    {
      "cell_type": "markdown",
      "metadata": {
        "id": "l187-bXSr_TR"
      },
      "source": [
        "#### 3.2 1,000 samples and average log probability implementation (4 pts)\n",
        "To understand how to calculate the log probability of a sequence $(x_1,x_2,...,x_T),$ we need to first notice that because we have an autoregressive language model, we have $$\\log P(x_1,...,x_T) = \\log\\prod_{t=1}^{T}P(x_t|x_{<t}) = \\sum_{t=1}^{T}\\log P(x_t|x_{<t}).$$ However, recall from last question that $P(x_t|x_{<t})$ is just the output of the model at each time-step after having applied a softmax. Thus, to calculate $\\log P(x_1,...,x_T)$, we need to go to each time-step and access this probability distribution and get the index that we care about, and then sum them up together."
      ]
    },
    {
      "cell_type": "code",
      "metadata": {
        "id": "gBYxg4iyOE5F",
        "colab": {
          "base_uri": "https://localhost:8080/"
        },
        "outputId": "1d15ba76-d6b5-4e76-993b-bf41bfed99bf"
      },
      "source": [
        "def get_prob_of_sequence(seq, token=\"<eos>\"):\n",
        "    inp = wikitext_dict.encode_token_seq(seq.split(' '))\n",
        "    target = inp[1:] + [wikitext_dict.get_id(token)] # shift by 1 index\n",
        "    \n",
        "    with torch.no_grad():\n",
        "        model.eval()\n",
        "        logits = model(torch.tensor([inp], dtype=torch.long).to(current_device))\n",
        "\n",
        "    T = len(inp)\n",
        "    ans = 0\n",
        "    for i in range(T):\n",
        "        tokid = target[i]\n",
        "        prob_distr = torch.softmax(logits[0, i], dim=-1)\n",
        "        prob_distr = prob_distr.cpu()\n",
        "        ans += np.log(prob_distr[tokid]).item()\n",
        "    return ans\n",
        "\n",
        "seq = \"<bos> i have a cat\"\n",
        "get_prob_of_sequence(seq)"
      ],
      "execution_count": null,
      "outputs": [
        {
          "output_type": "execute_result",
          "data": {
            "text/plain": [
              "-41.09731411933899"
            ]
          },
          "metadata": {
            "tags": []
          },
          "execution_count": 39
        }
      ]
    },
    {
      "cell_type": "markdown",
      "metadata": {
        "id": "3OmZwOoBsDtF"
      },
      "source": [
        "#### 3.3 Number of unique tokens and sequence length (3 pts)"
      ]
    },
    {
      "cell_type": "code",
      "metadata": {
        "id": "Z1IjP1sTbQuY",
        "colab": {
          "base_uri": "https://localhost:8080/"
        },
        "outputId": "4b0d6904-efa5-4e0a-aa4e-cfd9d381fa94"
      },
      "source": [
        "set_sample = set()\n",
        "set_sample_val = set()\n",
        "len_sample = []\n",
        "len_sample_val = []\n",
        "\n",
        "for i in range(len(samples)):\n",
        "  sent = samples[i].split(\" \")\n",
        "  len_sample.append(len(sent))\n",
        "  for word in sent:\n",
        "    set_sample.add(word)\n",
        "  \n",
        "for i in range(len(samples_val)):\n",
        "  sent = samples_val[i].split(\" \")\n",
        "  len_sample_val.append(len(sent))\n",
        "  for word in sent:\n",
        "    set_sample_val.add(word)\n",
        "\n",
        "    \n",
        "print(\"unique tokens in random samples:\",len(set_sample))\n",
        "print(\"average sentence length in random samples:\",float(sum(len_sample)/len(len_sample)))\n",
        "print(\"unique tokens in validation set:\",len(set_sample_val))\n",
        "print(\"average sentence length in validation set:\",float(sum(len_sample_val)/len(len_sample_val)))\n",
        "\n",
        "  "
      ],
      "execution_count": null,
      "outputs": [
        {
          "output_type": "stream",
          "text": [
            "unique tokens in random samples: 6158\n",
            "average sentence length in random samples: 25.444\n",
            "unique tokens in validation set: 4927\n",
            "average sentence length in validation set: 24.942\n"
          ],
          "name": "stdout"
        }
      ]
    },
    {
      "cell_type": "markdown",
      "metadata": {
        "id": "tZEi6hdVp80N"
      },
      "source": [
        "get average log score across 1000 sequences"
      ]
    },
    {
      "cell_type": "code",
      "metadata": {
        "id": "2F7ZTAEYp3DV",
        "colab": {
          "base_uri": "https://localhost:8080/",
          "height": 85,
          "referenced_widgets": [
            "791ccee2ac404f30b83da3b257045df5",
            "835207ee72bb49928b0627ad4df8a0df",
            "a4f2eb2b7d69486a9a9f0eba14a08c43",
            "ba3ec73fb0ff434896490b3902705e70",
            "8b92732c7e104159adcbf883fcf3d929",
            "1072bdd606e54ae1bc14971620dc4199",
            "f820fb11eb2d40329a5f2fdad6ce2879",
            "6851f8c93b894c37acd773c32a3b43c6"
          ]
        },
        "outputId": "fa5dfce4-308d-4ba7-d99e-51bd9788fa27"
      },
      "source": [
        "avg = 0.0\n",
        "for sample in notebook.tqdm(samples):\n",
        "  avg += get_prob_of_sequence(sample)\n",
        "print(avg / len(samples))"
      ],
      "execution_count": null,
      "outputs": [
        {
          "output_type": "display_data",
          "data": {
            "application/vnd.jupyter.widget-view+json": {
              "model_id": "791ccee2ac404f30b83da3b257045df5",
              "version_minor": 0,
              "version_major": 2
            },
            "text/plain": [
              "HBox(children=(FloatProgress(value=0.0, max=1000.0), HTML(value='')))"
            ]
          },
          "metadata": {
            "tags": []
          }
        },
        {
          "output_type": "stream",
          "text": [
            "\n",
            "-122.4394703117587\n"
          ],
          "name": "stdout"
        }
      ]
    },
    {
      "cell_type": "markdown",
      "metadata": {
        "id": "zKZdwANBsGv0"
      },
      "source": [
        "#### 3.4 Example samples (3 pts)"
      ]
    },
    {
      "cell_type": "code",
      "metadata": {
        "id": "O0w_d6CFfyeL",
        "colab": {
          "base_uri": "https://localhost:8080/"
        },
        "outputId": "d344d99c-d1d6-4d91-811f-deda8444f6f9"
      },
      "source": [
        "ids = random.sample(range(len(samples)), 3)\n",
        "for i in ids:\n",
        "  print(samples[i])"
      ],
      "execution_count": null,
      "outputs": [
        {
          "output_type": "stream",
          "text": [
            "<bos> Even traveling , the new assault from removing the Old Vic labour as <unk> , <unk> , and Scheer , and named Tiberias , halted in Red affairs . <eos>\n",
            "<bos> Born in the meantime was reported by the Fine Fork at Hubbardton in 1669 , the highway feel that a new design had part of the royal archaeologist <unk> <eos>\n",
            "<bos> Spring National Historic Etingoff ( au emphasis ) was built in Super Lanka , 44 @-@ elite with Scottish Vallarta ) <eos>\n"
          ],
          "name": "stdout"
        }
      ]
    },
    {
      "cell_type": "markdown",
      "metadata": {
        "id": "PAgHl35n9wo4"
      },
      "source": [
        "The samples look machine-generated because they are gramatically not correct. Also, they do not staty on topic, though some terms make logical sense."
      ]
    }
  ]
}