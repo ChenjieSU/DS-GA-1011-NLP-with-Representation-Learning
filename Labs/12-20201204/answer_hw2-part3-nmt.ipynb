{
  "nbformat": 4,
  "nbformat_minor": 0,
  "metadata": {
    "accelerator": "GPU",
    "colab": {
      "name": "hw2-part3-nmt.ipynb",
      "provenance": [],
      "collapsed_sections": []
    },
    "kernelspec": {
      "display_name": "base",
      "language": "python",
      "name": "base"
    },
    "language_info": {
      "codemirror_mode": {
        "name": "ipython",
        "version": 3
      },
      "file_extension": ".py",
      "mimetype": "text/x-python",
      "name": "python",
      "nbconvert_exporter": "python",
      "pygments_lexer": "ipython3",
      "version": "3.8.3"
    },
    "widgets": {
      "application/vnd.jupyter.widget-state+json": {
        "9ddf469e401246bb99c7b2cb4be50e23": {
          "model_module": "@jupyter-widgets/controls",
          "model_name": "HBoxModel",
          "state": {
            "_dom_classes": [],
            "_model_module": "@jupyter-widgets/controls",
            "_model_module_version": "1.5.0",
            "_model_name": "HBoxModel",
            "_view_count": null,
            "_view_module": "@jupyter-widgets/controls",
            "_view_module_version": "1.5.0",
            "_view_name": "HBoxView",
            "box_style": "",
            "children": [
              "IPY_MODEL_7f453906a04f4098b584fa0488011956",
              "IPY_MODEL_3999b17e9d324d8488f438a2df308372"
            ],
            "layout": "IPY_MODEL_c5403f9d409049788eac2905e6df2cfe"
          }
        },
        "7f453906a04f4098b584fa0488011956": {
          "model_module": "@jupyter-widgets/controls",
          "model_name": "FloatProgressModel",
          "state": {
            "_dom_classes": [],
            "_model_module": "@jupyter-widgets/controls",
            "_model_module_version": "1.5.0",
            "_model_name": "FloatProgressModel",
            "_view_count": null,
            "_view_module": "@jupyter-widgets/controls",
            "_view_module_version": "1.5.0",
            "_view_name": "ProgressView",
            "bar_style": "success",
            "description": "100%",
            "description_tooltip": null,
            "layout": "IPY_MODEL_d9d6add4347241218ce8c9bf8d221ea1",
            "max": 1805,
            "min": 0,
            "orientation": "horizontal",
            "style": "IPY_MODEL_b4a014b02aaa423d9d0a11b026b0af2e",
            "value": 1805
          }
        },
        "3999b17e9d324d8488f438a2df308372": {
          "model_module": "@jupyter-widgets/controls",
          "model_name": "HTMLModel",
          "state": {
            "_dom_classes": [],
            "_model_module": "@jupyter-widgets/controls",
            "_model_module_version": "1.5.0",
            "_model_name": "HTMLModel",
            "_view_count": null,
            "_view_module": "@jupyter-widgets/controls",
            "_view_module_version": "1.5.0",
            "_view_name": "HTMLView",
            "description": "",
            "description_tooltip": null,
            "layout": "IPY_MODEL_229a45d19efc4c379ced06b3eb0416e0",
            "placeholder": "​",
            "style": "IPY_MODEL_75fac33f86d74efa84dd582bac7323d2",
            "value": " 1805/1805 [12:24&lt;00:00,  2.42it/s]"
          }
        },
        "c5403f9d409049788eac2905e6df2cfe": {
          "model_module": "@jupyter-widgets/base",
          "model_name": "LayoutModel",
          "state": {
            "_model_module": "@jupyter-widgets/base",
            "_model_module_version": "1.2.0",
            "_model_name": "LayoutModel",
            "_view_count": null,
            "_view_module": "@jupyter-widgets/base",
            "_view_module_version": "1.2.0",
            "_view_name": "LayoutView",
            "align_content": null,
            "align_items": null,
            "align_self": null,
            "border": null,
            "bottom": null,
            "display": null,
            "flex": null,
            "flex_flow": null,
            "grid_area": null,
            "grid_auto_columns": null,
            "grid_auto_flow": null,
            "grid_auto_rows": null,
            "grid_column": null,
            "grid_gap": null,
            "grid_row": null,
            "grid_template_areas": null,
            "grid_template_columns": null,
            "grid_template_rows": null,
            "height": null,
            "justify_content": null,
            "justify_items": null,
            "left": null,
            "margin": null,
            "max_height": null,
            "max_width": null,
            "min_height": null,
            "min_width": null,
            "object_fit": null,
            "object_position": null,
            "order": null,
            "overflow": null,
            "overflow_x": null,
            "overflow_y": null,
            "padding": null,
            "right": null,
            "top": null,
            "visibility": null,
            "width": null
          }
        },
        "d9d6add4347241218ce8c9bf8d221ea1": {
          "model_module": "@jupyter-widgets/base",
          "model_name": "LayoutModel",
          "state": {
            "_model_module": "@jupyter-widgets/base",
            "_model_module_version": "1.2.0",
            "_model_name": "LayoutModel",
            "_view_count": null,
            "_view_module": "@jupyter-widgets/base",
            "_view_module_version": "1.2.0",
            "_view_name": "LayoutView",
            "align_content": null,
            "align_items": null,
            "align_self": null,
            "border": null,
            "bottom": null,
            "display": null,
            "flex": null,
            "flex_flow": null,
            "grid_area": null,
            "grid_auto_columns": null,
            "grid_auto_flow": null,
            "grid_auto_rows": null,
            "grid_column": null,
            "grid_gap": null,
            "grid_row": null,
            "grid_template_areas": null,
            "grid_template_columns": null,
            "grid_template_rows": null,
            "height": null,
            "justify_content": null,
            "justify_items": null,
            "left": null,
            "margin": null,
            "max_height": null,
            "max_width": null,
            "min_height": null,
            "min_width": null,
            "object_fit": null,
            "object_position": null,
            "order": null,
            "overflow": null,
            "overflow_x": null,
            "overflow_y": null,
            "padding": null,
            "right": null,
            "top": null,
            "visibility": null,
            "width": null
          }
        },
        "b4a014b02aaa423d9d0a11b026b0af2e": {
          "model_module": "@jupyter-widgets/controls",
          "model_name": "ProgressStyleModel",
          "state": {
            "_model_module": "@jupyter-widgets/controls",
            "_model_module_version": "1.5.0",
            "_model_name": "ProgressStyleModel",
            "_view_count": null,
            "_view_module": "@jupyter-widgets/base",
            "_view_module_version": "1.2.0",
            "_view_name": "StyleView",
            "bar_color": null,
            "description_width": "initial"
          }
        },
        "229a45d19efc4c379ced06b3eb0416e0": {
          "model_module": "@jupyter-widgets/base",
          "model_name": "LayoutModel",
          "state": {
            "_model_module": "@jupyter-widgets/base",
            "_model_module_version": "1.2.0",
            "_model_name": "LayoutModel",
            "_view_count": null,
            "_view_module": "@jupyter-widgets/base",
            "_view_module_version": "1.2.0",
            "_view_name": "LayoutView",
            "align_content": null,
            "align_items": null,
            "align_self": null,
            "border": null,
            "bottom": null,
            "display": null,
            "flex": null,
            "flex_flow": null,
            "grid_area": null,
            "grid_auto_columns": null,
            "grid_auto_flow": null,
            "grid_auto_rows": null,
            "grid_column": null,
            "grid_gap": null,
            "grid_row": null,
            "grid_template_areas": null,
            "grid_template_columns": null,
            "grid_template_rows": null,
            "height": null,
            "justify_content": null,
            "justify_items": null,
            "left": null,
            "margin": null,
            "max_height": null,
            "max_width": null,
            "min_height": null,
            "min_width": null,
            "object_fit": null,
            "object_position": null,
            "order": null,
            "overflow": null,
            "overflow_x": null,
            "overflow_y": null,
            "padding": null,
            "right": null,
            "top": null,
            "visibility": null,
            "width": null
          }
        },
        "75fac33f86d74efa84dd582bac7323d2": {
          "model_module": "@jupyter-widgets/controls",
          "model_name": "DescriptionStyleModel",
          "state": {
            "_model_module": "@jupyter-widgets/controls",
            "_model_module_version": "1.5.0",
            "_model_name": "DescriptionStyleModel",
            "_view_count": null,
            "_view_module": "@jupyter-widgets/base",
            "_view_module_version": "1.2.0",
            "_view_name": "StyleView",
            "description_width": ""
          }
        },
        "3cc72764e1b54dfd90a6afbb95b4904c": {
          "model_module": "@jupyter-widgets/controls",
          "model_name": "HBoxModel",
          "state": {
            "_dom_classes": [],
            "_model_module": "@jupyter-widgets/controls",
            "_model_module_version": "1.5.0",
            "_model_name": "HBoxModel",
            "_view_count": null,
            "_view_module": "@jupyter-widgets/controls",
            "_view_module_version": "1.5.0",
            "_view_name": "HBoxView",
            "box_style": "",
            "children": [
              "IPY_MODEL_606c2f380b9e4531920ddd380228bb8b",
              "IPY_MODEL_2f03f04f7b124de0b1e153b5bc46281d"
            ],
            "layout": "IPY_MODEL_48cd4a771d11400a930a463b74ce22a6"
          }
        },
        "606c2f380b9e4531920ddd380228bb8b": {
          "model_module": "@jupyter-widgets/controls",
          "model_name": "FloatProgressModel",
          "state": {
            "_dom_classes": [],
            "_model_module": "@jupyter-widgets/controls",
            "_model_module_version": "1.5.0",
            "_model_name": "FloatProgressModel",
            "_view_count": null,
            "_view_module": "@jupyter-widgets/controls",
            "_view_module_version": "1.5.0",
            "_view_name": "ProgressView",
            "bar_style": "success",
            "description": "100%",
            "description_tooltip": null,
            "layout": "IPY_MODEL_f00a2b97db6046a2af0388492201e4d8",
            "max": 1805,
            "min": 0,
            "orientation": "horizontal",
            "style": "IPY_MODEL_4aae205c49754e3b96bb996a6a2726fe",
            "value": 1805
          }
        },
        "2f03f04f7b124de0b1e153b5bc46281d": {
          "model_module": "@jupyter-widgets/controls",
          "model_name": "HTMLModel",
          "state": {
            "_dom_classes": [],
            "_model_module": "@jupyter-widgets/controls",
            "_model_module_version": "1.5.0",
            "_model_name": "HTMLModel",
            "_view_count": null,
            "_view_module": "@jupyter-widgets/controls",
            "_view_module_version": "1.5.0",
            "_view_name": "HTMLView",
            "description": "",
            "description_tooltip": null,
            "layout": "IPY_MODEL_0285258b2811401fa1652994a24c5676",
            "placeholder": "​",
            "style": "IPY_MODEL_49b5bece24324bf0a32fa76d35f03020",
            "value": " 1805/1805 [12:18&lt;00:00,  2.45it/s]"
          }
        },
        "48cd4a771d11400a930a463b74ce22a6": {
          "model_module": "@jupyter-widgets/base",
          "model_name": "LayoutModel",
          "state": {
            "_model_module": "@jupyter-widgets/base",
            "_model_module_version": "1.2.0",
            "_model_name": "LayoutModel",
            "_view_count": null,
            "_view_module": "@jupyter-widgets/base",
            "_view_module_version": "1.2.0",
            "_view_name": "LayoutView",
            "align_content": null,
            "align_items": null,
            "align_self": null,
            "border": null,
            "bottom": null,
            "display": null,
            "flex": null,
            "flex_flow": null,
            "grid_area": null,
            "grid_auto_columns": null,
            "grid_auto_flow": null,
            "grid_auto_rows": null,
            "grid_column": null,
            "grid_gap": null,
            "grid_row": null,
            "grid_template_areas": null,
            "grid_template_columns": null,
            "grid_template_rows": null,
            "height": null,
            "justify_content": null,
            "justify_items": null,
            "left": null,
            "margin": null,
            "max_height": null,
            "max_width": null,
            "min_height": null,
            "min_width": null,
            "object_fit": null,
            "object_position": null,
            "order": null,
            "overflow": null,
            "overflow_x": null,
            "overflow_y": null,
            "padding": null,
            "right": null,
            "top": null,
            "visibility": null,
            "width": null
          }
        },
        "f00a2b97db6046a2af0388492201e4d8": {
          "model_module": "@jupyter-widgets/base",
          "model_name": "LayoutModel",
          "state": {
            "_model_module": "@jupyter-widgets/base",
            "_model_module_version": "1.2.0",
            "_model_name": "LayoutModel",
            "_view_count": null,
            "_view_module": "@jupyter-widgets/base",
            "_view_module_version": "1.2.0",
            "_view_name": "LayoutView",
            "align_content": null,
            "align_items": null,
            "align_self": null,
            "border": null,
            "bottom": null,
            "display": null,
            "flex": null,
            "flex_flow": null,
            "grid_area": null,
            "grid_auto_columns": null,
            "grid_auto_flow": null,
            "grid_auto_rows": null,
            "grid_column": null,
            "grid_gap": null,
            "grid_row": null,
            "grid_template_areas": null,
            "grid_template_columns": null,
            "grid_template_rows": null,
            "height": null,
            "justify_content": null,
            "justify_items": null,
            "left": null,
            "margin": null,
            "max_height": null,
            "max_width": null,
            "min_height": null,
            "min_width": null,
            "object_fit": null,
            "object_position": null,
            "order": null,
            "overflow": null,
            "overflow_x": null,
            "overflow_y": null,
            "padding": null,
            "right": null,
            "top": null,
            "visibility": null,
            "width": null
          }
        },
        "4aae205c49754e3b96bb996a6a2726fe": {
          "model_module": "@jupyter-widgets/controls",
          "model_name": "ProgressStyleModel",
          "state": {
            "_model_module": "@jupyter-widgets/controls",
            "_model_module_version": "1.5.0",
            "_model_name": "ProgressStyleModel",
            "_view_count": null,
            "_view_module": "@jupyter-widgets/base",
            "_view_module_version": "1.2.0",
            "_view_name": "StyleView",
            "bar_color": null,
            "description_width": "initial"
          }
        },
        "0285258b2811401fa1652994a24c5676": {
          "model_module": "@jupyter-widgets/base",
          "model_name": "LayoutModel",
          "state": {
            "_model_module": "@jupyter-widgets/base",
            "_model_module_version": "1.2.0",
            "_model_name": "LayoutModel",
            "_view_count": null,
            "_view_module": "@jupyter-widgets/base",
            "_view_module_version": "1.2.0",
            "_view_name": "LayoutView",
            "align_content": null,
            "align_items": null,
            "align_self": null,
            "border": null,
            "bottom": null,
            "display": null,
            "flex": null,
            "flex_flow": null,
            "grid_area": null,
            "grid_auto_columns": null,
            "grid_auto_flow": null,
            "grid_auto_rows": null,
            "grid_column": null,
            "grid_gap": null,
            "grid_row": null,
            "grid_template_areas": null,
            "grid_template_columns": null,
            "grid_template_rows": null,
            "height": null,
            "justify_content": null,
            "justify_items": null,
            "left": null,
            "margin": null,
            "max_height": null,
            "max_width": null,
            "min_height": null,
            "min_width": null,
            "object_fit": null,
            "object_position": null,
            "order": null,
            "overflow": null,
            "overflow_x": null,
            "overflow_y": null,
            "padding": null,
            "right": null,
            "top": null,
            "visibility": null,
            "width": null
          }
        },
        "49b5bece24324bf0a32fa76d35f03020": {
          "model_module": "@jupyter-widgets/controls",
          "model_name": "DescriptionStyleModel",
          "state": {
            "_model_module": "@jupyter-widgets/controls",
            "_model_module_version": "1.5.0",
            "_model_name": "DescriptionStyleModel",
            "_view_count": null,
            "_view_module": "@jupyter-widgets/base",
            "_view_module_version": "1.2.0",
            "_view_name": "StyleView",
            "description_width": ""
          }
        },
        "73c7d1e5c2a44d78b317194dce0081b2": {
          "model_module": "@jupyter-widgets/controls",
          "model_name": "HBoxModel",
          "state": {
            "_dom_classes": [],
            "_model_module": "@jupyter-widgets/controls",
            "_model_module_version": "1.5.0",
            "_model_name": "HBoxModel",
            "_view_count": null,
            "_view_module": "@jupyter-widgets/controls",
            "_view_module_version": "1.5.0",
            "_view_name": "HBoxView",
            "box_style": "",
            "children": [
              "IPY_MODEL_568470aba081460cbb03dcc7583447df",
              "IPY_MODEL_28bc6b16c87d42479fbbd67495871bd5"
            ],
            "layout": "IPY_MODEL_b1b40299d0e9420c953e0168ad248413"
          }
        },
        "568470aba081460cbb03dcc7583447df": {
          "model_module": "@jupyter-widgets/controls",
          "model_name": "FloatProgressModel",
          "state": {
            "_dom_classes": [],
            "_model_module": "@jupyter-widgets/controls",
            "_model_module_version": "1.5.0",
            "_model_name": "FloatProgressModel",
            "_view_count": null,
            "_view_module": "@jupyter-widgets/controls",
            "_view_module_version": "1.5.0",
            "_view_name": "ProgressView",
            "bar_style": "success",
            "description": "100%",
            "description_tooltip": null,
            "layout": "IPY_MODEL_c3d6ef32b60948f9853c61337a796906",
            "max": 1805,
            "min": 0,
            "orientation": "horizontal",
            "style": "IPY_MODEL_a42391b0b055448da92d642bfbbca34b",
            "value": 1805
          }
        },
        "28bc6b16c87d42479fbbd67495871bd5": {
          "model_module": "@jupyter-widgets/controls",
          "model_name": "HTMLModel",
          "state": {
            "_dom_classes": [],
            "_model_module": "@jupyter-widgets/controls",
            "_model_module_version": "1.5.0",
            "_model_name": "HTMLModel",
            "_view_count": null,
            "_view_module": "@jupyter-widgets/controls",
            "_view_module_version": "1.5.0",
            "_view_name": "HTMLView",
            "description": "",
            "description_tooltip": null,
            "layout": "IPY_MODEL_7828b01c25a241e5a2c27c885fd33f1e",
            "placeholder": "​",
            "style": "IPY_MODEL_e833f67cb1d1443580be67ea24196b83",
            "value": " 1805/1805 [12:34&lt;00:00,  2.39it/s]"
          }
        },
        "b1b40299d0e9420c953e0168ad248413": {
          "model_module": "@jupyter-widgets/base",
          "model_name": "LayoutModel",
          "state": {
            "_model_module": "@jupyter-widgets/base",
            "_model_module_version": "1.2.0",
            "_model_name": "LayoutModel",
            "_view_count": null,
            "_view_module": "@jupyter-widgets/base",
            "_view_module_version": "1.2.0",
            "_view_name": "LayoutView",
            "align_content": null,
            "align_items": null,
            "align_self": null,
            "border": null,
            "bottom": null,
            "display": null,
            "flex": null,
            "flex_flow": null,
            "grid_area": null,
            "grid_auto_columns": null,
            "grid_auto_flow": null,
            "grid_auto_rows": null,
            "grid_column": null,
            "grid_gap": null,
            "grid_row": null,
            "grid_template_areas": null,
            "grid_template_columns": null,
            "grid_template_rows": null,
            "height": null,
            "justify_content": null,
            "justify_items": null,
            "left": null,
            "margin": null,
            "max_height": null,
            "max_width": null,
            "min_height": null,
            "min_width": null,
            "object_fit": null,
            "object_position": null,
            "order": null,
            "overflow": null,
            "overflow_x": null,
            "overflow_y": null,
            "padding": null,
            "right": null,
            "top": null,
            "visibility": null,
            "width": null
          }
        },
        "c3d6ef32b60948f9853c61337a796906": {
          "model_module": "@jupyter-widgets/base",
          "model_name": "LayoutModel",
          "state": {
            "_model_module": "@jupyter-widgets/base",
            "_model_module_version": "1.2.0",
            "_model_name": "LayoutModel",
            "_view_count": null,
            "_view_module": "@jupyter-widgets/base",
            "_view_module_version": "1.2.0",
            "_view_name": "LayoutView",
            "align_content": null,
            "align_items": null,
            "align_self": null,
            "border": null,
            "bottom": null,
            "display": null,
            "flex": null,
            "flex_flow": null,
            "grid_area": null,
            "grid_auto_columns": null,
            "grid_auto_flow": null,
            "grid_auto_rows": null,
            "grid_column": null,
            "grid_gap": null,
            "grid_row": null,
            "grid_template_areas": null,
            "grid_template_columns": null,
            "grid_template_rows": null,
            "height": null,
            "justify_content": null,
            "justify_items": null,
            "left": null,
            "margin": null,
            "max_height": null,
            "max_width": null,
            "min_height": null,
            "min_width": null,
            "object_fit": null,
            "object_position": null,
            "order": null,
            "overflow": null,
            "overflow_x": null,
            "overflow_y": null,
            "padding": null,
            "right": null,
            "top": null,
            "visibility": null,
            "width": null
          }
        },
        "a42391b0b055448da92d642bfbbca34b": {
          "model_module": "@jupyter-widgets/controls",
          "model_name": "ProgressStyleModel",
          "state": {
            "_model_module": "@jupyter-widgets/controls",
            "_model_module_version": "1.5.0",
            "_model_name": "ProgressStyleModel",
            "_view_count": null,
            "_view_module": "@jupyter-widgets/base",
            "_view_module_version": "1.2.0",
            "_view_name": "StyleView",
            "bar_color": null,
            "description_width": "initial"
          }
        },
        "7828b01c25a241e5a2c27c885fd33f1e": {
          "model_module": "@jupyter-widgets/base",
          "model_name": "LayoutModel",
          "state": {
            "_model_module": "@jupyter-widgets/base",
            "_model_module_version": "1.2.0",
            "_model_name": "LayoutModel",
            "_view_count": null,
            "_view_module": "@jupyter-widgets/base",
            "_view_module_version": "1.2.0",
            "_view_name": "LayoutView",
            "align_content": null,
            "align_items": null,
            "align_self": null,
            "border": null,
            "bottom": null,
            "display": null,
            "flex": null,
            "flex_flow": null,
            "grid_area": null,
            "grid_auto_columns": null,
            "grid_auto_flow": null,
            "grid_auto_rows": null,
            "grid_column": null,
            "grid_gap": null,
            "grid_row": null,
            "grid_template_areas": null,
            "grid_template_columns": null,
            "grid_template_rows": null,
            "height": null,
            "justify_content": null,
            "justify_items": null,
            "left": null,
            "margin": null,
            "max_height": null,
            "max_width": null,
            "min_height": null,
            "min_width": null,
            "object_fit": null,
            "object_position": null,
            "order": null,
            "overflow": null,
            "overflow_x": null,
            "overflow_y": null,
            "padding": null,
            "right": null,
            "top": null,
            "visibility": null,
            "width": null
          }
        },
        "e833f67cb1d1443580be67ea24196b83": {
          "model_module": "@jupyter-widgets/controls",
          "model_name": "DescriptionStyleModel",
          "state": {
            "_model_module": "@jupyter-widgets/controls",
            "_model_module_version": "1.5.0",
            "_model_name": "DescriptionStyleModel",
            "_view_count": null,
            "_view_module": "@jupyter-widgets/base",
            "_view_module_version": "1.2.0",
            "_view_name": "StyleView",
            "description_width": ""
          }
        },
        "af0e4c937d4847f38989216a15f0f096": {
          "model_module": "@jupyter-widgets/controls",
          "model_name": "HBoxModel",
          "state": {
            "_dom_classes": [],
            "_model_module": "@jupyter-widgets/controls",
            "_model_module_version": "1.5.0",
            "_model_name": "HBoxModel",
            "_view_count": null,
            "_view_module": "@jupyter-widgets/controls",
            "_view_module_version": "1.5.0",
            "_view_name": "HBoxView",
            "box_style": "",
            "children": [
              "IPY_MODEL_0fde160528564fc89270a8f0d801da15",
              "IPY_MODEL_7bb60c7edcaf4958b889d9a66df3ec1c"
            ],
            "layout": "IPY_MODEL_a808899faf6a42df94982d62dba94776"
          }
        },
        "0fde160528564fc89270a8f0d801da15": {
          "model_module": "@jupyter-widgets/controls",
          "model_name": "FloatProgressModel",
          "state": {
            "_dom_classes": [],
            "_model_module": "@jupyter-widgets/controls",
            "_model_module_version": "1.5.0",
            "_model_name": "FloatProgressModel",
            "_view_count": null,
            "_view_module": "@jupyter-widgets/controls",
            "_view_module_version": "1.5.0",
            "_view_name": "ProgressView",
            "bar_style": "success",
            "description": "100%",
            "description_tooltip": null,
            "layout": "IPY_MODEL_f97a40eb33114658b17dc7732bf33a22",
            "max": 1805,
            "min": 0,
            "orientation": "horizontal",
            "style": "IPY_MODEL_329599e00511495c97d1c0744f4e76a7",
            "value": 1805
          }
        },
        "7bb60c7edcaf4958b889d9a66df3ec1c": {
          "model_module": "@jupyter-widgets/controls",
          "model_name": "HTMLModel",
          "state": {
            "_dom_classes": [],
            "_model_module": "@jupyter-widgets/controls",
            "_model_module_version": "1.5.0",
            "_model_name": "HTMLModel",
            "_view_count": null,
            "_view_module": "@jupyter-widgets/controls",
            "_view_module_version": "1.5.0",
            "_view_name": "HTMLView",
            "description": "",
            "description_tooltip": null,
            "layout": "IPY_MODEL_51f9da7735e34e9fb0b0c3cda9b2f78d",
            "placeholder": "​",
            "style": "IPY_MODEL_76dfbaaa8cb94f6b945bea3d5b1b7d5c",
            "value": " 1805/1805 [12:24&lt;00:00,  2.42it/s]"
          }
        },
        "a808899faf6a42df94982d62dba94776": {
          "model_module": "@jupyter-widgets/base",
          "model_name": "LayoutModel",
          "state": {
            "_model_module": "@jupyter-widgets/base",
            "_model_module_version": "1.2.0",
            "_model_name": "LayoutModel",
            "_view_count": null,
            "_view_module": "@jupyter-widgets/base",
            "_view_module_version": "1.2.0",
            "_view_name": "LayoutView",
            "align_content": null,
            "align_items": null,
            "align_self": null,
            "border": null,
            "bottom": null,
            "display": null,
            "flex": null,
            "flex_flow": null,
            "grid_area": null,
            "grid_auto_columns": null,
            "grid_auto_flow": null,
            "grid_auto_rows": null,
            "grid_column": null,
            "grid_gap": null,
            "grid_row": null,
            "grid_template_areas": null,
            "grid_template_columns": null,
            "grid_template_rows": null,
            "height": null,
            "justify_content": null,
            "justify_items": null,
            "left": null,
            "margin": null,
            "max_height": null,
            "max_width": null,
            "min_height": null,
            "min_width": null,
            "object_fit": null,
            "object_position": null,
            "order": null,
            "overflow": null,
            "overflow_x": null,
            "overflow_y": null,
            "padding": null,
            "right": null,
            "top": null,
            "visibility": null,
            "width": null
          }
        },
        "f97a40eb33114658b17dc7732bf33a22": {
          "model_module": "@jupyter-widgets/base",
          "model_name": "LayoutModel",
          "state": {
            "_model_module": "@jupyter-widgets/base",
            "_model_module_version": "1.2.0",
            "_model_name": "LayoutModel",
            "_view_count": null,
            "_view_module": "@jupyter-widgets/base",
            "_view_module_version": "1.2.0",
            "_view_name": "LayoutView",
            "align_content": null,
            "align_items": null,
            "align_self": null,
            "border": null,
            "bottom": null,
            "display": null,
            "flex": null,
            "flex_flow": null,
            "grid_area": null,
            "grid_auto_columns": null,
            "grid_auto_flow": null,
            "grid_auto_rows": null,
            "grid_column": null,
            "grid_gap": null,
            "grid_row": null,
            "grid_template_areas": null,
            "grid_template_columns": null,
            "grid_template_rows": null,
            "height": null,
            "justify_content": null,
            "justify_items": null,
            "left": null,
            "margin": null,
            "max_height": null,
            "max_width": null,
            "min_height": null,
            "min_width": null,
            "object_fit": null,
            "object_position": null,
            "order": null,
            "overflow": null,
            "overflow_x": null,
            "overflow_y": null,
            "padding": null,
            "right": null,
            "top": null,
            "visibility": null,
            "width": null
          }
        },
        "329599e00511495c97d1c0744f4e76a7": {
          "model_module": "@jupyter-widgets/controls",
          "model_name": "ProgressStyleModel",
          "state": {
            "_model_module": "@jupyter-widgets/controls",
            "_model_module_version": "1.5.0",
            "_model_name": "ProgressStyleModel",
            "_view_count": null,
            "_view_module": "@jupyter-widgets/base",
            "_view_module_version": "1.2.0",
            "_view_name": "StyleView",
            "bar_color": null,
            "description_width": "initial"
          }
        },
        "51f9da7735e34e9fb0b0c3cda9b2f78d": {
          "model_module": "@jupyter-widgets/base",
          "model_name": "LayoutModel",
          "state": {
            "_model_module": "@jupyter-widgets/base",
            "_model_module_version": "1.2.0",
            "_model_name": "LayoutModel",
            "_view_count": null,
            "_view_module": "@jupyter-widgets/base",
            "_view_module_version": "1.2.0",
            "_view_name": "LayoutView",
            "align_content": null,
            "align_items": null,
            "align_self": null,
            "border": null,
            "bottom": null,
            "display": null,
            "flex": null,
            "flex_flow": null,
            "grid_area": null,
            "grid_auto_columns": null,
            "grid_auto_flow": null,
            "grid_auto_rows": null,
            "grid_column": null,
            "grid_gap": null,
            "grid_row": null,
            "grid_template_areas": null,
            "grid_template_columns": null,
            "grid_template_rows": null,
            "height": null,
            "justify_content": null,
            "justify_items": null,
            "left": null,
            "margin": null,
            "max_height": null,
            "max_width": null,
            "min_height": null,
            "min_width": null,
            "object_fit": null,
            "object_position": null,
            "order": null,
            "overflow": null,
            "overflow_x": null,
            "overflow_y": null,
            "padding": null,
            "right": null,
            "top": null,
            "visibility": null,
            "width": null
          }
        },
        "76dfbaaa8cb94f6b945bea3d5b1b7d5c": {
          "model_module": "@jupyter-widgets/controls",
          "model_name": "DescriptionStyleModel",
          "state": {
            "_model_module": "@jupyter-widgets/controls",
            "_model_module_version": "1.5.0",
            "_model_name": "DescriptionStyleModel",
            "_view_count": null,
            "_view_module": "@jupyter-widgets/base",
            "_view_module_version": "1.2.0",
            "_view_name": "StyleView",
            "description_width": ""
          }
        },
        "e8fa2a18bfbf4a09adf9af6961548bef": {
          "model_module": "@jupyter-widgets/controls",
          "model_name": "HBoxModel",
          "state": {
            "_dom_classes": [],
            "_model_module": "@jupyter-widgets/controls",
            "_model_module_version": "1.5.0",
            "_model_name": "HBoxModel",
            "_view_count": null,
            "_view_module": "@jupyter-widgets/controls",
            "_view_module_version": "1.5.0",
            "_view_name": "HBoxView",
            "box_style": "",
            "children": [
              "IPY_MODEL_a260f18669f34ed68f8f71a8ea42d9e0",
              "IPY_MODEL_82adb1f84c6849ec8aa944c0f410b822"
            ],
            "layout": "IPY_MODEL_f471159533fa4565a98d38a5f7de0eb3"
          }
        },
        "a260f18669f34ed68f8f71a8ea42d9e0": {
          "model_module": "@jupyter-widgets/controls",
          "model_name": "FloatProgressModel",
          "state": {
            "_dom_classes": [],
            "_model_module": "@jupyter-widgets/controls",
            "_model_module_version": "1.5.0",
            "_model_name": "FloatProgressModel",
            "_view_count": null,
            "_view_module": "@jupyter-widgets/controls",
            "_view_module_version": "1.5.0",
            "_view_name": "ProgressView",
            "bar_style": "success",
            "description": "100%",
            "description_tooltip": null,
            "layout": "IPY_MODEL_3cacce9db38244689daff2745b2c0886",
            "max": 1805,
            "min": 0,
            "orientation": "horizontal",
            "style": "IPY_MODEL_df699e4571fe4c4789329d657ca1d506",
            "value": 1805
          }
        },
        "82adb1f84c6849ec8aa944c0f410b822": {
          "model_module": "@jupyter-widgets/controls",
          "model_name": "HTMLModel",
          "state": {
            "_dom_classes": [],
            "_model_module": "@jupyter-widgets/controls",
            "_model_module_version": "1.5.0",
            "_model_name": "HTMLModel",
            "_view_count": null,
            "_view_module": "@jupyter-widgets/controls",
            "_view_module_version": "1.5.0",
            "_view_name": "HTMLView",
            "description": "",
            "description_tooltip": null,
            "layout": "IPY_MODEL_00fa2a93db444b58a82d14eef419c6e8",
            "placeholder": "​",
            "style": "IPY_MODEL_43210ff33cfe4191bedfe5f7f8675ee5",
            "value": " 1805/1805 [12:19&lt;00:00,  2.44it/s]"
          }
        },
        "f471159533fa4565a98d38a5f7de0eb3": {
          "model_module": "@jupyter-widgets/base",
          "model_name": "LayoutModel",
          "state": {
            "_model_module": "@jupyter-widgets/base",
            "_model_module_version": "1.2.0",
            "_model_name": "LayoutModel",
            "_view_count": null,
            "_view_module": "@jupyter-widgets/base",
            "_view_module_version": "1.2.0",
            "_view_name": "LayoutView",
            "align_content": null,
            "align_items": null,
            "align_self": null,
            "border": null,
            "bottom": null,
            "display": null,
            "flex": null,
            "flex_flow": null,
            "grid_area": null,
            "grid_auto_columns": null,
            "grid_auto_flow": null,
            "grid_auto_rows": null,
            "grid_column": null,
            "grid_gap": null,
            "grid_row": null,
            "grid_template_areas": null,
            "grid_template_columns": null,
            "grid_template_rows": null,
            "height": null,
            "justify_content": null,
            "justify_items": null,
            "left": null,
            "margin": null,
            "max_height": null,
            "max_width": null,
            "min_height": null,
            "min_width": null,
            "object_fit": null,
            "object_position": null,
            "order": null,
            "overflow": null,
            "overflow_x": null,
            "overflow_y": null,
            "padding": null,
            "right": null,
            "top": null,
            "visibility": null,
            "width": null
          }
        },
        "3cacce9db38244689daff2745b2c0886": {
          "model_module": "@jupyter-widgets/base",
          "model_name": "LayoutModel",
          "state": {
            "_model_module": "@jupyter-widgets/base",
            "_model_module_version": "1.2.0",
            "_model_name": "LayoutModel",
            "_view_count": null,
            "_view_module": "@jupyter-widgets/base",
            "_view_module_version": "1.2.0",
            "_view_name": "LayoutView",
            "align_content": null,
            "align_items": null,
            "align_self": null,
            "border": null,
            "bottom": null,
            "display": null,
            "flex": null,
            "flex_flow": null,
            "grid_area": null,
            "grid_auto_columns": null,
            "grid_auto_flow": null,
            "grid_auto_rows": null,
            "grid_column": null,
            "grid_gap": null,
            "grid_row": null,
            "grid_template_areas": null,
            "grid_template_columns": null,
            "grid_template_rows": null,
            "height": null,
            "justify_content": null,
            "justify_items": null,
            "left": null,
            "margin": null,
            "max_height": null,
            "max_width": null,
            "min_height": null,
            "min_width": null,
            "object_fit": null,
            "object_position": null,
            "order": null,
            "overflow": null,
            "overflow_x": null,
            "overflow_y": null,
            "padding": null,
            "right": null,
            "top": null,
            "visibility": null,
            "width": null
          }
        },
        "df699e4571fe4c4789329d657ca1d506": {
          "model_module": "@jupyter-widgets/controls",
          "model_name": "ProgressStyleModel",
          "state": {
            "_model_module": "@jupyter-widgets/controls",
            "_model_module_version": "1.5.0",
            "_model_name": "ProgressStyleModel",
            "_view_count": null,
            "_view_module": "@jupyter-widgets/base",
            "_view_module_version": "1.2.0",
            "_view_name": "StyleView",
            "bar_color": null,
            "description_width": "initial"
          }
        },
        "00fa2a93db444b58a82d14eef419c6e8": {
          "model_module": "@jupyter-widgets/base",
          "model_name": "LayoutModel",
          "state": {
            "_model_module": "@jupyter-widgets/base",
            "_model_module_version": "1.2.0",
            "_model_name": "LayoutModel",
            "_view_count": null,
            "_view_module": "@jupyter-widgets/base",
            "_view_module_version": "1.2.0",
            "_view_name": "LayoutView",
            "align_content": null,
            "align_items": null,
            "align_self": null,
            "border": null,
            "bottom": null,
            "display": null,
            "flex": null,
            "flex_flow": null,
            "grid_area": null,
            "grid_auto_columns": null,
            "grid_auto_flow": null,
            "grid_auto_rows": null,
            "grid_column": null,
            "grid_gap": null,
            "grid_row": null,
            "grid_template_areas": null,
            "grid_template_columns": null,
            "grid_template_rows": null,
            "height": null,
            "justify_content": null,
            "justify_items": null,
            "left": null,
            "margin": null,
            "max_height": null,
            "max_width": null,
            "min_height": null,
            "min_width": null,
            "object_fit": null,
            "object_position": null,
            "order": null,
            "overflow": null,
            "overflow_x": null,
            "overflow_y": null,
            "padding": null,
            "right": null,
            "top": null,
            "visibility": null,
            "width": null
          }
        },
        "43210ff33cfe4191bedfe5f7f8675ee5": {
          "model_module": "@jupyter-widgets/controls",
          "model_name": "DescriptionStyleModel",
          "state": {
            "_model_module": "@jupyter-widgets/controls",
            "_model_module_version": "1.5.0",
            "_model_name": "DescriptionStyleModel",
            "_view_count": null,
            "_view_module": "@jupyter-widgets/base",
            "_view_module_version": "1.2.0",
            "_view_name": "StyleView",
            "description_width": ""
          }
        },
        "2ce4460ac31c46d3891e530f0fa4d2e4": {
          "model_module": "@jupyter-widgets/controls",
          "model_name": "HBoxModel",
          "state": {
            "_dom_classes": [],
            "_model_module": "@jupyter-widgets/controls",
            "_model_module_version": "1.5.0",
            "_model_name": "HBoxModel",
            "_view_count": null,
            "_view_module": "@jupyter-widgets/controls",
            "_view_module_version": "1.5.0",
            "_view_name": "HBoxView",
            "box_style": "",
            "children": [
              "IPY_MODEL_1d4691e4f45748448d7b20605e62a626",
              "IPY_MODEL_4b74628564f84967b5e5e1087e6277ad"
            ],
            "layout": "IPY_MODEL_b29e0d86a36a4458bc52cc525280e491"
          }
        },
        "1d4691e4f45748448d7b20605e62a626": {
          "model_module": "@jupyter-widgets/controls",
          "model_name": "FloatProgressModel",
          "state": {
            "_dom_classes": [],
            "_model_module": "@jupyter-widgets/controls",
            "_model_module_version": "1.5.0",
            "_model_name": "FloatProgressModel",
            "_view_count": null,
            "_view_module": "@jupyter-widgets/controls",
            "_view_module_version": "1.5.0",
            "_view_name": "ProgressView",
            "bar_style": "success",
            "description": "100%",
            "description_tooltip": null,
            "layout": "IPY_MODEL_1319be764fdb456f804b419a807fcf20",
            "max": 1805,
            "min": 0,
            "orientation": "horizontal",
            "style": "IPY_MODEL_bad45b4a08254a1e834450a0b4e1f64b",
            "value": 1805
          }
        },
        "4b74628564f84967b5e5e1087e6277ad": {
          "model_module": "@jupyter-widgets/controls",
          "model_name": "HTMLModel",
          "state": {
            "_dom_classes": [],
            "_model_module": "@jupyter-widgets/controls",
            "_model_module_version": "1.5.0",
            "_model_name": "HTMLModel",
            "_view_count": null,
            "_view_module": "@jupyter-widgets/controls",
            "_view_module_version": "1.5.0",
            "_view_name": "HTMLView",
            "description": "",
            "description_tooltip": null,
            "layout": "IPY_MODEL_189c9b32c9124267a98034bae0e263db",
            "placeholder": "​",
            "style": "IPY_MODEL_c76c0cc93ab347e8b52d08689748eb85",
            "value": " 1805/1805 [12:13&lt;00:00,  2.46it/s]"
          }
        },
        "b29e0d86a36a4458bc52cc525280e491": {
          "model_module": "@jupyter-widgets/base",
          "model_name": "LayoutModel",
          "state": {
            "_model_module": "@jupyter-widgets/base",
            "_model_module_version": "1.2.0",
            "_model_name": "LayoutModel",
            "_view_count": null,
            "_view_module": "@jupyter-widgets/base",
            "_view_module_version": "1.2.0",
            "_view_name": "LayoutView",
            "align_content": null,
            "align_items": null,
            "align_self": null,
            "border": null,
            "bottom": null,
            "display": null,
            "flex": null,
            "flex_flow": null,
            "grid_area": null,
            "grid_auto_columns": null,
            "grid_auto_flow": null,
            "grid_auto_rows": null,
            "grid_column": null,
            "grid_gap": null,
            "grid_row": null,
            "grid_template_areas": null,
            "grid_template_columns": null,
            "grid_template_rows": null,
            "height": null,
            "justify_content": null,
            "justify_items": null,
            "left": null,
            "margin": null,
            "max_height": null,
            "max_width": null,
            "min_height": null,
            "min_width": null,
            "object_fit": null,
            "object_position": null,
            "order": null,
            "overflow": null,
            "overflow_x": null,
            "overflow_y": null,
            "padding": null,
            "right": null,
            "top": null,
            "visibility": null,
            "width": null
          }
        },
        "1319be764fdb456f804b419a807fcf20": {
          "model_module": "@jupyter-widgets/base",
          "model_name": "LayoutModel",
          "state": {
            "_model_module": "@jupyter-widgets/base",
            "_model_module_version": "1.2.0",
            "_model_name": "LayoutModel",
            "_view_count": null,
            "_view_module": "@jupyter-widgets/base",
            "_view_module_version": "1.2.0",
            "_view_name": "LayoutView",
            "align_content": null,
            "align_items": null,
            "align_self": null,
            "border": null,
            "bottom": null,
            "display": null,
            "flex": null,
            "flex_flow": null,
            "grid_area": null,
            "grid_auto_columns": null,
            "grid_auto_flow": null,
            "grid_auto_rows": null,
            "grid_column": null,
            "grid_gap": null,
            "grid_row": null,
            "grid_template_areas": null,
            "grid_template_columns": null,
            "grid_template_rows": null,
            "height": null,
            "justify_content": null,
            "justify_items": null,
            "left": null,
            "margin": null,
            "max_height": null,
            "max_width": null,
            "min_height": null,
            "min_width": null,
            "object_fit": null,
            "object_position": null,
            "order": null,
            "overflow": null,
            "overflow_x": null,
            "overflow_y": null,
            "padding": null,
            "right": null,
            "top": null,
            "visibility": null,
            "width": null
          }
        },
        "bad45b4a08254a1e834450a0b4e1f64b": {
          "model_module": "@jupyter-widgets/controls",
          "model_name": "ProgressStyleModel",
          "state": {
            "_model_module": "@jupyter-widgets/controls",
            "_model_module_version": "1.5.0",
            "_model_name": "ProgressStyleModel",
            "_view_count": null,
            "_view_module": "@jupyter-widgets/base",
            "_view_module_version": "1.2.0",
            "_view_name": "StyleView",
            "bar_color": null,
            "description_width": "initial"
          }
        },
        "189c9b32c9124267a98034bae0e263db": {
          "model_module": "@jupyter-widgets/base",
          "model_name": "LayoutModel",
          "state": {
            "_model_module": "@jupyter-widgets/base",
            "_model_module_version": "1.2.0",
            "_model_name": "LayoutModel",
            "_view_count": null,
            "_view_module": "@jupyter-widgets/base",
            "_view_module_version": "1.2.0",
            "_view_name": "LayoutView",
            "align_content": null,
            "align_items": null,
            "align_self": null,
            "border": null,
            "bottom": null,
            "display": null,
            "flex": null,
            "flex_flow": null,
            "grid_area": null,
            "grid_auto_columns": null,
            "grid_auto_flow": null,
            "grid_auto_rows": null,
            "grid_column": null,
            "grid_gap": null,
            "grid_row": null,
            "grid_template_areas": null,
            "grid_template_columns": null,
            "grid_template_rows": null,
            "height": null,
            "justify_content": null,
            "justify_items": null,
            "left": null,
            "margin": null,
            "max_height": null,
            "max_width": null,
            "min_height": null,
            "min_width": null,
            "object_fit": null,
            "object_position": null,
            "order": null,
            "overflow": null,
            "overflow_x": null,
            "overflow_y": null,
            "padding": null,
            "right": null,
            "top": null,
            "visibility": null,
            "width": null
          }
        },
        "c76c0cc93ab347e8b52d08689748eb85": {
          "model_module": "@jupyter-widgets/controls",
          "model_name": "DescriptionStyleModel",
          "state": {
            "_model_module": "@jupyter-widgets/controls",
            "_model_module_version": "1.5.0",
            "_model_name": "DescriptionStyleModel",
            "_view_count": null,
            "_view_module": "@jupyter-widgets/base",
            "_view_module_version": "1.2.0",
            "_view_name": "StyleView",
            "description_width": ""
          }
        },
        "2f04ad348acb45409b1aa1258a693828": {
          "model_module": "@jupyter-widgets/controls",
          "model_name": "HBoxModel",
          "state": {
            "_dom_classes": [],
            "_model_module": "@jupyter-widgets/controls",
            "_model_module_version": "1.5.0",
            "_model_name": "HBoxModel",
            "_view_count": null,
            "_view_module": "@jupyter-widgets/controls",
            "_view_module_version": "1.5.0",
            "_view_name": "HBoxView",
            "box_style": "",
            "children": [
              "IPY_MODEL_56ad9e688a9849e881b2be29362bac0c",
              "IPY_MODEL_49068ed6f6d54710a0867aae1c38177d"
            ],
            "layout": "IPY_MODEL_0fa67b6d0f0448d8a88b8fbc5ba83b3a"
          }
        },
        "56ad9e688a9849e881b2be29362bac0c": {
          "model_module": "@jupyter-widgets/controls",
          "model_name": "FloatProgressModel",
          "state": {
            "_dom_classes": [],
            "_model_module": "@jupyter-widgets/controls",
            "_model_module_version": "1.5.0",
            "_model_name": "FloatProgressModel",
            "_view_count": null,
            "_view_module": "@jupyter-widgets/controls",
            "_view_module_version": "1.5.0",
            "_view_name": "ProgressView",
            "bar_style": "",
            "description": " 31%",
            "description_tooltip": null,
            "layout": "IPY_MODEL_4c78835dcbdb4b929db8473875b00052",
            "max": 1805,
            "min": 0,
            "orientation": "horizontal",
            "style": "IPY_MODEL_926091c5ad874d978fd407fe4b15caf9",
            "value": 557
          }
        },
        "49068ed6f6d54710a0867aae1c38177d": {
          "model_module": "@jupyter-widgets/controls",
          "model_name": "HTMLModel",
          "state": {
            "_dom_classes": [],
            "_model_module": "@jupyter-widgets/controls",
            "_model_module_version": "1.5.0",
            "_model_name": "HTMLModel",
            "_view_count": null,
            "_view_module": "@jupyter-widgets/controls",
            "_view_module_version": "1.5.0",
            "_view_name": "HTMLView",
            "description": "",
            "description_tooltip": null,
            "layout": "IPY_MODEL_fc610f26cd3b46b48d48e2816bcd198b",
            "placeholder": "​",
            "style": "IPY_MODEL_c4520ad6d4cf40319881e4a0bc9c3918",
            "value": " 557/1805 [03:42&lt;07:58,  2.61it/s]"
          }
        },
        "0fa67b6d0f0448d8a88b8fbc5ba83b3a": {
          "model_module": "@jupyter-widgets/base",
          "model_name": "LayoutModel",
          "state": {
            "_model_module": "@jupyter-widgets/base",
            "_model_module_version": "1.2.0",
            "_model_name": "LayoutModel",
            "_view_count": null,
            "_view_module": "@jupyter-widgets/base",
            "_view_module_version": "1.2.0",
            "_view_name": "LayoutView",
            "align_content": null,
            "align_items": null,
            "align_self": null,
            "border": null,
            "bottom": null,
            "display": null,
            "flex": null,
            "flex_flow": null,
            "grid_area": null,
            "grid_auto_columns": null,
            "grid_auto_flow": null,
            "grid_auto_rows": null,
            "grid_column": null,
            "grid_gap": null,
            "grid_row": null,
            "grid_template_areas": null,
            "grid_template_columns": null,
            "grid_template_rows": null,
            "height": null,
            "justify_content": null,
            "justify_items": null,
            "left": null,
            "margin": null,
            "max_height": null,
            "max_width": null,
            "min_height": null,
            "min_width": null,
            "object_fit": null,
            "object_position": null,
            "order": null,
            "overflow": null,
            "overflow_x": null,
            "overflow_y": null,
            "padding": null,
            "right": null,
            "top": null,
            "visibility": null,
            "width": null
          }
        },
        "4c78835dcbdb4b929db8473875b00052": {
          "model_module": "@jupyter-widgets/base",
          "model_name": "LayoutModel",
          "state": {
            "_model_module": "@jupyter-widgets/base",
            "_model_module_version": "1.2.0",
            "_model_name": "LayoutModel",
            "_view_count": null,
            "_view_module": "@jupyter-widgets/base",
            "_view_module_version": "1.2.0",
            "_view_name": "LayoutView",
            "align_content": null,
            "align_items": null,
            "align_self": null,
            "border": null,
            "bottom": null,
            "display": null,
            "flex": null,
            "flex_flow": null,
            "grid_area": null,
            "grid_auto_columns": null,
            "grid_auto_flow": null,
            "grid_auto_rows": null,
            "grid_column": null,
            "grid_gap": null,
            "grid_row": null,
            "grid_template_areas": null,
            "grid_template_columns": null,
            "grid_template_rows": null,
            "height": null,
            "justify_content": null,
            "justify_items": null,
            "left": null,
            "margin": null,
            "max_height": null,
            "max_width": null,
            "min_height": null,
            "min_width": null,
            "object_fit": null,
            "object_position": null,
            "order": null,
            "overflow": null,
            "overflow_x": null,
            "overflow_y": null,
            "padding": null,
            "right": null,
            "top": null,
            "visibility": null,
            "width": null
          }
        },
        "926091c5ad874d978fd407fe4b15caf9": {
          "model_module": "@jupyter-widgets/controls",
          "model_name": "ProgressStyleModel",
          "state": {
            "_model_module": "@jupyter-widgets/controls",
            "_model_module_version": "1.5.0",
            "_model_name": "ProgressStyleModel",
            "_view_count": null,
            "_view_module": "@jupyter-widgets/base",
            "_view_module_version": "1.2.0",
            "_view_name": "StyleView",
            "bar_color": null,
            "description_width": "initial"
          }
        },
        "fc610f26cd3b46b48d48e2816bcd198b": {
          "model_module": "@jupyter-widgets/base",
          "model_name": "LayoutModel",
          "state": {
            "_model_module": "@jupyter-widgets/base",
            "_model_module_version": "1.2.0",
            "_model_name": "LayoutModel",
            "_view_count": null,
            "_view_module": "@jupyter-widgets/base",
            "_view_module_version": "1.2.0",
            "_view_name": "LayoutView",
            "align_content": null,
            "align_items": null,
            "align_self": null,
            "border": null,
            "bottom": null,
            "display": null,
            "flex": null,
            "flex_flow": null,
            "grid_area": null,
            "grid_auto_columns": null,
            "grid_auto_flow": null,
            "grid_auto_rows": null,
            "grid_column": null,
            "grid_gap": null,
            "grid_row": null,
            "grid_template_areas": null,
            "grid_template_columns": null,
            "grid_template_rows": null,
            "height": null,
            "justify_content": null,
            "justify_items": null,
            "left": null,
            "margin": null,
            "max_height": null,
            "max_width": null,
            "min_height": null,
            "min_width": null,
            "object_fit": null,
            "object_position": null,
            "order": null,
            "overflow": null,
            "overflow_x": null,
            "overflow_y": null,
            "padding": null,
            "right": null,
            "top": null,
            "visibility": null,
            "width": null
          }
        },
        "c4520ad6d4cf40319881e4a0bc9c3918": {
          "model_module": "@jupyter-widgets/controls",
          "model_name": "DescriptionStyleModel",
          "state": {
            "_model_module": "@jupyter-widgets/controls",
            "_model_module_version": "1.5.0",
            "_model_name": "DescriptionStyleModel",
            "_view_count": null,
            "_view_module": "@jupyter-widgets/base",
            "_view_module_version": "1.2.0",
            "_view_name": "StyleView",
            "description_width": ""
          }
        }
      }
    }
  },
  "cells": [
    {
      "cell_type": "markdown",
      "metadata": {
        "id": "n-LrC0cb76zb"
      },
      "source": [
        "\n",
        "# Fall 2020: DS-GA 1011 NLP with Representation Learning\n",
        "## Homework 2\n",
        "## Part 3: Neural Machine Translation (30 pts)\n",
        "In this part, you implement Transformer encoder for Neural Machine Translation (NMT) using a sequence to sequence (seq2seq) model for English to French translation with PyTorch."
      ]
    },
    {
      "cell_type": "markdown",
      "metadata": {
        "id": "MDO3aEr476ze"
      },
      "source": [
        "---\n",
        "### 1 Transformer Encoder (18 pts)"
      ]
    },
    {
      "cell_type": "code",
      "metadata": {
        "id": "WRzu7mGD8RUz",
        "colab": {
          "base_uri": "https://localhost:8080/"
        },
        "outputId": "a682fb9c-4e2b-472f-b2e4-07c0b5f0c1e6"
      },
      "source": [
        "# For colab users\n",
        "from google.colab import drive\n",
        "drive.mount('/content/drive')"
      ],
      "execution_count": 1,
      "outputs": [
        {
          "output_type": "stream",
          "text": [
            "Mounted at /content/drive\n"
          ],
          "name": "stdout"
        }
      ]
    },
    {
      "cell_type": "code",
      "metadata": {
        "id": "Ord8RNWL8Vvh",
        "colab": {
          "base_uri": "https://localhost:8080/"
        },
        "outputId": "89635286-c947-4877-cd51-33a7ecb02f73"
      },
      "source": [
        "cd /content/drive/My Drive/2020.1011/HW/HW2/Answer/answer-part3/"
      ],
      "execution_count": 2,
      "outputs": [
        {
          "output_type": "stream",
          "text": [
            "/content/drive/.shortcut-targets-by-id/1lw8YIdTE5p10TT6vMJ--f5lc1ycU0hJv/2020.1011/HW/HW2/Answer/answer-part3\n"
          ],
          "name": "stdout"
        }
      ]
    },
    {
      "cell_type": "code",
      "metadata": {
        "id": "UKeLnMEg76zv"
      },
      "source": [
        "relative_path = './'"
      ],
      "execution_count": 3,
      "outputs": []
    },
    {
      "cell_type": "code",
      "metadata": {
        "id": "TrzhRs8y760A",
        "colab": {
          "base_uri": "https://localhost:8080/"
        },
        "outputId": "708ad35f-ede8-4f29-b749-e03741f76e03"
      },
      "source": [
        "# Add utilities path\n",
        "import sys\n",
        "\n",
        "path_to_utils = relative_path + 'pyfiles'\n",
        "sys.path.append(path_to_utils)\n",
        "sys.path"
      ],
      "execution_count": 4,
      "outputs": [
        {
          "output_type": "execute_result",
          "data": {
            "text/plain": [
              "['',\n",
              " '/env/python',\n",
              " '/usr/lib/python36.zip',\n",
              " '/usr/lib/python3.6',\n",
              " '/usr/lib/python3.6/lib-dynload',\n",
              " '/usr/local/lib/python3.6/dist-packages',\n",
              " '/usr/lib/python3/dist-packages',\n",
              " '/usr/local/lib/python3.6/dist-packages/IPython/extensions',\n",
              " '/root/.ipython',\n",
              " './pyfiles']"
            ]
          },
          "metadata": {
            "tags": []
          },
          "execution_count": 4
        }
      ]
    },
    {
      "cell_type": "code",
      "metadata": {
        "id": "XHTftD39760P",
        "colab": {
          "base_uri": "https://localhost:8080/"
        },
        "outputId": "4b801589-ac8b-43a5-fdd1-bb34511923cb"
      },
      "source": [
        "# Import custom modules\n",
        "import global_variables\n",
        "import nmt_dataset\n",
        "import nnet_models_new\n",
        "\n",
        "global_variables.device"
      ],
      "execution_count": 5,
      "outputs": [
        {
          "output_type": "execute_result",
          "data": {
            "text/plain": [
              "device(type='cuda')"
            ]
          },
          "metadata": {
            "tags": []
          },
          "execution_count": 5
        }
      ]
    },
    {
      "cell_type": "code",
      "metadata": {
        "id": "NRmbTelD83k2",
        "colab": {
          "base_uri": "https://localhost:8080/",
          "height": 37
        },
        "outputId": "886fe20a-67dd-4a4d-df55-2c02e3f27bab"
      },
      "source": [
        "import torch\n",
        "\n",
        "torch.__version__"
      ],
      "execution_count": 6,
      "outputs": [
        {
          "output_type": "execute_result",
          "data": {
            "application/vnd.google.colaboratory.intrinsic+json": {
              "type": "string"
            },
            "text/plain": [
              "'1.7.0+cu101'"
            ]
          },
          "metadata": {
            "tags": []
          },
          "execution_count": 6
        }
      ]
    },
    {
      "cell_type": "code",
      "metadata": {
        "id": "5ERHeXeI760k"
      },
      "source": [
        "# Load data\n",
        "import os\n",
        "\n",
        "source_name = 'en'\n",
        "target_name = 'fr'\n",
        "\n",
        "base_saved_models_dir = relative_path+'.'\n",
        "saved_models_dir = os.path.join(base_saved_models_dir, source_name+'2'+target_name)\n",
        "\n",
        "main_data_path = relative_path+'./data/'\n",
        "\n",
        "path_to_train_data = {'source':main_data_path+'train.'+source_name, \n",
        "                      'target':main_data_path+'train.'+target_name}\n",
        "path_to_val_data = {'source': main_data_path+'valid.'+source_name, \n",
        "                      'target':main_data_path+'valid.'+target_name}"
      ],
      "execution_count": 7,
      "outputs": []
    },
    {
      "cell_type": "code",
      "metadata": {
        "id": "iI5UywzF760s"
      },
      "source": [
        "saved_language_model_dir = os.path.join(saved_models_dir, 'lang_obj')\n",
        "\n",
        "dataset_dict = {'train': nmt_dataset.LanguagePair(source_name = source_name, target_name=target_name, \n",
        "                    filepath = path_to_train_data, \n",
        "                    lang_obj_path = saved_language_model_dir,\n",
        "                     minimum_count = 1), \n",
        "\n",
        "                'val': nmt_dataset.LanguagePair(source_name = source_name, target_name=target_name, \n",
        "                    filepath = path_to_val_data, \n",
        "                    lang_obj_path = saved_language_model_dir,\n",
        "                    minimum_count = 1)}"
      ],
      "execution_count": 8,
      "outputs": []
    },
    {
      "cell_type": "code",
      "metadata": {
        "id": "hxLd1rxB760z"
      },
      "source": [
        "MAX_LEN = int(dataset_dict['train'].main_df['source_len'].quantile(0.9999))\n",
        "batchSize = 64"
      ],
      "execution_count": 9,
      "outputs": []
    },
    {
      "cell_type": "code",
      "metadata": {
        "id": "k0V_-cf07603"
      },
      "source": [
        "from functools import partial\n",
        "from torch.utils.data import DataLoader\n",
        "\n",
        "dataloader_dict = {'train': DataLoader(dataset_dict['train'], batch_size = batchSize, \n",
        "                            collate_fn = partial(nmt_dataset.vocab_collate_func, MAX_LEN=MAX_LEN),\n",
        "                            shuffle = True, num_workers=0), \n",
        "                    'val': DataLoader(dataset_dict['val'], batch_size = batchSize, \n",
        "                            collate_fn = partial(nmt_dataset.vocab_collate_func, MAX_LEN=MAX_LEN),\n",
        "                            shuffle = True, num_workers=0) }"
      ],
      "execution_count": 10,
      "outputs": []
    },
    {
      "cell_type": "code",
      "metadata": {
        "id": "yZvYQTUA7605"
      },
      "source": [
        "# Configuration\n",
        "source_lang_obj = dataset_dict['train'].source_lang_obj\n",
        "target_lang_obj = dataset_dict['train'].target_lang_obj\n",
        "\n",
        "source_vocab = dataset_dict['train'].source_lang_obj.n_words;\n",
        "target_vocab = dataset_dict['train'].target_lang_obj.n_words;\n",
        "hidden_size = 512\n",
        "enc_layers = 1\n",
        "lr = 0.025;\n",
        "longest_label = 1;\n",
        "gradient_clip = 0.3;\n",
        "use_cuda = True\n",
        "\n",
        "num_epochs = 20"
      ],
      "execution_count": 11,
      "outputs": []
    },
    {
      "cell_type": "markdown",
      "metadata": {
        "id": "LzdmFqZY760-"
      },
      "source": [
        "#### 1.1 Encoder (9 pts)"
      ]
    },
    {
      "cell_type": "markdown",
      "metadata": {
        "id": "AQLYPSuxsiIo"
      },
      "source": [
        "Positional Encoding reference:\n",
        "\n",
        "> [The Annotated Transformer](https://nlp.seas.harvard.edu/2018/04/03/attention.html)\n",
        "\n",
        "> [SEQUENCE-TO-SEQUENCE MODELING WITH NN.TRANSFORMER AND TORCHTEXT](https://pytorch.org/tutorials/beginner/transformer_tutorial.html)"
      ]
    },
    {
      "cell_type": "code",
      "metadata": {
        "id": "MMGMFRxt760-"
      },
      "source": [
        "import torch.nn as nn\n",
        "from torch.autograd import Variable\n",
        "\n",
        "class PositionalEncoding(nn.Module):\n",
        "    \"Implement the PE function.\"\n",
        "    def __init__(self, d_model, dropout=0.0, max_len=5000):\n",
        "        super(PositionalEncoding, self).__init__()\n",
        "        self.dropout = nn.Dropout(p=dropout)\n",
        "        \n",
        "        # Compute the positional encodings once in log space.\n",
        "        pe = torch.zeros(max_len, d_model)\n",
        "        position = torch.arange(0.0, max_len).unsqueeze(1)\n",
        "        div_term = torch.exp(torch.arange(0.0, d_model, 2) *\n",
        "                             -(math.log(10000.0) / d_model))\n",
        "        pe[:, 0::2] = torch.sin(position * div_term)\n",
        "        pe[:, 1::2] = torch.cos(position * div_term)\n",
        "        pe = pe.unsqueeze(0)\n",
        "        self.register_buffer('pe', pe)\n",
        "        \n",
        "    def forward(self, x):\n",
        "        # print(x.size(), x.dtype)\n",
        "        x = x + Variable(self.pe[:, :x.size(1)], \n",
        "                         requires_grad=False)\n",
        "        # print(x.dtype)\n",
        "        return self.dropout(x)"
      ],
      "execution_count": 12,
      "outputs": []
    },
    {
      "cell_type": "markdown",
      "metadata": {
        "id": "bDDslJYGsLOz"
      },
      "source": [
        "cf.\n",
        "\n",
        "> `register_buffer`: Adds a buffer to the module that should not to be considered a model parameter. \n",
        "\n",
        "> `Variable`: This class was used to create tensors that support gradient calculations and operation tracking. Deprecated from v0.4.0, and merged with `torch.Tensor`"
      ]
    },
    {
      "cell_type": "code",
      "metadata": {
        "id": "r_UgEqix761B"
      },
      "source": [
        "import math\n",
        "\n",
        "class EncoderTransformer(nn.Module):\n",
        "    def __init__(self, vocab_size, max_len, dim=8, num_layers=1, nhead=2, dropout=0.0):\n",
        "        super().__init__()\n",
        "        self.token_embed = nn.Embedding(vocab_size, dim)\n",
        "        self.position_embed = PositionalEncoding(d_model=dim, dropout=dropout, max_len=max_len)\n",
        "        encoder_layer = nn.TransformerEncoderLayer(d_model=dim, nhead=nhead, dim_feedforward=64, dropout=dropout)\n",
        "        self.encoder = nn.TransformerEncoder(encoder_layer, num_layers=num_layers)\n",
        "        # self.projection = nn.Linear(dim, vocab_size)\n",
        "    \n",
        "    def features(self, token_indices):\n",
        "        # pos = torch.arange(len(token_indices), device=token_indices.device).unsqueeze(1)\n",
        "        x = self.token_embed(token_indices)\n",
        "        x = self.position_embed(x).transpose(0,1)\n",
        "        x = self.encoder(x)\n",
        "        return x\n",
        "    \n",
        "    def forward(self, token_indices):\n",
        "        x = self.features(token_indices) #length x batch x dim\n",
        "        # x = self.projection(x)\n",
        "        return x.transpose(0,1), x.sum(dim=0, keepdim=True)"
      ],
      "execution_count": 13,
      "outputs": []
    },
    {
      "cell_type": "code",
      "metadata": {
        "id": "8_HwGlpc761V",
        "colab": {
          "base_uri": "https://localhost:8080/"
        },
        "outputId": "d2177f37-23a5-4fd7-9e51-4f2ae46b176d"
      },
      "source": [
        "encoder_transformer = EncoderTransformer(vocab_size=source_vocab, max_len=MAX_LEN, dim=hidden_size, num_layers=enc_layers, nhead=2, dropout=0.1)\n",
        "encoder_transformer"
      ],
      "execution_count": 14,
      "outputs": [
        {
          "output_type": "execute_result",
          "data": {
            "text/plain": [
              "EncoderTransformer(\n",
              "  (token_embed): Embedding(12392, 512)\n",
              "  (position_embed): PositionalEncoding(\n",
              "    (dropout): Dropout(p=0.1, inplace=False)\n",
              "  )\n",
              "  (encoder): TransformerEncoder(\n",
              "    (layers): ModuleList(\n",
              "      (0): TransformerEncoderLayer(\n",
              "        (self_attn): MultiheadAttention(\n",
              "          (out_proj): _LinearWithBias(in_features=512, out_features=512, bias=True)\n",
              "        )\n",
              "        (linear1): Linear(in_features=512, out_features=64, bias=True)\n",
              "        (dropout): Dropout(p=0.1, inplace=False)\n",
              "        (linear2): Linear(in_features=64, out_features=512, bias=True)\n",
              "        (norm1): LayerNorm((512,), eps=1e-05, elementwise_affine=True)\n",
              "        (norm2): LayerNorm((512,), eps=1e-05, elementwise_affine=True)\n",
              "        (dropout1): Dropout(p=0.1, inplace=False)\n",
              "        (dropout2): Dropout(p=0.1, inplace=False)\n",
              "      )\n",
              "    )\n",
              "  )\n",
              ")"
            ]
          },
          "metadata": {
            "tags": []
          },
          "execution_count": 14
        }
      ]
    },
    {
      "cell_type": "markdown",
      "metadata": {
        "id": "5v7KV8L_uM8I"
      },
      "source": [
        "Issues/mistakes #1\n",
        "- "
      ]
    },
    {
      "cell_type": "markdown",
      "metadata": {
        "id": "2aUHDbN1761f"
      },
      "source": [
        "#### 1.2 Decoder(s) (9 pts)"
      ]
    },
    {
      "cell_type": "code",
      "metadata": {
        "id": "dsTxk9NB761g",
        "colab": {
          "base_uri": "https://localhost:8080/"
        },
        "outputId": "7bc13836-1a82-42f7-f5f3-de12c261b93e"
      },
      "source": [
        "# Basic RNN decoder (no attention)\n",
        "decoder_rnn = nnet_models_new.DecoderRNN(target_vocab, hidden_size, numlayers=1)\n",
        "\n",
        "decoder_rnn"
      ],
      "execution_count": 15,
      "outputs": [
        {
          "output_type": "execute_result",
          "data": {
            "text/plain": [
              "DecoderRNN(\n",
              "  (embedding): Embedding(20111, 512)\n",
              "  (gru): GRU(512, 512, batch_first=True)\n",
              "  (out): Linear(in_features=512, out_features=20111, bias=True)\n",
              "  (softmax): LogSoftmax(dim=2)\n",
              ")"
            ]
          },
          "metadata": {
            "tags": []
          },
          "execution_count": 15
        }
      ]
    },
    {
      "cell_type": "code",
      "metadata": {
        "id": "6H1VQVxI761j",
        "colab": {
          "base_uri": "https://localhost:8080/"
        },
        "outputId": "f36eef3a-98d7-444b-8374-cc83ccff1367"
      },
      "source": [
        "nmt_dflt = nnet_models_new.seq2seq(encoder_transformer, decoder_rnn,\n",
        "                              lr = lr, \n",
        "                              use_cuda = use_cuda, \n",
        "                              hiddensize = hidden_size, \n",
        "#                               numlayers = hidden_size, \n",
        "                              target_lang=dataset_dict['train'].target_lang_obj,\n",
        "                              longest_label = longest_label,\n",
        "                              clip = gradient_clip)\n",
        "nmt_dflt"
      ],
      "execution_count": 16,
      "outputs": [
        {
          "output_type": "execute_result",
          "data": {
            "text/plain": [
              "seq2seq(\n",
              "  (encoder): EncoderTransformer(\n",
              "    (token_embed): Embedding(12392, 512)\n",
              "    (position_embed): PositionalEncoding(\n",
              "      (dropout): Dropout(p=0.1, inplace=False)\n",
              "    )\n",
              "    (encoder): TransformerEncoder(\n",
              "      (layers): ModuleList(\n",
              "        (0): TransformerEncoderLayer(\n",
              "          (self_attn): MultiheadAttention(\n",
              "            (out_proj): _LinearWithBias(in_features=512, out_features=512, bias=True)\n",
              "          )\n",
              "          (linear1): Linear(in_features=512, out_features=64, bias=True)\n",
              "          (dropout): Dropout(p=0.1, inplace=False)\n",
              "          (linear2): Linear(in_features=64, out_features=512, bias=True)\n",
              "          (norm1): LayerNorm((512,), eps=1e-05, elementwise_affine=True)\n",
              "          (norm2): LayerNorm((512,), eps=1e-05, elementwise_affine=True)\n",
              "          (dropout1): Dropout(p=0.1, inplace=False)\n",
              "          (dropout2): Dropout(p=0.1, inplace=False)\n",
              "        )\n",
              "      )\n",
              "    )\n",
              "  )\n",
              "  (decoder): DecoderRNN(\n",
              "    (embedding): Embedding(20111, 512)\n",
              "    (gru): GRU(512, 512, batch_first=True)\n",
              "    (out): Linear(in_features=512, out_features=20111, bias=True)\n",
              "    (softmax): LogSoftmax(dim=2)\n",
              "  )\n",
              "  (criterion): NLLLoss()\n",
              ")"
            ]
          },
          "metadata": {
            "tags": []
          },
          "execution_count": 16
        }
      ]
    },
    {
      "cell_type": "code",
      "metadata": {
        "id": "RmS2vYiY7639",
        "colab": {
          "base_uri": "https://localhost:8080/"
        },
        "outputId": "5154c19b-5586-495d-d3cd-349db2e9bd3c"
      },
      "source": [
        "# Basic RNN decoder (no attention) - II\n",
        "encoder_attention = False\n",
        "self_attention = False\n",
        "\n",
        "decoder_noattn = nnet_models_new.Decoder_SelfAttn(output_size=target_vocab,\n",
        "                                 hidden_size=hidden_size, \n",
        "                                 encoder_attention = encoder_attention,\n",
        "                                 self_attention = self_attention)\n",
        "decoder_noattn"
      ],
      "execution_count": 17,
      "outputs": [
        {
          "output_type": "execute_result",
          "data": {
            "text/plain": [
              "Decoder_SelfAttn(\n",
              "  (embedding): Embedding(20111, 512)\n",
              "  (memory_rnn): GRUCell(512, 512)\n",
              "  (out): Linear(in_features=512, out_features=20111, bias=True)\n",
              "  (softmax): LogSoftmax(dim=1)\n",
              ")"
            ]
          },
          "metadata": {
            "tags": []
          },
          "execution_count": 17
        }
      ]
    },
    {
      "cell_type": "code",
      "metadata": {
        "id": "qvX62QMM763_",
        "colab": {
          "base_uri": "https://localhost:8080/"
        },
        "outputId": "4885beff-8613-4987-f2b7-084be90c8522"
      },
      "source": [
        "nmt_noattn = nnet_models_new.seq2seq(encoder_transformer, decoder_noattn,\n",
        "                              lr = lr, \n",
        "                              use_cuda = use_cuda, \n",
        "                              hiddensize = hidden_size, \n",
        "#                               numlayers = hidden_size, \n",
        "                              target_lang=dataset_dict['train'].target_lang_obj,\n",
        "                              longest_label = longest_label,\n",
        "                              clip = gradient_clip)\n",
        "nmt_noattn"
      ],
      "execution_count": 18,
      "outputs": [
        {
          "output_type": "execute_result",
          "data": {
            "text/plain": [
              "seq2seq(\n",
              "  (encoder): EncoderTransformer(\n",
              "    (token_embed): Embedding(12392, 512)\n",
              "    (position_embed): PositionalEncoding(\n",
              "      (dropout): Dropout(p=0.1, inplace=False)\n",
              "    )\n",
              "    (encoder): TransformerEncoder(\n",
              "      (layers): ModuleList(\n",
              "        (0): TransformerEncoderLayer(\n",
              "          (self_attn): MultiheadAttention(\n",
              "            (out_proj): _LinearWithBias(in_features=512, out_features=512, bias=True)\n",
              "          )\n",
              "          (linear1): Linear(in_features=512, out_features=64, bias=True)\n",
              "          (dropout): Dropout(p=0.1, inplace=False)\n",
              "          (linear2): Linear(in_features=64, out_features=512, bias=True)\n",
              "          (norm1): LayerNorm((512,), eps=1e-05, elementwise_affine=True)\n",
              "          (norm2): LayerNorm((512,), eps=1e-05, elementwise_affine=True)\n",
              "          (dropout1): Dropout(p=0.1, inplace=False)\n",
              "          (dropout2): Dropout(p=0.1, inplace=False)\n",
              "        )\n",
              "      )\n",
              "    )\n",
              "  )\n",
              "  (decoder): Decoder_SelfAttn(\n",
              "    (embedding): Embedding(20111, 512)\n",
              "    (memory_rnn): GRUCell(512, 512)\n",
              "    (out): Linear(in_features=512, out_features=20111, bias=True)\n",
              "    (softmax): LogSoftmax(dim=1)\n",
              "  )\n",
              "  (criterion): NLLLoss()\n",
              ")"
            ]
          },
          "metadata": {
            "tags": []
          },
          "execution_count": 18
        }
      ]
    },
    {
      "cell_type": "code",
      "metadata": {
        "id": "oWQSA0C-764B",
        "colab": {
          "base_uri": "https://localhost:8080/"
        },
        "outputId": "67243c7a-9c54-48fe-c5c6-d6a8c73e7104"
      },
      "source": [
        "# RNN Decoder with Encoder attention\n",
        "encoder_attention = True\n",
        "self_attention = False\n",
        "\n",
        "decoder_encattn = nnet_models_new.Decoder_SelfAttn(output_size=target_vocab,\n",
        "                                 hidden_size=hidden_size, \n",
        "                                 encoder_attention = encoder_attention,\n",
        "                                 self_attention = self_attention)\n",
        "decoder_encattn"
      ],
      "execution_count": 19,
      "outputs": [
        {
          "output_type": "execute_result",
          "data": {
            "text/plain": [
              "Decoder_SelfAttn(\n",
              "  (embedding): Embedding(20111, 512)\n",
              "  (memory_rnn): GRUCell(1024, 512)\n",
              "  (out): Linear(in_features=512, out_features=20111, bias=True)\n",
              "  (softmax): LogSoftmax(dim=1)\n",
              "  (encoder_attention_module): Attention_Module(\n",
              "    (l1): Linear(in_features=512, out_features=512, bias=False)\n",
              "    (l2): Linear(in_features=1024, out_features=512, bias=False)\n",
              "  )\n",
              ")"
            ]
          },
          "metadata": {
            "tags": []
          },
          "execution_count": 19
        }
      ]
    },
    {
      "cell_type": "code",
      "metadata": {
        "id": "HwImUtnsOAZc",
        "colab": {
          "base_uri": "https://localhost:8080/"
        },
        "outputId": "698eae71-672d-4fd9-fa2a-930d09c28e19"
      },
      "source": [
        "nmt_encattn = nnet_models_new.seq2seq(encoder_transformer, decoder_encattn,\n",
        "                              lr = lr, \n",
        "                              use_cuda = use_cuda, \n",
        "                              hiddensize = hidden_size, \n",
        "#                               numlayers = hidden_size, \n",
        "                              target_lang=dataset_dict['train'].target_lang_obj,\n",
        "                              longest_label = longest_label,\n",
        "                              clip = gradient_clip)\n",
        "nmt_encattn"
      ],
      "execution_count": 20,
      "outputs": [
        {
          "output_type": "execute_result",
          "data": {
            "text/plain": [
              "seq2seq(\n",
              "  (encoder): EncoderTransformer(\n",
              "    (token_embed): Embedding(12392, 512)\n",
              "    (position_embed): PositionalEncoding(\n",
              "      (dropout): Dropout(p=0.1, inplace=False)\n",
              "    )\n",
              "    (encoder): TransformerEncoder(\n",
              "      (layers): ModuleList(\n",
              "        (0): TransformerEncoderLayer(\n",
              "          (self_attn): MultiheadAttention(\n",
              "            (out_proj): _LinearWithBias(in_features=512, out_features=512, bias=True)\n",
              "          )\n",
              "          (linear1): Linear(in_features=512, out_features=64, bias=True)\n",
              "          (dropout): Dropout(p=0.1, inplace=False)\n",
              "          (linear2): Linear(in_features=64, out_features=512, bias=True)\n",
              "          (norm1): LayerNorm((512,), eps=1e-05, elementwise_affine=True)\n",
              "          (norm2): LayerNorm((512,), eps=1e-05, elementwise_affine=True)\n",
              "          (dropout1): Dropout(p=0.1, inplace=False)\n",
              "          (dropout2): Dropout(p=0.1, inplace=False)\n",
              "        )\n",
              "      )\n",
              "    )\n",
              "  )\n",
              "  (decoder): Decoder_SelfAttn(\n",
              "    (embedding): Embedding(20111, 512)\n",
              "    (memory_rnn): GRUCell(1024, 512)\n",
              "    (out): Linear(in_features=512, out_features=20111, bias=True)\n",
              "    (softmax): LogSoftmax(dim=1)\n",
              "    (encoder_attention_module): Attention_Module(\n",
              "      (l1): Linear(in_features=512, out_features=512, bias=False)\n",
              "      (l2): Linear(in_features=1024, out_features=512, bias=False)\n",
              "    )\n",
              "  )\n",
              "  (criterion): NLLLoss()\n",
              ")"
            ]
          },
          "metadata": {
            "tags": []
          },
          "execution_count": 20
        }
      ]
    },
    {
      "cell_type": "code",
      "metadata": {
        "id": "qq-zKKGu764D",
        "colab": {
          "base_uri": "https://localhost:8080/"
        },
        "outputId": "a3885d1c-b8a1-4d51-d262-7b9494322394"
      },
      "source": [
        "# RNN Decoder with Self attention\n",
        "encoder_attention = False\n",
        "self_attention = True\n",
        "\n",
        "decoder_selfattn = nnet_models_new.Decoder_SelfAttn(output_size=target_vocab,\n",
        "                                 hidden_size=hidden_size, \n",
        "                                 encoder_attention = encoder_attention,\n",
        "                                 self_attention = self_attention)\n",
        "decoder_selfattn"
      ],
      "execution_count": 21,
      "outputs": [
        {
          "output_type": "execute_result",
          "data": {
            "text/plain": [
              "Decoder_SelfAttn(\n",
              "  (embedding): Embedding(20111, 512)\n",
              "  (memory_rnn): GRUCell(512, 512)\n",
              "  (out): Linear(in_features=512, out_features=20111, bias=True)\n",
              "  (softmax): LogSoftmax(dim=1)\n",
              "  (projector_summ): Sequential(\n",
              "    (0): Dropout(p=0.5, inplace=False)\n",
              "    (1): Linear(in_features=1024, out_features=512, bias=True)\n",
              "    (2): Dropout(p=0.5, inplace=False)\n",
              "  )\n",
              ")"
            ]
          },
          "metadata": {
            "tags": []
          },
          "execution_count": 21
        }
      ]
    },
    {
      "cell_type": "code",
      "metadata": {
        "id": "Yf8J5FnrPC_A",
        "colab": {
          "base_uri": "https://localhost:8080/"
        },
        "outputId": "b8a73c8c-7945-4668-c4aa-0feee47c64ea"
      },
      "source": [
        "nmt_selfattn = nnet_models_new.seq2seq(encoder_transformer, decoder_selfattn,\n",
        "                              lr = lr, \n",
        "                              use_cuda = use_cuda, \n",
        "                              hiddensize = hidden_size, \n",
        "#                               numlayers = hidden_size, \n",
        "                              target_lang=dataset_dict['train'].target_lang_obj,\n",
        "                              longest_label = longest_label,\n",
        "                              clip = gradient_clip)\n",
        "nmt_selfattn"
      ],
      "execution_count": 22,
      "outputs": [
        {
          "output_type": "execute_result",
          "data": {
            "text/plain": [
              "seq2seq(\n",
              "  (encoder): EncoderTransformer(\n",
              "    (token_embed): Embedding(12392, 512)\n",
              "    (position_embed): PositionalEncoding(\n",
              "      (dropout): Dropout(p=0.1, inplace=False)\n",
              "    )\n",
              "    (encoder): TransformerEncoder(\n",
              "      (layers): ModuleList(\n",
              "        (0): TransformerEncoderLayer(\n",
              "          (self_attn): MultiheadAttention(\n",
              "            (out_proj): _LinearWithBias(in_features=512, out_features=512, bias=True)\n",
              "          )\n",
              "          (linear1): Linear(in_features=512, out_features=64, bias=True)\n",
              "          (dropout): Dropout(p=0.1, inplace=False)\n",
              "          (linear2): Linear(in_features=64, out_features=512, bias=True)\n",
              "          (norm1): LayerNorm((512,), eps=1e-05, elementwise_affine=True)\n",
              "          (norm2): LayerNorm((512,), eps=1e-05, elementwise_affine=True)\n",
              "          (dropout1): Dropout(p=0.1, inplace=False)\n",
              "          (dropout2): Dropout(p=0.1, inplace=False)\n",
              "        )\n",
              "      )\n",
              "    )\n",
              "  )\n",
              "  (decoder): Decoder_SelfAttn(\n",
              "    (embedding): Embedding(20111, 512)\n",
              "    (memory_rnn): GRUCell(512, 512)\n",
              "    (out): Linear(in_features=512, out_features=20111, bias=True)\n",
              "    (softmax): LogSoftmax(dim=1)\n",
              "    (projector_summ): Sequential(\n",
              "      (0): Dropout(p=0.5, inplace=False)\n",
              "      (1): Linear(in_features=1024, out_features=512, bias=True)\n",
              "      (2): Dropout(p=0.5, inplace=False)\n",
              "    )\n",
              "  )\n",
              "  (criterion): NLLLoss()\n",
              ")"
            ]
          },
          "metadata": {
            "tags": []
          },
          "execution_count": 22
        }
      ]
    },
    {
      "cell_type": "code",
      "metadata": {
        "id": "Y3NvCzfZ4ODt",
        "colab": {
          "base_uri": "https://localhost:8080/"
        },
        "outputId": "1d362a7a-9377-4e6f-fc67-d57492139ac8"
      },
      "source": [
        "# RNN Decoder with Encoder & Self attention\n",
        "encoder_attention = True\n",
        "self_attention = True\n",
        "\n",
        "decoder_enc_selfattn = nnet_models_new.Decoder_SelfAttn(output_size=target_vocab,\n",
        "                                 hidden_size=hidden_size, \n",
        "                                 encoder_attention = encoder_attention,\n",
        "                                 self_attention = self_attention)\n",
        "decoder_enc_selfattn"
      ],
      "execution_count": 23,
      "outputs": [
        {
          "output_type": "execute_result",
          "data": {
            "text/plain": [
              "Decoder_SelfAttn(\n",
              "  (embedding): Embedding(20111, 512)\n",
              "  (memory_rnn): GRUCell(1024, 512)\n",
              "  (out): Linear(in_features=512, out_features=20111, bias=True)\n",
              "  (softmax): LogSoftmax(dim=1)\n",
              "  (projector_summ): Sequential(\n",
              "    (0): Dropout(p=0.5, inplace=False)\n",
              "    (1): Linear(in_features=1024, out_features=512, bias=True)\n",
              "    (2): Dropout(p=0.5, inplace=False)\n",
              "  )\n",
              "  (encoder_attention_module): Attention_Module(\n",
              "    (l1): Linear(in_features=512, out_features=512, bias=False)\n",
              "    (l2): Linear(in_features=1024, out_features=512, bias=False)\n",
              "  )\n",
              ")"
            ]
          },
          "metadata": {
            "tags": []
          },
          "execution_count": 23
        }
      ]
    },
    {
      "cell_type": "code",
      "metadata": {
        "id": "caDOWjrR4auF",
        "colab": {
          "base_uri": "https://localhost:8080/"
        },
        "outputId": "f04dafab-bfdd-49be-fab8-7523bd7f0aa6"
      },
      "source": [
        "nmt_enc_selfattn = nnet_models_new.seq2seq(encoder_transformer, decoder_enc_selfattn,\n",
        "                              lr = lr, \n",
        "                              use_cuda = use_cuda, \n",
        "                              hiddensize = hidden_size, \n",
        "#                               numlayers = hidden_size, \n",
        "                              target_lang=dataset_dict['train'].target_lang_obj,\n",
        "                              longest_label = longest_label,\n",
        "                              clip = gradient_clip)\n",
        "nmt_enc_selfattn"
      ],
      "execution_count": 24,
      "outputs": [
        {
          "output_type": "execute_result",
          "data": {
            "text/plain": [
              "seq2seq(\n",
              "  (encoder): EncoderTransformer(\n",
              "    (token_embed): Embedding(12392, 512)\n",
              "    (position_embed): PositionalEncoding(\n",
              "      (dropout): Dropout(p=0.1, inplace=False)\n",
              "    )\n",
              "    (encoder): TransformerEncoder(\n",
              "      (layers): ModuleList(\n",
              "        (0): TransformerEncoderLayer(\n",
              "          (self_attn): MultiheadAttention(\n",
              "            (out_proj): _LinearWithBias(in_features=512, out_features=512, bias=True)\n",
              "          )\n",
              "          (linear1): Linear(in_features=512, out_features=64, bias=True)\n",
              "          (dropout): Dropout(p=0.1, inplace=False)\n",
              "          (linear2): Linear(in_features=64, out_features=512, bias=True)\n",
              "          (norm1): LayerNorm((512,), eps=1e-05, elementwise_affine=True)\n",
              "          (norm2): LayerNorm((512,), eps=1e-05, elementwise_affine=True)\n",
              "          (dropout1): Dropout(p=0.1, inplace=False)\n",
              "          (dropout2): Dropout(p=0.1, inplace=False)\n",
              "        )\n",
              "      )\n",
              "    )\n",
              "  )\n",
              "  (decoder): Decoder_SelfAttn(\n",
              "    (embedding): Embedding(20111, 512)\n",
              "    (memory_rnn): GRUCell(1024, 512)\n",
              "    (out): Linear(in_features=512, out_features=20111, bias=True)\n",
              "    (softmax): LogSoftmax(dim=1)\n",
              "    (projector_summ): Sequential(\n",
              "      (0): Dropout(p=0.5, inplace=False)\n",
              "      (1): Linear(in_features=1024, out_features=512, bias=True)\n",
              "      (2): Dropout(p=0.5, inplace=False)\n",
              "    )\n",
              "    (encoder_attention_module): Attention_Module(\n",
              "      (l1): Linear(in_features=512, out_features=512, bias=False)\n",
              "      (l2): Linear(in_features=1024, out_features=512, bias=False)\n",
              "    )\n",
              "  )\n",
              "  (criterion): NLLLoss()\n",
              ")"
            ]
          },
          "metadata": {
            "tags": []
          },
          "execution_count": 24
        }
      ]
    },
    {
      "cell_type": "markdown",
      "metadata": {
        "id": "QX0fSBlNFYb9"
      },
      "source": [
        "Enhancements\n",
        "- Loop through decoders\n",
        "\n",
        "Issues/Mistakes\n",
        "- Instantiating encoder class for every model"
      ]
    },
    {
      "cell_type": "markdown",
      "metadata": {
        "id": "wwBFxf6k764E"
      },
      "source": [
        "#### Training & Evaluation"
      ]
    },
    {
      "cell_type": "code",
      "metadata": {
        "id": "2qFxEltS764F"
      },
      "source": [
        "import time"
      ],
      "execution_count": 25,
      "outputs": []
    },
    {
      "cell_type": "code",
      "metadata": {
        "id": "ZjF0Dj72764G"
      },
      "source": [
        "def get_full_filepath(path, dec_type):\n",
        "    filename = 'nmt_enc_transfomer_'+dec_type+'_dec_rnn.pth'\n",
        "    return os.path.join(path, filename)"
      ],
      "execution_count": 26,
      "outputs": []
    },
    {
      "cell_type": "code",
      "metadata": {
        "id": "Wc4ykmH0764I"
      },
      "source": [
        "def save_models(nmt_model, path, dec_type):\n",
        "    if not os.path.exists(path):\n",
        "            os.makedirs(path)\n",
        "    torch.save(nmt_model, get_full_filepath(path, dec_type))"
      ],
      "execution_count": 27,
      "outputs": []
    },
    {
      "cell_type": "code",
      "metadata": {
        "id": "laUKjDIn764J"
      },
      "source": [
        "from tqdm import notebook#.tqdm\n",
        "\n",
        "def train_model(dataloader, nmt, num_epochs=50, val_every=1, saved_model_path = '.', dec_type ='dflt'):\n",
        "\n",
        "    best_bleu = -1\n",
        "    train_loss_cache = []\n",
        "    val_bleu_cache = []\n",
        "    for epoch in range(num_epochs):\n",
        "\n",
        "        start = time.time()\n",
        "        running_loss = 0\n",
        "\n",
        "        print('Epoch: [{}/{}]'.format(epoch, num_epochs));\n",
        "        \n",
        "        for i, data in notebook.tqdm(enumerate(dataloader['train']), total=len(dataloader['train'])):  \n",
        "            _, curr_loss = nmt.train_step(data);\n",
        "            running_loss += curr_loss\n",
        "\n",
        "        epoch_loss = running_loss / len(dataloader['train'])\n",
        "        train_loss_cache.append(epoch_loss) \n",
        "        \n",
        "        print(\"epoch {} loss = {}, time = {}\".format(epoch, epoch_loss,\n",
        "                                                        time.time() - start))\n",
        "        # sys.stdout.flush()\n",
        "   \n",
        "        if epoch%val_every == 0:\n",
        "            val_bleu_score = nmt.get_bleu_score(dataloader['val']);\n",
        "            print('validation bleu: ', val_bleu_score, '\\n')\n",
        "            # sys.stdout.flush()\n",
        "            val_bleu_cache.append(val_bleu_score)\n",
        "            \n",
        "            nmt.scheduler_step(val_bleu_score);\n",
        "            \n",
        "            if val_bleu_score > best_bleu:\n",
        "                best_bleu = val_bleu_score\n",
        "                save_models(nmt, saved_model_path, dec_type);\n",
        "\n",
        "        # print('='*50)\n",
        "\n",
        "    torch.save({\n",
        "        # 'options': options,\n",
        "        # 'model_state': nmt.state_dict(),\n",
        "        'train_loss_cache': train_loss_cache,\n",
        "        'val_bleu_cache': val_bleu_cache\n",
        "    }, get_full_filepath(saved_model_path, dec_type)[:-4]+'-plot_cache.pt')\n",
        "\n",
        "    print('='*50)\n",
        "    print(\"Training completed. Best BLEU is {}\".format(best_bleu))"
      ],
      "execution_count": 28,
      "outputs": []
    },
    {
      "cell_type": "code",
      "metadata": {
        "id": "b_qBYyMX764L",
        "colab": {
          "base_uri": "https://localhost:8080/"
        },
        "outputId": "fedf5433-2e38-43c9-a915-6fc9e587ca11"
      },
      "source": [
        "# Basic RNN decoder (no attention)\n",
        "train_again = False\n",
        "dec_type = 'dflt'\n",
        "if os.path.exists(get_full_filepath(saved_models_dir, dec_type)) and (not train_again):\n",
        "    nmt_dflt = torch.load(get_full_filepath(saved_models_dir, dec_type), map_location=global_variables.device)\n",
        "    print(nmt_dflt)\n",
        "else:\n",
        "    train_model(dataloader_dict, eval('nmt_'+ dec_type), \n",
        "                      num_epochs = num_epochs, \n",
        "                      saved_model_path = saved_models_dir, \n",
        "                      dec_type = dec_type)"
      ],
      "execution_count": 29,
      "outputs": [
        {
          "output_type": "stream",
          "text": [
            "seq2seq(\n",
            "  (encoder): EncoderTransformer(\n",
            "    (token_embed): Embedding(12392, 512)\n",
            "    (position_embed): PositionalEncoding(\n",
            "      (dropout): Dropout(p=0.0, inplace=False)\n",
            "    )\n",
            "    (encoder): TransformerEncoder(\n",
            "      (layers): ModuleList(\n",
            "        (0): TransformerEncoderLayer(\n",
            "          (self_attn): MultiheadAttention(\n",
            "            (out_proj): _LinearWithBias(in_features=512, out_features=512, bias=True)\n",
            "          )\n",
            "          (linear1): Linear(in_features=512, out_features=64, bias=True)\n",
            "          (dropout): Dropout(p=0.0, inplace=False)\n",
            "          (linear2): Linear(in_features=64, out_features=512, bias=True)\n",
            "          (norm1): LayerNorm((512,), eps=1e-05, elementwise_affine=True)\n",
            "          (norm2): LayerNorm((512,), eps=1e-05, elementwise_affine=True)\n",
            "          (dropout1): Dropout(p=0.0, inplace=False)\n",
            "          (dropout2): Dropout(p=0.0, inplace=False)\n",
            "        )\n",
            "      )\n",
            "    )\n",
            "  )\n",
            "  (decoder): DecoderRNN(\n",
            "    (embedding): Embedding(20111, 512)\n",
            "    (gru): GRU(512, 512, batch_first=True)\n",
            "    (out): Linear(in_features=512, out_features=20111, bias=True)\n",
            "    (softmax): LogSoftmax(dim=2)\n",
            "  )\n",
            "  (criterion): NLLLoss()\n",
            ")\n"
          ],
          "name": "stdout"
        }
      ]
    },
    {
      "cell_type": "code",
      "metadata": {
        "id": "yzlU6xAxSQe1",
        "colab": {
          "base_uri": "https://localhost:8080/"
        },
        "outputId": "dbb13110-4728-446f-ae60-aefdffc1d1b7"
      },
      "source": [
        "# Basic RNN decoder (no attention) - II\n",
        "train_again = False\n",
        "dec_type = 'noattn'\n",
        "if os.path.exists(get_full_filepath(saved_models_dir, dec_type)) and (not train_again):\n",
        "    nmt_noattn = torch.load(get_full_filepath(saved_models_dir, dec_type), map_location=global_variables.device)\n",
        "    print(nmt_noattn)\n",
        "else:\n",
        "    train_model(dataloader_dict, eval('nmt_'+ dec_type), \n",
        "                      num_epochs = num_epochs, \n",
        "                      saved_model_path = saved_models_dir, \n",
        "                      dec_type = dec_type)"
      ],
      "execution_count": 30,
      "outputs": [
        {
          "output_type": "stream",
          "text": [
            "seq2seq(\n",
            "  (encoder): EncoderTransformer(\n",
            "    (token_embed): Embedding(12392, 512)\n",
            "    (position_embed): PositionalEncoding(\n",
            "      (dropout): Dropout(p=0.0, inplace=False)\n",
            "    )\n",
            "    (encoder): TransformerEncoder(\n",
            "      (layers): ModuleList(\n",
            "        (0): TransformerEncoderLayer(\n",
            "          (self_attn): MultiheadAttention(\n",
            "            (out_proj): _LinearWithBias(in_features=512, out_features=512, bias=True)\n",
            "          )\n",
            "          (linear1): Linear(in_features=512, out_features=64, bias=True)\n",
            "          (dropout): Dropout(p=0.0, inplace=False)\n",
            "          (linear2): Linear(in_features=64, out_features=512, bias=True)\n",
            "          (norm1): LayerNorm((512,), eps=1e-05, elementwise_affine=True)\n",
            "          (norm2): LayerNorm((512,), eps=1e-05, elementwise_affine=True)\n",
            "          (dropout1): Dropout(p=0.0, inplace=False)\n",
            "          (dropout2): Dropout(p=0.0, inplace=False)\n",
            "        )\n",
            "      )\n",
            "    )\n",
            "  )\n",
            "  (decoder): Decoder_SelfAttn(\n",
            "    (embedding): Embedding(20111, 512)\n",
            "    (memory_rnn): GRUCell(512, 512)\n",
            "    (out): Linear(in_features=512, out_features=20111, bias=True)\n",
            "    (softmax): LogSoftmax(dim=1)\n",
            "  )\n",
            "  (criterion): NLLLoss()\n",
            ")\n"
          ],
          "name": "stdout"
        }
      ]
    },
    {
      "cell_type": "code",
      "metadata": {
        "id": "IjHcgFuxSfig",
        "colab": {
          "base_uri": "https://localhost:8080/"
        },
        "outputId": "18dc7538-5220-43f9-9311-bf7327c6e993"
      },
      "source": [
        "# RNN Decoder with Encoder attention\n",
        "train_again = False\n",
        "dec_type = 'encattn'\n",
        "if os.path.exists(get_full_filepath(saved_models_dir, dec_type)) and (not train_again):\n",
        "    nmt_encattn = torch.load(get_full_filepath(saved_models_dir, dec_type), map_location=global_variables.device)\n",
        "    print(nmt_encattn)\n",
        "else:\n",
        "    train_model(dataloader_dict, eval('nmt_'+ dec_type), \n",
        "                      num_epochs = num_epochs, \n",
        "                      saved_model_path = saved_models_dir, \n",
        "                      dec_type = dec_type)"
      ],
      "execution_count": 31,
      "outputs": [
        {
          "output_type": "stream",
          "text": [
            "seq2seq(\n",
            "  (encoder): EncoderTransformer(\n",
            "    (token_embed): Embedding(12392, 512)\n",
            "    (position_embed): PositionalEncoding(\n",
            "      (dropout): Dropout(p=0.1, inplace=False)\n",
            "    )\n",
            "    (encoder): TransformerEncoder(\n",
            "      (layers): ModuleList(\n",
            "        (0): TransformerEncoderLayer(\n",
            "          (self_attn): MultiheadAttention(\n",
            "            (out_proj): _LinearWithBias(in_features=512, out_features=512, bias=True)\n",
            "          )\n",
            "          (linear1): Linear(in_features=512, out_features=64, bias=True)\n",
            "          (dropout): Dropout(p=0.1, inplace=False)\n",
            "          (linear2): Linear(in_features=64, out_features=512, bias=True)\n",
            "          (norm1): LayerNorm((512,), eps=1e-05, elementwise_affine=True)\n",
            "          (norm2): LayerNorm((512,), eps=1e-05, elementwise_affine=True)\n",
            "          (dropout1): Dropout(p=0.1, inplace=False)\n",
            "          (dropout2): Dropout(p=0.1, inplace=False)\n",
            "        )\n",
            "      )\n",
            "    )\n",
            "  )\n",
            "  (decoder): Decoder_SelfAttn(\n",
            "    (embedding): Embedding(20111, 512)\n",
            "    (memory_rnn): GRUCell(1024, 512)\n",
            "    (out): Linear(in_features=512, out_features=20111, bias=True)\n",
            "    (softmax): LogSoftmax(dim=1)\n",
            "    (encoder_attention_module): Attention_Module(\n",
            "      (l1): Linear(in_features=512, out_features=512, bias=False)\n",
            "      (l2): Linear(in_features=1024, out_features=512, bias=False)\n",
            "    )\n",
            "  )\n",
            "  (criterion): NLLLoss()\n",
            ")\n"
          ],
          "name": "stdout"
        }
      ]
    },
    {
      "cell_type": "code",
      "metadata": {
        "id": "i1ftz0544iLW",
        "colab": {
          "base_uri": "https://localhost:8080/"
        },
        "outputId": "c5dbb841-11fb-4176-dce9-447a00f823cf"
      },
      "source": [
        "# RNN Decoder with Self attention\n",
        "train_again = False\n",
        "dec_type = 'selfattn'\n",
        "if os.path.exists(get_full_filepath(saved_models_dir, dec_type)) and (not train_again):\n",
        "    nmt_selfattn = torch.load(get_full_filepath(saved_models_dir, dec_type), map_location=global_variables.device)\n",
        "    print(nmt_selfattn)\n",
        "else:\n",
        "    train_model(dataloader_dict, eval('nmt_'+ dec_type), \n",
        "                      num_epochs = num_epochs, \n",
        "                      saved_model_path = saved_models_dir, \n",
        "                      dec_type = dec_type)"
      ],
      "execution_count": 32,
      "outputs": [
        {
          "output_type": "stream",
          "text": [
            "seq2seq(\n",
            "  (encoder): EncoderTransformer(\n",
            "    (token_embed): Embedding(12392, 512)\n",
            "    (position_embed): PositionalEncoding(\n",
            "      (dropout): Dropout(p=0.0, inplace=False)\n",
            "    )\n",
            "    (encoder): TransformerEncoder(\n",
            "      (layers): ModuleList(\n",
            "        (0): TransformerEncoderLayer(\n",
            "          (self_attn): MultiheadAttention(\n",
            "            (out_proj): _LinearWithBias(in_features=512, out_features=512, bias=True)\n",
            "          )\n",
            "          (linear1): Linear(in_features=512, out_features=64, bias=True)\n",
            "          (dropout): Dropout(p=0.0, inplace=False)\n",
            "          (linear2): Linear(in_features=64, out_features=512, bias=True)\n",
            "          (norm1): LayerNorm((512,), eps=1e-05, elementwise_affine=True)\n",
            "          (norm2): LayerNorm((512,), eps=1e-05, elementwise_affine=True)\n",
            "          (dropout1): Dropout(p=0.0, inplace=False)\n",
            "          (dropout2): Dropout(p=0.0, inplace=False)\n",
            "        )\n",
            "      )\n",
            "    )\n",
            "  )\n",
            "  (decoder): Decoder_SelfAttn(\n",
            "    (embedding): Embedding(20111, 512)\n",
            "    (memory_rnn): GRUCell(512, 512)\n",
            "    (out): Linear(in_features=512, out_features=20111, bias=True)\n",
            "    (softmax): LogSoftmax(dim=1)\n",
            "    (projector_summ): Sequential(\n",
            "      (0): Dropout(p=0.5, inplace=False)\n",
            "      (1): Linear(in_features=1024, out_features=512, bias=True)\n",
            "      (2): Dropout(p=0.5, inplace=False)\n",
            "    )\n",
            "  )\n",
            "  (criterion): NLLLoss()\n",
            ")\n"
          ],
          "name": "stdout"
        }
      ]
    },
    {
      "cell_type": "code",
      "metadata": {
        "id": "n_vp98L6SvJJ",
        "colab": {
          "base_uri": "https://localhost:8080/"
        },
        "outputId": "2a4dc061-7a6d-42ae-f75a-88d1073ba665"
      },
      "source": [
        "# RNN Decoder with Encoder & Self attention\n",
        "train_again = False\n",
        "dec_type = 'enc_selfattn'\n",
        "if os.path.exists(get_full_filepath(saved_models_dir, dec_type)) and (not train_again):\n",
        "    nmt_enc_selfattn = torch.load(get_full_filepath(saved_models_dir, dec_type), map_location=global_variables.device)\n",
        "    print(nmt_enc_selfattn)\n",
        "else:\n",
        "    train_model(dataloader_dict, eval('nmt_'+ dec_type), \n",
        "                      num_epochs = num_epochs, \n",
        "                      saved_model_path = saved_models_dir, \n",
        "                      dec_type = dec_type)"
      ],
      "execution_count": 33,
      "outputs": [
        {
          "output_type": "stream",
          "text": [
            "seq2seq(\n",
            "  (encoder): EncoderTransformer(\n",
            "    (token_embed): Embedding(12392, 512)\n",
            "    (position_embed): PositionalEncoding(\n",
            "      (dropout): Dropout(p=0.1, inplace=False)\n",
            "    )\n",
            "    (encoder): TransformerEncoder(\n",
            "      (layers): ModuleList(\n",
            "        (0): TransformerEncoderLayer(\n",
            "          (self_attn): MultiheadAttention(\n",
            "            (out_proj): _LinearWithBias(in_features=512, out_features=512, bias=True)\n",
            "          )\n",
            "          (linear1): Linear(in_features=512, out_features=64, bias=True)\n",
            "          (dropout): Dropout(p=0.1, inplace=False)\n",
            "          (linear2): Linear(in_features=64, out_features=512, bias=True)\n",
            "          (norm1): LayerNorm((512,), eps=1e-05, elementwise_affine=True)\n",
            "          (norm2): LayerNorm((512,), eps=1e-05, elementwise_affine=True)\n",
            "          (dropout1): Dropout(p=0.1, inplace=False)\n",
            "          (dropout2): Dropout(p=0.1, inplace=False)\n",
            "        )\n",
            "      )\n",
            "    )\n",
            "  )\n",
            "  (decoder): Decoder_SelfAttn(\n",
            "    (embedding): Embedding(20111, 512)\n",
            "    (memory_rnn): GRUCell(1024, 512)\n",
            "    (out): Linear(in_features=512, out_features=20111, bias=True)\n",
            "    (softmax): LogSoftmax(dim=1)\n",
            "    (projector_summ): Sequential(\n",
            "      (0): Dropout(p=0.5, inplace=False)\n",
            "      (1): Linear(in_features=1024, out_features=512, bias=True)\n",
            "      (2): Dropout(p=0.5, inplace=False)\n",
            "    )\n",
            "    (encoder_attention_module): Attention_Module(\n",
            "      (l1): Linear(in_features=512, out_features=512, bias=False)\n",
            "      (l2): Linear(in_features=1024, out_features=512, bias=False)\n",
            "    )\n",
            "  )\n",
            "  (criterion): NLLLoss()\n",
            ")\n"
          ],
          "name": "stdout"
        }
      ]
    },
    {
      "cell_type": "code",
      "metadata": {
        "id": "nNnVS4l7gFex",
        "colab": {
          "base_uri": "https://localhost:8080/"
        },
        "outputId": "7e86ca3c-18b1-4a74-eae0-2710c0b7e1c7"
      },
      "source": [
        "# Basic RNN decoder (no attention) - II - Old\n",
        "encoder_attention = False\n",
        "self_attention = False\n",
        "\n",
        "decoder_noattn_old = nnet_models_new.Decoder_SelfAttn(output_size=target_vocab,\n",
        "                                 hidden_size=hidden_size, \n",
        "                                 encoder_attention = encoder_attention,\n",
        "                                 self_attention = self_attention)\n",
        "decoder_noattn_old"
      ],
      "execution_count": 34,
      "outputs": [
        {
          "output_type": "execute_result",
          "data": {
            "text/plain": [
              "Decoder_SelfAttn(\n",
              "  (embedding): Embedding(20111, 512)\n",
              "  (memory_rnn): GRUCell(512, 512)\n",
              "  (out): Linear(in_features=512, out_features=20111, bias=True)\n",
              "  (softmax): LogSoftmax(dim=1)\n",
              ")"
            ]
          },
          "metadata": {
            "tags": []
          },
          "execution_count": 34
        }
      ]
    },
    {
      "cell_type": "code",
      "metadata": {
        "id": "CDTD2B2ZgNNE",
        "colab": {
          "base_uri": "https://localhost:8080/"
        },
        "outputId": "01084914-76ff-44c4-8d22-aee2530416c5"
      },
      "source": [
        "nmt_noattn_old = nnet_models_new.seq2seq(encoder_transformer, decoder_noattn_old,\n",
        "                              lr = lr, \n",
        "                              use_cuda = use_cuda, \n",
        "                              hiddensize = hidden_size, \n",
        "#                               numlayers = hidden_size, \n",
        "                              target_lang=dataset_dict['train'].target_lang_obj,\n",
        "                              longest_label = longest_label,\n",
        "                              clip = gradient_clip)\n",
        "nmt_noattn_old"
      ],
      "execution_count": 35,
      "outputs": [
        {
          "output_type": "execute_result",
          "data": {
            "text/plain": [
              "seq2seq(\n",
              "  (encoder): EncoderTransformer(\n",
              "    (token_embed): Embedding(12392, 512)\n",
              "    (position_embed): PositionalEncoding(\n",
              "      (dropout): Dropout(p=0.1, inplace=False)\n",
              "    )\n",
              "    (encoder): TransformerEncoder(\n",
              "      (layers): ModuleList(\n",
              "        (0): TransformerEncoderLayer(\n",
              "          (self_attn): MultiheadAttention(\n",
              "            (out_proj): _LinearWithBias(in_features=512, out_features=512, bias=True)\n",
              "          )\n",
              "          (linear1): Linear(in_features=512, out_features=64, bias=True)\n",
              "          (dropout): Dropout(p=0.1, inplace=False)\n",
              "          (linear2): Linear(in_features=64, out_features=512, bias=True)\n",
              "          (norm1): LayerNorm((512,), eps=1e-05, elementwise_affine=True)\n",
              "          (norm2): LayerNorm((512,), eps=1e-05, elementwise_affine=True)\n",
              "          (dropout1): Dropout(p=0.1, inplace=False)\n",
              "          (dropout2): Dropout(p=0.1, inplace=False)\n",
              "        )\n",
              "      )\n",
              "    )\n",
              "  )\n",
              "  (decoder): Decoder_SelfAttn(\n",
              "    (embedding): Embedding(20111, 512)\n",
              "    (memory_rnn): GRUCell(512, 512)\n",
              "    (out): Linear(in_features=512, out_features=20111, bias=True)\n",
              "    (softmax): LogSoftmax(dim=1)\n",
              "  )\n",
              "  (criterion): NLLLoss()\n",
              ")"
            ]
          },
          "metadata": {
            "tags": []
          },
          "execution_count": 35
        }
      ]
    },
    {
      "cell_type": "code",
      "metadata": {
        "id": "fkxY9TLogUVl",
        "colab": {
          "base_uri": "https://localhost:8080/"
        },
        "outputId": "56d3d414-b30d-4a25-80ca-c06442c36faf"
      },
      "source": [
        "# Basic RNN decoder (no attention) - II - Old\n",
        "train_again = False\n",
        "dec_type = 'noattn_old'\n",
        "if os.path.exists(get_full_filepath(saved_models_dir, dec_type)) and (not train_again):\n",
        "    nmt_noattn_old = torch.load(get_full_filepath(saved_models_dir, dec_type), map_location=global_variables.device)\n",
        "    print(nmt_noattn_old)\n",
        "else:\n",
        "    train_model(dataloader_dict, eval('nmt_'+ dec_type), \n",
        "                      num_epochs = num_epochs, \n",
        "                      saved_model_path = saved_models_dir, \n",
        "                      dec_type = dec_type)"
      ],
      "execution_count": 36,
      "outputs": [
        {
          "output_type": "stream",
          "text": [
            "seq2seq(\n",
            "  (encoder): EncoderTransformer(\n",
            "    (token_embed): Embedding(12392, 512)\n",
            "    (position_embed): PositionalEncoding(\n",
            "      (dropout): Dropout(p=0.0, inplace=False)\n",
            "    )\n",
            "    (encoder): TransformerEncoder(\n",
            "      (layers): ModuleList(\n",
            "        (0): TransformerEncoderLayer(\n",
            "          (self_attn): MultiheadAttention(\n",
            "            (out_proj): _LinearWithBias(in_features=512, out_features=512, bias=True)\n",
            "          )\n",
            "          (linear1): Linear(in_features=512, out_features=64, bias=True)\n",
            "          (dropout): Dropout(p=0.0, inplace=False)\n",
            "          (linear2): Linear(in_features=64, out_features=512, bias=True)\n",
            "          (norm1): LayerNorm((512,), eps=1e-05, elementwise_affine=True)\n",
            "          (norm2): LayerNorm((512,), eps=1e-05, elementwise_affine=True)\n",
            "          (dropout1): Dropout(p=0.0, inplace=False)\n",
            "          (dropout2): Dropout(p=0.0, inplace=False)\n",
            "        )\n",
            "      )\n",
            "    )\n",
            "  )\n",
            "  (decoder): Decoder_SelfAttn(\n",
            "    (embedding): Embedding(20111, 512)\n",
            "    (memory_rnn): GRUCell(512, 512)\n",
            "    (out): Linear(in_features=512, out_features=20111, bias=True)\n",
            "    (softmax): LogSoftmax(dim=1)\n",
            "  )\n",
            "  (criterion): NLLLoss()\n",
            ")\n"
          ],
          "name": "stdout"
        }
      ]
    },
    {
      "cell_type": "code",
      "metadata": {
        "id": "GySDvf-tObfg",
        "colab": {
          "base_uri": "https://localhost:8080/"
        },
        "outputId": "b7212a9f-ac52-43d1-b97d-8cc65bfc6a98"
      },
      "source": [
        "# RNN Decoder with Encoder attention - old\n",
        "encoder_attention = True\n",
        "self_attention = False\n",
        "\n",
        "decoder_encattn_old = nnet_models_new.Decoder_SelfAttn(output_size=target_vocab,\n",
        "                                 hidden_size=hidden_size, \n",
        "                                 encoder_attention = encoder_attention,\n",
        "                                 self_attention = self_attention)\n",
        "decoder_encattn_old"
      ],
      "execution_count": 37,
      "outputs": [
        {
          "output_type": "execute_result",
          "data": {
            "text/plain": [
              "Decoder_SelfAttn(\n",
              "  (embedding): Embedding(20111, 512)\n",
              "  (memory_rnn): GRUCell(1024, 512)\n",
              "  (out): Linear(in_features=512, out_features=20111, bias=True)\n",
              "  (softmax): LogSoftmax(dim=1)\n",
              "  (encoder_attention_module): Attention_Module(\n",
              "    (l1): Linear(in_features=512, out_features=512, bias=False)\n",
              "    (l2): Linear(in_features=1024, out_features=512, bias=False)\n",
              "  )\n",
              ")"
            ]
          },
          "metadata": {
            "tags": []
          },
          "execution_count": 37
        }
      ]
    },
    {
      "cell_type": "code",
      "metadata": {
        "id": "LlZAo4xiPYhy",
        "colab": {
          "base_uri": "https://localhost:8080/"
        },
        "outputId": "cccf8e9b-42ec-436c-c9eb-edfe210fa052"
      },
      "source": [
        "nmt_encattn_old = nnet_models_new.seq2seq(encoder_transformer, decoder_encattn_old,\n",
        "                              lr = lr, \n",
        "                              use_cuda = use_cuda, \n",
        "                              hiddensize = hidden_size, \n",
        "#                               numlayers = hidden_size, \n",
        "                              target_lang=dataset_dict['train'].target_lang_obj,\n",
        "                              longest_label = longest_label,\n",
        "                              clip = gradient_clip)\n",
        "nmt_encattn_old"
      ],
      "execution_count": 38,
      "outputs": [
        {
          "output_type": "execute_result",
          "data": {
            "text/plain": [
              "seq2seq(\n",
              "  (encoder): EncoderTransformer(\n",
              "    (token_embed): Embedding(12392, 512)\n",
              "    (position_embed): PositionalEncoding(\n",
              "      (dropout): Dropout(p=0.1, inplace=False)\n",
              "    )\n",
              "    (encoder): TransformerEncoder(\n",
              "      (layers): ModuleList(\n",
              "        (0): TransformerEncoderLayer(\n",
              "          (self_attn): MultiheadAttention(\n",
              "            (out_proj): _LinearWithBias(in_features=512, out_features=512, bias=True)\n",
              "          )\n",
              "          (linear1): Linear(in_features=512, out_features=64, bias=True)\n",
              "          (dropout): Dropout(p=0.1, inplace=False)\n",
              "          (linear2): Linear(in_features=64, out_features=512, bias=True)\n",
              "          (norm1): LayerNorm((512,), eps=1e-05, elementwise_affine=True)\n",
              "          (norm2): LayerNorm((512,), eps=1e-05, elementwise_affine=True)\n",
              "          (dropout1): Dropout(p=0.1, inplace=False)\n",
              "          (dropout2): Dropout(p=0.1, inplace=False)\n",
              "        )\n",
              "      )\n",
              "    )\n",
              "  )\n",
              "  (decoder): Decoder_SelfAttn(\n",
              "    (embedding): Embedding(20111, 512)\n",
              "    (memory_rnn): GRUCell(1024, 512)\n",
              "    (out): Linear(in_features=512, out_features=20111, bias=True)\n",
              "    (softmax): LogSoftmax(dim=1)\n",
              "    (encoder_attention_module): Attention_Module(\n",
              "      (l1): Linear(in_features=512, out_features=512, bias=False)\n",
              "      (l2): Linear(in_features=1024, out_features=512, bias=False)\n",
              "    )\n",
              "  )\n",
              "  (criterion): NLLLoss()\n",
              ")"
            ]
          },
          "metadata": {
            "tags": []
          },
          "execution_count": 38
        }
      ]
    },
    {
      "cell_type": "code",
      "metadata": {
        "id": "uPQHskMxNK0V",
        "colab": {
          "base_uri": "https://localhost:8080/",
          "height": 836,
          "referenced_widgets": [
            "9ddf469e401246bb99c7b2cb4be50e23",
            "7f453906a04f4098b584fa0488011956",
            "3999b17e9d324d8488f438a2df308372",
            "c5403f9d409049788eac2905e6df2cfe",
            "d9d6add4347241218ce8c9bf8d221ea1",
            "b4a014b02aaa423d9d0a11b026b0af2e",
            "229a45d19efc4c379ced06b3eb0416e0",
            "75fac33f86d74efa84dd582bac7323d2",
            "3cc72764e1b54dfd90a6afbb95b4904c",
            "606c2f380b9e4531920ddd380228bb8b",
            "2f03f04f7b124de0b1e153b5bc46281d",
            "48cd4a771d11400a930a463b74ce22a6",
            "f00a2b97db6046a2af0388492201e4d8",
            "4aae205c49754e3b96bb996a6a2726fe",
            "0285258b2811401fa1652994a24c5676",
            "49b5bece24324bf0a32fa76d35f03020",
            "73c7d1e5c2a44d78b317194dce0081b2",
            "568470aba081460cbb03dcc7583447df",
            "28bc6b16c87d42479fbbd67495871bd5",
            "b1b40299d0e9420c953e0168ad248413",
            "c3d6ef32b60948f9853c61337a796906",
            "a42391b0b055448da92d642bfbbca34b",
            "7828b01c25a241e5a2c27c885fd33f1e",
            "e833f67cb1d1443580be67ea24196b83",
            "af0e4c937d4847f38989216a15f0f096",
            "0fde160528564fc89270a8f0d801da15",
            "7bb60c7edcaf4958b889d9a66df3ec1c",
            "a808899faf6a42df94982d62dba94776",
            "f97a40eb33114658b17dc7732bf33a22",
            "329599e00511495c97d1c0744f4e76a7",
            "51f9da7735e34e9fb0b0c3cda9b2f78d",
            "76dfbaaa8cb94f6b945bea3d5b1b7d5c",
            "e8fa2a18bfbf4a09adf9af6961548bef",
            "a260f18669f34ed68f8f71a8ea42d9e0",
            "82adb1f84c6849ec8aa944c0f410b822",
            "f471159533fa4565a98d38a5f7de0eb3",
            "3cacce9db38244689daff2745b2c0886",
            "df699e4571fe4c4789329d657ca1d506",
            "00fa2a93db444b58a82d14eef419c6e8",
            "43210ff33cfe4191bedfe5f7f8675ee5",
            "2ce4460ac31c46d3891e530f0fa4d2e4",
            "1d4691e4f45748448d7b20605e62a626",
            "4b74628564f84967b5e5e1087e6277ad",
            "b29e0d86a36a4458bc52cc525280e491",
            "1319be764fdb456f804b419a807fcf20",
            "bad45b4a08254a1e834450a0b4e1f64b",
            "189c9b32c9124267a98034bae0e263db",
            "c76c0cc93ab347e8b52d08689748eb85",
            "2f04ad348acb45409b1aa1258a693828",
            "56ad9e688a9849e881b2be29362bac0c",
            "49068ed6f6d54710a0867aae1c38177d",
            "0fa67b6d0f0448d8a88b8fbc5ba83b3a",
            "4c78835dcbdb4b929db8473875b00052",
            "926091c5ad874d978fd407fe4b15caf9",
            "fc610f26cd3b46b48d48e2816bcd198b",
            "c4520ad6d4cf40319881e4a0bc9c3918"
          ]
        },
        "outputId": "1a673c72-6ff1-43a7-a0b1-066cb6eabe47"
      },
      "source": [
        "# RNN Decoder with Encoder attention - old\n",
        "train_again = True\n",
        "dec_type = 'encattn_old'\n",
        "if os.path.exists(get_full_filepath(saved_models_dir, dec_type)) and (not train_again):\n",
        "    nmt_encattn_old = torch.load(get_full_filepath(saved_models_dir, dec_type))\n",
        "    print(nmt_encattn_old)\n",
        "else:\n",
        "    train_model(dataloader_dict, eval('nmt_'+ dec_type), \n",
        "                      num_epochs = num_epochs, \n",
        "                      saved_model_path = saved_models_dir, \n",
        "                      dec_type = dec_type)"
      ],
      "execution_count": null,
      "outputs": [
        {
          "output_type": "stream",
          "text": [
            "Epoch: [0/20]\n"
          ],
          "name": "stdout"
        },
        {
          "output_type": "display_data",
          "data": {
            "application/vnd.jupyter.widget-view+json": {
              "model_id": "9ddf469e401246bb99c7b2cb4be50e23",
              "version_major": 2,
              "version_minor": 0
            },
            "text/plain": [
              "HBox(children=(FloatProgress(value=0.0, max=1805.0), HTML(value='')))"
            ]
          },
          "metadata": {
            "tags": []
          }
        },
        {
          "output_type": "stream",
          "text": [
            "\n",
            "epoch 0 loss = 3.8528460456393763, time = 744.7103605270386\n",
            "validation bleu:  0.0 \n",
            "\n",
            "Epoch: [1/20]\n"
          ],
          "name": "stdout"
        },
        {
          "output_type": "display_data",
          "data": {
            "application/vnd.jupyter.widget-view+json": {
              "model_id": "3cc72764e1b54dfd90a6afbb95b4904c",
              "version_major": 2,
              "version_minor": 0
            },
            "text/plain": [
              "HBox(children=(FloatProgress(value=0.0, max=1805.0), HTML(value='')))"
            ]
          },
          "metadata": {
            "tags": []
          }
        },
        {
          "output_type": "stream",
          "text": [
            "\n",
            "epoch 1 loss = 3.796380609026246, time = 738.1447479724884\n",
            "validation bleu:  0.0 \n",
            "\n",
            "Epoch     2: reducing learning rate of group 0 to 2.5000e-02.\n",
            "Epoch: [2/20]\n"
          ],
          "name": "stdout"
        },
        {
          "output_type": "display_data",
          "data": {
            "application/vnd.jupyter.widget-view+json": {
              "model_id": "73c7d1e5c2a44d78b317194dce0081b2",
              "version_major": 2,
              "version_minor": 0
            },
            "text/plain": [
              "HBox(children=(FloatProgress(value=0.0, max=1805.0), HTML(value='')))"
            ]
          },
          "metadata": {
            "tags": []
          }
        },
        {
          "output_type": "stream",
          "text": [
            "\n",
            "epoch 2 loss = 3.5391908203135567, time = 754.1552832126617\n",
            "validation bleu:  0.0 \n",
            "\n",
            "Epoch     3: reducing learning rate of group 0 to 2.5000e-03.\n",
            "Epoch: [3/20]\n"
          ],
          "name": "stdout"
        },
        {
          "output_type": "display_data",
          "data": {
            "application/vnd.jupyter.widget-view+json": {
              "model_id": "af0e4c937d4847f38989216a15f0f096",
              "version_major": 2,
              "version_minor": 0
            },
            "text/plain": [
              "HBox(children=(FloatProgress(value=0.0, max=1805.0), HTML(value='')))"
            ]
          },
          "metadata": {
            "tags": []
          }
        },
        {
          "output_type": "stream",
          "text": [
            "\n",
            "epoch 3 loss = 3.4994727738346088, time = 744.6428942680359\n",
            "validation bleu:  0.0 \n",
            "\n",
            "Epoch     4: reducing learning rate of group 0 to 2.5000e-04.\n",
            "Epoch: [4/20]\n"
          ],
          "name": "stdout"
        },
        {
          "output_type": "display_data",
          "data": {
            "application/vnd.jupyter.widget-view+json": {
              "model_id": "e8fa2a18bfbf4a09adf9af6961548bef",
              "version_major": 2,
              "version_minor": 0
            },
            "text/plain": [
              "HBox(children=(FloatProgress(value=0.0, max=1805.0), HTML(value='')))"
            ]
          },
          "metadata": {
            "tags": []
          }
        },
        {
          "output_type": "stream",
          "text": [
            "\n",
            "epoch 4 loss = 3.505711191578915, time = 739.6305773258209\n",
            "validation bleu:  0.0 \n",
            "\n",
            "Epoch     5: reducing learning rate of group 0 to 1.0000e-04.\n",
            "Epoch: [5/20]\n"
          ],
          "name": "stdout"
        },
        {
          "output_type": "display_data",
          "data": {
            "application/vnd.jupyter.widget-view+json": {
              "model_id": "2ce4460ac31c46d3891e530f0fa4d2e4",
              "version_major": 2,
              "version_minor": 0
            },
            "text/plain": [
              "HBox(children=(FloatProgress(value=0.0, max=1805.0), HTML(value='')))"
            ]
          },
          "metadata": {
            "tags": []
          }
        },
        {
          "output_type": "stream",
          "text": [
            "\n",
            "epoch 5 loss = 3.493222389723125, time = 733.2811114788055\n",
            "validation bleu:  0.0 \n",
            "\n",
            "Epoch: [6/20]\n"
          ],
          "name": "stdout"
        },
        {
          "output_type": "display_data",
          "data": {
            "application/vnd.jupyter.widget-view+json": {
              "model_id": "2f04ad348acb45409b1aa1258a693828",
              "version_major": 2,
              "version_minor": 0
            },
            "text/plain": [
              "HBox(children=(FloatProgress(value=0.0, max=1805.0), HTML(value='')))"
            ]
          },
          "metadata": {
            "tags": []
          }
        }
      ]
    },
    {
      "cell_type": "code",
      "metadata": {
        "id": "GakZgmP7YSFd",
        "colab": {
          "base_uri": "https://localhost:8080/",
          "height": 1000
        },
        "outputId": "f7fde24b-e239-40eb-8f26-0f408fd0736b"
      },
      "source": [
        "# Plot\n",
        "import matplotlib.pyplot as plt\n",
        "\n",
        "nrows = 2\n",
        "fig, ax = plt.subplots(nrows = nrows, ncols = 1, figsize = (15, 25), sharex='col')#, sharey='row')\n",
        "plt_title = 'Model Training'\n",
        "\n",
        "models = ['dflt','noattn','encattn','selfattn','enc_selfattn', 'noattn_old']\n",
        "for model_suffix in models:\n",
        "  model_file = get_full_filepath(saved_models_dir, model_suffix)[:-4]+'-plot_cache.pt'\n",
        "  model_dict = torch.load(model_file)\n",
        "\n",
        "  ax[0].plot(model_dict['train_loss_cache'], label=model_suffix)\n",
        "  ax[1].plot(model_dict['val_bleu_cache'], label=model_suffix)\n",
        "\n",
        "\n",
        "ax[0].set_ylabel('Training Loss')\n",
        "ax[1].set_ylabel('Validation BLEU')\n",
        "\n",
        "ax[0].legend(loc='best')\n",
        "ax[1].set_xlabel('Epoch')\n",
        "\n",
        "for i in range(nrows):\n",
        "  ax[i].set_xticks(range(0, num_epochs, 2))\n",
        "  ax[i].grid()\n",
        "\n",
        "ax[0].set_title(plt_title)\n",
        "\n",
        "plt.show()"
      ],
      "execution_count": 43,
      "outputs": [
        {
          "output_type": "display_data",
          "data": {
            "image/png": "[encoded data removed]",
            "text/plain": [
              "<Figure size 1080x1800 with 2 Axes>"
            ]
          },
          "metadata": {
            "tags": [],
            "needs_background": "light"
          }
        }
      ]
    },
    {
      "cell_type": "markdown",
      "metadata": {
        "id": "nAnP9R5s764M"
      },
      "source": [
        "---\n",
        "### 2 Attention visualization (12 pts)\n",
        "\n",
        "Model was trained in ~2 hours, i.e. you can expect attention maps to look quite 'hard' (less soft spreading) i.e. attending to some particular token in the input"
      ]
    },
    {
      "cell_type": "code",
      "metadata": {
        "id": "j1q4qrR5GVWb",
        "colab": {
          "base_uri": "https://localhost:8080/"
        },
        "outputId": "6fc283e1-a81f-47fa-b073-4e066f3dfdab"
      },
      "source": [
        "!pip install googletrans\n",
        "\n",
        "from googletrans import Translator\n",
        "translator = Translator()"
      ],
      "execution_count": 39,
      "outputs": [
        {
          "output_type": "stream",
          "text": [
            "Collecting googletrans\n",
            "  Downloading https://files.pythonhosted.org/packages/71/3a/3b19effdd4c03958b90f40fe01c93de6d5280e03843cc5adf6956bfc9512/googletrans-3.0.0.tar.gz\n",
            "Collecting httpx==0.13.3\n",
            "\u001b[?25l  Downloading https://files.pythonhosted.org/packages/54/b4/698b284c6aed4d7c2b4fe3ba5df1fcf6093612423797e76fbb24890dd22f/httpx-0.13.3-py3-none-any.whl (55kB)\n",
            "\u001b[K     |████████████████████████████████| 61kB 3.5MB/s \n",
            "\u001b[?25hRequirement already satisfied: chardet==3.* in /usr/local/lib/python3.6/dist-packages (from httpx==0.13.3->googletrans) (3.0.4)\n",
            "Collecting sniffio\n",
            "  Downloading https://files.pythonhosted.org/packages/52/b0/7b2e028b63d092804b6794595871f936aafa5e9322dcaaad50ebf67445b3/sniffio-1.2.0-py3-none-any.whl\n",
            "Collecting hstspreload\n",
            "\u001b[?25l  Downloading https://files.pythonhosted.org/packages/d3/3c/cdeaf9ab0404853e77c45d9e8021d0d2c01f70a1bb26e460090926fe2a5e/hstspreload-2020.11.21-py3-none-any.whl (981kB)\n",
            "\u001b[K     |████████████████████████████████| 983kB 10.1MB/s \n",
            "\u001b[?25hCollecting httpcore==0.9.*\n",
            "\u001b[?25l  Downloading https://files.pythonhosted.org/packages/dd/d5/e4ff9318693ac6101a2095e580908b591838c6f33df8d3ee8dd953ba96a8/httpcore-0.9.1-py3-none-any.whl (42kB)\n",
            "\u001b[K     |████████████████████████████████| 51kB 6.0MB/s \n",
            "\u001b[?25hRequirement already satisfied: idna==2.* in /usr/local/lib/python3.6/dist-packages (from httpx==0.13.3->googletrans) (2.10)\n",
            "Collecting rfc3986<2,>=1.3\n",
            "  Downloading https://files.pythonhosted.org/packages/78/be/7b8b99fd74ff5684225f50dd0e865393d2265656ef3b4ba9eaaaffe622b8/rfc3986-1.4.0-py2.py3-none-any.whl\n",
            "Requirement already satisfied: certifi in /usr/local/lib/python3.6/dist-packages (from httpx==0.13.3->googletrans) (2020.11.8)\n",
            "Collecting contextvars>=2.1; python_version < \"3.7\"\n",
            "  Downloading https://files.pythonhosted.org/packages/83/96/55b82d9f13763be9d672622e1b8106c85acb83edd7cc2fa5bc67cd9877e9/contextvars-2.4.tar.gz\n",
            "Collecting h2==3.*\n",
            "\u001b[?25l  Downloading https://files.pythonhosted.org/packages/25/de/da019bcc539eeab02f6d45836f23858ac467f584bfec7a526ef200242afe/h2-3.2.0-py2.py3-none-any.whl (65kB)\n",
            "\u001b[K     |████████████████████████████████| 71kB 7.6MB/s \n",
            "\u001b[?25hCollecting h11<0.10,>=0.8\n",
            "\u001b[?25l  Downloading https://files.pythonhosted.org/packages/5a/fd/3dad730b0f95e78aeeb742f96fa7bbecbdd56a58e405d3da440d5bfb90c6/h11-0.9.0-py2.py3-none-any.whl (53kB)\n",
            "\u001b[K     |████████████████████████████████| 61kB 6.9MB/s \n",
            "\u001b[?25hCollecting immutables>=0.9\n",
            "\u001b[?25l  Downloading https://files.pythonhosted.org/packages/99/e0/ea6fd4697120327d26773b5a84853f897a68e33d3f9376b00a8ff96e4f63/immutables-0.14-cp36-cp36m-manylinux1_x86_64.whl (98kB)\n",
            "\u001b[K     |████████████████████████████████| 102kB 9.4MB/s \n",
            "\u001b[?25hCollecting hyperframe<6,>=5.2.0\n",
            "  Downloading https://files.pythonhosted.org/packages/19/0c/bf88182bcb5dce3094e2f3e4fe20db28a9928cb7bd5b08024030e4b140db/hyperframe-5.2.0-py2.py3-none-any.whl\n",
            "Collecting hpack<4,>=3.0\n",
            "  Downloading https://files.pythonhosted.org/packages/8a/cc/e53517f4a1e13f74776ca93271caef378dadec14d71c61c949d759d3db69/hpack-3.0.0-py2.py3-none-any.whl\n",
            "Building wheels for collected packages: googletrans, contextvars\n",
            "  Building wheel for googletrans (setup.py) ... \u001b[?25l\u001b[?25hdone\n",
            "  Created wheel for googletrans: filename=googletrans-3.0.0-cp36-none-any.whl size=15736 sha256=f429a598e0f8e7441b0869a5a3088094dd7397c33f3684d1d6eb8d34f55988f9\n",
            "  Stored in directory: /root/.cache/pip/wheels/28/1a/a7/eaf4d7a3417a0c65796c547cff4deb6d79c7d14c2abd29273e\n",
            "  Building wheel for contextvars (setup.py) ... \u001b[?25l\u001b[?25hdone\n",
            "  Created wheel for contextvars: filename=contextvars-2.4-cp36-none-any.whl size=7666 sha256=41d8e7efb91e18643f0ce78ac273a976147387a5a0a16e66fc75b4c8be1b2e38\n",
            "  Stored in directory: /root/.cache/pip/wheels/a5/7d/68/1ebae2668bda2228686e3c1cf16f2c2384cea6e9334ad5f6de\n",
            "Successfully built googletrans contextvars\n",
            "Installing collected packages: immutables, contextvars, sniffio, hstspreload, hyperframe, hpack, h2, h11, httpcore, rfc3986, httpx, googletrans\n",
            "Successfully installed contextvars-2.4 googletrans-3.0.0 h11-0.9.0 h2-3.2.0 hpack-3.0.0 hstspreload-2020.11.21 httpcore-0.9.1 httpx-0.13.3 hyperframe-5.2.0 immutables-0.14 rfc3986-1.4.0 sniffio-1.2.0\n"
          ],
          "name": "stdout"
        }
      ]
    },
    {
      "cell_type": "code",
      "metadata": {
        "id": "dMBPQr_m764N"
      },
      "source": [
        "import numpy as np\n",
        "from collections import namedtuple\n",
        "import matplotlib.ticker as ticker\n",
        "\n",
        "def get_encoded_batch(sentence, lang_obj, use_cuda):\n",
        "    \"\"\" accepts only bsz = 1.\n",
        "        input: one sentence as a string\n",
        "        output: named tuple with vector and length\"\"\"\n",
        "    \n",
        "    sentence = sentence + ' ' + global_variables.EOS_TOKEN;\n",
        "    tensor = source_lang_obj.txt2vec(sentence).unsqueeze(0)\n",
        "    \n",
        "    device = global_variables.device # torch.device('cuda') if use_cuda and torch.cuda.is_available() else torch.device('cpu');\n",
        "    \n",
        "    named_returntuple = namedtuple('namedtuple', ['text_vecs', 'text_lens', 'label_vecs', 'label_lens', 'use_packed'])\n",
        "    return_tuple = named_returntuple( tensor.to(device), \n",
        "                                     torch.from_numpy(np.array([tensor.shape[-1]])).to(device),\n",
        "                                     None,\n",
        "                                     None,\n",
        "                                     False );\n",
        "\n",
        "    return return_tuple\n",
        "\n",
        "\n",
        "def showAttention(input_sentence, output_words, attentions):\n",
        "    # Set up figure with colorbar\n",
        "    fig = plt.figure() # fig = plt.figure(figsize = (18,5))\n",
        "    ax = fig.add_subplot(111)\n",
        "    cax = ax.matshow(attentions, cmap='bone', aspect='auto')\n",
        "    fig.colorbar(cax)\n",
        "\n",
        "    # Set up axes\n",
        "    ax.set_xticklabels([''] + input_sentence.split(' ') +\n",
        "                       [global_variables.EOS_TOKEN], rotation=90)\n",
        "    ax.set_yticklabels([''] + output_words.split(' ') +\n",
        "                       [global_variables.EOS_TOKEN]); # fontsize=10\n",
        "\n",
        "    # Show label at every tick\n",
        "    ax.xaxis.set_major_locator(ticker.MultipleLocator(1))\n",
        "    ax.yaxis.set_major_locator(ticker.MultipleLocator(1))\n",
        "\n",
        "    plt.show()\n",
        "\n",
        "\n",
        "def get_translation(nmt_model, sentence, lang_obj, use_cuda):\n",
        "\n",
        "    print('source: ', sentence)\n",
        "    # print('GT on sentence (src->tgt): ', translator.translate(sentence, \n",
        "    #                                                  src = source_name,\n",
        "    #                                                  dest = target_name).text)\n",
        "    \n",
        "    batch = get_encoded_batch(sentence, lang_obj, use_cuda);\n",
        "    prediction, attn_scores_list = nmt_model.eval_step(batch, return_attn = True);\n",
        "    prediction = prediction[0];\n",
        "    if prediction:\n",
        "      print('\\nprediction: ', prediction)\n",
        "      # print('GT on prediction (tgt->src): ', translator.translate(prediction, \n",
        "      #                                                             src = target_name,\n",
        "      #                                                             dest = source_name).text\n",
        "      #      )\n",
        "    else:\n",
        "      print('\\nprediction: <None>')\n",
        "\n",
        "    if attn_scores_list[0] is not None:\n",
        "        if attn_scores_list[0][0] is not None:\n",
        "            attn_matrix = [x[0].data.cpu().numpy() for x in attn_scores_list];\n",
        "            attn_matrix = np.stack(attn_matrix)[:,:, 0]\n",
        "            showAttention(sentence, prediction, attn_matrix)"
      ],
      "execution_count": 46,
      "outputs": []
    },
    {
      "cell_type": "code",
      "metadata": {
        "id": "RVKVphX2_uyF"
      },
      "source": [
        "def print_outputs(sentence):\n",
        "  for model_suffix in models:\n",
        "    mdl_str = 'Model: ' + model_suffix\n",
        "    print(mdl_str)\n",
        "    print('-'*len(mdl_str))\n",
        "\n",
        "    get_translation(eval('nmt_' + model_suffix), sentence, source_lang_obj, use_cuda)\n",
        "\n",
        "    print('='*50, '\\n')"
      ],
      "execution_count": 47,
      "outputs": []
    },
    {
      "cell_type": "code",
      "metadata": {
        "id": "UukPb26_QLUq",
        "colab": {
          "base_uri": "https://localhost:8080/",
          "height": 1000
        },
        "outputId": "972762de-516b-421e-e877-1ce3080d37fc"
      },
      "source": [
        "print_outputs('hello how are you ?')"
      ],
      "execution_count": 48,
      "outputs": [
        {
          "output_type": "stream",
          "text": [
            "Model: dflt\n",
            "-----------\n",
            "source:  hello how are you ?\n",
            "\n",
            "prediction:  les choses sont faites !\n",
            "================================================== \n",
            "\n",
            "Model: noattn\n",
            "-------------\n",
            "source:  hello how are you ?\n",
            "\n",
            "prediction:  oui je vous ai fait .\n",
            "================================================== \n",
            "\n",
            "Model: encattn\n",
            "--------------\n",
            "source:  hello how are you ?\n",
            "\n",
            "prediction:  en avez vous termine ?\n"
          ],
          "name": "stdout"
        },
        {
          "output_type": "display_data",
          "data": {
            "image/png": "[encoded data removed]",
            "text/plain": [
              "<Figure size 432x288 with 2 Axes>"
            ]
          },
          "metadata": {
            "tags": [],
            "needs_background": "light"
          }
        },
        {
          "output_type": "stream",
          "text": [
            "================================================== \n",
            "\n",
            "Model: selfattn\n",
            "---------------\n",
            "source:  hello how are you ?\n",
            "\n",
            "prediction:  je te prie de faire une autre .\n",
            "================================================== \n",
            "\n",
            "Model: enc_selfattn\n",
            "-------------------\n",
            "source:  hello how are you ?\n",
            "\n",
            "prediction:  comment allez vous ?\n"
          ],
          "name": "stdout"
        },
        {
          "output_type": "display_data",
          "data": {
            "image/png": "[encoded data removed]",
            "text/plain": [
              "<Figure size 432x288 with 2 Axes>"
            ]
          },
          "metadata": {
            "tags": [],
            "needs_background": "light"
          }
        },
        {
          "output_type": "stream",
          "text": [
            "================================================== \n",
            "\n",
            "Model: noattn_old\n",
            "-----------------\n",
            "source:  hello how are you ?\n",
            "\n",
            "prediction:  avez vous de l air d une assurance ?\n",
            "================================================== \n",
            "\n"
          ],
          "name": "stdout"
        }
      ]
    },
    {
      "cell_type": "code",
      "metadata": {
        "id": "knGLIGk2QRiD",
        "colab": {
          "base_uri": "https://localhost:8080/",
          "height": 1000
        },
        "outputId": "8ef7b02f-6c90-40c4-e1ef-b4ecb7a2c374"
      },
      "source": [
        "sample_idx = np.random.choice(range(len(dataset_dict['val'])))\n",
        "sentence = source_lang_obj.vec2txt(dataset_dict['val'][sample_idx][0])\n",
        "print(sample_idx, 'Source: ', sentence, ' Target: ', target_lang_obj.vec2txt(dataset_dict['val'][sample_idx][1]),'\\n')\n",
        "print_outputs(sentence)"
      ],
      "execution_count": 49,
      "outputs": [
        {
          "output_type": "stream",
          "text": [
            "3388 Source:  her smile expressed her thanks .  Target:  son sourire exprimait sa gratitude . \n",
            "\n",
            "Model: dflt\n",
            "-----------\n",
            "source:  her smile expressed her thanks .\n",
            "\n",
            "prediction:  son pere est mort .\n",
            "================================================== \n",
            "\n",
            "Model: noattn\n",
            "-------------\n",
            "source:  her smile expressed her thanks .\n",
            "\n",
            "prediction:  sa robe ne s est pas mal .\n",
            "================================================== \n",
            "\n",
            "Model: encattn\n",
            "--------------\n",
            "source:  her smile expressed her thanks .\n",
            "\n",
            "prediction:  ils l ont fait pleurer .\n"
          ],
          "name": "stdout"
        },
        {
          "output_type": "display_data",
          "data": {
            "image/png": "[encoded data removed]",
            "text/plain": [
              "<Figure size 432x288 with 2 Axes>"
            ]
          },
          "metadata": {
            "tags": [],
            "needs_background": "light"
          }
        },
        {
          "output_type": "stream",
          "text": [
            "================================================== \n",
            "\n",
            "Model: selfattn\n",
            "---------------\n",
            "source:  her smile expressed her thanks .\n",
            "\n",
            "prediction:  je sais ce qu elle a achete son pere .\n",
            "================================================== \n",
            "\n",
            "Model: enc_selfattn\n",
            "-------------------\n",
            "source:  her smile expressed her thanks .\n",
            "\n",
            "prediction:  son sourire a l air en train de se faire sourire .\n"
          ],
          "name": "stdout"
        },
        {
          "output_type": "display_data",
          "data": {
            "image/png": "[encoded data removed]",
            "text/plain": [
              "<Figure size 432x288 with 2 Axes>"
            ]
          },
          "metadata": {
            "tags": [],
            "needs_background": "light"
          }
        },
        {
          "output_type": "stream",
          "text": [
            "================================================== \n",
            "\n",
            "Model: noattn_old\n",
            "-----------------\n",
            "source:  her smile expressed her thanks .\n",
            "\n",
            "prediction:  elle a fait de l exercice .\n",
            "================================================== \n",
            "\n"
          ],
          "name": "stdout"
        }
      ]
    }
  ]
}